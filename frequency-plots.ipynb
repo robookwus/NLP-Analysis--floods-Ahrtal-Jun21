{
 "cells": [
  {
   "cell_type": "code",
   "execution_count": 1,
   "id": "48ef27c7",
   "metadata": {
    "execution": {
     "iopub.execute_input": "2022-09-24T16:43:31.836324Z",
     "iopub.status.busy": "2022-09-24T16:43:31.835773Z",
     "iopub.status.idle": "2022-09-24T16:43:32.940221Z",
     "shell.execute_reply": "2022-09-24T16:43:32.938221Z"
    },
    "papermill": {
     "duration": 1.113379,
     "end_time": "2022-09-24T16:43:32.944494",
     "exception": false,
     "start_time": "2022-09-24T16:43:31.831115",
     "status": "completed"
    },
    "tags": []
   },
   "outputs": [
    {
     "name": "stdout",
     "output_type": "stream",
     "text": [
      "Index(['Unnamed: 0', 'date', 'User', 'Tweet'], dtype='object')\n"
     ]
    },
    {
     "data": {
      "text/html": [
       "<div>\n",
       "<style scoped>\n",
       "    .dataframe tbody tr th:only-of-type {\n",
       "        vertical-align: middle;\n",
       "    }\n",
       "\n",
       "    .dataframe tbody tr th {\n",
       "        vertical-align: top;\n",
       "    }\n",
       "\n",
       "    .dataframe thead th {\n",
       "        text-align: right;\n",
       "    }\n",
       "</style>\n",
       "<table border=\"1\" class=\"dataframe\">\n",
       "  <thead>\n",
       "    <tr style=\"text-align: right;\">\n",
       "      <th></th>\n",
       "      <th>Unnamed: 0</th>\n",
       "      <th>date</th>\n",
       "      <th>User</th>\n",
       "      <th>Tweet</th>\n",
       "    </tr>\n",
       "  </thead>\n",
       "  <tbody>\n",
       "    <tr>\n",
       "      <th>0</th>\n",
       "      <td>0</td>\n",
       "      <td>2021-07-29 23:58:48+00:00</td>\n",
       "      <td>Porticus2</td>\n",
       "      <td>Bevor Herr @MarkusSöder solches Klima-Trallala...</td>\n",
       "    </tr>\n",
       "    <tr>\n",
       "      <th>1</th>\n",
       "      <td>1</td>\n",
       "      <td>2021-07-29 23:57:38+00:00</td>\n",
       "      <td>watch_union</td>\n",
       "      <td>Der Vorstandsvorsitzende von #VW zerstört bei ...</td>\n",
       "    </tr>\n",
       "    <tr>\n",
       "      <th>2</th>\n",
       "      <td>2</td>\n",
       "      <td>2021-07-29 23:56:57+00:00</td>\n",
       "      <td>NiklasCcr</td>\n",
       "      <td>@raichubvb Klimawandel. Die Menschen müssen en...</td>\n",
       "    </tr>\n",
       "    <tr>\n",
       "      <th>3</th>\n",
       "      <td>3</td>\n",
       "      <td>2021-07-29 23:53:53+00:00</td>\n",
       "      <td>SvenPhenix</td>\n",
       "      <td>Jetzt in einer Zeit voller Krisen: #COVID19, #...</td>\n",
       "    </tr>\n",
       "    <tr>\n",
       "      <th>4</th>\n",
       "      <td>4</td>\n",
       "      <td>2021-07-29 23:52:19+00:00</td>\n",
       "      <td>brokenspirits</td>\n",
       "      <td>Und nochmal etwas weitergedacht: Während hier ...</td>\n",
       "    </tr>\n",
       "  </tbody>\n",
       "</table>\n",
       "</div>"
      ],
      "text/plain": [
       "   Unnamed: 0                       date           User  \\\n",
       "0           0  2021-07-29 23:58:48+00:00      Porticus2   \n",
       "1           1  2021-07-29 23:57:38+00:00    watch_union   \n",
       "2           2  2021-07-29 23:56:57+00:00      NiklasCcr   \n",
       "3           3  2021-07-29 23:53:53+00:00     SvenPhenix   \n",
       "4           4  2021-07-29 23:52:19+00:00  brokenspirits   \n",
       "\n",
       "                                               Tweet  \n",
       "0  Bevor Herr @MarkusSöder solches Klima-Trallala...  \n",
       "1  Der Vorstandsvorsitzende von #VW zerstört bei ...  \n",
       "2  @raichubvb Klimawandel. Die Menschen müssen en...  \n",
       "3  Jetzt in einer Zeit voller Krisen: #COVID19, #...  \n",
       "4  Und nochmal etwas weitergedacht: Während hier ...  "
      ]
     },
     "execution_count": 1,
     "metadata": {},
     "output_type": "execute_result"
    }
   ],
   "source": [
    "#importing pandas library to analyse the dataframe\n",
    "import pandas as pd\n",
    "df = pd.read_csv('../input/german-floods/full30.csv',lineterminator='\\n')\n",
    "print(df.columns)\n",
    "df.head()"
   ]
  },
  {
   "cell_type": "code",
   "execution_count": 2,
   "id": "479fca09",
   "metadata": {
    "execution": {
     "iopub.execute_input": "2022-09-24T16:43:32.952393Z",
     "iopub.status.busy": "2022-09-24T16:43:32.951736Z",
     "iopub.status.idle": "2022-09-24T16:43:33.526181Z",
     "shell.execute_reply": "2022-09-24T16:43:33.525484Z"
    },
    "papermill": {
     "duration": 0.580742,
     "end_time": "2022-09-24T16:43:33.528444",
     "exception": false,
     "start_time": "2022-09-24T16:43:32.947702",
     "status": "completed"
    },
    "tags": []
   },
   "outputs": [],
   "source": [
    "from datetime import datetime\n",
    "df['date']=pd.to_datetime(df['date'])\n",
    "#Converting the date column to the Y-M-D format\n",
    "df['date']= df['date'].apply(lambda x: x.strftime('%Y-%m-%d'))"
   ]
  },
  {
   "cell_type": "code",
   "execution_count": 3,
   "id": "1f49d6b4",
   "metadata": {
    "execution": {
     "iopub.execute_input": "2022-09-24T16:43:33.535497Z",
     "iopub.status.busy": "2022-09-24T16:43:33.534988Z",
     "iopub.status.idle": "2022-09-24T16:43:33.544512Z",
     "shell.execute_reply": "2022-09-24T16:43:33.543581Z"
    },
    "papermill": {
     "duration": 0.015056,
     "end_time": "2022-09-24T16:43:33.546262",
     "exception": false,
     "start_time": "2022-09-24T16:43:33.531206",
     "status": "completed"
    },
    "tags": []
   },
   "outputs": [
    {
     "data": {
      "text/html": [
       "<div>\n",
       "<style scoped>\n",
       "    .dataframe tbody tr th:only-of-type {\n",
       "        vertical-align: middle;\n",
       "    }\n",
       "\n",
       "    .dataframe tbody tr th {\n",
       "        vertical-align: top;\n",
       "    }\n",
       "\n",
       "    .dataframe thead th {\n",
       "        text-align: right;\n",
       "    }\n",
       "</style>\n",
       "<table border=\"1\" class=\"dataframe\">\n",
       "  <thead>\n",
       "    <tr style=\"text-align: right;\">\n",
       "      <th></th>\n",
       "      <th>Unnamed: 0</th>\n",
       "      <th>date</th>\n",
       "      <th>User</th>\n",
       "      <th>Tweet</th>\n",
       "    </tr>\n",
       "  </thead>\n",
       "  <tbody>\n",
       "    <tr>\n",
       "      <th>0</th>\n",
       "      <td>0</td>\n",
       "      <td>2021-07-29</td>\n",
       "      <td>Porticus2</td>\n",
       "      <td>Bevor Herr @MarkusSöder solches Klima-Trallala...</td>\n",
       "    </tr>\n",
       "    <tr>\n",
       "      <th>1</th>\n",
       "      <td>1</td>\n",
       "      <td>2021-07-29</td>\n",
       "      <td>watch_union</td>\n",
       "      <td>Der Vorstandsvorsitzende von #VW zerstört bei ...</td>\n",
       "    </tr>\n",
       "    <tr>\n",
       "      <th>2</th>\n",
       "      <td>2</td>\n",
       "      <td>2021-07-29</td>\n",
       "      <td>NiklasCcr</td>\n",
       "      <td>@raichubvb Klimawandel. Die Menschen müssen en...</td>\n",
       "    </tr>\n",
       "    <tr>\n",
       "      <th>3</th>\n",
       "      <td>3</td>\n",
       "      <td>2021-07-29</td>\n",
       "      <td>SvenPhenix</td>\n",
       "      <td>Jetzt in einer Zeit voller Krisen: #COVID19, #...</td>\n",
       "    </tr>\n",
       "    <tr>\n",
       "      <th>4</th>\n",
       "      <td>4</td>\n",
       "      <td>2021-07-29</td>\n",
       "      <td>brokenspirits</td>\n",
       "      <td>Und nochmal etwas weitergedacht: Während hier ...</td>\n",
       "    </tr>\n",
       "  </tbody>\n",
       "</table>\n",
       "</div>"
      ],
      "text/plain": [
       "   Unnamed: 0        date           User  \\\n",
       "0           0  2021-07-29      Porticus2   \n",
       "1           1  2021-07-29    watch_union   \n",
       "2           2  2021-07-29      NiklasCcr   \n",
       "3           3  2021-07-29     SvenPhenix   \n",
       "4           4  2021-07-29  brokenspirits   \n",
       "\n",
       "                                               Tweet  \n",
       "0  Bevor Herr @MarkusSöder solches Klima-Trallala...  \n",
       "1  Der Vorstandsvorsitzende von #VW zerstört bei ...  \n",
       "2  @raichubvb Klimawandel. Die Menschen müssen en...  \n",
       "3  Jetzt in einer Zeit voller Krisen: #COVID19, #...  \n",
       "4  Und nochmal etwas weitergedacht: Während hier ...  "
      ]
     },
     "execution_count": 3,
     "metadata": {},
     "output_type": "execute_result"
    }
   ],
   "source": [
    "df.head()"
   ]
  },
  {
   "cell_type": "code",
   "execution_count": 4,
   "id": "ddd2ab89",
   "metadata": {
    "execution": {
     "iopub.execute_input": "2022-09-24T16:43:33.553415Z",
     "iopub.status.busy": "2022-09-24T16:43:33.553067Z",
     "iopub.status.idle": "2022-09-24T16:43:33.569808Z",
     "shell.execute_reply": "2022-09-24T16:43:33.568639Z"
    },
    "papermill": {
     "duration": 0.023038,
     "end_time": "2022-09-24T16:43:33.572158",
     "exception": false,
     "start_time": "2022-09-24T16:43:33.549120",
     "status": "completed"
    },
    "tags": []
   },
   "outputs": [],
   "source": [
    "#counting the number of unique dates which is nothing but the frequency of tweets each day\n",
    "datecount = pd.value_counts(df['date'])"
   ]
  },
  {
   "cell_type": "code",
   "execution_count": 5,
   "id": "4cd1f59c",
   "metadata": {
    "execution": {
     "iopub.execute_input": "2022-09-24T16:43:33.580487Z",
     "iopub.status.busy": "2022-09-24T16:43:33.579155Z",
     "iopub.status.idle": "2022-09-24T16:43:33.587225Z",
     "shell.execute_reply": "2022-09-24T16:43:33.586227Z"
    },
    "papermill": {
     "duration": 0.014018,
     "end_time": "2022-09-24T16:43:33.589200",
     "exception": false,
     "start_time": "2022-09-24T16:43:33.575182",
     "status": "completed"
    },
    "tags": []
   },
   "outputs": [
    {
     "data": {
      "text/plain": [
       "2021-07-15    13929\n",
       "2021-07-16    10123\n",
       "2021-07-17     7295\n",
       "2021-07-18     5934\n",
       "2021-07-14     5811\n",
       "2021-07-19     5318\n",
       "2021-07-21     4810\n",
       "2021-07-22     4565\n",
       "2021-07-01     4123\n",
       "2021-07-20     4111\n",
       "2021-07-03     3465\n",
       "2021-07-02     3447\n",
       "2021-07-05     3185\n",
       "2021-07-23     3168\n",
       "2021-07-09     2989\n",
       "2021-07-04     2975\n",
       "2021-07-06     2957\n",
       "2021-07-13     2848\n",
       "2021-07-26     2823\n",
       "2021-07-08     2814\n",
       "2021-07-28     2776\n",
       "2021-07-07     2692\n",
       "2021-07-27     2611\n",
       "2021-07-25     2603\n",
       "2021-07-29     2582\n",
       "2021-07-24     2495\n",
       "2021-07-11     2266\n",
       "2021-07-12     2137\n",
       "2021-07-10     1877\n",
       "Name: date, dtype: int64"
      ]
     },
     "execution_count": 5,
     "metadata": {},
     "output_type": "execute_result"
    }
   ],
   "source": [
    "datecount"
   ]
  },
  {
   "cell_type": "code",
   "execution_count": 6,
   "id": "55bdae58",
   "metadata": {
    "execution": {
     "iopub.execute_input": "2022-09-24T16:43:33.596643Z",
     "iopub.status.busy": "2022-09-24T16:43:33.596311Z",
     "iopub.status.idle": "2022-09-24T16:43:35.921586Z",
     "shell.execute_reply": "2022-09-24T16:43:35.920603Z"
    },
    "papermill": {
     "duration": 2.331313,
     "end_time": "2022-09-24T16:43:35.923517",
     "exception": false,
     "start_time": "2022-09-24T16:43:33.592204",
     "status": "completed"
    },
    "tags": []
   },
   "outputs": [
    {
     "data": {
      "text/html": [
       "        <script type=\"text/javascript\">\n",
       "        window.PlotlyConfig = {MathJaxConfig: 'local'};\n",
       "        if (window.MathJax && window.MathJax.Hub && window.MathJax.Hub.Config) {window.MathJax.Hub.Config({SVG: {font: \"STIX-Web\"}});}\n",
       "        if (typeof require !== 'undefined') {\n",
       "        require.undef(\"plotly\");\n",
       "        requirejs.config({\n",
       "            paths: {\n",
       "                'plotly': ['https://cdn.plot.ly/plotly-2.14.0.min']\n",
       "            }\n",
       "        });\n",
       "        require(['plotly'], function(Plotly) {\n",
       "            window._Plotly = Plotly;\n",
       "        });\n",
       "        }\n",
       "        </script>\n",
       "        "
      ]
     },
     "metadata": {},
     "output_type": "display_data"
    },
    {
     "data": {
      "text/html": [
       "<div>                            <div id=\"a5892283-8135-4ad4-9ec9-fb36abcc5229\" class=\"plotly-graph-div\" style=\"height:500px; width:850px;\"></div>            <script type=\"text/javascript\">                require([\"plotly\"], function(Plotly) {                    window.PLOTLYENV=window.PLOTLYENV || {};                                    if (document.getElementById(\"a5892283-8135-4ad4-9ec9-fb36abcc5229\")) {                    Plotly.newPlot(                        \"a5892283-8135-4ad4-9ec9-fb36abcc5229\",                        [{\"hovertemplate\":\"variable=date<br>DATE=%{x}<br>Number of tweets per day=%{y}<extra></extra>\",\"legendgroup\":\"date\",\"marker\":{\"color\":\"#636efa\",\"symbol\":\"circle\"},\"mode\":\"markers\",\"name\":\"date\",\"orientation\":\"v\",\"showlegend\":true,\"x\":[\"2021-07-15\",\"2021-07-16\",\"2021-07-17\",\"2021-07-18\",\"2021-07-14\",\"2021-07-19\",\"2021-07-21\",\"2021-07-22\",\"2021-07-01\",\"2021-07-20\",\"2021-07-03\",\"2021-07-02\",\"2021-07-05\",\"2021-07-23\",\"2021-07-09\",\"2021-07-04\",\"2021-07-06\",\"2021-07-13\",\"2021-07-26\",\"2021-07-08\",\"2021-07-28\",\"2021-07-07\",\"2021-07-27\",\"2021-07-25\",\"2021-07-29\",\"2021-07-24\",\"2021-07-11\",\"2021-07-12\",\"2021-07-10\"],\"xaxis\":\"x\",\"y\":[13929,10123,7295,5934,5811,5318,4810,4565,4123,4111,3465,3447,3185,3168,2989,2975,2957,2848,2823,2814,2776,2692,2611,2603,2582,2495,2266,2137,1877],\"yaxis\":\"y\",\"type\":\"scatter\"}],                        {\"template\":{\"data\":{\"histogram2dcontour\":[{\"type\":\"histogram2dcontour\",\"colorbar\":{\"outlinewidth\":0,\"ticks\":\"\"},\"colorscale\":[[0.0,\"#0d0887\"],[0.1111111111111111,\"#46039f\"],[0.2222222222222222,\"#7201a8\"],[0.3333333333333333,\"#9c179e\"],[0.4444444444444444,\"#bd3786\"],[0.5555555555555556,\"#d8576b\"],[0.6666666666666666,\"#ed7953\"],[0.7777777777777778,\"#fb9f3a\"],[0.8888888888888888,\"#fdca26\"],[1.0,\"#f0f921\"]]}],\"choropleth\":[{\"type\":\"choropleth\",\"colorbar\":{\"outlinewidth\":0,\"ticks\":\"\"}}],\"histogram2d\":[{\"type\":\"histogram2d\",\"colorbar\":{\"outlinewidth\":0,\"ticks\":\"\"},\"colorscale\":[[0.0,\"#0d0887\"],[0.1111111111111111,\"#46039f\"],[0.2222222222222222,\"#7201a8\"],[0.3333333333333333,\"#9c179e\"],[0.4444444444444444,\"#bd3786\"],[0.5555555555555556,\"#d8576b\"],[0.6666666666666666,\"#ed7953\"],[0.7777777777777778,\"#fb9f3a\"],[0.8888888888888888,\"#fdca26\"],[1.0,\"#f0f921\"]]}],\"heatmap\":[{\"type\":\"heatmap\",\"colorbar\":{\"outlinewidth\":0,\"ticks\":\"\"},\"colorscale\":[[0.0,\"#0d0887\"],[0.1111111111111111,\"#46039f\"],[0.2222222222222222,\"#7201a8\"],[0.3333333333333333,\"#9c179e\"],[0.4444444444444444,\"#bd3786\"],[0.5555555555555556,\"#d8576b\"],[0.6666666666666666,\"#ed7953\"],[0.7777777777777778,\"#fb9f3a\"],[0.8888888888888888,\"#fdca26\"],[1.0,\"#f0f921\"]]}],\"heatmapgl\":[{\"type\":\"heatmapgl\",\"colorbar\":{\"outlinewidth\":0,\"ticks\":\"\"},\"colorscale\":[[0.0,\"#0d0887\"],[0.1111111111111111,\"#46039f\"],[0.2222222222222222,\"#7201a8\"],[0.3333333333333333,\"#9c179e\"],[0.4444444444444444,\"#bd3786\"],[0.5555555555555556,\"#d8576b\"],[0.6666666666666666,\"#ed7953\"],[0.7777777777777778,\"#fb9f3a\"],[0.8888888888888888,\"#fdca26\"],[1.0,\"#f0f921\"]]}],\"contourcarpet\":[{\"type\":\"contourcarpet\",\"colorbar\":{\"outlinewidth\":0,\"ticks\":\"\"}}],\"contour\":[{\"type\":\"contour\",\"colorbar\":{\"outlinewidth\":0,\"ticks\":\"\"},\"colorscale\":[[0.0,\"#0d0887\"],[0.1111111111111111,\"#46039f\"],[0.2222222222222222,\"#7201a8\"],[0.3333333333333333,\"#9c179e\"],[0.4444444444444444,\"#bd3786\"],[0.5555555555555556,\"#d8576b\"],[0.6666666666666666,\"#ed7953\"],[0.7777777777777778,\"#fb9f3a\"],[0.8888888888888888,\"#fdca26\"],[1.0,\"#f0f921\"]]}],\"surface\":[{\"type\":\"surface\",\"colorbar\":{\"outlinewidth\":0,\"ticks\":\"\"},\"colorscale\":[[0.0,\"#0d0887\"],[0.1111111111111111,\"#46039f\"],[0.2222222222222222,\"#7201a8\"],[0.3333333333333333,\"#9c179e\"],[0.4444444444444444,\"#bd3786\"],[0.5555555555555556,\"#d8576b\"],[0.6666666666666666,\"#ed7953\"],[0.7777777777777778,\"#fb9f3a\"],[0.8888888888888888,\"#fdca26\"],[1.0,\"#f0f921\"]]}],\"mesh3d\":[{\"type\":\"mesh3d\",\"colorbar\":{\"outlinewidth\":0,\"ticks\":\"\"}}],\"scatter\":[{\"fillpattern\":{\"fillmode\":\"overlay\",\"size\":10,\"solidity\":0.2},\"type\":\"scatter\"}],\"parcoords\":[{\"type\":\"parcoords\",\"line\":{\"colorbar\":{\"outlinewidth\":0,\"ticks\":\"\"}}}],\"scatterpolargl\":[{\"type\":\"scatterpolargl\",\"marker\":{\"colorbar\":{\"outlinewidth\":0,\"ticks\":\"\"}}}],\"bar\":[{\"error_x\":{\"color\":\"#2a3f5f\"},\"error_y\":{\"color\":\"#2a3f5f\"},\"marker\":{\"line\":{\"color\":\"#E5ECF6\",\"width\":0.5},\"pattern\":{\"fillmode\":\"overlay\",\"size\":10,\"solidity\":0.2}},\"type\":\"bar\"}],\"scattergeo\":[{\"type\":\"scattergeo\",\"marker\":{\"colorbar\":{\"outlinewidth\":0,\"ticks\":\"\"}}}],\"scatterpolar\":[{\"type\":\"scatterpolar\",\"marker\":{\"colorbar\":{\"outlinewidth\":0,\"ticks\":\"\"}}}],\"histogram\":[{\"marker\":{\"pattern\":{\"fillmode\":\"overlay\",\"size\":10,\"solidity\":0.2}},\"type\":\"histogram\"}],\"scattergl\":[{\"type\":\"scattergl\",\"marker\":{\"colorbar\":{\"outlinewidth\":0,\"ticks\":\"\"}}}],\"scatter3d\":[{\"type\":\"scatter3d\",\"line\":{\"colorbar\":{\"outlinewidth\":0,\"ticks\":\"\"}},\"marker\":{\"colorbar\":{\"outlinewidth\":0,\"ticks\":\"\"}}}],\"scattermapbox\":[{\"type\":\"scattermapbox\",\"marker\":{\"colorbar\":{\"outlinewidth\":0,\"ticks\":\"\"}}}],\"scatterternary\":[{\"type\":\"scatterternary\",\"marker\":{\"colorbar\":{\"outlinewidth\":0,\"ticks\":\"\"}}}],\"scattercarpet\":[{\"type\":\"scattercarpet\",\"marker\":{\"colorbar\":{\"outlinewidth\":0,\"ticks\":\"\"}}}],\"carpet\":[{\"aaxis\":{\"endlinecolor\":\"#2a3f5f\",\"gridcolor\":\"white\",\"linecolor\":\"white\",\"minorgridcolor\":\"white\",\"startlinecolor\":\"#2a3f5f\"},\"baxis\":{\"endlinecolor\":\"#2a3f5f\",\"gridcolor\":\"white\",\"linecolor\":\"white\",\"minorgridcolor\":\"white\",\"startlinecolor\":\"#2a3f5f\"},\"type\":\"carpet\"}],\"table\":[{\"cells\":{\"fill\":{\"color\":\"#EBF0F8\"},\"line\":{\"color\":\"white\"}},\"header\":{\"fill\":{\"color\":\"#C8D4E3\"},\"line\":{\"color\":\"white\"}},\"type\":\"table\"}],\"barpolar\":[{\"marker\":{\"line\":{\"color\":\"#E5ECF6\",\"width\":0.5},\"pattern\":{\"fillmode\":\"overlay\",\"size\":10,\"solidity\":0.2}},\"type\":\"barpolar\"}],\"pie\":[{\"automargin\":true,\"type\":\"pie\"}]},\"layout\":{\"autotypenumbers\":\"strict\",\"colorway\":[\"#636efa\",\"#EF553B\",\"#00cc96\",\"#ab63fa\",\"#FFA15A\",\"#19d3f3\",\"#FF6692\",\"#B6E880\",\"#FF97FF\",\"#FECB52\"],\"font\":{\"color\":\"#2a3f5f\"},\"hovermode\":\"closest\",\"hoverlabel\":{\"align\":\"left\"},\"paper_bgcolor\":\"white\",\"plot_bgcolor\":\"#E5ECF6\",\"polar\":{\"bgcolor\":\"#E5ECF6\",\"angularaxis\":{\"gridcolor\":\"white\",\"linecolor\":\"white\",\"ticks\":\"\"},\"radialaxis\":{\"gridcolor\":\"white\",\"linecolor\":\"white\",\"ticks\":\"\"}},\"ternary\":{\"bgcolor\":\"#E5ECF6\",\"aaxis\":{\"gridcolor\":\"white\",\"linecolor\":\"white\",\"ticks\":\"\"},\"baxis\":{\"gridcolor\":\"white\",\"linecolor\":\"white\",\"ticks\":\"\"},\"caxis\":{\"gridcolor\":\"white\",\"linecolor\":\"white\",\"ticks\":\"\"}},\"coloraxis\":{\"colorbar\":{\"outlinewidth\":0,\"ticks\":\"\"}},\"colorscale\":{\"sequential\":[[0.0,\"#0d0887\"],[0.1111111111111111,\"#46039f\"],[0.2222222222222222,\"#7201a8\"],[0.3333333333333333,\"#9c179e\"],[0.4444444444444444,\"#bd3786\"],[0.5555555555555556,\"#d8576b\"],[0.6666666666666666,\"#ed7953\"],[0.7777777777777778,\"#fb9f3a\"],[0.8888888888888888,\"#fdca26\"],[1.0,\"#f0f921\"]],\"sequentialminus\":[[0.0,\"#0d0887\"],[0.1111111111111111,\"#46039f\"],[0.2222222222222222,\"#7201a8\"],[0.3333333333333333,\"#9c179e\"],[0.4444444444444444,\"#bd3786\"],[0.5555555555555556,\"#d8576b\"],[0.6666666666666666,\"#ed7953\"],[0.7777777777777778,\"#fb9f3a\"],[0.8888888888888888,\"#fdca26\"],[1.0,\"#f0f921\"]],\"diverging\":[[0,\"#8e0152\"],[0.1,\"#c51b7d\"],[0.2,\"#de77ae\"],[0.3,\"#f1b6da\"],[0.4,\"#fde0ef\"],[0.5,\"#f7f7f7\"],[0.6,\"#e6f5d0\"],[0.7,\"#b8e186\"],[0.8,\"#7fbc41\"],[0.9,\"#4d9221\"],[1,\"#276419\"]]},\"xaxis\":{\"gridcolor\":\"white\",\"linecolor\":\"white\",\"ticks\":\"\",\"title\":{\"standoff\":15},\"zerolinecolor\":\"white\",\"automargin\":true,\"zerolinewidth\":2},\"yaxis\":{\"gridcolor\":\"white\",\"linecolor\":\"white\",\"ticks\":\"\",\"title\":{\"standoff\":15},\"zerolinecolor\":\"white\",\"automargin\":true,\"zerolinewidth\":2},\"scene\":{\"xaxis\":{\"backgroundcolor\":\"#E5ECF6\",\"gridcolor\":\"white\",\"linecolor\":\"white\",\"showbackground\":true,\"ticks\":\"\",\"zerolinecolor\":\"white\",\"gridwidth\":2},\"yaxis\":{\"backgroundcolor\":\"#E5ECF6\",\"gridcolor\":\"white\",\"linecolor\":\"white\",\"showbackground\":true,\"ticks\":\"\",\"zerolinecolor\":\"white\",\"gridwidth\":2},\"zaxis\":{\"backgroundcolor\":\"#E5ECF6\",\"gridcolor\":\"white\",\"linecolor\":\"white\",\"showbackground\":true,\"ticks\":\"\",\"zerolinecolor\":\"white\",\"gridwidth\":2}},\"shapedefaults\":{\"line\":{\"color\":\"#2a3f5f\"}},\"annotationdefaults\":{\"arrowcolor\":\"#2a3f5f\",\"arrowhead\":0,\"arrowwidth\":1},\"geo\":{\"bgcolor\":\"white\",\"landcolor\":\"#E5ECF6\",\"subunitcolor\":\"white\",\"showland\":true,\"showlakes\":true,\"lakecolor\":\"white\"},\"title\":{\"x\":0.05},\"mapbox\":{\"style\":\"light\"}}},\"xaxis\":{\"anchor\":\"y\",\"domain\":[0.0,1.0],\"title\":{\"text\":\"DATE\"}},\"yaxis\":{\"anchor\":\"x\",\"domain\":[0.0,1.0],\"title\":{\"text\":\"Number of tweets per day\"}},\"legend\":{\"title\":{\"text\":\"variable\"},\"tracegroupgap\":0},\"title\":{\"text\":\"Frequency of tweets for the month of July 2021\"},\"height\":500,\"width\":850},                        {\"responsive\": true}                    ).then(function(){\n",
       "                            \n",
       "var gd = document.getElementById('a5892283-8135-4ad4-9ec9-fb36abcc5229');\n",
       "var x = new MutationObserver(function (mutations, observer) {{\n",
       "        var display = window.getComputedStyle(gd).display;\n",
       "        if (!display || display === 'none') {{\n",
       "            console.log([gd, 'removed!']);\n",
       "            Plotly.purge(gd);\n",
       "            observer.disconnect();\n",
       "        }}\n",
       "}});\n",
       "\n",
       "// Listen for the removal of the full notebook cells\n",
       "var notebookContainer = gd.closest('#notebook-container');\n",
       "if (notebookContainer) {{\n",
       "    x.observe(notebookContainer, {childList: true});\n",
       "}}\n",
       "\n",
       "// Listen for the clearing of the current output cell\n",
       "var outputEl = gd.closest('.output');\n",
       "if (outputEl) {{\n",
       "    x.observe(outputEl, {childList: true});\n",
       "}}\n",
       "\n",
       "                        })                };                });            </script>        </div>"
      ]
     },
     "metadata": {},
     "output_type": "display_data"
    }
   ],
   "source": [
    "\n",
    "import plotly.express as px\n",
    "import plotly.graph_objects as go\n",
    "#Plotting the frequency of tweets for the whole month of july.\n",
    "fig = px.scatter(datecount, labels=dict(value=\"Number of tweets per day\",index='DATE'),\n",
    "              title='Frequency of tweets for the month of July 2021', \n",
    "              width=850, height=500)\n",
    "\n",
    "\n",
    "\n",
    "\n",
    "fig.show()"
   ]
  },
  {
   "cell_type": "code",
   "execution_count": null,
   "id": "81f42277",
   "metadata": {
    "papermill": {
     "duration": 0.002795,
     "end_time": "2022-09-24T16:43:35.929686",
     "exception": false,
     "start_time": "2022-09-24T16:43:35.926891",
     "status": "completed"
    },
    "tags": []
   },
   "outputs": [],
   "source": []
  },
  {
   "cell_type": "code",
   "execution_count": null,
   "id": "9d2f1408",
   "metadata": {
    "papermill": {
     "duration": 0.002769,
     "end_time": "2022-09-24T16:43:35.935495",
     "exception": false,
     "start_time": "2022-09-24T16:43:35.932726",
     "status": "completed"
    },
    "tags": []
   },
   "outputs": [],
   "source": []
  }
 ],
 "metadata": {
  "kernelspec": {
   "display_name": "Python 3",
   "language": "python",
   "name": "python3"
  },
  "language_info": {
   "codemirror_mode": {
    "name": "ipython",
    "version": 3
   },
   "file_extension": ".py",
   "mimetype": "text/x-python",
   "name": "python",
   "nbconvert_exporter": "python",
   "pygments_lexer": "ipython3",
   "version": "3.7.12"
  },
  "papermill": {
   "default_parameters": {},
   "duration": 12.433692,
   "end_time": "2022-09-24T16:43:36.659250",
   "environment_variables": {},
   "exception": null,
   "input_path": "__notebook__.ipynb",
   "output_path": "__notebook__.ipynb",
   "parameters": {},
   "start_time": "2022-09-24T16:43:24.225558",
   "version": "2.3.4"
  }
 },
 "nbformat": 4,
 "nbformat_minor": 5
}
