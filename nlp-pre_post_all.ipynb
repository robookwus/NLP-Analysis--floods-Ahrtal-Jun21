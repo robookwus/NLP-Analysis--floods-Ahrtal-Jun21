{
 "cells": [
  {
   "cell_type": "code",
   "execution_count": 1,
   "id": "8d7bd8d7",
   "metadata": {
    "execution": {
     "iopub.execute_input": "2022-09-24T17:25:55.542339Z",
     "iopub.status.busy": "2022-09-24T17:25:55.541719Z",
     "iopub.status.idle": "2022-09-24T17:26:34.312816Z",
     "shell.execute_reply": "2022-09-24T17:26:34.311414Z"
    },
    "papermill": {
     "duration": 38.787606,
     "end_time": "2022-09-24T17:26:34.315740",
     "exception": false,
     "start_time": "2022-09-24T17:25:55.528134",
     "status": "completed"
    },
    "tags": []
   },
   "outputs": [
    {
     "name": "stdout",
     "output_type": "stream",
     "text": [
      "Collecting de-core-news-md==3.3.0\r\n",
      "  Downloading https://github.com/explosion/spacy-models/releases/download/de_core_news_md-3.3.0/de_core_news_md-3.3.0-py3-none-any.whl (44.4 MB)\r\n",
      "\u001b[2K     \u001b[90m━━━━━━━━━━━━━━━━━━━━━━━━━━━━━━━━━━━━━━━━\u001b[0m \u001b[32m44.4/44.4 MB\u001b[0m \u001b[31m23.3 MB/s\u001b[0m eta \u001b[36m0:00:00\u001b[0m\r\n",
      "\u001b[?25hRequirement already satisfied: spacy<3.4.0,>=3.3.0.dev0 in /opt/conda/lib/python3.7/site-packages (from de-core-news-md==3.3.0) (3.3.1)\r\n",
      "Requirement already satisfied: jinja2 in /opt/conda/lib/python3.7/site-packages (from spacy<3.4.0,>=3.3.0.dev0->de-core-news-md==3.3.0) (3.1.2)\r\n",
      "Requirement already satisfied: requests<3.0.0,>=2.13.0 in /opt/conda/lib/python3.7/site-packages (from spacy<3.4.0,>=3.3.0.dev0->de-core-news-md==3.3.0) (2.28.1)\r\n",
      "Requirement already satisfied: blis<0.8.0,>=0.4.0 in /opt/conda/lib/python3.7/site-packages (from spacy<3.4.0,>=3.3.0.dev0->de-core-news-md==3.3.0) (0.7.8)\r\n",
      "Requirement already satisfied: wasabi<1.1.0,>=0.9.1 in /opt/conda/lib/python3.7/site-packages (from spacy<3.4.0,>=3.3.0.dev0->de-core-news-md==3.3.0) (0.10.1)\r\n",
      "Requirement already satisfied: murmurhash<1.1.0,>=0.28.0 in /opt/conda/lib/python3.7/site-packages (from spacy<3.4.0,>=3.3.0.dev0->de-core-news-md==3.3.0) (1.0.8)\r\n",
      "Requirement already satisfied: pathy>=0.3.5 in /opt/conda/lib/python3.7/site-packages (from spacy<3.4.0,>=3.3.0.dev0->de-core-news-md==3.3.0) (0.6.2)\r\n",
      "Requirement already satisfied: tqdm<5.0.0,>=4.38.0 in /opt/conda/lib/python3.7/site-packages (from spacy<3.4.0,>=3.3.0.dev0->de-core-news-md==3.3.0) (4.64.0)\r\n",
      "Collecting typing-extensions<4.2.0,>=3.7.4\r\n",
      "  Downloading typing_extensions-4.1.1-py3-none-any.whl (26 kB)\r\n",
      "Requirement already satisfied: spacy-loggers<2.0.0,>=1.0.0 in /opt/conda/lib/python3.7/site-packages (from spacy<3.4.0,>=3.3.0.dev0->de-core-news-md==3.3.0) (1.0.3)\r\n",
      "Requirement already satisfied: spacy-legacy<3.1.0,>=3.0.9 in /opt/conda/lib/python3.7/site-packages (from spacy<3.4.0,>=3.3.0.dev0->de-core-news-md==3.3.0) (3.0.10)\r\n",
      "Requirement already satisfied: cymem<2.1.0,>=2.0.2 in /opt/conda/lib/python3.7/site-packages (from spacy<3.4.0,>=3.3.0.dev0->de-core-news-md==3.3.0) (2.0.6)\r\n",
      "Requirement already satisfied: setuptools in /opt/conda/lib/python3.7/site-packages (from spacy<3.4.0,>=3.3.0.dev0->de-core-news-md==3.3.0) (59.8.0)\r\n",
      "Requirement already satisfied: srsly<3.0.0,>=2.4.3 in /opt/conda/lib/python3.7/site-packages (from spacy<3.4.0,>=3.3.0.dev0->de-core-news-md==3.3.0) (2.4.4)\r\n",
      "Requirement already satisfied: thinc<8.1.0,>=8.0.14 in /opt/conda/lib/python3.7/site-packages (from spacy<3.4.0,>=3.3.0.dev0->de-core-news-md==3.3.0) (8.0.17)\r\n",
      "Requirement already satisfied: pydantic!=1.8,!=1.8.1,<1.9.0,>=1.7.4 in /opt/conda/lib/python3.7/site-packages (from spacy<3.4.0,>=3.3.0.dev0->de-core-news-md==3.3.0) (1.8.2)\r\n",
      "Requirement already satisfied: catalogue<2.1.0,>=2.0.6 in /opt/conda/lib/python3.7/site-packages (from spacy<3.4.0,>=3.3.0.dev0->de-core-news-md==3.3.0) (2.0.8)\r\n",
      "Requirement already satisfied: numpy>=1.15.0 in /opt/conda/lib/python3.7/site-packages (from spacy<3.4.0,>=3.3.0.dev0->de-core-news-md==3.3.0) (1.21.6)\r\n",
      "Requirement already satisfied: packaging>=20.0 in /opt/conda/lib/python3.7/site-packages (from spacy<3.4.0,>=3.3.0.dev0->de-core-news-md==3.3.0) (21.3)\r\n",
      "Requirement already satisfied: preshed<3.1.0,>=3.0.2 in /opt/conda/lib/python3.7/site-packages (from spacy<3.4.0,>=3.3.0.dev0->de-core-news-md==3.3.0) (3.0.7)\r\n",
      "Requirement already satisfied: langcodes<4.0.0,>=3.2.0 in /opt/conda/lib/python3.7/site-packages (from spacy<3.4.0,>=3.3.0.dev0->de-core-news-md==3.3.0) (3.3.0)\r\n",
      "Requirement already satisfied: typer<0.5.0,>=0.3.0 in /opt/conda/lib/python3.7/site-packages (from spacy<3.4.0,>=3.3.0.dev0->de-core-news-md==3.3.0) (0.4.2)\r\n",
      "Requirement already satisfied: zipp>=0.5 in /opt/conda/lib/python3.7/site-packages (from catalogue<2.1.0,>=2.0.6->spacy<3.4.0,>=3.3.0.dev0->de-core-news-md==3.3.0) (3.8.0)\r\n",
      "Requirement already satisfied: pyparsing!=3.0.5,>=2.0.2 in /opt/conda/lib/python3.7/site-packages (from packaging>=20.0->spacy<3.4.0,>=3.3.0.dev0->de-core-news-md==3.3.0) (3.0.9)\r\n",
      "Requirement already satisfied: smart-open<6.0.0,>=5.2.1 in /opt/conda/lib/python3.7/site-packages (from pathy>=0.3.5->spacy<3.4.0,>=3.3.0.dev0->de-core-news-md==3.3.0) (5.2.1)\r\n",
      "Requirement already satisfied: idna<4,>=2.5 in /opt/conda/lib/python3.7/site-packages (from requests<3.0.0,>=2.13.0->spacy<3.4.0,>=3.3.0.dev0->de-core-news-md==3.3.0) (3.3)\r\n",
      "Requirement already satisfied: urllib3<1.27,>=1.21.1 in /opt/conda/lib/python3.7/site-packages (from requests<3.0.0,>=2.13.0->spacy<3.4.0,>=3.3.0.dev0->de-core-news-md==3.3.0) (1.26.11)\r\n",
      "Requirement already satisfied: charset-normalizer<3,>=2 in /opt/conda/lib/python3.7/site-packages (from requests<3.0.0,>=2.13.0->spacy<3.4.0,>=3.3.0.dev0->de-core-news-md==3.3.0) (2.1.0)\r\n",
      "Requirement already satisfied: certifi>=2017.4.17 in /opt/conda/lib/python3.7/site-packages (from requests<3.0.0,>=2.13.0->spacy<3.4.0,>=3.3.0.dev0->de-core-news-md==3.3.0) (2022.6.15)\r\n",
      "Requirement already satisfied: click<9.0.0,>=7.1.1 in /opt/conda/lib/python3.7/site-packages (from typer<0.5.0,>=0.3.0->spacy<3.4.0,>=3.3.0.dev0->de-core-news-md==3.3.0) (8.0.4)\r\n",
      "Requirement already satisfied: MarkupSafe>=2.0 in /opt/conda/lib/python3.7/site-packages (from jinja2->spacy<3.4.0,>=3.3.0.dev0->de-core-news-md==3.3.0) (2.1.1)\r\n",
      "Requirement already satisfied: importlib-metadata in /opt/conda/lib/python3.7/site-packages (from click<9.0.0,>=7.1.1->typer<0.5.0,>=0.3.0->spacy<3.4.0,>=3.3.0.dev0->de-core-news-md==3.3.0) (4.12.0)\r\n",
      "Installing collected packages: typing-extensions, de-core-news-md\r\n",
      "  Attempting uninstall: typing-extensions\r\n",
      "    Found existing installation: typing_extensions 4.3.0\r\n",
      "    Uninstalling typing_extensions-4.3.0:\r\n",
      "      Successfully uninstalled typing_extensions-4.3.0\r\n",
      "\u001b[31mERROR: pip's dependency resolver does not currently take into account all the packages that are installed. This behaviour is the source of the following dependency conflicts.\r\n",
      "tensorflow-io 0.21.0 requires tensorflow-io-gcs-filesystem==0.21.0, which is not installed.\r\n",
      "tensorflow 2.6.4 requires h5py~=3.1.0, but you have h5py 3.7.0 which is incompatible.\r\n",
      "tensorflow 2.6.4 requires numpy~=1.19.2, but you have numpy 1.21.6 which is incompatible.\r\n",
      "tensorflow 2.6.4 requires tensorboard<2.7,>=2.6.0, but you have tensorboard 2.10.0 which is incompatible.\r\n",
      "tensorflow 2.6.4 requires typing-extensions<3.11,>=3.7, but you have typing-extensions 4.1.1 which is incompatible.\r\n",
      "tensorflow-transform 1.9.0 requires pyarrow<6,>=1, but you have pyarrow 8.0.0 which is incompatible.\r\n",
      "tensorflow-transform 1.9.0 requires tensorflow!=2.0.*,!=2.1.*,!=2.2.*,!=2.3.*,!=2.4.*,!=2.5.*,!=2.6.*,!=2.7.*,!=2.8.*,<2.10,>=1.15.5, but you have tensorflow 2.6.4 which is incompatible.\r\n",
      "tensorflow-serving-api 2.9.0 requires tensorflow<3,>=2.9.0, but you have tensorflow 2.6.4 which is incompatible.\r\n",
      "pandas-profiling 3.1.0 requires markupsafe~=2.0.1, but you have markupsafe 2.1.1 which is incompatible.\r\n",
      "flax 0.6.0 requires rich~=11.1, but you have rich 12.1.0 which is incompatible.\r\n",
      "flake8 4.0.1 requires importlib-metadata<4.3; python_version < \"3.8\", but you have importlib-metadata 4.12.0 which is incompatible.\r\n",
      "apache-beam 2.40.0 requires dill<0.3.2,>=0.3.1.1, but you have dill 0.3.5.1 which is incompatible.\r\n",
      "apache-beam 2.40.0 requires pyarrow<8.0.0,>=0.15.1, but you have pyarrow 8.0.0 which is incompatible.\r\n",
      "allennlp 2.10.0 requires protobuf==3.20.0, but you have protobuf 3.19.4 which is incompatible.\r\n",
      "aiobotocore 2.3.4 requires botocore<1.24.22,>=1.24.21, but you have botocore 1.27.56 which is incompatible.\u001b[0m\u001b[31m\r\n",
      "\u001b[0mSuccessfully installed de-core-news-md-3.3.0 typing-extensions-4.1.1\r\n",
      "\u001b[33mWARNING: Running pip as the 'root' user can result in broken permissions and conflicting behaviour with the system package manager. It is recommended to use a virtual environment instead: https://pip.pypa.io/warnings/venv\u001b[0m\u001b[33m\r\n",
      "\u001b[0m\u001b[38;5;2m✔ Download and installation successful\u001b[0m\r\n",
      "You can now load the package via spacy.load('de_core_news_md')\r\n"
     ]
    }
   ],
   "source": [
    "#NLP with spaCy is mostly based on statistical machine learning models. \n",
    "#spaCy offers pre-trained models in different sizes (complexity / features) for\n",
    "#almost any language. \n",
    "#The following code block installs the German medium model.\n",
    "!python -m spacy download de_core_news_md"
   ]
  },
  {
   "cell_type": "code",
   "execution_count": 2,
   "id": "d073a282",
   "metadata": {
    "execution": {
     "iopub.execute_input": "2022-09-24T17:26:34.342366Z",
     "iopub.status.busy": "2022-09-24T17:26:34.341931Z",
     "iopub.status.idle": "2022-09-24T17:26:41.406546Z",
     "shell.execute_reply": "2022-09-24T17:26:41.405192Z"
    },
    "papermill": {
     "duration": 7.081206,
     "end_time": "2022-09-24T17:26:41.409337",
     "exception": false,
     "start_time": "2022-09-24T17:26:34.328131",
     "status": "completed"
    },
    "tags": []
   },
   "outputs": [],
   "source": [
    "import spacy\n",
    "nlp = spacy.load('de_core_news_md')"
   ]
  },
  {
   "cell_type": "code",
   "execution_count": 3,
   "id": "01d12dea",
   "metadata": {
    "execution": {
     "iopub.execute_input": "2022-09-24T17:26:41.435786Z",
     "iopub.status.busy": "2022-09-24T17:26:41.435062Z",
     "iopub.status.idle": "2022-09-24T17:26:41.469843Z",
     "shell.execute_reply": "2022-09-24T17:26:41.468834Z"
    },
    "papermill": {
     "duration": 0.050946,
     "end_time": "2022-09-24T17:26:41.472635",
     "exception": false,
     "start_time": "2022-09-24T17:26:41.421689",
     "status": "completed"
    },
    "tags": []
   },
   "outputs": [],
   "source": [
    "import pandas as pd\n",
    "df=pd.read_csv('../input/pre3-labelled/pre3_labelled.csv')"
   ]
  },
  {
   "cell_type": "code",
   "execution_count": 4,
   "id": "62dbf00a",
   "metadata": {
    "execution": {
     "iopub.execute_input": "2022-09-24T17:26:41.500584Z",
     "iopub.status.busy": "2022-09-24T17:26:41.499730Z",
     "iopub.status.idle": "2022-09-24T17:26:41.510337Z",
     "shell.execute_reply": "2022-09-24T17:26:41.509188Z"
    },
    "papermill": {
     "duration": 0.026671,
     "end_time": "2022-09-24T17:26:41.512756",
     "exception": false,
     "start_time": "2022-09-24T17:26:41.486085",
     "status": "completed"
    },
    "tags": []
   },
   "outputs": [
    {
     "data": {
      "text/plain": [
       "Index(['Unnamed: 0', 'User', 'Tweet', 'Rating (0/1/2) ', 'date', 'Unnamed: 5'], dtype='object')"
      ]
     },
     "execution_count": 4,
     "metadata": {},
     "output_type": "execute_result"
    }
   ],
   "source": [
    "df.columns"
   ]
  },
  {
   "cell_type": "code",
   "execution_count": 5,
   "id": "0def88ea",
   "metadata": {
    "execution": {
     "iopub.execute_input": "2022-09-24T17:26:41.540156Z",
     "iopub.status.busy": "2022-09-24T17:26:41.538963Z",
     "iopub.status.idle": "2022-09-24T17:26:41.559204Z",
     "shell.execute_reply": "2022-09-24T17:26:41.557925Z"
    },
    "papermill": {
     "duration": 0.036436,
     "end_time": "2022-09-24T17:26:41.561650",
     "exception": false,
     "start_time": "2022-09-24T17:26:41.525214",
     "status": "completed"
    },
    "tags": []
   },
   "outputs": [
    {
     "data": {
      "text/html": [
       "<div>\n",
       "<style scoped>\n",
       "    .dataframe tbody tr th:only-of-type {\n",
       "        vertical-align: middle;\n",
       "    }\n",
       "\n",
       "    .dataframe tbody tr th {\n",
       "        vertical-align: top;\n",
       "    }\n",
       "\n",
       "    .dataframe thead th {\n",
       "        text-align: right;\n",
       "    }\n",
       "</style>\n",
       "<table border=\"1\" class=\"dataframe\">\n",
       "  <thead>\n",
       "    <tr style=\"text-align: right;\">\n",
       "      <th></th>\n",
       "      <th>Unnamed: 0</th>\n",
       "      <th>User</th>\n",
       "      <th>Tweet</th>\n",
       "      <th>Rating (0/1/2)</th>\n",
       "      <th>date</th>\n",
       "      <th>Unnamed: 5</th>\n",
       "    </tr>\n",
       "  </thead>\n",
       "  <tbody>\n",
       "    <tr>\n",
       "      <th>0</th>\n",
       "      <td>0</td>\n",
       "      <td>FriedelWirtz</td>\n",
       "      <td>@anja1970a Außerdem kann eine Regierung auch d...</td>\n",
       "      <td>1.0</td>\n",
       "      <td>2021-07-12 23:55:34+00:00</td>\n",
       "      <td>NaN</td>\n",
       "    </tr>\n",
       "    <tr>\n",
       "      <th>1</th>\n",
       "      <td>1</td>\n",
       "      <td>ReinerSobota</td>\n",
       "      <td>Umgang mit Klimawandel: Reden wir doch mal übe...</td>\n",
       "      <td>1.0</td>\n",
       "      <td>2021-07-12 23:54:09+00:00</td>\n",
       "      <td>NaN</td>\n",
       "    </tr>\n",
       "    <tr>\n",
       "      <th>2</th>\n",
       "      <td>2</td>\n",
       "      <td>Keeper_86</td>\n",
       "      <td>@sabi_ri @chili_deluxe @ZDFheute @Kachelmann K...</td>\n",
       "      <td>2.0</td>\n",
       "      <td>2021-07-12 23:50:24+00:00</td>\n",
       "      <td>NaN</td>\n",
       "    </tr>\n",
       "    <tr>\n",
       "      <th>3</th>\n",
       "      <td>3</td>\n",
       "      <td>OSturzebecher</td>\n",
       "      <td>@manaf12hassan @rhonradlegende Diggi, was mein...</td>\n",
       "      <td>2.0</td>\n",
       "      <td>2021-07-12 23:48:01+00:00</td>\n",
       "      <td>NaN</td>\n",
       "    </tr>\n",
       "    <tr>\n",
       "      <th>4</th>\n",
       "      <td>4</td>\n",
       "      <td>nfdampf</td>\n",
       "      <td>.@daserste berichtet lieber über eine angeblic...</td>\n",
       "      <td>1.0</td>\n",
       "      <td>2021-07-12 23:47:02+00:00</td>\n",
       "      <td>NaN</td>\n",
       "    </tr>\n",
       "  </tbody>\n",
       "</table>\n",
       "</div>"
      ],
      "text/plain": [
       "   Unnamed: 0           User  \\\n",
       "0           0   FriedelWirtz   \n",
       "1           1   ReinerSobota   \n",
       "2           2      Keeper_86   \n",
       "3           3  OSturzebecher   \n",
       "4           4        nfdampf   \n",
       "\n",
       "                                               Tweet  Rating (0/1/2)   \\\n",
       "0  @anja1970a Außerdem kann eine Regierung auch d...              1.0   \n",
       "1  Umgang mit Klimawandel: Reden wir doch mal übe...              1.0   \n",
       "2  @sabi_ri @chili_deluxe @ZDFheute @Kachelmann K...              2.0   \n",
       "3  @manaf12hassan @rhonradlegende Diggi, was mein...              2.0   \n",
       "4  .@daserste berichtet lieber über eine angeblic...              1.0   \n",
       "\n",
       "                        date Unnamed: 5  \n",
       "0  2021-07-12 23:55:34+00:00        NaN  \n",
       "1  2021-07-12 23:54:09+00:00        NaN  \n",
       "2  2021-07-12 23:50:24+00:00        NaN  \n",
       "3  2021-07-12 23:48:01+00:00        NaN  \n",
       "4  2021-07-12 23:47:02+00:00        NaN  "
      ]
     },
     "execution_count": 5,
     "metadata": {},
     "output_type": "execute_result"
    }
   ],
   "source": [
    "df.head()"
   ]
  },
  {
   "cell_type": "code",
   "execution_count": 6,
   "id": "19ea29e1",
   "metadata": {
    "execution": {
     "iopub.execute_input": "2022-09-24T17:26:41.590051Z",
     "iopub.status.busy": "2022-09-24T17:26:41.589425Z",
     "iopub.status.idle": "2022-09-24T17:26:41.601934Z",
     "shell.execute_reply": "2022-09-24T17:26:41.600874Z"
    },
    "papermill": {
     "duration": 0.029138,
     "end_time": "2022-09-24T17:26:41.604157",
     "exception": false,
     "start_time": "2022-09-24T17:26:41.575019",
     "status": "completed"
    },
    "tags": []
   },
   "outputs": [],
   "source": [
    "new = df[['Tweet','Rating (0/1/2) ']]"
   ]
  },
  {
   "cell_type": "code",
   "execution_count": 7,
   "id": "d103e0fc",
   "metadata": {
    "execution": {
     "iopub.execute_input": "2022-09-24T17:26:41.631642Z",
     "iopub.status.busy": "2022-09-24T17:26:41.630834Z",
     "iopub.status.idle": "2022-09-24T17:26:41.645992Z",
     "shell.execute_reply": "2022-09-24T17:26:41.644575Z"
    },
    "papermill": {
     "duration": 0.031623,
     "end_time": "2022-09-24T17:26:41.648582",
     "exception": false,
     "start_time": "2022-09-24T17:26:41.616959",
     "status": "completed"
    },
    "tags": []
   },
   "outputs": [
    {
     "data": {
      "text/html": [
       "<div>\n",
       "<style scoped>\n",
       "    .dataframe tbody tr th:only-of-type {\n",
       "        vertical-align: middle;\n",
       "    }\n",
       "\n",
       "    .dataframe tbody tr th {\n",
       "        vertical-align: top;\n",
       "    }\n",
       "\n",
       "    .dataframe thead th {\n",
       "        text-align: right;\n",
       "    }\n",
       "</style>\n",
       "<table border=\"1\" class=\"dataframe\">\n",
       "  <thead>\n",
       "    <tr style=\"text-align: right;\">\n",
       "      <th></th>\n",
       "      <th>Tweet</th>\n",
       "      <th>Rating (0/1/2)</th>\n",
       "    </tr>\n",
       "  </thead>\n",
       "  <tbody>\n",
       "    <tr>\n",
       "      <th>0</th>\n",
       "      <td>@anja1970a Außerdem kann eine Regierung auch d...</td>\n",
       "      <td>1.0</td>\n",
       "    </tr>\n",
       "    <tr>\n",
       "      <th>1</th>\n",
       "      <td>Umgang mit Klimawandel: Reden wir doch mal übe...</td>\n",
       "      <td>1.0</td>\n",
       "    </tr>\n",
       "    <tr>\n",
       "      <th>2</th>\n",
       "      <td>@sabi_ri @chili_deluxe @ZDFheute @Kachelmann K...</td>\n",
       "      <td>2.0</td>\n",
       "    </tr>\n",
       "    <tr>\n",
       "      <th>3</th>\n",
       "      <td>@manaf12hassan @rhonradlegende Diggi, was mein...</td>\n",
       "      <td>2.0</td>\n",
       "    </tr>\n",
       "    <tr>\n",
       "      <th>4</th>\n",
       "      <td>.@daserste berichtet lieber über eine angeblic...</td>\n",
       "      <td>1.0</td>\n",
       "    </tr>\n",
       "    <tr>\n",
       "      <th>...</th>\n",
       "      <td>...</td>\n",
       "      <td>...</td>\n",
       "    </tr>\n",
       "    <tr>\n",
       "      <th>995</th>\n",
       "      <td>@KeilaniFatina @Michael_Leh Sie vermischen hie...</td>\n",
       "      <td>NaN</td>\n",
       "    </tr>\n",
       "    <tr>\n",
       "      <th>996</th>\n",
       "      <td>@PandaMawr @HalleVerkehrt @Keeper_86 @dansiela...</td>\n",
       "      <td>NaN</td>\n",
       "    </tr>\n",
       "    <tr>\n",
       "      <th>997</th>\n",
       "      <td>Unfreie Menschen in Barracken \"besiegen\"* übri...</td>\n",
       "      <td>NaN</td>\n",
       "    </tr>\n",
       "    <tr>\n",
       "      <th>998</th>\n",
       "      <td>Die Kernfusion wird die Klimakrise für uns lös...</td>\n",
       "      <td>NaN</td>\n",
       "    </tr>\n",
       "    <tr>\n",
       "      <th>999</th>\n",
       "      <td>Dabei verlieren wir das eigentliche Ziel des K...</td>\n",
       "      <td>NaN</td>\n",
       "    </tr>\n",
       "  </tbody>\n",
       "</table>\n",
       "<p>1000 rows × 2 columns</p>\n",
       "</div>"
      ],
      "text/plain": [
       "                                                 Tweet  Rating (0/1/2) \n",
       "0    @anja1970a Außerdem kann eine Regierung auch d...              1.0\n",
       "1    Umgang mit Klimawandel: Reden wir doch mal übe...              1.0\n",
       "2    @sabi_ri @chili_deluxe @ZDFheute @Kachelmann K...              2.0\n",
       "3    @manaf12hassan @rhonradlegende Diggi, was mein...              2.0\n",
       "4    .@daserste berichtet lieber über eine angeblic...              1.0\n",
       "..                                                 ...              ...\n",
       "995  @KeilaniFatina @Michael_Leh Sie vermischen hie...              NaN\n",
       "996  @PandaMawr @HalleVerkehrt @Keeper_86 @dansiela...              NaN\n",
       "997  Unfreie Menschen in Barracken \"besiegen\"* übri...              NaN\n",
       "998  Die Kernfusion wird die Klimakrise für uns lös...              NaN\n",
       "999  Dabei verlieren wir das eigentliche Ziel des K...              NaN\n",
       "\n",
       "[1000 rows x 2 columns]"
      ]
     },
     "execution_count": 7,
     "metadata": {},
     "output_type": "execute_result"
    }
   ],
   "source": [
    "new"
   ]
  },
  {
   "cell_type": "code",
   "execution_count": 8,
   "id": "3be0278b",
   "metadata": {
    "execution": {
     "iopub.execute_input": "2022-09-24T17:26:41.676981Z",
     "iopub.status.busy": "2022-09-24T17:26:41.676558Z",
     "iopub.status.idle": "2022-09-24T17:26:41.682232Z",
     "shell.execute_reply": "2022-09-24T17:26:41.680895Z"
    },
    "papermill": {
     "duration": 0.022483,
     "end_time": "2022-09-24T17:26:41.684623",
     "exception": false,
     "start_time": "2022-09-24T17:26:41.662140",
     "status": "completed"
    },
    "tags": []
   },
   "outputs": [],
   "source": [
    "X=new[0:99].copy()"
   ]
  },
  {
   "cell_type": "code",
   "execution_count": 9,
   "id": "5eddb078",
   "metadata": {
    "execution": {
     "iopub.execute_input": "2022-09-24T17:26:41.713121Z",
     "iopub.status.busy": "2022-09-24T17:26:41.712701Z",
     "iopub.status.idle": "2022-09-24T17:26:41.720920Z",
     "shell.execute_reply": "2022-09-24T17:26:41.719575Z"
    },
    "papermill": {
     "duration": 0.025419,
     "end_time": "2022-09-24T17:26:41.723357",
     "exception": false,
     "start_time": "2022-09-24T17:26:41.697938",
     "status": "completed"
    },
    "tags": []
   },
   "outputs": [],
   "source": [
    "X_train=X['Tweet'].copy()\n",
    "y_train=X['Rating (0/1/2) '].copy()"
   ]
  },
  {
   "cell_type": "code",
   "execution_count": 10,
   "id": "9a226dc6",
   "metadata": {
    "execution": {
     "iopub.execute_input": "2022-09-24T17:26:41.751205Z",
     "iopub.status.busy": "2022-09-24T17:26:41.750770Z",
     "iopub.status.idle": "2022-09-24T17:26:41.766272Z",
     "shell.execute_reply": "2022-09-24T17:26:41.764994Z"
    },
    "papermill": {
     "duration": 0.032288,
     "end_time": "2022-09-24T17:26:41.769053",
     "exception": false,
     "start_time": "2022-09-24T17:26:41.736765",
     "status": "completed"
    },
    "tags": []
   },
   "outputs": [
    {
     "data": {
      "text/html": [
       "<div>\n",
       "<style scoped>\n",
       "    .dataframe tbody tr th:only-of-type {\n",
       "        vertical-align: middle;\n",
       "    }\n",
       "\n",
       "    .dataframe tbody tr th {\n",
       "        vertical-align: top;\n",
       "    }\n",
       "\n",
       "    .dataframe thead th {\n",
       "        text-align: right;\n",
       "    }\n",
       "</style>\n",
       "<table border=\"1\" class=\"dataframe\">\n",
       "  <thead>\n",
       "    <tr style=\"text-align: right;\">\n",
       "      <th></th>\n",
       "      <th>Tweet</th>\n",
       "      <th>Rating (0/1/2)</th>\n",
       "    </tr>\n",
       "  </thead>\n",
       "  <tbody>\n",
       "    <tr>\n",
       "      <th>99</th>\n",
       "      <td>@ReiSteurer Was soll das:\\nIst es warm und tro...</td>\n",
       "      <td>NaN</td>\n",
       "    </tr>\n",
       "    <tr>\n",
       "      <th>100</th>\n",
       "      <td>@Gert_Woellmann @ben_brechtken Wir könnten mal...</td>\n",
       "      <td>NaN</td>\n",
       "    </tr>\n",
       "    <tr>\n",
       "      <th>101</th>\n",
       "      <td>@Marcus_MoD @Nationallibera3 @sebastiankurz @r...</td>\n",
       "      <td>NaN</td>\n",
       "    </tr>\n",
       "    <tr>\n",
       "      <th>102</th>\n",
       "      <td>@Philipp_Sgtz 😊glaube nicht nur du🥰,\\nStattdes...</td>\n",
       "      <td>NaN</td>\n",
       "    </tr>\n",
       "    <tr>\n",
       "      <th>103</th>\n",
       "      <td>@stevenehring @welt Mit Co2 Einsparung kann De...</td>\n",
       "      <td>NaN</td>\n",
       "    </tr>\n",
       "    <tr>\n",
       "      <th>...</th>\n",
       "      <td>...</td>\n",
       "      <td>...</td>\n",
       "    </tr>\n",
       "    <tr>\n",
       "      <th>995</th>\n",
       "      <td>@KeilaniFatina @Michael_Leh Sie vermischen hie...</td>\n",
       "      <td>NaN</td>\n",
       "    </tr>\n",
       "    <tr>\n",
       "      <th>996</th>\n",
       "      <td>@PandaMawr @HalleVerkehrt @Keeper_86 @dansiela...</td>\n",
       "      <td>NaN</td>\n",
       "    </tr>\n",
       "    <tr>\n",
       "      <th>997</th>\n",
       "      <td>Unfreie Menschen in Barracken \"besiegen\"* übri...</td>\n",
       "      <td>NaN</td>\n",
       "    </tr>\n",
       "    <tr>\n",
       "      <th>998</th>\n",
       "      <td>Die Kernfusion wird die Klimakrise für uns lös...</td>\n",
       "      <td>NaN</td>\n",
       "    </tr>\n",
       "    <tr>\n",
       "      <th>999</th>\n",
       "      <td>Dabei verlieren wir das eigentliche Ziel des K...</td>\n",
       "      <td>NaN</td>\n",
       "    </tr>\n",
       "  </tbody>\n",
       "</table>\n",
       "<p>901 rows × 2 columns</p>\n",
       "</div>"
      ],
      "text/plain": [
       "                                                 Tweet  Rating (0/1/2) \n",
       "99   @ReiSteurer Was soll das:\\nIst es warm und tro...              NaN\n",
       "100  @Gert_Woellmann @ben_brechtken Wir könnten mal...              NaN\n",
       "101  @Marcus_MoD @Nationallibera3 @sebastiankurz @r...              NaN\n",
       "102  @Philipp_Sgtz 😊glaube nicht nur du🥰,\\nStattdes...              NaN\n",
       "103  @stevenehring @welt Mit Co2 Einsparung kann De...              NaN\n",
       "..                                                 ...              ...\n",
       "995  @KeilaniFatina @Michael_Leh Sie vermischen hie...              NaN\n",
       "996  @PandaMawr @HalleVerkehrt @Keeper_86 @dansiela...              NaN\n",
       "997  Unfreie Menschen in Barracken \"besiegen\"* übri...              NaN\n",
       "998  Die Kernfusion wird die Klimakrise für uns lös...              NaN\n",
       "999  Dabei verlieren wir das eigentliche Ziel des K...              NaN\n",
       "\n",
       "[901 rows x 2 columns]"
      ]
     },
     "execution_count": 10,
     "metadata": {},
     "output_type": "execute_result"
    }
   ],
   "source": [
    "X_predict=new[99:].copy()\n",
    "X_predict"
   ]
  },
  {
   "cell_type": "code",
   "execution_count": 11,
   "id": "bdae8d3f",
   "metadata": {
    "execution": {
     "iopub.execute_input": "2022-09-24T17:26:41.797259Z",
     "iopub.status.busy": "2022-09-24T17:26:41.796858Z",
     "iopub.status.idle": "2022-09-24T17:26:41.802752Z",
     "shell.execute_reply": "2022-09-24T17:26:41.801476Z"
    },
    "papermill": {
     "duration": 0.022593,
     "end_time": "2022-09-24T17:26:41.804936",
     "exception": false,
     "start_time": "2022-09-24T17:26:41.782343",
     "status": "completed"
    },
    "tags": []
   },
   "outputs": [],
   "source": [
    "X_predict.drop('Rating (0/1/2) ',axis=1,inplace=True)"
   ]
  },
  {
   "cell_type": "code",
   "execution_count": 12,
   "id": "06247c41",
   "metadata": {
    "execution": {
     "iopub.execute_input": "2022-09-24T17:26:41.833344Z",
     "iopub.status.busy": "2022-09-24T17:26:41.832673Z",
     "iopub.status.idle": "2022-09-24T17:26:41.844547Z",
     "shell.execute_reply": "2022-09-24T17:26:41.843385Z"
    },
    "papermill": {
     "duration": 0.028918,
     "end_time": "2022-09-24T17:26:41.846804",
     "exception": false,
     "start_time": "2022-09-24T17:26:41.817886",
     "status": "completed"
    },
    "tags": []
   },
   "outputs": [
    {
     "data": {
      "text/html": [
       "<div>\n",
       "<style scoped>\n",
       "    .dataframe tbody tr th:only-of-type {\n",
       "        vertical-align: middle;\n",
       "    }\n",
       "\n",
       "    .dataframe tbody tr th {\n",
       "        vertical-align: top;\n",
       "    }\n",
       "\n",
       "    .dataframe thead th {\n",
       "        text-align: right;\n",
       "    }\n",
       "</style>\n",
       "<table border=\"1\" class=\"dataframe\">\n",
       "  <thead>\n",
       "    <tr style=\"text-align: right;\">\n",
       "      <th></th>\n",
       "      <th>Tweet</th>\n",
       "    </tr>\n",
       "  </thead>\n",
       "  <tbody>\n",
       "    <tr>\n",
       "      <th>99</th>\n",
       "      <td>@ReiSteurer Was soll das:\\nIst es warm und tro...</td>\n",
       "    </tr>\n",
       "    <tr>\n",
       "      <th>100</th>\n",
       "      <td>@Gert_Woellmann @ben_brechtken Wir könnten mal...</td>\n",
       "    </tr>\n",
       "    <tr>\n",
       "      <th>101</th>\n",
       "      <td>@Marcus_MoD @Nationallibera3 @sebastiankurz @r...</td>\n",
       "    </tr>\n",
       "    <tr>\n",
       "      <th>102</th>\n",
       "      <td>@Philipp_Sgtz 😊glaube nicht nur du🥰,\\nStattdes...</td>\n",
       "    </tr>\n",
       "    <tr>\n",
       "      <th>103</th>\n",
       "      <td>@stevenehring @welt Mit Co2 Einsparung kann De...</td>\n",
       "    </tr>\n",
       "    <tr>\n",
       "      <th>...</th>\n",
       "      <td>...</td>\n",
       "    </tr>\n",
       "    <tr>\n",
       "      <th>995</th>\n",
       "      <td>@KeilaniFatina @Michael_Leh Sie vermischen hie...</td>\n",
       "    </tr>\n",
       "    <tr>\n",
       "      <th>996</th>\n",
       "      <td>@PandaMawr @HalleVerkehrt @Keeper_86 @dansiela...</td>\n",
       "    </tr>\n",
       "    <tr>\n",
       "      <th>997</th>\n",
       "      <td>Unfreie Menschen in Barracken \"besiegen\"* übri...</td>\n",
       "    </tr>\n",
       "    <tr>\n",
       "      <th>998</th>\n",
       "      <td>Die Kernfusion wird die Klimakrise für uns lös...</td>\n",
       "    </tr>\n",
       "    <tr>\n",
       "      <th>999</th>\n",
       "      <td>Dabei verlieren wir das eigentliche Ziel des K...</td>\n",
       "    </tr>\n",
       "  </tbody>\n",
       "</table>\n",
       "<p>901 rows × 1 columns</p>\n",
       "</div>"
      ],
      "text/plain": [
       "                                                 Tweet\n",
       "99   @ReiSteurer Was soll das:\\nIst es warm und tro...\n",
       "100  @Gert_Woellmann @ben_brechtken Wir könnten mal...\n",
       "101  @Marcus_MoD @Nationallibera3 @sebastiankurz @r...\n",
       "102  @Philipp_Sgtz 😊glaube nicht nur du🥰,\\nStattdes...\n",
       "103  @stevenehring @welt Mit Co2 Einsparung kann De...\n",
       "..                                                 ...\n",
       "995  @KeilaniFatina @Michael_Leh Sie vermischen hie...\n",
       "996  @PandaMawr @HalleVerkehrt @Keeper_86 @dansiela...\n",
       "997  Unfreie Menschen in Barracken \"besiegen\"* übri...\n",
       "998  Die Kernfusion wird die Klimakrise für uns lös...\n",
       "999  Dabei verlieren wir das eigentliche Ziel des K...\n",
       "\n",
       "[901 rows x 1 columns]"
      ]
     },
     "execution_count": 12,
     "metadata": {},
     "output_type": "execute_result"
    }
   ],
   "source": [
    "X_predict"
   ]
  },
  {
   "cell_type": "code",
   "execution_count": 13,
   "id": "ad7645ff",
   "metadata": {
    "execution": {
     "iopub.execute_input": "2022-09-24T17:26:41.875368Z",
     "iopub.status.busy": "2022-09-24T17:26:41.874710Z",
     "iopub.status.idle": "2022-09-24T17:26:45.368532Z",
     "shell.execute_reply": "2022-09-24T17:26:45.367275Z"
    },
    "papermill": {
     "duration": 3.511473,
     "end_time": "2022-09-24T17:26:45.371360",
     "exception": false,
     "start_time": "2022-09-24T17:26:41.859887",
     "status": "completed"
    },
    "tags": []
   },
   "outputs": [],
   "source": [
    "import re\n",
    "import spacy\n",
    "nlp = spacy.load('de_core_news_md')\n",
    "corpus = []\n",
    "for i in range(0, len(X)):\n",
    "    tweet = re.sub('@|,|#|;|:|\\n', '', X_train[i])\n",
    "    tweet = re.sub('\\.',' ',tweet)\n",
    "    doc=nlp(tweet)\n",
    "    result = ' '.join([x.lemma_ for x in doc]) \n",
    "    corpus.append(result)"
   ]
  },
  {
   "cell_type": "code",
   "execution_count": 14,
   "id": "e32b55d0",
   "metadata": {
    "execution": {
     "iopub.execute_input": "2022-09-24T17:26:45.400341Z",
     "iopub.status.busy": "2022-09-24T17:26:45.399667Z",
     "iopub.status.idle": "2022-09-24T17:26:45.408446Z",
     "shell.execute_reply": "2022-09-24T17:26:45.407188Z"
    },
    "papermill": {
     "duration": 0.026299,
     "end_time": "2022-09-24T17:26:45.410946",
     "exception": false,
     "start_time": "2022-09-24T17:26:45.384647",
     "status": "completed"
    },
    "tags": []
   },
   "outputs": [
    {
     "data": {
      "text/plain": [
       "0     @anja1970a Außerdem kann eine Regierung auch d...\n",
       "1     Umgang mit Klimawandel: Reden wir doch mal übe...\n",
       "2     @sabi_ri @chili_deluxe @ZDFheute @Kachelmann K...\n",
       "3     @manaf12hassan @rhonradlegende Diggi, was mein...\n",
       "4     .@daserste berichtet lieber über eine angeblic...\n",
       "                            ...                        \n",
       "94    P.S.: Ja, es ist richtig, über Fehler von Poli...\n",
       "95    Gibt es eigentlich eine Art #opendata Zusammen...\n",
       "96    @zeitonline_ent Klimawandel, Artensterben, Übe...\n",
       "97    @terrxrzecke161_ Klimawandel absolut legitim, ...\n",
       "98    @sspdw @welt Natürlich müssen CO2 Emissionen d...\n",
       "Name: Tweet, Length: 99, dtype: object"
      ]
     },
     "execution_count": 14,
     "metadata": {},
     "output_type": "execute_result"
    }
   ],
   "source": [
    "X_train"
   ]
  },
  {
   "cell_type": "code",
   "execution_count": 15,
   "id": "2ad8c723",
   "metadata": {
    "execution": {
     "iopub.execute_input": "2022-09-24T17:26:45.440168Z",
     "iopub.status.busy": "2022-09-24T17:26:45.439466Z",
     "iopub.status.idle": "2022-09-24T17:26:45.446652Z",
     "shell.execute_reply": "2022-09-24T17:26:45.445561Z"
    },
    "papermill": {
     "duration": 0.02437,
     "end_time": "2022-09-24T17:26:45.448722",
     "exception": false,
     "start_time": "2022-09-24T17:26:45.424352",
     "status": "completed"
    },
    "tags": []
   },
   "outputs": [
    {
     "data": {
      "text/plain": [
       "['Anja1970a außerdem können ein Regierung auch da gesetzlich nachbessern   der Klimawandel benötigen Antwort   und der Kosten dürfen nicht bei der hängenbleiben der ein CO2 Bepreisung als Mieter nur hinnehmen können   Aktiv werden können nur ein Hausbesitzer   Egal ob Eigenheim oder Vermieter',\n",
       " 'Umgang mit Klimawandel reden wir doch mal über Armin Laschet https//t co -- TYDrBbLnss via Derspiegel 🧐 🦊 🌻',\n",
       " \"sabi_ri chili_deluxe ZDFheute Kachelmann Klimawandel verstärken dieser Dürre darum geht'sn\",\n",
       " 'Manaf12hassan rhonradlegend Diggi was meinst du passieren mit der Mittel und Unterschicht wenn nicht JETZT was gegen der Klimawandel tun werden -- so wie es jetzt laufen können man sich sein Job bei Audi in & lt50 Jahr in der Podex schieben --',\n",
       " '  daser berichten lieber über ein angeblich Bürgerkriegsgefahr in Cuba obwohl der halb USA BrenntDas sein der Einfluss der CDU sie schweigen der Thema Klimakrise komplett tot schauen euch der Profil an niemand aus der Union verlieren ein Wort darüber LaschetLuegt https//t co -- 1sIwCjBpyF']"
      ]
     },
     "execution_count": 15,
     "metadata": {},
     "output_type": "execute_result"
    }
   ],
   "source": [
    "corpus[:5]"
   ]
  },
  {
   "cell_type": "code",
   "execution_count": 16,
   "id": "c1a89cdd",
   "metadata": {
    "execution": {
     "iopub.execute_input": "2022-09-24T17:26:45.478109Z",
     "iopub.status.busy": "2022-09-24T17:26:45.476992Z",
     "iopub.status.idle": "2022-09-24T17:26:45.556869Z",
     "shell.execute_reply": "2022-09-24T17:26:45.555806Z"
    },
    "papermill": {
     "duration": 0.097092,
     "end_time": "2022-09-24T17:26:45.559666",
     "exception": false,
     "start_time": "2022-09-24T17:26:45.462574",
     "status": "completed"
    },
    "tags": []
   },
   "outputs": [],
   "source": [
    "from sklearn.feature_extraction.text import TfidfVectorizer\n",
    "vectorizer=TfidfVectorizer()\n",
    "X_train=vectorizer.fit_transform(corpus)\n",
    "X_predict=vectorizer.transform(X_predict['Tweet'])"
   ]
  },
  {
   "cell_type": "code",
   "execution_count": 17,
   "id": "babce265",
   "metadata": {
    "execution": {
     "iopub.execute_input": "2022-09-24T17:26:45.588506Z",
     "iopub.status.busy": "2022-09-24T17:26:45.588054Z",
     "iopub.status.idle": "2022-09-24T17:26:45.595482Z",
     "shell.execute_reply": "2022-09-24T17:26:45.594285Z"
    },
    "papermill": {
     "duration": 0.024792,
     "end_time": "2022-09-24T17:26:45.597995",
     "exception": false,
     "start_time": "2022-09-24T17:26:45.573203",
     "status": "completed"
    },
    "tags": []
   },
   "outputs": [
    {
     "data": {
      "text/plain": [
       "(99, 1112)"
      ]
     },
     "execution_count": 17,
     "metadata": {},
     "output_type": "execute_result"
    }
   ],
   "source": [
    "X_train.shape"
   ]
  },
  {
   "cell_type": "code",
   "execution_count": 18,
   "id": "37c9083f",
   "metadata": {
    "execution": {
     "iopub.execute_input": "2022-09-24T17:26:45.627477Z",
     "iopub.status.busy": "2022-09-24T17:26:45.626345Z",
     "iopub.status.idle": "2022-09-24T17:26:45.633656Z",
     "shell.execute_reply": "2022-09-24T17:26:45.632561Z"
    },
    "papermill": {
     "duration": 0.024427,
     "end_time": "2022-09-24T17:26:45.635977",
     "exception": false,
     "start_time": "2022-09-24T17:26:45.611550",
     "status": "completed"
    },
    "tags": []
   },
   "outputs": [
    {
     "data": {
      "text/plain": [
       "<901x1112 sparse matrix of type '<class 'numpy.float64'>'\n",
       "\twith 11559 stored elements in Compressed Sparse Row format>"
      ]
     },
     "execution_count": 18,
     "metadata": {},
     "output_type": "execute_result"
    }
   ],
   "source": [
    "X_predict"
   ]
  },
  {
   "cell_type": "code",
   "execution_count": 19,
   "id": "77e39c7b",
   "metadata": {
    "execution": {
     "iopub.execute_input": "2022-09-24T17:26:45.664661Z",
     "iopub.status.busy": "2022-09-24T17:26:45.664225Z",
     "iopub.status.idle": "2022-09-24T17:26:45.803156Z",
     "shell.execute_reply": "2022-09-24T17:26:45.801760Z"
    },
    "papermill": {
     "duration": 0.156444,
     "end_time": "2022-09-24T17:26:45.805957",
     "exception": false,
     "start_time": "2022-09-24T17:26:45.649513",
     "status": "completed"
    },
    "tags": []
   },
   "outputs": [
    {
     "data": {
      "text/plain": [
       "SVC(C=100, kernel='linear')"
      ]
     },
     "execution_count": 19,
     "metadata": {},
     "output_type": "execute_result"
    }
   ],
   "source": [
    "from sklearn import svm\n",
    "svm_classifier=svm.SVC(kernel='linear',C=100)\n",
    "svm_classifier.fit(X_train,y_train)"
   ]
  },
  {
   "cell_type": "code",
   "execution_count": 20,
   "id": "6fd82cba",
   "metadata": {
    "execution": {
     "iopub.execute_input": "2022-09-24T17:26:45.835295Z",
     "iopub.status.busy": "2022-09-24T17:26:45.834849Z",
     "iopub.status.idle": "2022-09-24T17:26:45.858020Z",
     "shell.execute_reply": "2022-09-24T17:26:45.856773Z"
    },
    "papermill": {
     "duration": 0.041163,
     "end_time": "2022-09-24T17:26:45.861052",
     "exception": false,
     "start_time": "2022-09-24T17:26:45.819889",
     "status": "completed"
    },
    "tags": []
   },
   "outputs": [],
   "source": [
    "predictions = svm_classifier.predict(X_predict)"
   ]
  },
  {
   "cell_type": "code",
   "execution_count": 21,
   "id": "0eae05d0",
   "metadata": {
    "execution": {
     "iopub.execute_input": "2022-09-24T17:26:45.890936Z",
     "iopub.status.busy": "2022-09-24T17:26:45.890517Z",
     "iopub.status.idle": "2022-09-24T17:26:45.906255Z",
     "shell.execute_reply": "2022-09-24T17:26:45.905013Z"
    },
    "papermill": {
     "duration": 0.034025,
     "end_time": "2022-09-24T17:26:45.909002",
     "exception": false,
     "start_time": "2022-09-24T17:26:45.874977",
     "status": "completed"
    },
    "tags": []
   },
   "outputs": [],
   "source": [
    "output = pd.DataFrame({'Tweet': new[99:].Tweet,\n",
    "                       'Rating': predictions})\n",
    "output.to_csv('full_preLabelled_svm.csv', index= False)\n"
   ]
  },
  {
   "cell_type": "code",
   "execution_count": 22,
   "id": "ae331077",
   "metadata": {
    "execution": {
     "iopub.execute_input": "2022-09-24T17:26:45.938327Z",
     "iopub.status.busy": "2022-09-24T17:26:45.937906Z",
     "iopub.status.idle": "2022-09-24T17:26:47.077573Z",
     "shell.execute_reply": "2022-09-24T17:26:47.076167Z"
    },
    "papermill": {
     "duration": 1.157971,
     "end_time": "2022-09-24T17:26:47.080821",
     "exception": false,
     "start_time": "2022-09-24T17:26:45.922850",
     "status": "completed"
    },
    "tags": []
   },
   "outputs": [],
   "source": [
    "full = pd.read_csv('../input/german-floods/full30.csv',lineterminator='\\n')"
   ]
  },
  {
   "cell_type": "code",
   "execution_count": 23,
   "id": "cbbb3ec8",
   "metadata": {
    "execution": {
     "iopub.execute_input": "2022-09-24T17:26:47.111882Z",
     "iopub.status.busy": "2022-09-24T17:26:47.110885Z",
     "iopub.status.idle": "2022-09-24T17:26:47.123677Z",
     "shell.execute_reply": "2022-09-24T17:26:47.122619Z"
    },
    "papermill": {
     "duration": 0.030654,
     "end_time": "2022-09-24T17:26:47.125913",
     "exception": false,
     "start_time": "2022-09-24T17:26:47.095259",
     "status": "completed"
    },
    "tags": []
   },
   "outputs": [
    {
     "data": {
      "text/html": [
       "<div>\n",
       "<style scoped>\n",
       "    .dataframe tbody tr th:only-of-type {\n",
       "        vertical-align: middle;\n",
       "    }\n",
       "\n",
       "    .dataframe tbody tr th {\n",
       "        vertical-align: top;\n",
       "    }\n",
       "\n",
       "    .dataframe thead th {\n",
       "        text-align: right;\n",
       "    }\n",
       "</style>\n",
       "<table border=\"1\" class=\"dataframe\">\n",
       "  <thead>\n",
       "    <tr style=\"text-align: right;\">\n",
       "      <th></th>\n",
       "      <th>Unnamed: 0</th>\n",
       "      <th>date</th>\n",
       "      <th>User</th>\n",
       "      <th>Tweet</th>\n",
       "    </tr>\n",
       "  </thead>\n",
       "  <tbody>\n",
       "    <tr>\n",
       "      <th>0</th>\n",
       "      <td>0</td>\n",
       "      <td>2021-07-29 23:58:48+00:00</td>\n",
       "      <td>Porticus2</td>\n",
       "      <td>Bevor Herr @MarkusSöder solches Klima-Trallala...</td>\n",
       "    </tr>\n",
       "    <tr>\n",
       "      <th>1</th>\n",
       "      <td>1</td>\n",
       "      <td>2021-07-29 23:57:38+00:00</td>\n",
       "      <td>watch_union</td>\n",
       "      <td>Der Vorstandsvorsitzende von #VW zerstört bei ...</td>\n",
       "    </tr>\n",
       "    <tr>\n",
       "      <th>2</th>\n",
       "      <td>2</td>\n",
       "      <td>2021-07-29 23:56:57+00:00</td>\n",
       "      <td>NiklasCcr</td>\n",
       "      <td>@raichubvb Klimawandel. Die Menschen müssen en...</td>\n",
       "    </tr>\n",
       "    <tr>\n",
       "      <th>3</th>\n",
       "      <td>3</td>\n",
       "      <td>2021-07-29 23:53:53+00:00</td>\n",
       "      <td>SvenPhenix</td>\n",
       "      <td>Jetzt in einer Zeit voller Krisen: #COVID19, #...</td>\n",
       "    </tr>\n",
       "    <tr>\n",
       "      <th>4</th>\n",
       "      <td>4</td>\n",
       "      <td>2021-07-29 23:52:19+00:00</td>\n",
       "      <td>brokenspirits</td>\n",
       "      <td>Und nochmal etwas weitergedacht: Während hier ...</td>\n",
       "    </tr>\n",
       "  </tbody>\n",
       "</table>\n",
       "</div>"
      ],
      "text/plain": [
       "   Unnamed: 0                       date           User  \\\n",
       "0           0  2021-07-29 23:58:48+00:00      Porticus2   \n",
       "1           1  2021-07-29 23:57:38+00:00    watch_union   \n",
       "2           2  2021-07-29 23:56:57+00:00      NiklasCcr   \n",
       "3           3  2021-07-29 23:53:53+00:00     SvenPhenix   \n",
       "4           4  2021-07-29 23:52:19+00:00  brokenspirits   \n",
       "\n",
       "                                               Tweet  \n",
       "0  Bevor Herr @MarkusSöder solches Klima-Trallala...  \n",
       "1  Der Vorstandsvorsitzende von #VW zerstört bei ...  \n",
       "2  @raichubvb Klimawandel. Die Menschen müssen en...  \n",
       "3  Jetzt in einer Zeit voller Krisen: #COVID19, #...  \n",
       "4  Und nochmal etwas weitergedacht: Während hier ...  "
      ]
     },
     "execution_count": 23,
     "metadata": {},
     "output_type": "execute_result"
    }
   ],
   "source": [
    "full.head()"
   ]
  },
  {
   "cell_type": "code",
   "execution_count": 24,
   "id": "75d0386c",
   "metadata": {
    "execution": {
     "iopub.execute_input": "2022-09-24T17:26:47.156963Z",
     "iopub.status.busy": "2022-09-24T17:26:47.155852Z",
     "iopub.status.idle": "2022-09-24T17:26:50.366054Z",
     "shell.execute_reply": "2022-09-24T17:26:50.364516Z"
    },
    "papermill": {
     "duration": 3.229124,
     "end_time": "2022-09-24T17:26:50.369388",
     "exception": false,
     "start_time": "2022-09-24T17:26:47.140264",
     "status": "completed"
    },
    "tags": []
   },
   "outputs": [],
   "source": [
    "X_full_predict=vectorizer.transform(full['Tweet'])"
   ]
  },
  {
   "cell_type": "code",
   "execution_count": 25,
   "id": "405960f7",
   "metadata": {
    "execution": {
     "iopub.execute_input": "2022-09-24T17:26:50.412233Z",
     "iopub.status.busy": "2022-09-24T17:26:50.411820Z",
     "iopub.status.idle": "2022-09-24T17:26:50.417881Z",
     "shell.execute_reply": "2022-09-24T17:26:50.417030Z"
    },
    "papermill": {
     "duration": 0.030533,
     "end_time": "2022-09-24T17:26:50.420828",
     "exception": false,
     "start_time": "2022-09-24T17:26:50.390295",
     "status": "completed"
    },
    "tags": []
   },
   "outputs": [
    {
     "data": {
      "text/plain": [
       "(118729, 1112)"
      ]
     },
     "execution_count": 25,
     "metadata": {},
     "output_type": "execute_result"
    }
   ],
   "source": [
    "X_full_predict.shape"
   ]
  },
  {
   "cell_type": "code",
   "execution_count": 26,
   "id": "300319a5",
   "metadata": {
    "execution": {
     "iopub.execute_input": "2022-09-24T17:26:50.461626Z",
     "iopub.status.busy": "2022-09-24T17:26:50.460823Z",
     "iopub.status.idle": "2022-09-24T17:26:52.743079Z",
     "shell.execute_reply": "2022-09-24T17:26:52.741748Z"
    },
    "papermill": {
     "duration": 2.304923,
     "end_time": "2022-09-24T17:26:52.745948",
     "exception": false,
     "start_time": "2022-09-24T17:26:50.441025",
     "status": "completed"
    },
    "tags": []
   },
   "outputs": [],
   "source": [
    "predictions_full = svm_classifier.predict(X_full_predict)"
   ]
  },
  {
   "cell_type": "code",
   "execution_count": 27,
   "id": "fd190489",
   "metadata": {
    "execution": {
     "iopub.execute_input": "2022-09-24T17:26:52.776720Z",
     "iopub.status.busy": "2022-09-24T17:26:52.776254Z",
     "iopub.status.idle": "2022-09-24T17:26:52.781915Z",
     "shell.execute_reply": "2022-09-24T17:26:52.781038Z"
    },
    "papermill": {
     "duration": 0.023666,
     "end_time": "2022-09-24T17:26:52.784088",
     "exception": false,
     "start_time": "2022-09-24T17:26:52.760422",
     "status": "completed"
    },
    "tags": []
   },
   "outputs": [],
   "source": [
    "full['Rating (0/1/2) ']=predictions_full"
   ]
  },
  {
   "cell_type": "code",
   "execution_count": 28,
   "id": "263c4c97",
   "metadata": {
    "execution": {
     "iopub.execute_input": "2022-09-24T17:26:52.814801Z",
     "iopub.status.busy": "2022-09-24T17:26:52.814360Z",
     "iopub.status.idle": "2022-09-24T17:26:53.537777Z",
     "shell.execute_reply": "2022-09-24T17:26:53.536557Z"
    },
    "papermill": {
     "duration": 0.742346,
     "end_time": "2022-09-24T17:26:53.540598",
     "exception": false,
     "start_time": "2022-09-24T17:26:52.798252",
     "status": "completed"
    },
    "tags": []
   },
   "outputs": [],
   "source": [
    "from datetime import datetime\n",
    "full['date']=pd.to_datetime(full['date'])\n",
    "full['date']= full['date'].apply(lambda x: x.strftime('%Y-%m-%d'))"
   ]
  },
  {
   "cell_type": "code",
   "execution_count": 29,
   "id": "d2d0f137",
   "metadata": {
    "execution": {
     "iopub.execute_input": "2022-09-24T17:26:53.571326Z",
     "iopub.status.busy": "2022-09-24T17:26:53.570896Z",
     "iopub.status.idle": "2022-09-24T17:26:53.600801Z",
     "shell.execute_reply": "2022-09-24T17:26:53.599353Z"
    },
    "papermill": {
     "duration": 0.048251,
     "end_time": "2022-09-24T17:26:53.603605",
     "exception": false,
     "start_time": "2022-09-24T17:26:53.555354",
     "status": "completed"
    },
    "tags": []
   },
   "outputs": [],
   "source": [
    "full_pre = full[full['date']<='2021-07-13']"
   ]
  },
  {
   "cell_type": "code",
   "execution_count": 30,
   "id": "c7851e08",
   "metadata": {
    "execution": {
     "iopub.execute_input": "2022-09-24T17:26:53.633869Z",
     "iopub.status.busy": "2022-09-24T17:26:53.633224Z",
     "iopub.status.idle": "2022-09-24T17:26:53.648088Z",
     "shell.execute_reply": "2022-09-24T17:26:53.647203Z"
    },
    "papermill": {
     "duration": 0.032518,
     "end_time": "2022-09-24T17:26:53.650246",
     "exception": false,
     "start_time": "2022-09-24T17:26:53.617728",
     "status": "completed"
    },
    "tags": []
   },
   "outputs": [
    {
     "data": {
      "text/html": [
       "<div>\n",
       "<style scoped>\n",
       "    .dataframe tbody tr th:only-of-type {\n",
       "        vertical-align: middle;\n",
       "    }\n",
       "\n",
       "    .dataframe tbody tr th {\n",
       "        vertical-align: top;\n",
       "    }\n",
       "\n",
       "    .dataframe thead th {\n",
       "        text-align: right;\n",
       "    }\n",
       "</style>\n",
       "<table border=\"1\" class=\"dataframe\">\n",
       "  <thead>\n",
       "    <tr style=\"text-align: right;\">\n",
       "      <th></th>\n",
       "      <th>Unnamed: 0</th>\n",
       "      <th>date</th>\n",
       "      <th>User</th>\n",
       "      <th>Tweet</th>\n",
       "      <th>Rating (0/1/2)</th>\n",
       "    </tr>\n",
       "  </thead>\n",
       "  <tbody>\n",
       "    <tr>\n",
       "      <th>80954</th>\n",
       "      <td>80954</td>\n",
       "      <td>2021-07-13</td>\n",
       "      <td>Arminirma1Armin</td>\n",
       "      <td>@BPsteinmueller Die USA ist uns durch Bidens T...</td>\n",
       "      <td>1.0</td>\n",
       "    </tr>\n",
       "    <tr>\n",
       "      <th>80955</th>\n",
       "      <td>80955</td>\n",
       "      <td>2021-07-13</td>\n",
       "      <td>nfdampf</td>\n",
       "      <td>Pandemie, Klimakrise, Artensterben, Ausbeutung...</td>\n",
       "      <td>1.0</td>\n",
       "    </tr>\n",
       "    <tr>\n",
       "      <th>80956</th>\n",
       "      <td>80956</td>\n",
       "      <td>2021-07-13</td>\n",
       "      <td>MEPilarczyk</td>\n",
       "      <td>Und solch ein extrem arroganter WischiWaschi -...</td>\n",
       "      <td>1.0</td>\n",
       "    </tr>\n",
       "    <tr>\n",
       "      <th>80957</th>\n",
       "      <td>80957</td>\n",
       "      <td>2021-07-13</td>\n",
       "      <td>megatrendy</td>\n",
       "      <td>ich nehme jetzt an, dass sich die Herren Rösti...</td>\n",
       "      <td>1.0</td>\n",
       "    </tr>\n",
       "    <tr>\n",
       "      <th>80958</th>\n",
       "      <td>80958</td>\n",
       "      <td>2021-07-13</td>\n",
       "      <td>FFFLeipzig</td>\n",
       "      <td>+++ Übersicht der nächsten Aktionen +++\\n\\nIn ...</td>\n",
       "      <td>1.0</td>\n",
       "    </tr>\n",
       "    <tr>\n",
       "      <th>...</th>\n",
       "      <td>...</td>\n",
       "      <td>...</td>\n",
       "      <td>...</td>\n",
       "      <td>...</td>\n",
       "      <td>...</td>\n",
       "    </tr>\n",
       "    <tr>\n",
       "      <th>118724</th>\n",
       "      <td>118724</td>\n",
       "      <td>2021-07-01</td>\n",
       "      <td>SenorTenor</td>\n",
       "      <td>@nukeman11859765 @DerClue @VeroWendland @fwies...</td>\n",
       "      <td>1.0</td>\n",
       "    </tr>\n",
       "    <tr>\n",
       "      <th>118725</th>\n",
       "      <td>118725</td>\n",
       "      <td>2021-07-01</td>\n",
       "      <td>f_talmon</td>\n",
       "      <td>Nur wenn es gelingt den #Klimawandel zu stoppe...</td>\n",
       "      <td>1.0</td>\n",
       "    </tr>\n",
       "    <tr>\n",
       "      <th>118726</th>\n",
       "      <td>118726</td>\n",
       "      <td>2021-07-01</td>\n",
       "      <td>RRMeyer2</td>\n",
       "      <td>@SenorTenor @MoormannRainer @amardeo @DerClue ...</td>\n",
       "      <td>0.0</td>\n",
       "    </tr>\n",
       "    <tr>\n",
       "      <th>118727</th>\n",
       "      <td>118727</td>\n",
       "      <td>2021-07-01</td>\n",
       "      <td>SenorTenor</td>\n",
       "      <td>@MoormannRainer @DerClue @VeroWendland @fwiesc...</td>\n",
       "      <td>1.0</td>\n",
       "    </tr>\n",
       "    <tr>\n",
       "      <th>118728</th>\n",
       "      <td>118728</td>\n",
       "      <td>2021-07-01</td>\n",
       "      <td>SenorTenor</td>\n",
       "      <td>@MoormannRainer @DerClue @VeroWendland @fwiesc...</td>\n",
       "      <td>1.0</td>\n",
       "    </tr>\n",
       "  </tbody>\n",
       "</table>\n",
       "<p>37775 rows × 5 columns</p>\n",
       "</div>"
      ],
      "text/plain": [
       "        Unnamed: 0        date             User  \\\n",
       "80954        80954  2021-07-13  Arminirma1Armin   \n",
       "80955        80955  2021-07-13          nfdampf   \n",
       "80956        80956  2021-07-13      MEPilarczyk   \n",
       "80957        80957  2021-07-13       megatrendy   \n",
       "80958        80958  2021-07-13       FFFLeipzig   \n",
       "...            ...         ...              ...   \n",
       "118724      118724  2021-07-01       SenorTenor   \n",
       "118725      118725  2021-07-01         f_talmon   \n",
       "118726      118726  2021-07-01         RRMeyer2   \n",
       "118727      118727  2021-07-01       SenorTenor   \n",
       "118728      118728  2021-07-01       SenorTenor   \n",
       "\n",
       "                                                    Tweet  Rating (0/1/2)   \n",
       "80954   @BPsteinmueller Die USA ist uns durch Bidens T...              1.0  \n",
       "80955   Pandemie, Klimakrise, Artensterben, Ausbeutung...              1.0  \n",
       "80956   Und solch ein extrem arroganter WischiWaschi -...              1.0  \n",
       "80957   ich nehme jetzt an, dass sich die Herren Rösti...              1.0  \n",
       "80958   +++ Übersicht der nächsten Aktionen +++\\n\\nIn ...              1.0  \n",
       "...                                                   ...              ...  \n",
       "118724  @nukeman11859765 @DerClue @VeroWendland @fwies...              1.0  \n",
       "118725  Nur wenn es gelingt den #Klimawandel zu stoppe...              1.0  \n",
       "118726  @SenorTenor @MoormannRainer @amardeo @DerClue ...              0.0  \n",
       "118727  @MoormannRainer @DerClue @VeroWendland @fwiesc...              1.0  \n",
       "118728  @MoormannRainer @DerClue @VeroWendland @fwiesc...              1.0  \n",
       "\n",
       "[37775 rows x 5 columns]"
      ]
     },
     "execution_count": 30,
     "metadata": {},
     "output_type": "execute_result"
    }
   ],
   "source": [
    "full_pre"
   ]
  },
  {
   "cell_type": "code",
   "execution_count": 31,
   "id": "057a71f2",
   "metadata": {
    "execution": {
     "iopub.execute_input": "2022-09-24T17:26:53.680903Z",
     "iopub.status.busy": "2022-09-24T17:26:53.680171Z",
     "iopub.status.idle": "2022-09-24T17:26:53.699357Z",
     "shell.execute_reply": "2022-09-24T17:26:53.698201Z"
    },
    "papermill": {
     "duration": 0.037558,
     "end_time": "2022-09-24T17:26:53.702239",
     "exception": false,
     "start_time": "2022-09-24T17:26:53.664681",
     "status": "completed"
    },
    "tags": []
   },
   "outputs": [],
   "source": [
    "full_post = full[full['date']>'2021-07-13']"
   ]
  },
  {
   "cell_type": "code",
   "execution_count": 32,
   "id": "978bc3fe",
   "metadata": {
    "execution": {
     "iopub.execute_input": "2022-09-24T17:26:53.733482Z",
     "iopub.status.busy": "2022-09-24T17:26:53.733038Z",
     "iopub.status.idle": "2022-09-24T17:26:53.751242Z",
     "shell.execute_reply": "2022-09-24T17:26:53.749940Z"
    },
    "papermill": {
     "duration": 0.036879,
     "end_time": "2022-09-24T17:26:53.753777",
     "exception": false,
     "start_time": "2022-09-24T17:26:53.716898",
     "status": "completed"
    },
    "tags": []
   },
   "outputs": [
    {
     "data": {
      "text/html": [
       "<div>\n",
       "<style scoped>\n",
       "    .dataframe tbody tr th:only-of-type {\n",
       "        vertical-align: middle;\n",
       "    }\n",
       "\n",
       "    .dataframe tbody tr th {\n",
       "        vertical-align: top;\n",
       "    }\n",
       "\n",
       "    .dataframe thead th {\n",
       "        text-align: right;\n",
       "    }\n",
       "</style>\n",
       "<table border=\"1\" class=\"dataframe\">\n",
       "  <thead>\n",
       "    <tr style=\"text-align: right;\">\n",
       "      <th></th>\n",
       "      <th>Unnamed: 0</th>\n",
       "      <th>date</th>\n",
       "      <th>User</th>\n",
       "      <th>Tweet</th>\n",
       "      <th>Rating (0/1/2)</th>\n",
       "    </tr>\n",
       "  </thead>\n",
       "  <tbody>\n",
       "    <tr>\n",
       "      <th>0</th>\n",
       "      <td>0</td>\n",
       "      <td>2021-07-29</td>\n",
       "      <td>Porticus2</td>\n",
       "      <td>Bevor Herr @MarkusSöder solches Klima-Trallala...</td>\n",
       "      <td>1.0</td>\n",
       "    </tr>\n",
       "    <tr>\n",
       "      <th>1</th>\n",
       "      <td>1</td>\n",
       "      <td>2021-07-29</td>\n",
       "      <td>watch_union</td>\n",
       "      <td>Der Vorstandsvorsitzende von #VW zerstört bei ...</td>\n",
       "      <td>1.0</td>\n",
       "    </tr>\n",
       "    <tr>\n",
       "      <th>2</th>\n",
       "      <td>2</td>\n",
       "      <td>2021-07-29</td>\n",
       "      <td>NiklasCcr</td>\n",
       "      <td>@raichubvb Klimawandel. Die Menschen müssen en...</td>\n",
       "      <td>1.0</td>\n",
       "    </tr>\n",
       "    <tr>\n",
       "      <th>3</th>\n",
       "      <td>3</td>\n",
       "      <td>2021-07-29</td>\n",
       "      <td>SvenPhenix</td>\n",
       "      <td>Jetzt in einer Zeit voller Krisen: #COVID19, #...</td>\n",
       "      <td>1.0</td>\n",
       "    </tr>\n",
       "    <tr>\n",
       "      <th>4</th>\n",
       "      <td>4</td>\n",
       "      <td>2021-07-29</td>\n",
       "      <td>brokenspirits</td>\n",
       "      <td>Und nochmal etwas weitergedacht: Während hier ...</td>\n",
       "      <td>1.0</td>\n",
       "    </tr>\n",
       "    <tr>\n",
       "      <th>...</th>\n",
       "      <td>...</td>\n",
       "      <td>...</td>\n",
       "      <td>...</td>\n",
       "      <td>...</td>\n",
       "      <td>...</td>\n",
       "    </tr>\n",
       "    <tr>\n",
       "      <th>80949</th>\n",
       "      <td>80949</td>\n",
       "      <td>2021-07-14</td>\n",
       "      <td>EinFragender</td>\n",
       "      <td>@Karl_Lauterbach So weit ich weiß, war es 1913...</td>\n",
       "      <td>1.0</td>\n",
       "    </tr>\n",
       "    <tr>\n",
       "      <th>80950</th>\n",
       "      <td>80950</td>\n",
       "      <td>2021-07-14</td>\n",
       "      <td>MoSchaefer66</td>\n",
       "      <td>@P4F_Leipzig Jetzt sollte so manchem langsam k...</td>\n",
       "      <td>1.0</td>\n",
       "    </tr>\n",
       "    <tr>\n",
       "      <th>80951</th>\n",
       "      <td>80951</td>\n",
       "      <td>2021-07-14</td>\n",
       "      <td>f_talmon</td>\n",
       "      <td>Wenn der Meeresspiegel weiter steigt, wird das...</td>\n",
       "      <td>1.0</td>\n",
       "    </tr>\n",
       "    <tr>\n",
       "      <th>80952</th>\n",
       "      <td>80952</td>\n",
       "      <td>2021-07-14</td>\n",
       "      <td>Elke__Kuhn</td>\n",
       "      <td>@ayranundspeck @CCitiesOrg @dvd_hrtmnn @Monika...</td>\n",
       "      <td>1.0</td>\n",
       "    </tr>\n",
       "    <tr>\n",
       "      <th>80953</th>\n",
       "      <td>80953</td>\n",
       "      <td>2021-07-14</td>\n",
       "      <td>fahrIehrer</td>\n",
       "      <td>@Vampirkamel @AndreasBlnMi @zeitonline Alles i...</td>\n",
       "      <td>1.0</td>\n",
       "    </tr>\n",
       "  </tbody>\n",
       "</table>\n",
       "<p>80954 rows × 5 columns</p>\n",
       "</div>"
      ],
      "text/plain": [
       "       Unnamed: 0        date           User  \\\n",
       "0               0  2021-07-29      Porticus2   \n",
       "1               1  2021-07-29    watch_union   \n",
       "2               2  2021-07-29      NiklasCcr   \n",
       "3               3  2021-07-29     SvenPhenix   \n",
       "4               4  2021-07-29  brokenspirits   \n",
       "...           ...         ...            ...   \n",
       "80949       80949  2021-07-14   EinFragender   \n",
       "80950       80950  2021-07-14   MoSchaefer66   \n",
       "80951       80951  2021-07-14       f_talmon   \n",
       "80952       80952  2021-07-14     Elke__Kuhn   \n",
       "80953       80953  2021-07-14     fahrIehrer   \n",
       "\n",
       "                                                   Tweet  Rating (0/1/2)   \n",
       "0      Bevor Herr @MarkusSöder solches Klima-Trallala...              1.0  \n",
       "1      Der Vorstandsvorsitzende von #VW zerstört bei ...              1.0  \n",
       "2      @raichubvb Klimawandel. Die Menschen müssen en...              1.0  \n",
       "3      Jetzt in einer Zeit voller Krisen: #COVID19, #...              1.0  \n",
       "4      Und nochmal etwas weitergedacht: Während hier ...              1.0  \n",
       "...                                                  ...              ...  \n",
       "80949  @Karl_Lauterbach So weit ich weiß, war es 1913...              1.0  \n",
       "80950  @P4F_Leipzig Jetzt sollte so manchem langsam k...              1.0  \n",
       "80951  Wenn der Meeresspiegel weiter steigt, wird das...              1.0  \n",
       "80952  @ayranundspeck @CCitiesOrg @dvd_hrtmnn @Monika...              1.0  \n",
       "80953  @Vampirkamel @AndreasBlnMi @zeitonline Alles i...              1.0  \n",
       "\n",
       "[80954 rows x 5 columns]"
      ]
     },
     "execution_count": 32,
     "metadata": {},
     "output_type": "execute_result"
    }
   ],
   "source": [
    "full_post"
   ]
  },
  {
   "cell_type": "code",
   "execution_count": 33,
   "id": "37eaff17",
   "metadata": {
    "execution": {
     "iopub.execute_input": "2022-09-24T17:26:53.786771Z",
     "iopub.status.busy": "2022-09-24T17:26:53.785681Z",
     "iopub.status.idle": "2022-09-24T17:26:53.799735Z",
     "shell.execute_reply": "2022-09-24T17:26:53.798663Z"
    },
    "papermill": {
     "duration": 0.033532,
     "end_time": "2022-09-24T17:26:53.802265",
     "exception": false,
     "start_time": "2022-09-24T17:26:53.768733",
     "status": "completed"
    },
    "tags": []
   },
   "outputs": [
    {
     "data": {
      "text/plain": [
       "1.0    35350\n",
       "2.0     1928\n",
       "0.0      497\n",
       "Name: Rating (0/1/2) , dtype: int64"
      ]
     },
     "execution_count": 33,
     "metadata": {},
     "output_type": "execute_result"
    }
   ],
   "source": [
    "rating_count_pre = pd.value_counts(full_pre['Rating (0/1/2) '])\n",
    "rating_count_pre"
   ]
  },
  {
   "cell_type": "code",
   "execution_count": 34,
   "id": "9c76a53b",
   "metadata": {
    "execution": {
     "iopub.execute_input": "2022-09-24T17:26:53.834105Z",
     "iopub.status.busy": "2022-09-24T17:26:53.833668Z",
     "iopub.status.idle": "2022-09-24T17:26:55.582993Z",
     "shell.execute_reply": "2022-09-24T17:26:55.581589Z"
    },
    "papermill": {
     "duration": 1.768377,
     "end_time": "2022-09-24T17:26:55.585630",
     "exception": false,
     "start_time": "2022-09-24T17:26:53.817253",
     "status": "completed"
    },
    "tags": []
   },
   "outputs": [
    {
     "data": {
      "text/html": [
       "        <script type=\"text/javascript\">\n",
       "        window.PlotlyConfig = {MathJaxConfig: 'local'};\n",
       "        if (window.MathJax && window.MathJax.Hub && window.MathJax.Hub.Config) {window.MathJax.Hub.Config({SVG: {font: \"STIX-Web\"}});}\n",
       "        if (typeof require !== 'undefined') {\n",
       "        require.undef(\"plotly\");\n",
       "        requirejs.config({\n",
       "            paths: {\n",
       "                'plotly': ['https://cdn.plot.ly/plotly-2.14.0.min']\n",
       "            }\n",
       "        });\n",
       "        require(['plotly'], function(Plotly) {\n",
       "            window._Plotly = Plotly;\n",
       "        });\n",
       "        }\n",
       "        </script>\n",
       "        "
      ]
     },
     "metadata": {},
     "output_type": "display_data"
    },
    {
     "data": {
      "text/html": [
       "<div>                            <div id=\"ff17a163-413e-4cf4-b500-62f18c9658a2\" class=\"plotly-graph-div\" style=\"height:525px; width:100%;\"></div>            <script type=\"text/javascript\">                require([\"plotly\"], function(Plotly) {                    window.PLOTLYENV=window.PLOTLYENV || {};                                    if (document.getElementById(\"ff17a163-413e-4cf4-b500-62f18c9658a2\")) {                    Plotly.newPlot(                        \"ff17a163-413e-4cf4-b500-62f18c9658a2\",                        [{\"alignmentgroup\":\"True\",\"hovertemplate\":\"variable=Rating (0/1/2) <br>RATING=%{x}<br>value=%{y}<extra></extra>\",\"legendgroup\":\"Rating (0/1/2) \",\"marker\":{\"color\":\"#636efa\",\"pattern\":{\"shape\":\"\"}},\"name\":\"Rating (0/1/2) \",\"offsetgroup\":\"Rating (0/1/2) \",\"orientation\":\"v\",\"showlegend\":true,\"textposition\":\"auto\",\"x\":[1.0,2.0,0.0],\"xaxis\":\"x\",\"y\":[35350,1928,497],\"yaxis\":\"y\",\"type\":\"bar\"}],                        {\"template\":{\"data\":{\"histogram2dcontour\":[{\"type\":\"histogram2dcontour\",\"colorbar\":{\"outlinewidth\":0,\"ticks\":\"\"},\"colorscale\":[[0.0,\"#0d0887\"],[0.1111111111111111,\"#46039f\"],[0.2222222222222222,\"#7201a8\"],[0.3333333333333333,\"#9c179e\"],[0.4444444444444444,\"#bd3786\"],[0.5555555555555556,\"#d8576b\"],[0.6666666666666666,\"#ed7953\"],[0.7777777777777778,\"#fb9f3a\"],[0.8888888888888888,\"#fdca26\"],[1.0,\"#f0f921\"]]}],\"choropleth\":[{\"type\":\"choropleth\",\"colorbar\":{\"outlinewidth\":0,\"ticks\":\"\"}}],\"histogram2d\":[{\"type\":\"histogram2d\",\"colorbar\":{\"outlinewidth\":0,\"ticks\":\"\"},\"colorscale\":[[0.0,\"#0d0887\"],[0.1111111111111111,\"#46039f\"],[0.2222222222222222,\"#7201a8\"],[0.3333333333333333,\"#9c179e\"],[0.4444444444444444,\"#bd3786\"],[0.5555555555555556,\"#d8576b\"],[0.6666666666666666,\"#ed7953\"],[0.7777777777777778,\"#fb9f3a\"],[0.8888888888888888,\"#fdca26\"],[1.0,\"#f0f921\"]]}],\"heatmap\":[{\"type\":\"heatmap\",\"colorbar\":{\"outlinewidth\":0,\"ticks\":\"\"},\"colorscale\":[[0.0,\"#0d0887\"],[0.1111111111111111,\"#46039f\"],[0.2222222222222222,\"#7201a8\"],[0.3333333333333333,\"#9c179e\"],[0.4444444444444444,\"#bd3786\"],[0.5555555555555556,\"#d8576b\"],[0.6666666666666666,\"#ed7953\"],[0.7777777777777778,\"#fb9f3a\"],[0.8888888888888888,\"#fdca26\"],[1.0,\"#f0f921\"]]}],\"heatmapgl\":[{\"type\":\"heatmapgl\",\"colorbar\":{\"outlinewidth\":0,\"ticks\":\"\"},\"colorscale\":[[0.0,\"#0d0887\"],[0.1111111111111111,\"#46039f\"],[0.2222222222222222,\"#7201a8\"],[0.3333333333333333,\"#9c179e\"],[0.4444444444444444,\"#bd3786\"],[0.5555555555555556,\"#d8576b\"],[0.6666666666666666,\"#ed7953\"],[0.7777777777777778,\"#fb9f3a\"],[0.8888888888888888,\"#fdca26\"],[1.0,\"#f0f921\"]]}],\"contourcarpet\":[{\"type\":\"contourcarpet\",\"colorbar\":{\"outlinewidth\":0,\"ticks\":\"\"}}],\"contour\":[{\"type\":\"contour\",\"colorbar\":{\"outlinewidth\":0,\"ticks\":\"\"},\"colorscale\":[[0.0,\"#0d0887\"],[0.1111111111111111,\"#46039f\"],[0.2222222222222222,\"#7201a8\"],[0.3333333333333333,\"#9c179e\"],[0.4444444444444444,\"#bd3786\"],[0.5555555555555556,\"#d8576b\"],[0.6666666666666666,\"#ed7953\"],[0.7777777777777778,\"#fb9f3a\"],[0.8888888888888888,\"#fdca26\"],[1.0,\"#f0f921\"]]}],\"surface\":[{\"type\":\"surface\",\"colorbar\":{\"outlinewidth\":0,\"ticks\":\"\"},\"colorscale\":[[0.0,\"#0d0887\"],[0.1111111111111111,\"#46039f\"],[0.2222222222222222,\"#7201a8\"],[0.3333333333333333,\"#9c179e\"],[0.4444444444444444,\"#bd3786\"],[0.5555555555555556,\"#d8576b\"],[0.6666666666666666,\"#ed7953\"],[0.7777777777777778,\"#fb9f3a\"],[0.8888888888888888,\"#fdca26\"],[1.0,\"#f0f921\"]]}],\"mesh3d\":[{\"type\":\"mesh3d\",\"colorbar\":{\"outlinewidth\":0,\"ticks\":\"\"}}],\"scatter\":[{\"fillpattern\":{\"fillmode\":\"overlay\",\"size\":10,\"solidity\":0.2},\"type\":\"scatter\"}],\"parcoords\":[{\"type\":\"parcoords\",\"line\":{\"colorbar\":{\"outlinewidth\":0,\"ticks\":\"\"}}}],\"scatterpolargl\":[{\"type\":\"scatterpolargl\",\"marker\":{\"colorbar\":{\"outlinewidth\":0,\"ticks\":\"\"}}}],\"bar\":[{\"error_x\":{\"color\":\"#2a3f5f\"},\"error_y\":{\"color\":\"#2a3f5f\"},\"marker\":{\"line\":{\"color\":\"#E5ECF6\",\"width\":0.5},\"pattern\":{\"fillmode\":\"overlay\",\"size\":10,\"solidity\":0.2}},\"type\":\"bar\"}],\"scattergeo\":[{\"type\":\"scattergeo\",\"marker\":{\"colorbar\":{\"outlinewidth\":0,\"ticks\":\"\"}}}],\"scatterpolar\":[{\"type\":\"scatterpolar\",\"marker\":{\"colorbar\":{\"outlinewidth\":0,\"ticks\":\"\"}}}],\"histogram\":[{\"marker\":{\"pattern\":{\"fillmode\":\"overlay\",\"size\":10,\"solidity\":0.2}},\"type\":\"histogram\"}],\"scattergl\":[{\"type\":\"scattergl\",\"marker\":{\"colorbar\":{\"outlinewidth\":0,\"ticks\":\"\"}}}],\"scatter3d\":[{\"type\":\"scatter3d\",\"line\":{\"colorbar\":{\"outlinewidth\":0,\"ticks\":\"\"}},\"marker\":{\"colorbar\":{\"outlinewidth\":0,\"ticks\":\"\"}}}],\"scattermapbox\":[{\"type\":\"scattermapbox\",\"marker\":{\"colorbar\":{\"outlinewidth\":0,\"ticks\":\"\"}}}],\"scatterternary\":[{\"type\":\"scatterternary\",\"marker\":{\"colorbar\":{\"outlinewidth\":0,\"ticks\":\"\"}}}],\"scattercarpet\":[{\"type\":\"scattercarpet\",\"marker\":{\"colorbar\":{\"outlinewidth\":0,\"ticks\":\"\"}}}],\"carpet\":[{\"aaxis\":{\"endlinecolor\":\"#2a3f5f\",\"gridcolor\":\"white\",\"linecolor\":\"white\",\"minorgridcolor\":\"white\",\"startlinecolor\":\"#2a3f5f\"},\"baxis\":{\"endlinecolor\":\"#2a3f5f\",\"gridcolor\":\"white\",\"linecolor\":\"white\",\"minorgridcolor\":\"white\",\"startlinecolor\":\"#2a3f5f\"},\"type\":\"carpet\"}],\"table\":[{\"cells\":{\"fill\":{\"color\":\"#EBF0F8\"},\"line\":{\"color\":\"white\"}},\"header\":{\"fill\":{\"color\":\"#C8D4E3\"},\"line\":{\"color\":\"white\"}},\"type\":\"table\"}],\"barpolar\":[{\"marker\":{\"line\":{\"color\":\"#E5ECF6\",\"width\":0.5},\"pattern\":{\"fillmode\":\"overlay\",\"size\":10,\"solidity\":0.2}},\"type\":\"barpolar\"}],\"pie\":[{\"automargin\":true,\"type\":\"pie\"}]},\"layout\":{\"autotypenumbers\":\"strict\",\"colorway\":[\"#636efa\",\"#EF553B\",\"#00cc96\",\"#ab63fa\",\"#FFA15A\",\"#19d3f3\",\"#FF6692\",\"#B6E880\",\"#FF97FF\",\"#FECB52\"],\"font\":{\"color\":\"#2a3f5f\"},\"hovermode\":\"closest\",\"hoverlabel\":{\"align\":\"left\"},\"paper_bgcolor\":\"white\",\"plot_bgcolor\":\"#E5ECF6\",\"polar\":{\"bgcolor\":\"#E5ECF6\",\"angularaxis\":{\"gridcolor\":\"white\",\"linecolor\":\"white\",\"ticks\":\"\"},\"radialaxis\":{\"gridcolor\":\"white\",\"linecolor\":\"white\",\"ticks\":\"\"}},\"ternary\":{\"bgcolor\":\"#E5ECF6\",\"aaxis\":{\"gridcolor\":\"white\",\"linecolor\":\"white\",\"ticks\":\"\"},\"baxis\":{\"gridcolor\":\"white\",\"linecolor\":\"white\",\"ticks\":\"\"},\"caxis\":{\"gridcolor\":\"white\",\"linecolor\":\"white\",\"ticks\":\"\"}},\"coloraxis\":{\"colorbar\":{\"outlinewidth\":0,\"ticks\":\"\"}},\"colorscale\":{\"sequential\":[[0.0,\"#0d0887\"],[0.1111111111111111,\"#46039f\"],[0.2222222222222222,\"#7201a8\"],[0.3333333333333333,\"#9c179e\"],[0.4444444444444444,\"#bd3786\"],[0.5555555555555556,\"#d8576b\"],[0.6666666666666666,\"#ed7953\"],[0.7777777777777778,\"#fb9f3a\"],[0.8888888888888888,\"#fdca26\"],[1.0,\"#f0f921\"]],\"sequentialminus\":[[0.0,\"#0d0887\"],[0.1111111111111111,\"#46039f\"],[0.2222222222222222,\"#7201a8\"],[0.3333333333333333,\"#9c179e\"],[0.4444444444444444,\"#bd3786\"],[0.5555555555555556,\"#d8576b\"],[0.6666666666666666,\"#ed7953\"],[0.7777777777777778,\"#fb9f3a\"],[0.8888888888888888,\"#fdca26\"],[1.0,\"#f0f921\"]],\"diverging\":[[0,\"#8e0152\"],[0.1,\"#c51b7d\"],[0.2,\"#de77ae\"],[0.3,\"#f1b6da\"],[0.4,\"#fde0ef\"],[0.5,\"#f7f7f7\"],[0.6,\"#e6f5d0\"],[0.7,\"#b8e186\"],[0.8,\"#7fbc41\"],[0.9,\"#4d9221\"],[1,\"#276419\"]]},\"xaxis\":{\"gridcolor\":\"white\",\"linecolor\":\"white\",\"ticks\":\"\",\"title\":{\"standoff\":15},\"zerolinecolor\":\"white\",\"automargin\":true,\"zerolinewidth\":2},\"yaxis\":{\"gridcolor\":\"white\",\"linecolor\":\"white\",\"ticks\":\"\",\"title\":{\"standoff\":15},\"zerolinecolor\":\"white\",\"automargin\":true,\"zerolinewidth\":2},\"scene\":{\"xaxis\":{\"backgroundcolor\":\"#E5ECF6\",\"gridcolor\":\"white\",\"linecolor\":\"white\",\"showbackground\":true,\"ticks\":\"\",\"zerolinecolor\":\"white\",\"gridwidth\":2},\"yaxis\":{\"backgroundcolor\":\"#E5ECF6\",\"gridcolor\":\"white\",\"linecolor\":\"white\",\"showbackground\":true,\"ticks\":\"\",\"zerolinecolor\":\"white\",\"gridwidth\":2},\"zaxis\":{\"backgroundcolor\":\"#E5ECF6\",\"gridcolor\":\"white\",\"linecolor\":\"white\",\"showbackground\":true,\"ticks\":\"\",\"zerolinecolor\":\"white\",\"gridwidth\":2}},\"shapedefaults\":{\"line\":{\"color\":\"#2a3f5f\"}},\"annotationdefaults\":{\"arrowcolor\":\"#2a3f5f\",\"arrowhead\":0,\"arrowwidth\":1},\"geo\":{\"bgcolor\":\"white\",\"landcolor\":\"#E5ECF6\",\"subunitcolor\":\"white\",\"showland\":true,\"showlakes\":true,\"lakecolor\":\"white\"},\"title\":{\"x\":0.05},\"mapbox\":{\"style\":\"light\"}}},\"xaxis\":{\"anchor\":\"y\",\"domain\":[0.0,1.0],\"title\":{\"text\":\"RATING\"}},\"yaxis\":{\"anchor\":\"x\",\"domain\":[0.0,1.0],\"title\":{\"text\":\"value\"}},\"legend\":{\"title\":{\"text\":\"variable\"},\"tracegroupgap\":0},\"title\":{\"text\":\"Frequency of ratings of tweets\"},\"barmode\":\"relative\"},                        {\"responsive\": true}                    ).then(function(){\n",
       "                            \n",
       "var gd = document.getElementById('ff17a163-413e-4cf4-b500-62f18c9658a2');\n",
       "var x = new MutationObserver(function (mutations, observer) {{\n",
       "        var display = window.getComputedStyle(gd).display;\n",
       "        if (!display || display === 'none') {{\n",
       "            console.log([gd, 'removed!']);\n",
       "            Plotly.purge(gd);\n",
       "            observer.disconnect();\n",
       "        }}\n",
       "}});\n",
       "\n",
       "// Listen for the removal of the full notebook cells\n",
       "var notebookContainer = gd.closest('#notebook-container');\n",
       "if (notebookContainer) {{\n",
       "    x.observe(notebookContainer, {childList: true});\n",
       "}}\n",
       "\n",
       "// Listen for the clearing of the current output cell\n",
       "var outputEl = gd.closest('.output');\n",
       "if (outputEl) {{\n",
       "    x.observe(outputEl, {childList: true});\n",
       "}}\n",
       "\n",
       "                        })                };                });            </script>        </div>"
      ]
     },
     "metadata": {},
     "output_type": "display_data"
    }
   ],
   "source": [
    "\n",
    "import plotly.express as px\n",
    "#Plotting the frequency of tweets for the whole month of july.\n",
    "fig = px.bar(rating_count_pre, labels=dict(index='RATING'),\n",
    "              title='Frequency of ratings of tweets')\n",
    "\n",
    "\n",
    "\n",
    "fig.show()"
   ]
  },
  {
   "cell_type": "code",
   "execution_count": 35,
   "id": "24a1b7dd",
   "metadata": {
    "execution": {
     "iopub.execute_input": "2022-09-24T17:26:55.619371Z",
     "iopub.status.busy": "2022-09-24T17:26:55.618318Z",
     "iopub.status.idle": "2022-09-24T17:26:55.628990Z",
     "shell.execute_reply": "2022-09-24T17:26:55.627897Z"
    },
    "papermill": {
     "duration": 0.030023,
     "end_time": "2022-09-24T17:26:55.631571",
     "exception": false,
     "start_time": "2022-09-24T17:26:55.601548",
     "status": "completed"
    },
    "tags": []
   },
   "outputs": [
    {
     "data": {
      "text/plain": [
       "1.0    75628\n",
       "2.0     4391\n",
       "0.0      935\n",
       "Name: Rating (0/1/2) , dtype: int64"
      ]
     },
     "execution_count": 35,
     "metadata": {},
     "output_type": "execute_result"
    }
   ],
   "source": [
    "rating_count_post = pd.value_counts(full_post['Rating (0/1/2) '])\n",
    "rating_count_post"
   ]
  },
  {
   "cell_type": "code",
   "execution_count": 36,
   "id": "d7c7fe2a",
   "metadata": {
    "execution": {
     "iopub.execute_input": "2022-09-24T17:26:55.665268Z",
     "iopub.status.busy": "2022-09-24T17:26:55.664835Z",
     "iopub.status.idle": "2022-09-24T17:26:55.730869Z",
     "shell.execute_reply": "2022-09-24T17:26:55.729813Z"
    },
    "papermill": {
     "duration": 0.085643,
     "end_time": "2022-09-24T17:26:55.733330",
     "exception": false,
     "start_time": "2022-09-24T17:26:55.647687",
     "status": "completed"
    },
    "tags": []
   },
   "outputs": [
    {
     "data": {
      "text/html": [
       "<div>                            <div id=\"77ba3bcd-6215-4f5c-a59e-b1726ca0c60b\" class=\"plotly-graph-div\" style=\"height:525px; width:100%;\"></div>            <script type=\"text/javascript\">                require([\"plotly\"], function(Plotly) {                    window.PLOTLYENV=window.PLOTLYENV || {};                                    if (document.getElementById(\"77ba3bcd-6215-4f5c-a59e-b1726ca0c60b\")) {                    Plotly.newPlot(                        \"77ba3bcd-6215-4f5c-a59e-b1726ca0c60b\",                        [{\"alignmentgroup\":\"True\",\"hovertemplate\":\"variable=Rating (0/1/2) <br>RATING=%{x}<br>value=%{y}<extra></extra>\",\"legendgroup\":\"Rating (0/1/2) \",\"marker\":{\"color\":\"#636efa\",\"pattern\":{\"shape\":\"\"}},\"name\":\"Rating (0/1/2) \",\"offsetgroup\":\"Rating (0/1/2) \",\"orientation\":\"v\",\"showlegend\":true,\"textposition\":\"auto\",\"x\":[1.0,2.0,0.0],\"xaxis\":\"x\",\"y\":[75628,4391,935],\"yaxis\":\"y\",\"type\":\"bar\"}],                        {\"template\":{\"data\":{\"histogram2dcontour\":[{\"type\":\"histogram2dcontour\",\"colorbar\":{\"outlinewidth\":0,\"ticks\":\"\"},\"colorscale\":[[0.0,\"#0d0887\"],[0.1111111111111111,\"#46039f\"],[0.2222222222222222,\"#7201a8\"],[0.3333333333333333,\"#9c179e\"],[0.4444444444444444,\"#bd3786\"],[0.5555555555555556,\"#d8576b\"],[0.6666666666666666,\"#ed7953\"],[0.7777777777777778,\"#fb9f3a\"],[0.8888888888888888,\"#fdca26\"],[1.0,\"#f0f921\"]]}],\"choropleth\":[{\"type\":\"choropleth\",\"colorbar\":{\"outlinewidth\":0,\"ticks\":\"\"}}],\"histogram2d\":[{\"type\":\"histogram2d\",\"colorbar\":{\"outlinewidth\":0,\"ticks\":\"\"},\"colorscale\":[[0.0,\"#0d0887\"],[0.1111111111111111,\"#46039f\"],[0.2222222222222222,\"#7201a8\"],[0.3333333333333333,\"#9c179e\"],[0.4444444444444444,\"#bd3786\"],[0.5555555555555556,\"#d8576b\"],[0.6666666666666666,\"#ed7953\"],[0.7777777777777778,\"#fb9f3a\"],[0.8888888888888888,\"#fdca26\"],[1.0,\"#f0f921\"]]}],\"heatmap\":[{\"type\":\"heatmap\",\"colorbar\":{\"outlinewidth\":0,\"ticks\":\"\"},\"colorscale\":[[0.0,\"#0d0887\"],[0.1111111111111111,\"#46039f\"],[0.2222222222222222,\"#7201a8\"],[0.3333333333333333,\"#9c179e\"],[0.4444444444444444,\"#bd3786\"],[0.5555555555555556,\"#d8576b\"],[0.6666666666666666,\"#ed7953\"],[0.7777777777777778,\"#fb9f3a\"],[0.8888888888888888,\"#fdca26\"],[1.0,\"#f0f921\"]]}],\"heatmapgl\":[{\"type\":\"heatmapgl\",\"colorbar\":{\"outlinewidth\":0,\"ticks\":\"\"},\"colorscale\":[[0.0,\"#0d0887\"],[0.1111111111111111,\"#46039f\"],[0.2222222222222222,\"#7201a8\"],[0.3333333333333333,\"#9c179e\"],[0.4444444444444444,\"#bd3786\"],[0.5555555555555556,\"#d8576b\"],[0.6666666666666666,\"#ed7953\"],[0.7777777777777778,\"#fb9f3a\"],[0.8888888888888888,\"#fdca26\"],[1.0,\"#f0f921\"]]}],\"contourcarpet\":[{\"type\":\"contourcarpet\",\"colorbar\":{\"outlinewidth\":0,\"ticks\":\"\"}}],\"contour\":[{\"type\":\"contour\",\"colorbar\":{\"outlinewidth\":0,\"ticks\":\"\"},\"colorscale\":[[0.0,\"#0d0887\"],[0.1111111111111111,\"#46039f\"],[0.2222222222222222,\"#7201a8\"],[0.3333333333333333,\"#9c179e\"],[0.4444444444444444,\"#bd3786\"],[0.5555555555555556,\"#d8576b\"],[0.6666666666666666,\"#ed7953\"],[0.7777777777777778,\"#fb9f3a\"],[0.8888888888888888,\"#fdca26\"],[1.0,\"#f0f921\"]]}],\"surface\":[{\"type\":\"surface\",\"colorbar\":{\"outlinewidth\":0,\"ticks\":\"\"},\"colorscale\":[[0.0,\"#0d0887\"],[0.1111111111111111,\"#46039f\"],[0.2222222222222222,\"#7201a8\"],[0.3333333333333333,\"#9c179e\"],[0.4444444444444444,\"#bd3786\"],[0.5555555555555556,\"#d8576b\"],[0.6666666666666666,\"#ed7953\"],[0.7777777777777778,\"#fb9f3a\"],[0.8888888888888888,\"#fdca26\"],[1.0,\"#f0f921\"]]}],\"mesh3d\":[{\"type\":\"mesh3d\",\"colorbar\":{\"outlinewidth\":0,\"ticks\":\"\"}}],\"scatter\":[{\"fillpattern\":{\"fillmode\":\"overlay\",\"size\":10,\"solidity\":0.2},\"type\":\"scatter\"}],\"parcoords\":[{\"type\":\"parcoords\",\"line\":{\"colorbar\":{\"outlinewidth\":0,\"ticks\":\"\"}}}],\"scatterpolargl\":[{\"type\":\"scatterpolargl\",\"marker\":{\"colorbar\":{\"outlinewidth\":0,\"ticks\":\"\"}}}],\"bar\":[{\"error_x\":{\"color\":\"#2a3f5f\"},\"error_y\":{\"color\":\"#2a3f5f\"},\"marker\":{\"line\":{\"color\":\"#E5ECF6\",\"width\":0.5},\"pattern\":{\"fillmode\":\"overlay\",\"size\":10,\"solidity\":0.2}},\"type\":\"bar\"}],\"scattergeo\":[{\"type\":\"scattergeo\",\"marker\":{\"colorbar\":{\"outlinewidth\":0,\"ticks\":\"\"}}}],\"scatterpolar\":[{\"type\":\"scatterpolar\",\"marker\":{\"colorbar\":{\"outlinewidth\":0,\"ticks\":\"\"}}}],\"histogram\":[{\"marker\":{\"pattern\":{\"fillmode\":\"overlay\",\"size\":10,\"solidity\":0.2}},\"type\":\"histogram\"}],\"scattergl\":[{\"type\":\"scattergl\",\"marker\":{\"colorbar\":{\"outlinewidth\":0,\"ticks\":\"\"}}}],\"scatter3d\":[{\"type\":\"scatter3d\",\"line\":{\"colorbar\":{\"outlinewidth\":0,\"ticks\":\"\"}},\"marker\":{\"colorbar\":{\"outlinewidth\":0,\"ticks\":\"\"}}}],\"scattermapbox\":[{\"type\":\"scattermapbox\",\"marker\":{\"colorbar\":{\"outlinewidth\":0,\"ticks\":\"\"}}}],\"scatterternary\":[{\"type\":\"scatterternary\",\"marker\":{\"colorbar\":{\"outlinewidth\":0,\"ticks\":\"\"}}}],\"scattercarpet\":[{\"type\":\"scattercarpet\",\"marker\":{\"colorbar\":{\"outlinewidth\":0,\"ticks\":\"\"}}}],\"carpet\":[{\"aaxis\":{\"endlinecolor\":\"#2a3f5f\",\"gridcolor\":\"white\",\"linecolor\":\"white\",\"minorgridcolor\":\"white\",\"startlinecolor\":\"#2a3f5f\"},\"baxis\":{\"endlinecolor\":\"#2a3f5f\",\"gridcolor\":\"white\",\"linecolor\":\"white\",\"minorgridcolor\":\"white\",\"startlinecolor\":\"#2a3f5f\"},\"type\":\"carpet\"}],\"table\":[{\"cells\":{\"fill\":{\"color\":\"#EBF0F8\"},\"line\":{\"color\":\"white\"}},\"header\":{\"fill\":{\"color\":\"#C8D4E3\"},\"line\":{\"color\":\"white\"}},\"type\":\"table\"}],\"barpolar\":[{\"marker\":{\"line\":{\"color\":\"#E5ECF6\",\"width\":0.5},\"pattern\":{\"fillmode\":\"overlay\",\"size\":10,\"solidity\":0.2}},\"type\":\"barpolar\"}],\"pie\":[{\"automargin\":true,\"type\":\"pie\"}]},\"layout\":{\"autotypenumbers\":\"strict\",\"colorway\":[\"#636efa\",\"#EF553B\",\"#00cc96\",\"#ab63fa\",\"#FFA15A\",\"#19d3f3\",\"#FF6692\",\"#B6E880\",\"#FF97FF\",\"#FECB52\"],\"font\":{\"color\":\"#2a3f5f\"},\"hovermode\":\"closest\",\"hoverlabel\":{\"align\":\"left\"},\"paper_bgcolor\":\"white\",\"plot_bgcolor\":\"#E5ECF6\",\"polar\":{\"bgcolor\":\"#E5ECF6\",\"angularaxis\":{\"gridcolor\":\"white\",\"linecolor\":\"white\",\"ticks\":\"\"},\"radialaxis\":{\"gridcolor\":\"white\",\"linecolor\":\"white\",\"ticks\":\"\"}},\"ternary\":{\"bgcolor\":\"#E5ECF6\",\"aaxis\":{\"gridcolor\":\"white\",\"linecolor\":\"white\",\"ticks\":\"\"},\"baxis\":{\"gridcolor\":\"white\",\"linecolor\":\"white\",\"ticks\":\"\"},\"caxis\":{\"gridcolor\":\"white\",\"linecolor\":\"white\",\"ticks\":\"\"}},\"coloraxis\":{\"colorbar\":{\"outlinewidth\":0,\"ticks\":\"\"}},\"colorscale\":{\"sequential\":[[0.0,\"#0d0887\"],[0.1111111111111111,\"#46039f\"],[0.2222222222222222,\"#7201a8\"],[0.3333333333333333,\"#9c179e\"],[0.4444444444444444,\"#bd3786\"],[0.5555555555555556,\"#d8576b\"],[0.6666666666666666,\"#ed7953\"],[0.7777777777777778,\"#fb9f3a\"],[0.8888888888888888,\"#fdca26\"],[1.0,\"#f0f921\"]],\"sequentialminus\":[[0.0,\"#0d0887\"],[0.1111111111111111,\"#46039f\"],[0.2222222222222222,\"#7201a8\"],[0.3333333333333333,\"#9c179e\"],[0.4444444444444444,\"#bd3786\"],[0.5555555555555556,\"#d8576b\"],[0.6666666666666666,\"#ed7953\"],[0.7777777777777778,\"#fb9f3a\"],[0.8888888888888888,\"#fdca26\"],[1.0,\"#f0f921\"]],\"diverging\":[[0,\"#8e0152\"],[0.1,\"#c51b7d\"],[0.2,\"#de77ae\"],[0.3,\"#f1b6da\"],[0.4,\"#fde0ef\"],[0.5,\"#f7f7f7\"],[0.6,\"#e6f5d0\"],[0.7,\"#b8e186\"],[0.8,\"#7fbc41\"],[0.9,\"#4d9221\"],[1,\"#276419\"]]},\"xaxis\":{\"gridcolor\":\"white\",\"linecolor\":\"white\",\"ticks\":\"\",\"title\":{\"standoff\":15},\"zerolinecolor\":\"white\",\"automargin\":true,\"zerolinewidth\":2},\"yaxis\":{\"gridcolor\":\"white\",\"linecolor\":\"white\",\"ticks\":\"\",\"title\":{\"standoff\":15},\"zerolinecolor\":\"white\",\"automargin\":true,\"zerolinewidth\":2},\"scene\":{\"xaxis\":{\"backgroundcolor\":\"#E5ECF6\",\"gridcolor\":\"white\",\"linecolor\":\"white\",\"showbackground\":true,\"ticks\":\"\",\"zerolinecolor\":\"white\",\"gridwidth\":2},\"yaxis\":{\"backgroundcolor\":\"#E5ECF6\",\"gridcolor\":\"white\",\"linecolor\":\"white\",\"showbackground\":true,\"ticks\":\"\",\"zerolinecolor\":\"white\",\"gridwidth\":2},\"zaxis\":{\"backgroundcolor\":\"#E5ECF6\",\"gridcolor\":\"white\",\"linecolor\":\"white\",\"showbackground\":true,\"ticks\":\"\",\"zerolinecolor\":\"white\",\"gridwidth\":2}},\"shapedefaults\":{\"line\":{\"color\":\"#2a3f5f\"}},\"annotationdefaults\":{\"arrowcolor\":\"#2a3f5f\",\"arrowhead\":0,\"arrowwidth\":1},\"geo\":{\"bgcolor\":\"white\",\"landcolor\":\"#E5ECF6\",\"subunitcolor\":\"white\",\"showland\":true,\"showlakes\":true,\"lakecolor\":\"white\"},\"title\":{\"x\":0.05},\"mapbox\":{\"style\":\"light\"}}},\"xaxis\":{\"anchor\":\"y\",\"domain\":[0.0,1.0],\"title\":{\"text\":\"RATING\"}},\"yaxis\":{\"anchor\":\"x\",\"domain\":[0.0,1.0],\"title\":{\"text\":\"value\"}},\"legend\":{\"title\":{\"text\":\"variable\"},\"tracegroupgap\":0},\"title\":{\"text\":\"Frequency of ratings of tweets post floods\"},\"barmode\":\"relative\"},                        {\"responsive\": true}                    ).then(function(){\n",
       "                            \n",
       "var gd = document.getElementById('77ba3bcd-6215-4f5c-a59e-b1726ca0c60b');\n",
       "var x = new MutationObserver(function (mutations, observer) {{\n",
       "        var display = window.getComputedStyle(gd).display;\n",
       "        if (!display || display === 'none') {{\n",
       "            console.log([gd, 'removed!']);\n",
       "            Plotly.purge(gd);\n",
       "            observer.disconnect();\n",
       "        }}\n",
       "}});\n",
       "\n",
       "// Listen for the removal of the full notebook cells\n",
       "var notebookContainer = gd.closest('#notebook-container');\n",
       "if (notebookContainer) {{\n",
       "    x.observe(notebookContainer, {childList: true});\n",
       "}}\n",
       "\n",
       "// Listen for the clearing of the current output cell\n",
       "var outputEl = gd.closest('.output');\n",
       "if (outputEl) {{\n",
       "    x.observe(outputEl, {childList: true});\n",
       "}}\n",
       "\n",
       "                        })                };                });            </script>        </div>"
      ]
     },
     "metadata": {},
     "output_type": "display_data"
    }
   ],
   "source": [
    "import plotly.express as px\n",
    "#Plotting the frequency of tweets for the whole month of july.\n",
    "fig = px.bar(rating_count_post, labels=dict(index='RATING'),\n",
    "              title='Frequency of ratings of tweets post floods')\n",
    "\n",
    "\n",
    "\n",
    "fig.show()"
   ]
  },
  {
   "cell_type": "code",
   "execution_count": 37,
   "id": "b38ac030",
   "metadata": {
    "execution": {
     "iopub.execute_input": "2022-09-24T17:26:55.767968Z",
     "iopub.status.busy": "2022-09-24T17:26:55.766862Z",
     "iopub.status.idle": "2022-09-24T17:26:55.774908Z",
     "shell.execute_reply": "2022-09-24T17:26:55.773466Z"
    },
    "papermill": {
     "duration": 0.027785,
     "end_time": "2022-09-24T17:26:55.777240",
     "exception": false,
     "start_time": "2022-09-24T17:26:55.749455",
     "status": "completed"
    },
    "tags": []
   },
   "outputs": [
    {
     "data": {
      "text/plain": [
       "0.05424067989228451"
      ]
     },
     "execution_count": 37,
     "metadata": {},
     "output_type": "execute_result"
    }
   ],
   "source": [
    "(4391)/(4391+75628+935)\n",
    "#post event"
   ]
  },
  {
   "cell_type": "code",
   "execution_count": 38,
   "id": "e52cc686",
   "metadata": {
    "execution": {
     "iopub.execute_input": "2022-09-24T17:26:55.811214Z",
     "iopub.status.busy": "2022-09-24T17:26:55.810818Z",
     "iopub.status.idle": "2022-09-24T17:26:55.817716Z",
     "shell.execute_reply": "2022-09-24T17:26:55.816540Z"
    },
    "papermill": {
     "duration": 0.026537,
     "end_time": "2022-09-24T17:26:55.819874",
     "exception": false,
     "start_time": "2022-09-24T17:26:55.793337",
     "status": "completed"
    },
    "tags": []
   },
   "outputs": [
    {
     "data": {
      "text/plain": [
       "0.05103904698874917"
      ]
     },
     "execution_count": 38,
     "metadata": {},
     "output_type": "execute_result"
    }
   ],
   "source": [
    "1928/(1928+35350+497)"
   ]
  },
  {
   "cell_type": "code",
   "execution_count": 39,
   "id": "52868fe3",
   "metadata": {
    "execution": {
     "iopub.execute_input": "2022-09-24T17:26:55.854830Z",
     "iopub.status.busy": "2022-09-24T17:26:55.854097Z",
     "iopub.status.idle": "2022-09-24T17:26:56.463143Z",
     "shell.execute_reply": "2022-09-24T17:26:56.461903Z"
    },
    "papermill": {
     "duration": 0.629312,
     "end_time": "2022-09-24T17:26:56.465692",
     "exception": false,
     "start_time": "2022-09-24T17:26:55.836380",
     "status": "completed"
    },
    "tags": []
   },
   "outputs": [],
   "source": [
    "full_post.to_csv('full_postLabelled.csv', index= False)"
   ]
  },
  {
   "cell_type": "code",
   "execution_count": 40,
   "id": "5d553661",
   "metadata": {
    "execution": {
     "iopub.execute_input": "2022-09-24T17:26:56.501040Z",
     "iopub.status.busy": "2022-09-24T17:26:56.499998Z",
     "iopub.status.idle": "2022-09-24T17:26:56.808126Z",
     "shell.execute_reply": "2022-09-24T17:26:56.806875Z"
    },
    "papermill": {
     "duration": 0.328828,
     "end_time": "2022-09-24T17:26:56.810986",
     "exception": false,
     "start_time": "2022-09-24T17:26:56.482158",
     "status": "completed"
    },
    "tags": []
   },
   "outputs": [],
   "source": [
    "full_pre.to_csv('full_preLabelled.csv', index= False)"
   ]
  },
  {
   "cell_type": "code",
   "execution_count": 41,
   "id": "f1bbcb41",
   "metadata": {
    "execution": {
     "iopub.execute_input": "2022-09-24T17:26:56.847713Z",
     "iopub.status.busy": "2022-09-24T17:26:56.846554Z",
     "iopub.status.idle": "2022-09-24T17:26:56.853347Z",
     "shell.execute_reply": "2022-09-24T17:26:56.852321Z"
    },
    "papermill": {
     "duration": 0.027375,
     "end_time": "2022-09-24T17:26:56.855782",
     "exception": false,
     "start_time": "2022-09-24T17:26:56.828407",
     "status": "completed"
    },
    "tags": []
   },
   "outputs": [
    {
     "data": {
      "text/plain": [
       "0.013156849768365321"
      ]
     },
     "execution_count": 41,
     "metadata": {},
     "output_type": "execute_result"
    }
   ],
   "source": [
    "497/(1928+35350+497)\n",
    "#pre for 0"
   ]
  },
  {
   "cell_type": "code",
   "execution_count": 42,
   "id": "15864009",
   "metadata": {
    "execution": {
     "iopub.execute_input": "2022-09-24T17:26:56.891456Z",
     "iopub.status.busy": "2022-09-24T17:26:56.891064Z",
     "iopub.status.idle": "2022-09-24T17:26:56.897989Z",
     "shell.execute_reply": "2022-09-24T17:26:56.896738Z"
    },
    "papermill": {
     "duration": 0.027622,
     "end_time": "2022-09-24T17:26:56.900310",
     "exception": false,
     "start_time": "2022-09-24T17:26:56.872688",
     "status": "completed"
    },
    "tags": []
   },
   "outputs": [
    {
     "data": {
      "text/plain": [
       "0.011549769004619908"
      ]
     },
     "execution_count": 42,
     "metadata": {},
     "output_type": "execute_result"
    }
   ],
   "source": [
    "935/(4391+75628+935)\n",
    "#post for 0"
   ]
  },
  {
   "cell_type": "code",
   "execution_count": null,
   "id": "73cd9fe6",
   "metadata": {
    "papermill": {
     "duration": 0.016412,
     "end_time": "2022-09-24T17:26:56.933774",
     "exception": false,
     "start_time": "2022-09-24T17:26:56.917362",
     "status": "completed"
    },
    "tags": []
   },
   "outputs": [],
   "source": []
  }
 ],
 "metadata": {
  "kernelspec": {
   "display_name": "Python 3",
   "language": "python",
   "name": "python3"
  },
  "language_info": {
   "codemirror_mode": {
    "name": "ipython",
    "version": 3
   },
   "file_extension": ".py",
   "mimetype": "text/x-python",
   "name": "python",
   "nbconvert_exporter": "python",
   "pygments_lexer": "ipython3",
   "version": "3.7.12"
  },
  "papermill": {
   "default_parameters": {},
   "duration": 74.202127,
   "end_time": "2022-09-24T17:27:00.368285",
   "environment_variables": {},
   "exception": null,
   "input_path": "__notebook__.ipynb",
   "output_path": "__notebook__.ipynb",
   "parameters": {},
   "start_time": "2022-09-24T17:25:46.166158",
   "version": "2.3.4"
  }
 },
 "nbformat": 4,
 "nbformat_minor": 5
}
