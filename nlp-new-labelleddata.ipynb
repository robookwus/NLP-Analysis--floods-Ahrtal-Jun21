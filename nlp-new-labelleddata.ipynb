{
 "cells": [
  {
   "cell_type": "code",
   "execution_count": 1,
   "id": "5dcebb37",
   "metadata": {
    "execution": {
     "iopub.execute_input": "2022-09-30T08:01:53.204953Z",
     "iopub.status.busy": "2022-09-30T08:01:53.203912Z",
     "iopub.status.idle": "2022-09-30T08:02:32.486253Z",
     "shell.execute_reply": "2022-09-30T08:02:32.484762Z"
    },
    "papermill": {
     "duration": 39.301711,
     "end_time": "2022-09-30T08:02:32.489365",
     "exception": false,
     "start_time": "2022-09-30T08:01:53.187654",
     "status": "completed"
    },
    "tags": []
   },
   "outputs": [
    {
     "name": "stdout",
     "output_type": "stream",
     "text": [
      "Collecting de-core-news-md==3.3.0\r\n",
      "  Downloading https://github.com/explosion/spacy-models/releases/download/de_core_news_md-3.3.0/de_core_news_md-3.3.0-py3-none-any.whl (44.4 MB)\r\n",
      "\u001b[2K     \u001b[90m━━━━━━━━━━━━━━━━━━━━━━━━━━━━━━━━━━━━━━━━\u001b[0m \u001b[32m44.4/44.4 MB\u001b[0m \u001b[31m24.6 MB/s\u001b[0m eta \u001b[36m0:00:00\u001b[0m\r\n",
      "\u001b[?25hRequirement already satisfied: spacy<3.4.0,>=3.3.0.dev0 in /opt/conda/lib/python3.7/site-packages (from de-core-news-md==3.3.0) (3.3.1)\r\n",
      "Requirement already satisfied: blis<0.8.0,>=0.4.0 in /opt/conda/lib/python3.7/site-packages (from spacy<3.4.0,>=3.3.0.dev0->de-core-news-md==3.3.0) (0.7.8)\r\n",
      "Requirement already satisfied: typer<0.5.0,>=0.3.0 in /opt/conda/lib/python3.7/site-packages (from spacy<3.4.0,>=3.3.0.dev0->de-core-news-md==3.3.0) (0.4.2)\r\n",
      "Requirement already satisfied: jinja2 in /opt/conda/lib/python3.7/site-packages (from spacy<3.4.0,>=3.3.0.dev0->de-core-news-md==3.3.0) (3.1.2)\r\n",
      "Requirement already satisfied: spacy-loggers<2.0.0,>=1.0.0 in /opt/conda/lib/python3.7/site-packages (from spacy<3.4.0,>=3.3.0.dev0->de-core-news-md==3.3.0) (1.0.3)\r\n",
      "Requirement already satisfied: srsly<3.0.0,>=2.4.3 in /opt/conda/lib/python3.7/site-packages (from spacy<3.4.0,>=3.3.0.dev0->de-core-news-md==3.3.0) (2.4.4)\r\n",
      "Requirement already satisfied: pydantic!=1.8,!=1.8.1,<1.9.0,>=1.7.4 in /opt/conda/lib/python3.7/site-packages (from spacy<3.4.0,>=3.3.0.dev0->de-core-news-md==3.3.0) (1.8.2)\r\n",
      "Requirement already satisfied: langcodes<4.0.0,>=3.2.0 in /opt/conda/lib/python3.7/site-packages (from spacy<3.4.0,>=3.3.0.dev0->de-core-news-md==3.3.0) (3.3.0)\r\n",
      "Collecting typing-extensions<4.2.0,>=3.7.4\r\n",
      "  Downloading typing_extensions-4.1.1-py3-none-any.whl (26 kB)\r\n",
      "Requirement already satisfied: preshed<3.1.0,>=3.0.2 in /opt/conda/lib/python3.7/site-packages (from spacy<3.4.0,>=3.3.0.dev0->de-core-news-md==3.3.0) (3.0.7)\r\n",
      "Requirement already satisfied: thinc<8.1.0,>=8.0.14 in /opt/conda/lib/python3.7/site-packages (from spacy<3.4.0,>=3.3.0.dev0->de-core-news-md==3.3.0) (8.0.17)\r\n",
      "Requirement already satisfied: requests<3.0.0,>=2.13.0 in /opt/conda/lib/python3.7/site-packages (from spacy<3.4.0,>=3.3.0.dev0->de-core-news-md==3.3.0) (2.28.1)\r\n",
      "Requirement already satisfied: pathy>=0.3.5 in /opt/conda/lib/python3.7/site-packages (from spacy<3.4.0,>=3.3.0.dev0->de-core-news-md==3.3.0) (0.6.2)\r\n",
      "Requirement already satisfied: numpy>=1.15.0 in /opt/conda/lib/python3.7/site-packages (from spacy<3.4.0,>=3.3.0.dev0->de-core-news-md==3.3.0) (1.21.6)\r\n",
      "Requirement already satisfied: tqdm<5.0.0,>=4.38.0 in /opt/conda/lib/python3.7/site-packages (from spacy<3.4.0,>=3.3.0.dev0->de-core-news-md==3.3.0) (4.64.0)\r\n",
      "Requirement already satisfied: catalogue<2.1.0,>=2.0.6 in /opt/conda/lib/python3.7/site-packages (from spacy<3.4.0,>=3.3.0.dev0->de-core-news-md==3.3.0) (2.0.8)\r\n",
      "Requirement already satisfied: spacy-legacy<3.1.0,>=3.0.9 in /opt/conda/lib/python3.7/site-packages (from spacy<3.4.0,>=3.3.0.dev0->de-core-news-md==3.3.0) (3.0.10)\r\n",
      "Requirement already satisfied: cymem<2.1.0,>=2.0.2 in /opt/conda/lib/python3.7/site-packages (from spacy<3.4.0,>=3.3.0.dev0->de-core-news-md==3.3.0) (2.0.6)\r\n",
      "Requirement already satisfied: setuptools in /opt/conda/lib/python3.7/site-packages (from spacy<3.4.0,>=3.3.0.dev0->de-core-news-md==3.3.0) (59.8.0)\r\n",
      "Requirement already satisfied: murmurhash<1.1.0,>=0.28.0 in /opt/conda/lib/python3.7/site-packages (from spacy<3.4.0,>=3.3.0.dev0->de-core-news-md==3.3.0) (1.0.8)\r\n",
      "Requirement already satisfied: wasabi<1.1.0,>=0.9.1 in /opt/conda/lib/python3.7/site-packages (from spacy<3.4.0,>=3.3.0.dev0->de-core-news-md==3.3.0) (0.10.1)\r\n",
      "Requirement already satisfied: packaging>=20.0 in /opt/conda/lib/python3.7/site-packages (from spacy<3.4.0,>=3.3.0.dev0->de-core-news-md==3.3.0) (21.3)\r\n",
      "Requirement already satisfied: zipp>=0.5 in /opt/conda/lib/python3.7/site-packages (from catalogue<2.1.0,>=2.0.6->spacy<3.4.0,>=3.3.0.dev0->de-core-news-md==3.3.0) (3.8.0)\r\n",
      "Requirement already satisfied: pyparsing!=3.0.5,>=2.0.2 in /opt/conda/lib/python3.7/site-packages (from packaging>=20.0->spacy<3.4.0,>=3.3.0.dev0->de-core-news-md==3.3.0) (3.0.9)\r\n",
      "Requirement already satisfied: smart-open<6.0.0,>=5.2.1 in /opt/conda/lib/python3.7/site-packages (from pathy>=0.3.5->spacy<3.4.0,>=3.3.0.dev0->de-core-news-md==3.3.0) (5.2.1)\r\n",
      "Requirement already satisfied: urllib3<1.27,>=1.21.1 in /opt/conda/lib/python3.7/site-packages (from requests<3.0.0,>=2.13.0->spacy<3.4.0,>=3.3.0.dev0->de-core-news-md==3.3.0) (1.26.12)\r\n",
      "Requirement already satisfied: charset-normalizer<3,>=2 in /opt/conda/lib/python3.7/site-packages (from requests<3.0.0,>=2.13.0->spacy<3.4.0,>=3.3.0.dev0->de-core-news-md==3.3.0) (2.1.0)\r\n",
      "Requirement already satisfied: idna<4,>=2.5 in /opt/conda/lib/python3.7/site-packages (from requests<3.0.0,>=2.13.0->spacy<3.4.0,>=3.3.0.dev0->de-core-news-md==3.3.0) (3.3)\r\n",
      "Requirement already satisfied: certifi>=2017.4.17 in /opt/conda/lib/python3.7/site-packages (from requests<3.0.0,>=2.13.0->spacy<3.4.0,>=3.3.0.dev0->de-core-news-md==3.3.0) (2022.6.15.2)\r\n",
      "Requirement already satisfied: click<9.0.0,>=7.1.1 in /opt/conda/lib/python3.7/site-packages (from typer<0.5.0,>=0.3.0->spacy<3.4.0,>=3.3.0.dev0->de-core-news-md==3.3.0) (8.0.4)\r\n",
      "Requirement already satisfied: MarkupSafe>=2.0 in /opt/conda/lib/python3.7/site-packages (from jinja2->spacy<3.4.0,>=3.3.0.dev0->de-core-news-md==3.3.0) (2.1.1)\r\n",
      "Requirement already satisfied: importlib-metadata in /opt/conda/lib/python3.7/site-packages (from click<9.0.0,>=7.1.1->typer<0.5.0,>=0.3.0->spacy<3.4.0,>=3.3.0.dev0->de-core-news-md==3.3.0) (4.12.0)\r\n",
      "Installing collected packages: typing-extensions, de-core-news-md\r\n",
      "  Attempting uninstall: typing-extensions\r\n",
      "    Found existing installation: typing_extensions 4.3.0\r\n",
      "    Uninstalling typing_extensions-4.3.0:\r\n",
      "      Successfully uninstalled typing_extensions-4.3.0\r\n",
      "\u001b[31mERROR: pip's dependency resolver does not currently take into account all the packages that are installed. This behaviour is the source of the following dependency conflicts.\r\n",
      "tensorflow-io 0.21.0 requires tensorflow-io-gcs-filesystem==0.21.0, which is not installed.\r\n",
      "tensorflow 2.6.4 requires h5py~=3.1.0, but you have h5py 3.7.0 which is incompatible.\r\n",
      "tensorflow 2.6.4 requires numpy~=1.19.2, but you have numpy 1.21.6 which is incompatible.\r\n",
      "tensorflow 2.6.4 requires tensorboard<2.7,>=2.6.0, but you have tensorboard 2.10.0 which is incompatible.\r\n",
      "tensorflow 2.6.4 requires typing-extensions<3.11,>=3.7, but you have typing-extensions 4.1.1 which is incompatible.\r\n",
      "tensorflow-transform 1.9.0 requires pyarrow<6,>=1, but you have pyarrow 8.0.0 which is incompatible.\r\n",
      "tensorflow-transform 1.9.0 requires tensorflow!=2.0.*,!=2.1.*,!=2.2.*,!=2.3.*,!=2.4.*,!=2.5.*,!=2.6.*,!=2.7.*,!=2.8.*,<2.10,>=1.15.5, but you have tensorflow 2.6.4 which is incompatible.\r\n",
      "tensorflow-serving-api 2.9.0 requires tensorflow<3,>=2.9.0, but you have tensorflow 2.6.4 which is incompatible.\r\n",
      "pandas-profiling 3.1.0 requires markupsafe~=2.0.1, but you have markupsafe 2.1.1 which is incompatible.\r\n",
      "flax 0.6.0 requires rich~=11.1, but you have rich 12.1.0 which is incompatible.\r\n",
      "flake8 4.0.1 requires importlib-metadata<4.3; python_version < \"3.8\", but you have importlib-metadata 4.12.0 which is incompatible.\r\n",
      "apache-beam 2.40.0 requires dill<0.3.2,>=0.3.1.1, but you have dill 0.3.5.1 which is incompatible.\r\n",
      "apache-beam 2.40.0 requires pyarrow<8.0.0,>=0.15.1, but you have pyarrow 8.0.0 which is incompatible.\r\n",
      "allennlp 2.10.0 requires protobuf==3.20.0, but you have protobuf 3.19.4 which is incompatible.\r\n",
      "aiobotocore 2.4.0 requires botocore<1.27.60,>=1.27.59, but you have botocore 1.27.72 which is incompatible.\u001b[0m\u001b[31m\r\n",
      "\u001b[0mSuccessfully installed de-core-news-md-3.3.0 typing-extensions-4.1.1\r\n",
      "\u001b[33mWARNING: Running pip as the 'root' user can result in broken permissions and conflicting behaviour with the system package manager. It is recommended to use a virtual environment instead: https://pip.pypa.io/warnings/venv\u001b[0m\u001b[33m\r\n",
      "\u001b[0m\u001b[38;5;2m✔ Download and installation successful\u001b[0m\r\n",
      "You can now load the package via spacy.load('de_core_news_md')\r\n"
     ]
    }
   ],
   "source": [
    "!python -m spacy download de_core_news_md"
   ]
  },
  {
   "cell_type": "code",
   "execution_count": 2,
   "id": "3c46e286",
   "metadata": {
    "execution": {
     "iopub.execute_input": "2022-09-30T08:02:32.523853Z",
     "iopub.status.busy": "2022-09-30T08:02:32.523292Z",
     "iopub.status.idle": "2022-09-30T08:02:39.680266Z",
     "shell.execute_reply": "2022-09-30T08:02:39.679245Z"
    },
    "papermill": {
     "duration": 7.176387,
     "end_time": "2022-09-30T08:02:39.683043",
     "exception": false,
     "start_time": "2022-09-30T08:02:32.506656",
     "status": "completed"
    },
    "tags": []
   },
   "outputs": [],
   "source": [
    "import spacy\n",
    "nlp = spacy.load('de_core_news_md')"
   ]
  },
  {
   "cell_type": "code",
   "execution_count": 3,
   "id": "c3221f02",
   "metadata": {
    "execution": {
     "iopub.execute_input": "2022-09-30T08:02:39.714012Z",
     "iopub.status.busy": "2022-09-30T08:02:39.713278Z",
     "iopub.status.idle": "2022-09-30T08:02:40.094124Z",
     "shell.execute_reply": "2022-09-30T08:02:40.093049Z"
    },
    "papermill": {
     "duration": 0.399888,
     "end_time": "2022-09-30T08:02:40.097305",
     "exception": false,
     "start_time": "2022-09-30T08:02:39.697417",
     "status": "completed"
    },
    "tags": []
   },
   "outputs": [],
   "source": [
    "import pandas as pd\n",
    "df=pd.read_csv('../input/updated-nlp/data_to_label - data_to_label.csv')"
   ]
  },
  {
   "cell_type": "code",
   "execution_count": 4,
   "id": "e50e8a23",
   "metadata": {
    "execution": {
     "iopub.execute_input": "2022-09-30T08:02:40.128667Z",
     "iopub.status.busy": "2022-09-30T08:02:40.128280Z",
     "iopub.status.idle": "2022-09-30T08:02:40.154561Z",
     "shell.execute_reply": "2022-09-30T08:02:40.153263Z"
    },
    "papermill": {
     "duration": 0.045327,
     "end_time": "2022-09-30T08:02:40.157453",
     "exception": false,
     "start_time": "2022-09-30T08:02:40.112126",
     "status": "completed"
    },
    "tags": []
   },
   "outputs": [
    {
     "data": {
      "text/html": [
       "<div>\n",
       "<style scoped>\n",
       "    .dataframe tbody tr th:only-of-type {\n",
       "        vertical-align: middle;\n",
       "    }\n",
       "\n",
       "    .dataframe tbody tr th {\n",
       "        vertical-align: top;\n",
       "    }\n",
       "\n",
       "    .dataframe thead th {\n",
       "        text-align: right;\n",
       "    }\n",
       "</style>\n",
       "<table border=\"1\" class=\"dataframe\">\n",
       "  <thead>\n",
       "    <tr style=\"text-align: right;\">\n",
       "      <th></th>\n",
       "      <th>date</th>\n",
       "      <th>Tweet</th>\n",
       "      <th>Rating (0/1/2)</th>\n",
       "      <th>Unnamed: 3</th>\n",
       "    </tr>\n",
       "  </thead>\n",
       "  <tbody>\n",
       "    <tr>\n",
       "      <th>0</th>\n",
       "      <td>2021-07-17 23:58:23+00:00</td>\n",
       "      <td>@do_kaleh @saki_statement @watch_union Ja, vie...</td>\n",
       "      <td>0.0</td>\n",
       "      <td>NaN</td>\n",
       "    </tr>\n",
       "    <tr>\n",
       "      <th>1</th>\n",
       "      <td>2021-07-17 23:56:01+00:00</td>\n",
       "      <td>@gregorgolland scheint sich zu amüsieren. Hat ...</td>\n",
       "      <td>0.0</td>\n",
       "      <td>NaN</td>\n",
       "    </tr>\n",
       "    <tr>\n",
       "      <th>2</th>\n",
       "      <td>2021-07-17 23:54:15+00:00</td>\n",
       "      <td>@welt Super, jetzt kann Supersöder mal zeigen ...</td>\n",
       "      <td>1.0</td>\n",
       "      <td>NaN</td>\n",
       "    </tr>\n",
       "    <tr>\n",
       "      <th>3</th>\n",
       "      <td>2021-07-17 23:52:51+00:00</td>\n",
       "      <td>Der Kampf gegen den Klimawandel ist aussichtsl...</td>\n",
       "      <td>0.0</td>\n",
       "      <td>NaN</td>\n",
       "    </tr>\n",
       "    <tr>\n",
       "      <th>4</th>\n",
       "      <td>2021-07-17 23:52:15+00:00</td>\n",
       "      <td>@ralphruthe @wolliane Wegen einem Riss im Aqua...</td>\n",
       "      <td>1.0</td>\n",
       "      <td>NaN</td>\n",
       "    </tr>\n",
       "  </tbody>\n",
       "</table>\n",
       "</div>"
      ],
      "text/plain": [
       "                        date  \\\n",
       "0  2021-07-17 23:58:23+00:00   \n",
       "1  2021-07-17 23:56:01+00:00   \n",
       "2  2021-07-17 23:54:15+00:00   \n",
       "3  2021-07-17 23:52:51+00:00   \n",
       "4  2021-07-17 23:52:15+00:00   \n",
       "\n",
       "                                               Tweet  Rating (0/1/2)  \\\n",
       "0  @do_kaleh @saki_statement @watch_union Ja, vie...             0.0   \n",
       "1  @gregorgolland scheint sich zu amüsieren. Hat ...             0.0   \n",
       "2  @welt Super, jetzt kann Supersöder mal zeigen ...             1.0   \n",
       "3  Der Kampf gegen den Klimawandel ist aussichtsl...             0.0   \n",
       "4  @ralphruthe @wolliane Wegen einem Riss im Aqua...             1.0   \n",
       "\n",
       "  Unnamed: 3  \n",
       "0        NaN  \n",
       "1        NaN  \n",
       "2        NaN  \n",
       "3        NaN  \n",
       "4        NaN  "
      ]
     },
     "execution_count": 4,
     "metadata": {},
     "output_type": "execute_result"
    }
   ],
   "source": [
    "df.head()"
   ]
  },
  {
   "cell_type": "code",
   "execution_count": 5,
   "id": "1d2f60a8",
   "metadata": {
    "execution": {
     "iopub.execute_input": "2022-09-30T08:02:40.189529Z",
     "iopub.status.busy": "2022-09-30T08:02:40.189110Z",
     "iopub.status.idle": "2022-09-30T08:02:40.202306Z",
     "shell.execute_reply": "2022-09-30T08:02:40.201125Z"
    },
    "papermill": {
     "duration": 0.032941,
     "end_time": "2022-09-30T08:02:40.204899",
     "exception": false,
     "start_time": "2022-09-30T08:02:40.171958",
     "status": "completed"
    },
    "tags": []
   },
   "outputs": [],
   "source": [
    "new = df[['Tweet','Rating (0/1/2)']]"
   ]
  },
  {
   "cell_type": "code",
   "execution_count": 6,
   "id": "37c4fb32",
   "metadata": {
    "execution": {
     "iopub.execute_input": "2022-09-30T08:02:40.235571Z",
     "iopub.status.busy": "2022-09-30T08:02:40.235153Z",
     "iopub.status.idle": "2022-09-30T08:02:40.250605Z",
     "shell.execute_reply": "2022-09-30T08:02:40.249673Z"
    },
    "papermill": {
     "duration": 0.033549,
     "end_time": "2022-09-30T08:02:40.252883",
     "exception": false,
     "start_time": "2022-09-30T08:02:40.219334",
     "status": "completed"
    },
    "tags": []
   },
   "outputs": [
    {
     "data": {
      "text/html": [
       "<div>\n",
       "<style scoped>\n",
       "    .dataframe tbody tr th:only-of-type {\n",
       "        vertical-align: middle;\n",
       "    }\n",
       "\n",
       "    .dataframe tbody tr th {\n",
       "        vertical-align: top;\n",
       "    }\n",
       "\n",
       "    .dataframe thead th {\n",
       "        text-align: right;\n",
       "    }\n",
       "</style>\n",
       "<table border=\"1\" class=\"dataframe\">\n",
       "  <thead>\n",
       "    <tr style=\"text-align: right;\">\n",
       "      <th></th>\n",
       "      <th>Tweet</th>\n",
       "      <th>Rating (0/1/2)</th>\n",
       "    </tr>\n",
       "  </thead>\n",
       "  <tbody>\n",
       "    <tr>\n",
       "      <th>0</th>\n",
       "      <td>@do_kaleh @saki_statement @watch_union Ja, vie...</td>\n",
       "      <td>0.0</td>\n",
       "    </tr>\n",
       "    <tr>\n",
       "      <th>1</th>\n",
       "      <td>@gregorgolland scheint sich zu amüsieren. Hat ...</td>\n",
       "      <td>0.0</td>\n",
       "    </tr>\n",
       "    <tr>\n",
       "      <th>2</th>\n",
       "      <td>@welt Super, jetzt kann Supersöder mal zeigen ...</td>\n",
       "      <td>1.0</td>\n",
       "    </tr>\n",
       "    <tr>\n",
       "      <th>3</th>\n",
       "      <td>Der Kampf gegen den Klimawandel ist aussichtsl...</td>\n",
       "      <td>0.0</td>\n",
       "    </tr>\n",
       "    <tr>\n",
       "      <th>4</th>\n",
       "      <td>@ralphruthe @wolliane Wegen einem Riss im Aqua...</td>\n",
       "      <td>1.0</td>\n",
       "    </tr>\n",
       "    <tr>\n",
       "      <th>...</th>\n",
       "      <td>...</td>\n",
       "      <td>...</td>\n",
       "    </tr>\n",
       "    <tr>\n",
       "      <th>46283</th>\n",
       "      <td>@gemusegurke @DiB_Thueringen @GDrehsen @brauch...</td>\n",
       "      <td>10.0</td>\n",
       "    </tr>\n",
       "    <tr>\n",
       "      <th>46284</th>\n",
       "      <td>@Burpeelover alles beweist Klima.</td>\n",
       "      <td>10.0</td>\n",
       "    </tr>\n",
       "    <tr>\n",
       "      <th>46285</th>\n",
       "      <td>@knathumsun Ich sehe, dass unglaubliche viele,...</td>\n",
       "      <td>10.0</td>\n",
       "    </tr>\n",
       "    <tr>\n",
       "      <th>46286</th>\n",
       "      <td>@Christoph_Br98 Weil diese Familien vom Klimaw...</td>\n",
       "      <td>10.0</td>\n",
       "    </tr>\n",
       "    <tr>\n",
       "      <th>46287</th>\n",
       "      <td>@MFrauchigerSVP Extremwetterereignisse stehen ...</td>\n",
       "      <td>10.0</td>\n",
       "    </tr>\n",
       "  </tbody>\n",
       "</table>\n",
       "<p>46288 rows × 2 columns</p>\n",
       "</div>"
      ],
      "text/plain": [
       "                                                   Tweet  Rating (0/1/2)\n",
       "0      @do_kaleh @saki_statement @watch_union Ja, vie...             0.0\n",
       "1      @gregorgolland scheint sich zu amüsieren. Hat ...             0.0\n",
       "2      @welt Super, jetzt kann Supersöder mal zeigen ...             1.0\n",
       "3      Der Kampf gegen den Klimawandel ist aussichtsl...             0.0\n",
       "4      @ralphruthe @wolliane Wegen einem Riss im Aqua...             1.0\n",
       "...                                                  ...             ...\n",
       "46283  @gemusegurke @DiB_Thueringen @GDrehsen @brauch...            10.0\n",
       "46284                  @Burpeelover alles beweist Klima.            10.0\n",
       "46285  @knathumsun Ich sehe, dass unglaubliche viele,...            10.0\n",
       "46286  @Christoph_Br98 Weil diese Familien vom Klimaw...            10.0\n",
       "46287  @MFrauchigerSVP Extremwetterereignisse stehen ...            10.0\n",
       "\n",
       "[46288 rows x 2 columns]"
      ]
     },
     "execution_count": 6,
     "metadata": {},
     "output_type": "execute_result"
    }
   ],
   "source": [
    "new"
   ]
  },
  {
   "cell_type": "code",
   "execution_count": 7,
   "id": "5e76b4a7",
   "metadata": {
    "execution": {
     "iopub.execute_input": "2022-09-30T08:02:40.284151Z",
     "iopub.status.busy": "2022-09-30T08:02:40.283694Z",
     "iopub.status.idle": "2022-09-30T08:02:40.291956Z",
     "shell.execute_reply": "2022-09-30T08:02:40.290826Z"
    },
    "papermill": {
     "duration": 0.026593,
     "end_time": "2022-09-30T08:02:40.294137",
     "exception": false,
     "start_time": "2022-09-30T08:02:40.267544",
     "status": "completed"
    },
    "tags": []
   },
   "outputs": [],
   "source": [
    "new = new[new['Rating (0/1/2)']!=10]"
   ]
  },
  {
   "cell_type": "code",
   "execution_count": 8,
   "id": "02d7db7c",
   "metadata": {
    "execution": {
     "iopub.execute_input": "2022-09-30T08:02:40.325351Z",
     "iopub.status.busy": "2022-09-30T08:02:40.324925Z",
     "iopub.status.idle": "2022-09-30T08:02:40.338067Z",
     "shell.execute_reply": "2022-09-30T08:02:40.337276Z"
    },
    "papermill": {
     "duration": 0.031216,
     "end_time": "2022-09-30T08:02:40.340078",
     "exception": false,
     "start_time": "2022-09-30T08:02:40.308862",
     "status": "completed"
    },
    "tags": []
   },
   "outputs": [
    {
     "data": {
      "text/html": [
       "<div>\n",
       "<style scoped>\n",
       "    .dataframe tbody tr th:only-of-type {\n",
       "        vertical-align: middle;\n",
       "    }\n",
       "\n",
       "    .dataframe tbody tr th {\n",
       "        vertical-align: top;\n",
       "    }\n",
       "\n",
       "    .dataframe thead th {\n",
       "        text-align: right;\n",
       "    }\n",
       "</style>\n",
       "<table border=\"1\" class=\"dataframe\">\n",
       "  <thead>\n",
       "    <tr style=\"text-align: right;\">\n",
       "      <th></th>\n",
       "      <th>Tweet</th>\n",
       "      <th>Rating (0/1/2)</th>\n",
       "    </tr>\n",
       "  </thead>\n",
       "  <tbody>\n",
       "    <tr>\n",
       "      <th>0</th>\n",
       "      <td>@do_kaleh @saki_statement @watch_union Ja, vie...</td>\n",
       "      <td>0.0</td>\n",
       "    </tr>\n",
       "    <tr>\n",
       "      <th>1</th>\n",
       "      <td>@gregorgolland scheint sich zu amüsieren. Hat ...</td>\n",
       "      <td>0.0</td>\n",
       "    </tr>\n",
       "    <tr>\n",
       "      <th>2</th>\n",
       "      <td>@welt Super, jetzt kann Supersöder mal zeigen ...</td>\n",
       "      <td>1.0</td>\n",
       "    </tr>\n",
       "    <tr>\n",
       "      <th>3</th>\n",
       "      <td>Der Kampf gegen den Klimawandel ist aussichtsl...</td>\n",
       "      <td>0.0</td>\n",
       "    </tr>\n",
       "    <tr>\n",
       "      <th>4</th>\n",
       "      <td>@ralphruthe @wolliane Wegen einem Riss im Aqua...</td>\n",
       "      <td>1.0</td>\n",
       "    </tr>\n",
       "    <tr>\n",
       "      <th>...</th>\n",
       "      <td>...</td>\n",
       "      <td>...</td>\n",
       "    </tr>\n",
       "    <tr>\n",
       "      <th>15956</th>\n",
       "      <td>10</td>\n",
       "      <td>NaN</td>\n",
       "    </tr>\n",
       "    <tr>\n",
       "      <th>28798</th>\n",
       "      <td>Linksgrüne wieder am zur Schau stellen ihrer I...</td>\n",
       "      <td>2.0</td>\n",
       "    </tr>\n",
       "    <tr>\n",
       "      <th>28799</th>\n",
       "      <td>Zum 2. Mal innerhalb von 3 Jahren sind Teile m...</td>\n",
       "      <td>0.0</td>\n",
       "    </tr>\n",
       "    <tr>\n",
       "      <th>41966</th>\n",
       "      <td>DBU - Bonde: Wälder leiden massiv unter der Kl...</td>\n",
       "      <td>NaN</td>\n",
       "    </tr>\n",
       "    <tr>\n",
       "      <th>41967</th>\n",
       "      <td>10</td>\n",
       "      <td>NaN</td>\n",
       "    </tr>\n",
       "  </tbody>\n",
       "</table>\n",
       "<p>336 rows × 2 columns</p>\n",
       "</div>"
      ],
      "text/plain": [
       "                                                   Tweet  Rating (0/1/2)\n",
       "0      @do_kaleh @saki_statement @watch_union Ja, vie...             0.0\n",
       "1      @gregorgolland scheint sich zu amüsieren. Hat ...             0.0\n",
       "2      @welt Super, jetzt kann Supersöder mal zeigen ...             1.0\n",
       "3      Der Kampf gegen den Klimawandel ist aussichtsl...             0.0\n",
       "4      @ralphruthe @wolliane Wegen einem Riss im Aqua...             1.0\n",
       "...                                                  ...             ...\n",
       "15956                                                 10             NaN\n",
       "28798  Linksgrüne wieder am zur Schau stellen ihrer I...             2.0\n",
       "28799  Zum 2. Mal innerhalb von 3 Jahren sind Teile m...             0.0\n",
       "41966  DBU - Bonde: Wälder leiden massiv unter der Kl...             NaN\n",
       "41967                                                 10             NaN\n",
       "\n",
       "[336 rows x 2 columns]"
      ]
     },
     "execution_count": 8,
     "metadata": {},
     "output_type": "execute_result"
    }
   ],
   "source": [
    "new"
   ]
  },
  {
   "cell_type": "code",
   "execution_count": 9,
   "id": "16070d19",
   "metadata": {
    "execution": {
     "iopub.execute_input": "2022-09-30T08:02:40.372150Z",
     "iopub.status.busy": "2022-09-30T08:02:40.371689Z",
     "iopub.status.idle": "2022-09-30T08:02:40.383529Z",
     "shell.execute_reply": "2022-09-30T08:02:40.382131Z"
    },
    "papermill": {
     "duration": 0.03148,
     "end_time": "2022-09-30T08:02:40.386641",
     "exception": false,
     "start_time": "2022-09-30T08:02:40.355161",
     "status": "completed"
    },
    "tags": []
   },
   "outputs": [
    {
     "name": "stderr",
     "output_type": "stream",
     "text": [
      "/opt/conda/lib/python3.7/site-packages/pandas/util/_decorators.py:311: SettingWithCopyWarning: \n",
      "A value is trying to be set on a copy of a slice from a DataFrame\n",
      "\n",
      "See the caveats in the documentation: https://pandas.pydata.org/pandas-docs/stable/user_guide/indexing.html#returning-a-view-versus-a-copy\n",
      "  return func(*args, **kwargs)\n"
     ]
    }
   ],
   "source": [
    "new.dropna(inplace=True)"
   ]
  },
  {
   "cell_type": "code",
   "execution_count": 10,
   "id": "5b6a8e2e",
   "metadata": {
    "execution": {
     "iopub.execute_input": "2022-09-30T08:02:40.421280Z",
     "iopub.status.busy": "2022-09-30T08:02:40.420487Z",
     "iopub.status.idle": "2022-09-30T08:02:40.427807Z",
     "shell.execute_reply": "2022-09-30T08:02:40.426595Z"
    },
    "papermill": {
     "duration": 0.028183,
     "end_time": "2022-09-30T08:02:40.430476",
     "exception": false,
     "start_time": "2022-09-30T08:02:40.402293",
     "status": "completed"
    },
    "tags": []
   },
   "outputs": [],
   "source": [
    "new.reset_index(inplace=True)"
   ]
  },
  {
   "cell_type": "code",
   "execution_count": 11,
   "id": "152c34fb",
   "metadata": {
    "execution": {
     "iopub.execute_input": "2022-09-30T08:02:40.463108Z",
     "iopub.status.busy": "2022-09-30T08:02:40.462098Z",
     "iopub.status.idle": "2022-09-30T08:02:40.477145Z",
     "shell.execute_reply": "2022-09-30T08:02:40.475837Z"
    },
    "papermill": {
     "duration": 0.033691,
     "end_time": "2022-09-30T08:02:40.479425",
     "exception": false,
     "start_time": "2022-09-30T08:02:40.445734",
     "status": "completed"
    },
    "tags": []
   },
   "outputs": [
    {
     "data": {
      "text/html": [
       "<div>\n",
       "<style scoped>\n",
       "    .dataframe tbody tr th:only-of-type {\n",
       "        vertical-align: middle;\n",
       "    }\n",
       "\n",
       "    .dataframe tbody tr th {\n",
       "        vertical-align: top;\n",
       "    }\n",
       "\n",
       "    .dataframe thead th {\n",
       "        text-align: right;\n",
       "    }\n",
       "</style>\n",
       "<table border=\"1\" class=\"dataframe\">\n",
       "  <thead>\n",
       "    <tr style=\"text-align: right;\">\n",
       "      <th></th>\n",
       "      <th>index</th>\n",
       "      <th>Tweet</th>\n",
       "      <th>Rating (0/1/2)</th>\n",
       "    </tr>\n",
       "  </thead>\n",
       "  <tbody>\n",
       "    <tr>\n",
       "      <th>0</th>\n",
       "      <td>0</td>\n",
       "      <td>@do_kaleh @saki_statement @watch_union Ja, vie...</td>\n",
       "      <td>0.0</td>\n",
       "    </tr>\n",
       "    <tr>\n",
       "      <th>1</th>\n",
       "      <td>1</td>\n",
       "      <td>@gregorgolland scheint sich zu amüsieren. Hat ...</td>\n",
       "      <td>0.0</td>\n",
       "    </tr>\n",
       "    <tr>\n",
       "      <th>2</th>\n",
       "      <td>2</td>\n",
       "      <td>@welt Super, jetzt kann Supersöder mal zeigen ...</td>\n",
       "      <td>1.0</td>\n",
       "    </tr>\n",
       "    <tr>\n",
       "      <th>3</th>\n",
       "      <td>3</td>\n",
       "      <td>Der Kampf gegen den Klimawandel ist aussichtsl...</td>\n",
       "      <td>0.0</td>\n",
       "    </tr>\n",
       "    <tr>\n",
       "      <th>4</th>\n",
       "      <td>4</td>\n",
       "      <td>@ralphruthe @wolliane Wegen einem Riss im Aqua...</td>\n",
       "      <td>1.0</td>\n",
       "    </tr>\n",
       "    <tr>\n",
       "      <th>...</th>\n",
       "      <td>...</td>\n",
       "      <td>...</td>\n",
       "      <td>...</td>\n",
       "    </tr>\n",
       "    <tr>\n",
       "      <th>327</th>\n",
       "      <td>8606</td>\n",
       "      <td>@FrauKreis Weg mit dem Mann. \\nMit @ABaerbock ...</td>\n",
       "      <td>0.0</td>\n",
       "    </tr>\n",
       "    <tr>\n",
       "      <th>328</th>\n",
       "      <td>8607</td>\n",
       "      <td>@virtualtotte Ich spreche nicht davon, dass wi...</td>\n",
       "      <td>0.0</td>\n",
       "    </tr>\n",
       "    <tr>\n",
       "      <th>329</th>\n",
       "      <td>8608</td>\n",
       "      <td>Jetzt sagt sie erstmals #Klima - und fordert e...</td>\n",
       "      <td>1.0</td>\n",
       "    </tr>\n",
       "    <tr>\n",
       "      <th>330</th>\n",
       "      <td>28798</td>\n",
       "      <td>Linksgrüne wieder am zur Schau stellen ihrer I...</td>\n",
       "      <td>2.0</td>\n",
       "    </tr>\n",
       "    <tr>\n",
       "      <th>331</th>\n",
       "      <td>28799</td>\n",
       "      <td>Zum 2. Mal innerhalb von 3 Jahren sind Teile m...</td>\n",
       "      <td>0.0</td>\n",
       "    </tr>\n",
       "  </tbody>\n",
       "</table>\n",
       "<p>332 rows × 3 columns</p>\n",
       "</div>"
      ],
      "text/plain": [
       "     index                                              Tweet  Rating (0/1/2)\n",
       "0        0  @do_kaleh @saki_statement @watch_union Ja, vie...             0.0\n",
       "1        1  @gregorgolland scheint sich zu amüsieren. Hat ...             0.0\n",
       "2        2  @welt Super, jetzt kann Supersöder mal zeigen ...             1.0\n",
       "3        3  Der Kampf gegen den Klimawandel ist aussichtsl...             0.0\n",
       "4        4  @ralphruthe @wolliane Wegen einem Riss im Aqua...             1.0\n",
       "..     ...                                                ...             ...\n",
       "327   8606  @FrauKreis Weg mit dem Mann. \\nMit @ABaerbock ...             0.0\n",
       "328   8607  @virtualtotte Ich spreche nicht davon, dass wi...             0.0\n",
       "329   8608  Jetzt sagt sie erstmals #Klima - und fordert e...             1.0\n",
       "330  28798  Linksgrüne wieder am zur Schau stellen ihrer I...             2.0\n",
       "331  28799  Zum 2. Mal innerhalb von 3 Jahren sind Teile m...             0.0\n",
       "\n",
       "[332 rows x 3 columns]"
      ]
     },
     "execution_count": 11,
     "metadata": {},
     "output_type": "execute_result"
    }
   ],
   "source": [
    "new"
   ]
  },
  {
   "cell_type": "code",
   "execution_count": 12,
   "id": "5fad8988",
   "metadata": {
    "execution": {
     "iopub.execute_input": "2022-09-30T08:02:40.513223Z",
     "iopub.status.busy": "2022-09-30T08:02:40.512193Z",
     "iopub.status.idle": "2022-09-30T08:02:40.517768Z",
     "shell.execute_reply": "2022-09-30T08:02:40.516926Z"
    },
    "papermill": {
     "duration": 0.024432,
     "end_time": "2022-09-30T08:02:40.519837",
     "exception": false,
     "start_time": "2022-09-30T08:02:40.495405",
     "status": "completed"
    },
    "tags": []
   },
   "outputs": [],
   "source": [
    "X_train = new['Tweet'].copy()\n",
    "y_train = new['Rating (0/1/2)'].copy()"
   ]
  },
  {
   "cell_type": "code",
   "execution_count": 13,
   "id": "0f30fc9a",
   "metadata": {
    "execution": {
     "iopub.execute_input": "2022-09-30T08:02:40.553314Z",
     "iopub.status.busy": "2022-09-30T08:02:40.552060Z",
     "iopub.status.idle": "2022-09-30T08:02:40.561643Z",
     "shell.execute_reply": "2022-09-30T08:02:40.560203Z"
    },
    "papermill": {
     "duration": 0.028547,
     "end_time": "2022-09-30T08:02:40.563905",
     "exception": false,
     "start_time": "2022-09-30T08:02:40.535358",
     "status": "completed"
    },
    "tags": []
   },
   "outputs": [
    {
     "data": {
      "text/plain": [
       "0      @do_kaleh @saki_statement @watch_union Ja, vie...\n",
       "1      @gregorgolland scheint sich zu amüsieren. Hat ...\n",
       "2      @welt Super, jetzt kann Supersöder mal zeigen ...\n",
       "3      Der Kampf gegen den Klimawandel ist aussichtsl...\n",
       "4      @ralphruthe @wolliane Wegen einem Riss im Aqua...\n",
       "                             ...                        \n",
       "327    @FrauKreis Weg mit dem Mann. \\nMit @ABaerbock ...\n",
       "328    @virtualtotte Ich spreche nicht davon, dass wi...\n",
       "329    Jetzt sagt sie erstmals #Klima - und fordert e...\n",
       "330    Linksgrüne wieder am zur Schau stellen ihrer I...\n",
       "331    Zum 2. Mal innerhalb von 3 Jahren sind Teile m...\n",
       "Name: Tweet, Length: 332, dtype: object"
      ]
     },
     "execution_count": 13,
     "metadata": {},
     "output_type": "execute_result"
    }
   ],
   "source": [
    "X_train"
   ]
  },
  {
   "cell_type": "code",
   "execution_count": 14,
   "id": "c9f7d6f1",
   "metadata": {
    "execution": {
     "iopub.execute_input": "2022-09-30T08:02:40.596909Z",
     "iopub.status.busy": "2022-09-30T08:02:40.596112Z",
     "iopub.status.idle": "2022-09-30T08:02:41.713320Z",
     "shell.execute_reply": "2022-09-30T08:02:41.712413Z"
    },
    "papermill": {
     "duration": 1.137372,
     "end_time": "2022-09-30T08:02:41.716722",
     "exception": false,
     "start_time": "2022-09-30T08:02:40.579350",
     "status": "completed"
    },
    "tags": []
   },
   "outputs": [],
   "source": [
    "full = pd.read_csv('../input/full-flood/full30.csv', lineterminator = '\\n')"
   ]
  },
  {
   "cell_type": "code",
   "execution_count": 15,
   "id": "11c4f9b8",
   "metadata": {
    "execution": {
     "iopub.execute_input": "2022-09-30T08:02:41.750499Z",
     "iopub.status.busy": "2022-09-30T08:02:41.749620Z",
     "iopub.status.idle": "2022-09-30T08:02:41.765085Z",
     "shell.execute_reply": "2022-09-30T08:02:41.764099Z"
    },
    "papermill": {
     "duration": 0.03488,
     "end_time": "2022-09-30T08:02:41.767266",
     "exception": false,
     "start_time": "2022-09-30T08:02:41.732386",
     "status": "completed"
    },
    "tags": []
   },
   "outputs": [
    {
     "data": {
      "text/html": [
       "<div>\n",
       "<style scoped>\n",
       "    .dataframe tbody tr th:only-of-type {\n",
       "        vertical-align: middle;\n",
       "    }\n",
       "\n",
       "    .dataframe tbody tr th {\n",
       "        vertical-align: top;\n",
       "    }\n",
       "\n",
       "    .dataframe thead th {\n",
       "        text-align: right;\n",
       "    }\n",
       "</style>\n",
       "<table border=\"1\" class=\"dataframe\">\n",
       "  <thead>\n",
       "    <tr style=\"text-align: right;\">\n",
       "      <th></th>\n",
       "      <th>Unnamed: 0</th>\n",
       "      <th>date</th>\n",
       "      <th>User</th>\n",
       "      <th>Tweet</th>\n",
       "    </tr>\n",
       "  </thead>\n",
       "  <tbody>\n",
       "    <tr>\n",
       "      <th>0</th>\n",
       "      <td>0</td>\n",
       "      <td>2021-07-29 23:58:48+00:00</td>\n",
       "      <td>Porticus2</td>\n",
       "      <td>Bevor Herr @MarkusSöder solches Klima-Trallala...</td>\n",
       "    </tr>\n",
       "    <tr>\n",
       "      <th>1</th>\n",
       "      <td>1</td>\n",
       "      <td>2021-07-29 23:57:38+00:00</td>\n",
       "      <td>watch_union</td>\n",
       "      <td>Der Vorstandsvorsitzende von #VW zerstört bei ...</td>\n",
       "    </tr>\n",
       "    <tr>\n",
       "      <th>2</th>\n",
       "      <td>2</td>\n",
       "      <td>2021-07-29 23:56:57+00:00</td>\n",
       "      <td>NiklasCcr</td>\n",
       "      <td>@raichubvb Klimawandel. Die Menschen müssen en...</td>\n",
       "    </tr>\n",
       "    <tr>\n",
       "      <th>3</th>\n",
       "      <td>3</td>\n",
       "      <td>2021-07-29 23:53:53+00:00</td>\n",
       "      <td>SvenPhenix</td>\n",
       "      <td>Jetzt in einer Zeit voller Krisen: #COVID19, #...</td>\n",
       "    </tr>\n",
       "    <tr>\n",
       "      <th>4</th>\n",
       "      <td>4</td>\n",
       "      <td>2021-07-29 23:52:19+00:00</td>\n",
       "      <td>brokenspirits</td>\n",
       "      <td>Und nochmal etwas weitergedacht: Während hier ...</td>\n",
       "    </tr>\n",
       "    <tr>\n",
       "      <th>...</th>\n",
       "      <td>...</td>\n",
       "      <td>...</td>\n",
       "      <td>...</td>\n",
       "      <td>...</td>\n",
       "    </tr>\n",
       "    <tr>\n",
       "      <th>118724</th>\n",
       "      <td>118724</td>\n",
       "      <td>2021-07-01 00:09:08+00:00</td>\n",
       "      <td>SenorTenor</td>\n",
       "      <td>@nukeman11859765 @DerClue @VeroWendland @fwies...</td>\n",
       "    </tr>\n",
       "    <tr>\n",
       "      <th>118725</th>\n",
       "      <td>118725</td>\n",
       "      <td>2021-07-01 00:07:01+00:00</td>\n",
       "      <td>f_talmon</td>\n",
       "      <td>Nur wenn es gelingt den #Klimawandel zu stoppe...</td>\n",
       "    </tr>\n",
       "    <tr>\n",
       "      <th>118726</th>\n",
       "      <td>118726</td>\n",
       "      <td>2021-07-01 00:06:29+00:00</td>\n",
       "      <td>RRMeyer2</td>\n",
       "      <td>@SenorTenor @MoormannRainer @amardeo @DerClue ...</td>\n",
       "    </tr>\n",
       "    <tr>\n",
       "      <th>118727</th>\n",
       "      <td>118727</td>\n",
       "      <td>2021-07-01 00:03:50+00:00</td>\n",
       "      <td>SenorTenor</td>\n",
       "      <td>@MoormannRainer @DerClue @VeroWendland @fwiesc...</td>\n",
       "    </tr>\n",
       "    <tr>\n",
       "      <th>118728</th>\n",
       "      <td>118728</td>\n",
       "      <td>2021-07-01 00:01:23+00:00</td>\n",
       "      <td>SenorTenor</td>\n",
       "      <td>@MoormannRainer @DerClue @VeroWendland @fwiesc...</td>\n",
       "    </tr>\n",
       "  </tbody>\n",
       "</table>\n",
       "<p>118729 rows × 4 columns</p>\n",
       "</div>"
      ],
      "text/plain": [
       "        Unnamed: 0                       date           User  \\\n",
       "0                0  2021-07-29 23:58:48+00:00      Porticus2   \n",
       "1                1  2021-07-29 23:57:38+00:00    watch_union   \n",
       "2                2  2021-07-29 23:56:57+00:00      NiklasCcr   \n",
       "3                3  2021-07-29 23:53:53+00:00     SvenPhenix   \n",
       "4                4  2021-07-29 23:52:19+00:00  brokenspirits   \n",
       "...            ...                        ...            ...   \n",
       "118724      118724  2021-07-01 00:09:08+00:00     SenorTenor   \n",
       "118725      118725  2021-07-01 00:07:01+00:00       f_talmon   \n",
       "118726      118726  2021-07-01 00:06:29+00:00       RRMeyer2   \n",
       "118727      118727  2021-07-01 00:03:50+00:00     SenorTenor   \n",
       "118728      118728  2021-07-01 00:01:23+00:00     SenorTenor   \n",
       "\n",
       "                                                    Tweet  \n",
       "0       Bevor Herr @MarkusSöder solches Klima-Trallala...  \n",
       "1       Der Vorstandsvorsitzende von #VW zerstört bei ...  \n",
       "2       @raichubvb Klimawandel. Die Menschen müssen en...  \n",
       "3       Jetzt in einer Zeit voller Krisen: #COVID19, #...  \n",
       "4       Und nochmal etwas weitergedacht: Während hier ...  \n",
       "...                                                   ...  \n",
       "118724  @nukeman11859765 @DerClue @VeroWendland @fwies...  \n",
       "118725  Nur wenn es gelingt den #Klimawandel zu stoppe...  \n",
       "118726  @SenorTenor @MoormannRainer @amardeo @DerClue ...  \n",
       "118727  @MoormannRainer @DerClue @VeroWendland @fwiesc...  \n",
       "118728  @MoormannRainer @DerClue @VeroWendland @fwiesc...  \n",
       "\n",
       "[118729 rows x 4 columns]"
      ]
     },
     "execution_count": 15,
     "metadata": {},
     "output_type": "execute_result"
    }
   ],
   "source": [
    "full"
   ]
  },
  {
   "cell_type": "code",
   "execution_count": 16,
   "id": "a44cdbe2",
   "metadata": {
    "execution": {
     "iopub.execute_input": "2022-09-30T08:02:41.801545Z",
     "iopub.status.busy": "2022-09-30T08:02:41.800746Z",
     "iopub.status.idle": "2022-09-30T08:02:41.810409Z",
     "shell.execute_reply": "2022-09-30T08:02:41.809185Z"
    },
    "papermill": {
     "duration": 0.03014,
     "end_time": "2022-09-30T08:02:41.813273",
     "exception": false,
     "start_time": "2022-09-30T08:02:41.783133",
     "status": "completed"
    },
    "tags": []
   },
   "outputs": [],
   "source": [
    "X_predict=full.copy()"
   ]
  },
  {
   "cell_type": "code",
   "execution_count": null,
   "id": "2dea62bc",
   "metadata": {
    "papermill": {
     "duration": 0.016305,
     "end_time": "2022-09-30T08:02:41.845500",
     "exception": false,
     "start_time": "2022-09-30T08:02:41.829195",
     "status": "completed"
    },
    "tags": []
   },
   "outputs": [],
   "source": []
  },
  {
   "cell_type": "code",
   "execution_count": 17,
   "id": "a74c0f65",
   "metadata": {
    "execution": {
     "iopub.execute_input": "2022-09-30T08:02:41.879878Z",
     "iopub.status.busy": "2022-09-30T08:02:41.878620Z",
     "iopub.status.idle": "2022-09-30T08:02:48.303221Z",
     "shell.execute_reply": "2022-09-30T08:02:48.302068Z"
    },
    "papermill": {
     "duration": 6.444548,
     "end_time": "2022-09-30T08:02:48.305968",
     "exception": false,
     "start_time": "2022-09-30T08:02:41.861420",
     "status": "completed"
    },
    "tags": []
   },
   "outputs": [],
   "source": [
    "import re\n",
    "import spacy\n",
    "nlp = spacy.load('de_core_news_md')\n",
    "corpus = []\n",
    "for i in range(0, len(new)):\n",
    "    tweet = re.sub('@|,|#|;|:|\\n', '', X_train[i])\n",
    "    tweet = re.sub('\\.',' ',tweet)\n",
    "    doc=nlp(tweet)\n",
    "    result = ' '.join([x.lemma_ for x in doc]) \n",
    "    corpus.append(result)"
   ]
  },
  {
   "cell_type": "code",
   "execution_count": 18,
   "id": "0267a65f",
   "metadata": {
    "execution": {
     "iopub.execute_input": "2022-09-30T08:02:48.340171Z",
     "iopub.status.busy": "2022-09-30T08:02:48.339739Z",
     "iopub.status.idle": "2022-09-30T08:02:48.348656Z",
     "shell.execute_reply": "2022-09-30T08:02:48.347359Z"
    },
    "papermill": {
     "duration": 0.02929,
     "end_time": "2022-09-30T08:02:48.351213",
     "exception": false,
     "start_time": "2022-09-30T08:02:48.321923",
     "status": "completed"
    },
    "tags": []
   },
   "outputs": [
    {
     "data": {
      "text/plain": [
       "0      @do_kaleh @saki_statement @watch_union Ja, vie...\n",
       "1      @gregorgolland scheint sich zu amüsieren. Hat ...\n",
       "2      @welt Super, jetzt kann Supersöder mal zeigen ...\n",
       "3      Der Kampf gegen den Klimawandel ist aussichtsl...\n",
       "4      @ralphruthe @wolliane Wegen einem Riss im Aqua...\n",
       "                             ...                        \n",
       "327    @FrauKreis Weg mit dem Mann. \\nMit @ABaerbock ...\n",
       "328    @virtualtotte Ich spreche nicht davon, dass wi...\n",
       "329    Jetzt sagt sie erstmals #Klima - und fordert e...\n",
       "330    Linksgrüne wieder am zur Schau stellen ihrer I...\n",
       "331    Zum 2. Mal innerhalb von 3 Jahren sind Teile m...\n",
       "Name: Tweet, Length: 332, dtype: object"
      ]
     },
     "execution_count": 18,
     "metadata": {},
     "output_type": "execute_result"
    }
   ],
   "source": [
    "X_train"
   ]
  },
  {
   "cell_type": "code",
   "execution_count": 19,
   "id": "d0ab26bb",
   "metadata": {
    "execution": {
     "iopub.execute_input": "2022-09-30T08:02:48.386571Z",
     "iopub.status.busy": "2022-09-30T08:02:48.385495Z",
     "iopub.status.idle": "2022-09-30T08:02:48.393365Z",
     "shell.execute_reply": "2022-09-30T08:02:48.392252Z"
    },
    "papermill": {
     "duration": 0.02816,
     "end_time": "2022-09-30T08:02:48.395759",
     "exception": false,
     "start_time": "2022-09-30T08:02:48.367599",
     "status": "completed"
    },
    "tags": []
   },
   "outputs": [
    {
     "data": {
      "text/plain": [
       "['do_kaleh saki_statement watch_union Ja vieler Mensch sein m d   Werbespruch -- Fleisch sein ein Stück Lebenskraft -- aufwachsen      u   saki_statement sein sonst eigentl   mehr ironisch -- witzig     hier können ich der nicht erkennen   anderer Lebewesen -- ohne Not -- zu essen -- plus Klimawandel -- der sein gestrig nicht witzig',\n",
       " 'Gregorgolland scheinen sich zu amüsieren   haben er doch selbst schon Million von europäisch Hauptverursacher der Klimakrise dafür bekommen sein Wähler zu verraten   der paar tote in eigen Wahlkreis vermiesen ihm da doch nicht der Laune   https//t co -- 5nSk6D7Ki7',\n",
       " 'Welt Super jetzt können Supersöder mal zeigen was er können      Klima    Wetter -- was nu --',\n",
       " 'der Kampf gegen der Klimawandel sein aussichtslos   wenn es nicht gelingen Afrika und Asien in Boot zu holen es sein nett wenn Österreich und Norwegen auf Elektro Auto umsteigen gleichzeitig schlägern hundert Million Afrikaner Baum weil sie Essen kochen wollen',\n",
       " 'Ralphruthe wollian wegen ein Riss in Aquarium ändern man doch nicht sein Politik -- frei nach LaschetDarfNichtKanzlerWerde Klimakatastrophe klimakris']"
      ]
     },
     "execution_count": 19,
     "metadata": {},
     "output_type": "execute_result"
    }
   ],
   "source": [
    "corpus[:5]"
   ]
  },
  {
   "cell_type": "code",
   "execution_count": 20,
   "id": "56e8b0f0",
   "metadata": {
    "execution": {
     "iopub.execute_input": "2022-09-30T08:02:48.432208Z",
     "iopub.status.busy": "2022-09-30T08:02:48.430865Z",
     "iopub.status.idle": "2022-09-30T08:02:51.643396Z",
     "shell.execute_reply": "2022-09-30T08:02:51.642280Z"
    },
    "papermill": {
     "duration": 3.234093,
     "end_time": "2022-09-30T08:02:51.646283",
     "exception": false,
     "start_time": "2022-09-30T08:02:48.412190",
     "status": "completed"
    },
    "tags": []
   },
   "outputs": [],
   "source": [
    "from sklearn.feature_extraction.text import TfidfVectorizer\n",
    "vectorizer=TfidfVectorizer()\n",
    "X_train=vectorizer.fit_transform(corpus)\n",
    "X_predict=vectorizer.transform(X_predict['Tweet'])"
   ]
  },
  {
   "cell_type": "code",
   "execution_count": 21,
   "id": "b249a701",
   "metadata": {
    "execution": {
     "iopub.execute_input": "2022-09-30T08:02:51.681519Z",
     "iopub.status.busy": "2022-09-30T08:02:51.681107Z",
     "iopub.status.idle": "2022-09-30T08:02:51.688986Z",
     "shell.execute_reply": "2022-09-30T08:02:51.687585Z"
    },
    "papermill": {
     "duration": 0.028193,
     "end_time": "2022-09-30T08:02:51.691353",
     "exception": false,
     "start_time": "2022-09-30T08:02:51.663160",
     "status": "completed"
    },
    "tags": []
   },
   "outputs": [
    {
     "data": {
      "text/plain": [
       "(332, 2736)"
      ]
     },
     "execution_count": 21,
     "metadata": {},
     "output_type": "execute_result"
    }
   ],
   "source": [
    "X_train.shape"
   ]
  },
  {
   "cell_type": "code",
   "execution_count": 22,
   "id": "a244c5a4",
   "metadata": {
    "execution": {
     "iopub.execute_input": "2022-09-30T08:02:51.726699Z",
     "iopub.status.busy": "2022-09-30T08:02:51.725852Z",
     "iopub.status.idle": "2022-09-30T08:02:51.733319Z",
     "shell.execute_reply": "2022-09-30T08:02:51.732069Z"
    },
    "papermill": {
     "duration": 0.027993,
     "end_time": "2022-09-30T08:02:51.735645",
     "exception": false,
     "start_time": "2022-09-30T08:02:51.707652",
     "status": "completed"
    },
    "tags": []
   },
   "outputs": [
    {
     "data": {
      "text/plain": [
       "<118729x2736 sparse matrix of type '<class 'numpy.float64'>'\n",
       "\twith 1743757 stored elements in Compressed Sparse Row format>"
      ]
     },
     "execution_count": 22,
     "metadata": {},
     "output_type": "execute_result"
    }
   ],
   "source": [
    "X_predict"
   ]
  },
  {
   "cell_type": "code",
   "execution_count": 23,
   "id": "d9b9fd2f",
   "metadata": {
    "execution": {
     "iopub.execute_input": "2022-09-30T08:02:51.771496Z",
     "iopub.status.busy": "2022-09-30T08:02:51.771083Z",
     "iopub.status.idle": "2022-09-30T08:02:51.960105Z",
     "shell.execute_reply": "2022-09-30T08:02:51.958883Z"
    },
    "papermill": {
     "duration": 0.209902,
     "end_time": "2022-09-30T08:02:51.962556",
     "exception": false,
     "start_time": "2022-09-30T08:02:51.752654",
     "status": "completed"
    },
    "tags": []
   },
   "outputs": [
    {
     "data": {
      "text/plain": [
       "SVC(C=100, kernel='linear')"
      ]
     },
     "execution_count": 23,
     "metadata": {},
     "output_type": "execute_result"
    }
   ],
   "source": [
    "from sklearn import svm\n",
    "svm_classifier=svm.SVC(kernel='linear',C=100)\n",
    "svm_classifier.fit(X_train,y_train)"
   ]
  },
  {
   "cell_type": "code",
   "execution_count": 24,
   "id": "c0471f08",
   "metadata": {
    "execution": {
     "iopub.execute_input": "2022-09-30T08:02:51.997380Z",
     "iopub.status.busy": "2022-09-30T08:02:51.996952Z",
     "iopub.status.idle": "2022-09-30T08:03:00.196080Z",
     "shell.execute_reply": "2022-09-30T08:03:00.194929Z"
    },
    "papermill": {
     "duration": 8.219763,
     "end_time": "2022-09-30T08:03:00.198805",
     "exception": false,
     "start_time": "2022-09-30T08:02:51.979042",
     "status": "completed"
    },
    "tags": []
   },
   "outputs": [],
   "source": [
    "predictions = svm_classifier.predict(X_predict)"
   ]
  },
  {
   "cell_type": "code",
   "execution_count": 25,
   "id": "24c3f97d",
   "metadata": {
    "execution": {
     "iopub.execute_input": "2022-09-30T08:03:00.234430Z",
     "iopub.status.busy": "2022-09-30T08:03:00.233979Z",
     "iopub.status.idle": "2022-09-30T08:03:00.240282Z",
     "shell.execute_reply": "2022-09-30T08:03:00.239269Z"
    },
    "papermill": {
     "duration": 0.026687,
     "end_time": "2022-09-30T08:03:00.242393",
     "exception": false,
     "start_time": "2022-09-30T08:03:00.215706",
     "status": "completed"
    },
    "tags": []
   },
   "outputs": [],
   "source": [
    "full['Rating (0/1/2) ']=predictions"
   ]
  },
  {
   "cell_type": "code",
   "execution_count": 26,
   "id": "db5f4b89",
   "metadata": {
    "execution": {
     "iopub.execute_input": "2022-09-30T08:03:00.276960Z",
     "iopub.status.busy": "2022-09-30T08:03:00.276486Z",
     "iopub.status.idle": "2022-09-30T08:03:00.293870Z",
     "shell.execute_reply": "2022-09-30T08:03:00.292649Z"
    },
    "papermill": {
     "duration": 0.037412,
     "end_time": "2022-09-30T08:03:00.296194",
     "exception": false,
     "start_time": "2022-09-30T08:03:00.258782",
     "status": "completed"
    },
    "tags": []
   },
   "outputs": [
    {
     "data": {
      "text/html": [
       "<div>\n",
       "<style scoped>\n",
       "    .dataframe tbody tr th:only-of-type {\n",
       "        vertical-align: middle;\n",
       "    }\n",
       "\n",
       "    .dataframe tbody tr th {\n",
       "        vertical-align: top;\n",
       "    }\n",
       "\n",
       "    .dataframe thead th {\n",
       "        text-align: right;\n",
       "    }\n",
       "</style>\n",
       "<table border=\"1\" class=\"dataframe\">\n",
       "  <thead>\n",
       "    <tr style=\"text-align: right;\">\n",
       "      <th></th>\n",
       "      <th>Unnamed: 0</th>\n",
       "      <th>date</th>\n",
       "      <th>User</th>\n",
       "      <th>Tweet</th>\n",
       "      <th>Rating (0/1/2)</th>\n",
       "    </tr>\n",
       "  </thead>\n",
       "  <tbody>\n",
       "    <tr>\n",
       "      <th>0</th>\n",
       "      <td>0</td>\n",
       "      <td>2021-07-29 23:58:48+00:00</td>\n",
       "      <td>Porticus2</td>\n",
       "      <td>Bevor Herr @MarkusSöder solches Klima-Trallala...</td>\n",
       "      <td>1.0</td>\n",
       "    </tr>\n",
       "    <tr>\n",
       "      <th>1</th>\n",
       "      <td>1</td>\n",
       "      <td>2021-07-29 23:57:38+00:00</td>\n",
       "      <td>watch_union</td>\n",
       "      <td>Der Vorstandsvorsitzende von #VW zerstört bei ...</td>\n",
       "      <td>0.0</td>\n",
       "    </tr>\n",
       "    <tr>\n",
       "      <th>2</th>\n",
       "      <td>2</td>\n",
       "      <td>2021-07-29 23:56:57+00:00</td>\n",
       "      <td>NiklasCcr</td>\n",
       "      <td>@raichubvb Klimawandel. Die Menschen müssen en...</td>\n",
       "      <td>0.0</td>\n",
       "    </tr>\n",
       "    <tr>\n",
       "      <th>3</th>\n",
       "      <td>3</td>\n",
       "      <td>2021-07-29 23:53:53+00:00</td>\n",
       "      <td>SvenPhenix</td>\n",
       "      <td>Jetzt in einer Zeit voller Krisen: #COVID19, #...</td>\n",
       "      <td>0.0</td>\n",
       "    </tr>\n",
       "    <tr>\n",
       "      <th>4</th>\n",
       "      <td>4</td>\n",
       "      <td>2021-07-29 23:52:19+00:00</td>\n",
       "      <td>brokenspirits</td>\n",
       "      <td>Und nochmal etwas weitergedacht: Während hier ...</td>\n",
       "      <td>0.0</td>\n",
       "    </tr>\n",
       "    <tr>\n",
       "      <th>...</th>\n",
       "      <td>...</td>\n",
       "      <td>...</td>\n",
       "      <td>...</td>\n",
       "      <td>...</td>\n",
       "      <td>...</td>\n",
       "    </tr>\n",
       "    <tr>\n",
       "      <th>118724</th>\n",
       "      <td>118724</td>\n",
       "      <td>2021-07-01 00:09:08+00:00</td>\n",
       "      <td>SenorTenor</td>\n",
       "      <td>@nukeman11859765 @DerClue @VeroWendland @fwies...</td>\n",
       "      <td>1.0</td>\n",
       "    </tr>\n",
       "    <tr>\n",
       "      <th>118725</th>\n",
       "      <td>118725</td>\n",
       "      <td>2021-07-01 00:07:01+00:00</td>\n",
       "      <td>f_talmon</td>\n",
       "      <td>Nur wenn es gelingt den #Klimawandel zu stoppe...</td>\n",
       "      <td>0.0</td>\n",
       "    </tr>\n",
       "    <tr>\n",
       "      <th>118726</th>\n",
       "      <td>118726</td>\n",
       "      <td>2021-07-01 00:06:29+00:00</td>\n",
       "      <td>RRMeyer2</td>\n",
       "      <td>@SenorTenor @MoormannRainer @amardeo @DerClue ...</td>\n",
       "      <td>0.0</td>\n",
       "    </tr>\n",
       "    <tr>\n",
       "      <th>118727</th>\n",
       "      <td>118727</td>\n",
       "      <td>2021-07-01 00:03:50+00:00</td>\n",
       "      <td>SenorTenor</td>\n",
       "      <td>@MoormannRainer @DerClue @VeroWendland @fwiesc...</td>\n",
       "      <td>0.0</td>\n",
       "    </tr>\n",
       "    <tr>\n",
       "      <th>118728</th>\n",
       "      <td>118728</td>\n",
       "      <td>2021-07-01 00:01:23+00:00</td>\n",
       "      <td>SenorTenor</td>\n",
       "      <td>@MoormannRainer @DerClue @VeroWendland @fwiesc...</td>\n",
       "      <td>0.0</td>\n",
       "    </tr>\n",
       "  </tbody>\n",
       "</table>\n",
       "<p>118729 rows × 5 columns</p>\n",
       "</div>"
      ],
      "text/plain": [
       "        Unnamed: 0                       date           User  \\\n",
       "0                0  2021-07-29 23:58:48+00:00      Porticus2   \n",
       "1                1  2021-07-29 23:57:38+00:00    watch_union   \n",
       "2                2  2021-07-29 23:56:57+00:00      NiklasCcr   \n",
       "3                3  2021-07-29 23:53:53+00:00     SvenPhenix   \n",
       "4                4  2021-07-29 23:52:19+00:00  brokenspirits   \n",
       "...            ...                        ...            ...   \n",
       "118724      118724  2021-07-01 00:09:08+00:00     SenorTenor   \n",
       "118725      118725  2021-07-01 00:07:01+00:00       f_talmon   \n",
       "118726      118726  2021-07-01 00:06:29+00:00       RRMeyer2   \n",
       "118727      118727  2021-07-01 00:03:50+00:00     SenorTenor   \n",
       "118728      118728  2021-07-01 00:01:23+00:00     SenorTenor   \n",
       "\n",
       "                                                    Tweet  Rating (0/1/2)   \n",
       "0       Bevor Herr @MarkusSöder solches Klima-Trallala...              1.0  \n",
       "1       Der Vorstandsvorsitzende von #VW zerstört bei ...              0.0  \n",
       "2       @raichubvb Klimawandel. Die Menschen müssen en...              0.0  \n",
       "3       Jetzt in einer Zeit voller Krisen: #COVID19, #...              0.0  \n",
       "4       Und nochmal etwas weitergedacht: Während hier ...              0.0  \n",
       "...                                                   ...              ...  \n",
       "118724  @nukeman11859765 @DerClue @VeroWendland @fwies...              1.0  \n",
       "118725  Nur wenn es gelingt den #Klimawandel zu stoppe...              0.0  \n",
       "118726  @SenorTenor @MoormannRainer @amardeo @DerClue ...              0.0  \n",
       "118727  @MoormannRainer @DerClue @VeroWendland @fwiesc...              0.0  \n",
       "118728  @MoormannRainer @DerClue @VeroWendland @fwiesc...              0.0  \n",
       "\n",
       "[118729 rows x 5 columns]"
      ]
     },
     "execution_count": 26,
     "metadata": {},
     "output_type": "execute_result"
    }
   ],
   "source": [
    "full"
   ]
  },
  {
   "cell_type": "code",
   "execution_count": 27,
   "id": "89adf141",
   "metadata": {
    "execution": {
     "iopub.execute_input": "2022-09-30T08:03:00.331379Z",
     "iopub.status.busy": "2022-09-30T08:03:00.330917Z",
     "iopub.status.idle": "2022-09-30T08:03:01.048115Z",
     "shell.execute_reply": "2022-09-30T08:03:01.046982Z"
    },
    "papermill": {
     "duration": 0.737886,
     "end_time": "2022-09-30T08:03:01.050748",
     "exception": false,
     "start_time": "2022-09-30T08:03:00.312862",
     "status": "completed"
    },
    "tags": []
   },
   "outputs": [],
   "source": [
    "from datetime import datetime\n",
    "full['date']=pd.to_datetime(full['date'])\n",
    "full['date']= full['date'].apply(lambda x: x.strftime('%Y-%m-%d'))"
   ]
  },
  {
   "cell_type": "code",
   "execution_count": 28,
   "id": "77acd05d",
   "metadata": {
    "execution": {
     "iopub.execute_input": "2022-09-30T08:03:01.087491Z",
     "iopub.status.busy": "2022-09-30T08:03:01.086375Z",
     "iopub.status.idle": "2022-09-30T08:03:01.115453Z",
     "shell.execute_reply": "2022-09-30T08:03:01.114379Z"
    },
    "papermill": {
     "duration": 0.049991,
     "end_time": "2022-09-30T08:03:01.118067",
     "exception": false,
     "start_time": "2022-09-30T08:03:01.068076",
     "status": "completed"
    },
    "tags": []
   },
   "outputs": [],
   "source": [
    "full_pre = full[full['date']<='2021-07-13']"
   ]
  },
  {
   "cell_type": "code",
   "execution_count": 29,
   "id": "95fc056e",
   "metadata": {
    "execution": {
     "iopub.execute_input": "2022-09-30T08:03:01.153578Z",
     "iopub.status.busy": "2022-09-30T08:03:01.152845Z",
     "iopub.status.idle": "2022-09-30T08:03:01.169479Z",
     "shell.execute_reply": "2022-09-30T08:03:01.168155Z"
    },
    "papermill": {
     "duration": 0.036996,
     "end_time": "2022-09-30T08:03:01.171834",
     "exception": false,
     "start_time": "2022-09-30T08:03:01.134838",
     "status": "completed"
    },
    "tags": []
   },
   "outputs": [
    {
     "data": {
      "text/html": [
       "<div>\n",
       "<style scoped>\n",
       "    .dataframe tbody tr th:only-of-type {\n",
       "        vertical-align: middle;\n",
       "    }\n",
       "\n",
       "    .dataframe tbody tr th {\n",
       "        vertical-align: top;\n",
       "    }\n",
       "\n",
       "    .dataframe thead th {\n",
       "        text-align: right;\n",
       "    }\n",
       "</style>\n",
       "<table border=\"1\" class=\"dataframe\">\n",
       "  <thead>\n",
       "    <tr style=\"text-align: right;\">\n",
       "      <th></th>\n",
       "      <th>Unnamed: 0</th>\n",
       "      <th>date</th>\n",
       "      <th>User</th>\n",
       "      <th>Tweet</th>\n",
       "      <th>Rating (0/1/2)</th>\n",
       "    </tr>\n",
       "  </thead>\n",
       "  <tbody>\n",
       "    <tr>\n",
       "      <th>80954</th>\n",
       "      <td>80954</td>\n",
       "      <td>2021-07-13</td>\n",
       "      <td>Arminirma1Armin</td>\n",
       "      <td>@BPsteinmueller Die USA ist uns durch Bidens T...</td>\n",
       "      <td>0.0</td>\n",
       "    </tr>\n",
       "    <tr>\n",
       "      <th>80955</th>\n",
       "      <td>80955</td>\n",
       "      <td>2021-07-13</td>\n",
       "      <td>nfdampf</td>\n",
       "      <td>Pandemie, Klimakrise, Artensterben, Ausbeutung...</td>\n",
       "      <td>0.0</td>\n",
       "    </tr>\n",
       "    <tr>\n",
       "      <th>80956</th>\n",
       "      <td>80956</td>\n",
       "      <td>2021-07-13</td>\n",
       "      <td>MEPilarczyk</td>\n",
       "      <td>Und solch ein extrem arroganter WischiWaschi -...</td>\n",
       "      <td>0.0</td>\n",
       "    </tr>\n",
       "    <tr>\n",
       "      <th>80957</th>\n",
       "      <td>80957</td>\n",
       "      <td>2021-07-13</td>\n",
       "      <td>megatrendy</td>\n",
       "      <td>ich nehme jetzt an, dass sich die Herren Rösti...</td>\n",
       "      <td>0.0</td>\n",
       "    </tr>\n",
       "    <tr>\n",
       "      <th>80958</th>\n",
       "      <td>80958</td>\n",
       "      <td>2021-07-13</td>\n",
       "      <td>FFFLeipzig</td>\n",
       "      <td>+++ Übersicht der nächsten Aktionen +++\\n\\nIn ...</td>\n",
       "      <td>0.0</td>\n",
       "    </tr>\n",
       "    <tr>\n",
       "      <th>...</th>\n",
       "      <td>...</td>\n",
       "      <td>...</td>\n",
       "      <td>...</td>\n",
       "      <td>...</td>\n",
       "      <td>...</td>\n",
       "    </tr>\n",
       "    <tr>\n",
       "      <th>118724</th>\n",
       "      <td>118724</td>\n",
       "      <td>2021-07-01</td>\n",
       "      <td>SenorTenor</td>\n",
       "      <td>@nukeman11859765 @DerClue @VeroWendland @fwies...</td>\n",
       "      <td>1.0</td>\n",
       "    </tr>\n",
       "    <tr>\n",
       "      <th>118725</th>\n",
       "      <td>118725</td>\n",
       "      <td>2021-07-01</td>\n",
       "      <td>f_talmon</td>\n",
       "      <td>Nur wenn es gelingt den #Klimawandel zu stoppe...</td>\n",
       "      <td>0.0</td>\n",
       "    </tr>\n",
       "    <tr>\n",
       "      <th>118726</th>\n",
       "      <td>118726</td>\n",
       "      <td>2021-07-01</td>\n",
       "      <td>RRMeyer2</td>\n",
       "      <td>@SenorTenor @MoormannRainer @amardeo @DerClue ...</td>\n",
       "      <td>0.0</td>\n",
       "    </tr>\n",
       "    <tr>\n",
       "      <th>118727</th>\n",
       "      <td>118727</td>\n",
       "      <td>2021-07-01</td>\n",
       "      <td>SenorTenor</td>\n",
       "      <td>@MoormannRainer @DerClue @VeroWendland @fwiesc...</td>\n",
       "      <td>0.0</td>\n",
       "    </tr>\n",
       "    <tr>\n",
       "      <th>118728</th>\n",
       "      <td>118728</td>\n",
       "      <td>2021-07-01</td>\n",
       "      <td>SenorTenor</td>\n",
       "      <td>@MoormannRainer @DerClue @VeroWendland @fwiesc...</td>\n",
       "      <td>0.0</td>\n",
       "    </tr>\n",
       "  </tbody>\n",
       "</table>\n",
       "<p>37775 rows × 5 columns</p>\n",
       "</div>"
      ],
      "text/plain": [
       "        Unnamed: 0        date             User  \\\n",
       "80954        80954  2021-07-13  Arminirma1Armin   \n",
       "80955        80955  2021-07-13          nfdampf   \n",
       "80956        80956  2021-07-13      MEPilarczyk   \n",
       "80957        80957  2021-07-13       megatrendy   \n",
       "80958        80958  2021-07-13       FFFLeipzig   \n",
       "...            ...         ...              ...   \n",
       "118724      118724  2021-07-01       SenorTenor   \n",
       "118725      118725  2021-07-01         f_talmon   \n",
       "118726      118726  2021-07-01         RRMeyer2   \n",
       "118727      118727  2021-07-01       SenorTenor   \n",
       "118728      118728  2021-07-01       SenorTenor   \n",
       "\n",
       "                                                    Tweet  Rating (0/1/2)   \n",
       "80954   @BPsteinmueller Die USA ist uns durch Bidens T...              0.0  \n",
       "80955   Pandemie, Klimakrise, Artensterben, Ausbeutung...              0.0  \n",
       "80956   Und solch ein extrem arroganter WischiWaschi -...              0.0  \n",
       "80957   ich nehme jetzt an, dass sich die Herren Rösti...              0.0  \n",
       "80958   +++ Übersicht der nächsten Aktionen +++\\n\\nIn ...              0.0  \n",
       "...                                                   ...              ...  \n",
       "118724  @nukeman11859765 @DerClue @VeroWendland @fwies...              1.0  \n",
       "118725  Nur wenn es gelingt den #Klimawandel zu stoppe...              0.0  \n",
       "118726  @SenorTenor @MoormannRainer @amardeo @DerClue ...              0.0  \n",
       "118727  @MoormannRainer @DerClue @VeroWendland @fwiesc...              0.0  \n",
       "118728  @MoormannRainer @DerClue @VeroWendland @fwiesc...              0.0  \n",
       "\n",
       "[37775 rows x 5 columns]"
      ]
     },
     "execution_count": 29,
     "metadata": {},
     "output_type": "execute_result"
    }
   ],
   "source": [
    "full_pre"
   ]
  },
  {
   "cell_type": "code",
   "execution_count": 30,
   "id": "33de1c5f",
   "metadata": {
    "execution": {
     "iopub.execute_input": "2022-09-30T08:03:01.208481Z",
     "iopub.status.busy": "2022-09-30T08:03:01.208090Z",
     "iopub.status.idle": "2022-09-30T08:03:01.227429Z",
     "shell.execute_reply": "2022-09-30T08:03:01.226104Z"
    },
    "papermill": {
     "duration": 0.041569,
     "end_time": "2022-09-30T08:03:01.230420",
     "exception": false,
     "start_time": "2022-09-30T08:03:01.188851",
     "status": "completed"
    },
    "tags": []
   },
   "outputs": [],
   "source": [
    "full_post = full[full['date']>'2021-07-13']"
   ]
  },
  {
   "cell_type": "code",
   "execution_count": 31,
   "id": "d1b23a04",
   "metadata": {
    "execution": {
     "iopub.execute_input": "2022-09-30T08:03:01.266226Z",
     "iopub.status.busy": "2022-09-30T08:03:01.265806Z",
     "iopub.status.idle": "2022-09-30T08:03:01.282626Z",
     "shell.execute_reply": "2022-09-30T08:03:01.281735Z"
    },
    "papermill": {
     "duration": 0.03718,
     "end_time": "2022-09-30T08:03:01.284682",
     "exception": false,
     "start_time": "2022-09-30T08:03:01.247502",
     "status": "completed"
    },
    "tags": []
   },
   "outputs": [
    {
     "data": {
      "text/html": [
       "<div>\n",
       "<style scoped>\n",
       "    .dataframe tbody tr th:only-of-type {\n",
       "        vertical-align: middle;\n",
       "    }\n",
       "\n",
       "    .dataframe tbody tr th {\n",
       "        vertical-align: top;\n",
       "    }\n",
       "\n",
       "    .dataframe thead th {\n",
       "        text-align: right;\n",
       "    }\n",
       "</style>\n",
       "<table border=\"1\" class=\"dataframe\">\n",
       "  <thead>\n",
       "    <tr style=\"text-align: right;\">\n",
       "      <th></th>\n",
       "      <th>Unnamed: 0</th>\n",
       "      <th>date</th>\n",
       "      <th>User</th>\n",
       "      <th>Tweet</th>\n",
       "      <th>Rating (0/1/2)</th>\n",
       "    </tr>\n",
       "  </thead>\n",
       "  <tbody>\n",
       "    <tr>\n",
       "      <th>0</th>\n",
       "      <td>0</td>\n",
       "      <td>2021-07-29</td>\n",
       "      <td>Porticus2</td>\n",
       "      <td>Bevor Herr @MarkusSöder solches Klima-Trallala...</td>\n",
       "      <td>1.0</td>\n",
       "    </tr>\n",
       "    <tr>\n",
       "      <th>1</th>\n",
       "      <td>1</td>\n",
       "      <td>2021-07-29</td>\n",
       "      <td>watch_union</td>\n",
       "      <td>Der Vorstandsvorsitzende von #VW zerstört bei ...</td>\n",
       "      <td>0.0</td>\n",
       "    </tr>\n",
       "    <tr>\n",
       "      <th>2</th>\n",
       "      <td>2</td>\n",
       "      <td>2021-07-29</td>\n",
       "      <td>NiklasCcr</td>\n",
       "      <td>@raichubvb Klimawandel. Die Menschen müssen en...</td>\n",
       "      <td>0.0</td>\n",
       "    </tr>\n",
       "    <tr>\n",
       "      <th>3</th>\n",
       "      <td>3</td>\n",
       "      <td>2021-07-29</td>\n",
       "      <td>SvenPhenix</td>\n",
       "      <td>Jetzt in einer Zeit voller Krisen: #COVID19, #...</td>\n",
       "      <td>0.0</td>\n",
       "    </tr>\n",
       "    <tr>\n",
       "      <th>4</th>\n",
       "      <td>4</td>\n",
       "      <td>2021-07-29</td>\n",
       "      <td>brokenspirits</td>\n",
       "      <td>Und nochmal etwas weitergedacht: Während hier ...</td>\n",
       "      <td>0.0</td>\n",
       "    </tr>\n",
       "    <tr>\n",
       "      <th>...</th>\n",
       "      <td>...</td>\n",
       "      <td>...</td>\n",
       "      <td>...</td>\n",
       "      <td>...</td>\n",
       "      <td>...</td>\n",
       "    </tr>\n",
       "    <tr>\n",
       "      <th>80949</th>\n",
       "      <td>80949</td>\n",
       "      <td>2021-07-14</td>\n",
       "      <td>EinFragender</td>\n",
       "      <td>@Karl_Lauterbach So weit ich weiß, war es 1913...</td>\n",
       "      <td>0.0</td>\n",
       "    </tr>\n",
       "    <tr>\n",
       "      <th>80950</th>\n",
       "      <td>80950</td>\n",
       "      <td>2021-07-14</td>\n",
       "      <td>MoSchaefer66</td>\n",
       "      <td>@P4F_Leipzig Jetzt sollte so manchem langsam k...</td>\n",
       "      <td>0.0</td>\n",
       "    </tr>\n",
       "    <tr>\n",
       "      <th>80951</th>\n",
       "      <td>80951</td>\n",
       "      <td>2021-07-14</td>\n",
       "      <td>f_talmon</td>\n",
       "      <td>Wenn der Meeresspiegel weiter steigt, wird das...</td>\n",
       "      <td>0.0</td>\n",
       "    </tr>\n",
       "    <tr>\n",
       "      <th>80952</th>\n",
       "      <td>80952</td>\n",
       "      <td>2021-07-14</td>\n",
       "      <td>Elke__Kuhn</td>\n",
       "      <td>@ayranundspeck @CCitiesOrg @dvd_hrtmnn @Monika...</td>\n",
       "      <td>1.0</td>\n",
       "    </tr>\n",
       "    <tr>\n",
       "      <th>80953</th>\n",
       "      <td>80953</td>\n",
       "      <td>2021-07-14</td>\n",
       "      <td>fahrIehrer</td>\n",
       "      <td>@Vampirkamel @AndreasBlnMi @zeitonline Alles i...</td>\n",
       "      <td>1.0</td>\n",
       "    </tr>\n",
       "  </tbody>\n",
       "</table>\n",
       "<p>80954 rows × 5 columns</p>\n",
       "</div>"
      ],
      "text/plain": [
       "       Unnamed: 0        date           User  \\\n",
       "0               0  2021-07-29      Porticus2   \n",
       "1               1  2021-07-29    watch_union   \n",
       "2               2  2021-07-29      NiklasCcr   \n",
       "3               3  2021-07-29     SvenPhenix   \n",
       "4               4  2021-07-29  brokenspirits   \n",
       "...           ...         ...            ...   \n",
       "80949       80949  2021-07-14   EinFragender   \n",
       "80950       80950  2021-07-14   MoSchaefer66   \n",
       "80951       80951  2021-07-14       f_talmon   \n",
       "80952       80952  2021-07-14     Elke__Kuhn   \n",
       "80953       80953  2021-07-14     fahrIehrer   \n",
       "\n",
       "                                                   Tweet  Rating (0/1/2)   \n",
       "0      Bevor Herr @MarkusSöder solches Klima-Trallala...              1.0  \n",
       "1      Der Vorstandsvorsitzende von #VW zerstört bei ...              0.0  \n",
       "2      @raichubvb Klimawandel. Die Menschen müssen en...              0.0  \n",
       "3      Jetzt in einer Zeit voller Krisen: #COVID19, #...              0.0  \n",
       "4      Und nochmal etwas weitergedacht: Während hier ...              0.0  \n",
       "...                                                  ...              ...  \n",
       "80949  @Karl_Lauterbach So weit ich weiß, war es 1913...              0.0  \n",
       "80950  @P4F_Leipzig Jetzt sollte so manchem langsam k...              0.0  \n",
       "80951  Wenn der Meeresspiegel weiter steigt, wird das...              0.0  \n",
       "80952  @ayranundspeck @CCitiesOrg @dvd_hrtmnn @Monika...              1.0  \n",
       "80953  @Vampirkamel @AndreasBlnMi @zeitonline Alles i...              1.0  \n",
       "\n",
       "[80954 rows x 5 columns]"
      ]
     },
     "execution_count": 31,
     "metadata": {},
     "output_type": "execute_result"
    }
   ],
   "source": [
    "full_post"
   ]
  },
  {
   "cell_type": "code",
   "execution_count": 32,
   "id": "8014700b",
   "metadata": {
    "execution": {
     "iopub.execute_input": "2022-09-30T08:03:01.321573Z",
     "iopub.status.busy": "2022-09-30T08:03:01.320819Z",
     "iopub.status.idle": "2022-09-30T08:03:01.333993Z",
     "shell.execute_reply": "2022-09-30T08:03:01.332709Z"
    },
    "papermill": {
     "duration": 0.034042,
     "end_time": "2022-09-30T08:03:01.336345",
     "exception": false,
     "start_time": "2022-09-30T08:03:01.302303",
     "status": "completed"
    },
    "tags": []
   },
   "outputs": [
    {
     "data": {
      "text/plain": [
       "0.0    25626\n",
       "1.0    10626\n",
       "2.0     1523\n",
       "Name: Rating (0/1/2) , dtype: int64"
      ]
     },
     "execution_count": 32,
     "metadata": {},
     "output_type": "execute_result"
    }
   ],
   "source": [
    "rating_count_pre = pd.value_counts(full_pre['Rating (0/1/2) '])\n",
    "rating_count_pre"
   ]
  },
  {
   "cell_type": "code",
   "execution_count": 33,
   "id": "7247d47c",
   "metadata": {
    "execution": {
     "iopub.execute_input": "2022-09-30T08:03:01.373514Z",
     "iopub.status.busy": "2022-09-30T08:03:01.373095Z",
     "iopub.status.idle": "2022-09-30T08:03:01.383886Z",
     "shell.execute_reply": "2022-09-30T08:03:01.382675Z"
    },
    "papermill": {
     "duration": 0.032212,
     "end_time": "2022-09-30T08:03:01.386224",
     "exception": false,
     "start_time": "2022-09-30T08:03:01.354012",
     "status": "completed"
    },
    "tags": []
   },
   "outputs": [
    {
     "data": {
      "text/plain": [
       "0.0    55622\n",
       "1.0    21504\n",
       "2.0     3828\n",
       "Name: Rating (0/1/2) , dtype: int64"
      ]
     },
     "execution_count": 33,
     "metadata": {},
     "output_type": "execute_result"
    }
   ],
   "source": [
    "rating_count_post = pd.value_counts(full_post['Rating (0/1/2) '])\n",
    "rating_count_post"
   ]
  },
  {
   "cell_type": "code",
   "execution_count": 34,
   "id": "44e6b85b",
   "metadata": {
    "execution": {
     "iopub.execute_input": "2022-09-30T08:03:01.424433Z",
     "iopub.status.busy": "2022-09-30T08:03:01.423373Z",
     "iopub.status.idle": "2022-09-30T08:03:01.433617Z",
     "shell.execute_reply": "2022-09-30T08:03:01.432709Z"
    },
    "papermill": {
     "duration": 0.031597,
     "end_time": "2022-09-30T08:03:01.436021",
     "exception": false,
     "start_time": "2022-09-30T08:03:01.404424",
     "status": "completed"
    },
    "tags": []
   },
   "outputs": [],
   "source": [
    "pre3j = full_pre[full_pre['date']>'2021-07-10']"
   ]
  },
  {
   "cell_type": "code",
   "execution_count": 35,
   "id": "3636d9b5",
   "metadata": {
    "execution": {
     "iopub.execute_input": "2022-09-30T08:03:01.472745Z",
     "iopub.status.busy": "2022-09-30T08:03:01.472316Z",
     "iopub.status.idle": "2022-09-30T08:03:01.481532Z",
     "shell.execute_reply": "2022-09-30T08:03:01.480382Z"
    },
    "papermill": {
     "duration": 0.030401,
     "end_time": "2022-09-30T08:03:01.483810",
     "exception": false,
     "start_time": "2022-09-30T08:03:01.453409",
     "status": "completed"
    },
    "tags": []
   },
   "outputs": [
    {
     "data": {
      "text/plain": [
       "0.0    4878\n",
       "1.0    2059\n",
       "2.0     314\n",
       "Name: Rating (0/1/2) , dtype: int64"
      ]
     },
     "execution_count": 35,
     "metadata": {},
     "output_type": "execute_result"
    }
   ],
   "source": [
    "rating_count_pre3j = pd.value_counts(pre3j['Rating (0/1/2) '])\n",
    "rating_count_pre3j"
   ]
  },
  {
   "cell_type": "code",
   "execution_count": 36,
   "id": "0c03a4da",
   "metadata": {
    "execution": {
     "iopub.execute_input": "2022-09-30T08:03:01.521619Z",
     "iopub.status.busy": "2022-09-30T08:03:01.520542Z",
     "iopub.status.idle": "2022-09-30T08:03:01.533689Z",
     "shell.execute_reply": "2022-09-30T08:03:01.532808Z"
    },
    "papermill": {
     "duration": 0.034394,
     "end_time": "2022-09-30T08:03:01.536062",
     "exception": false,
     "start_time": "2022-09-30T08:03:01.501668",
     "status": "completed"
    },
    "tags": []
   },
   "outputs": [],
   "source": [
    "post3j = full_post[full_post['date']<'2021-07-17']"
   ]
  },
  {
   "cell_type": "code",
   "execution_count": 37,
   "id": "f3dd8590",
   "metadata": {
    "execution": {
     "iopub.execute_input": "2022-09-30T08:03:01.572860Z",
     "iopub.status.busy": "2022-09-30T08:03:01.572201Z",
     "iopub.status.idle": "2022-09-30T08:03:01.581590Z",
     "shell.execute_reply": "2022-09-30T08:03:01.580424Z"
    },
    "papermill": {
     "duration": 0.03044,
     "end_time": "2022-09-30T08:03:01.583931",
     "exception": false,
     "start_time": "2022-09-30T08:03:01.553491",
     "status": "completed"
    },
    "tags": []
   },
   "outputs": [
    {
     "data": {
      "text/plain": [
       "0.0    20907\n",
       "1.0     7603\n",
       "2.0     1353\n",
       "Name: Rating (0/1/2) , dtype: int64"
      ]
     },
     "execution_count": 37,
     "metadata": {},
     "output_type": "execute_result"
    }
   ],
   "source": [
    "rating_count_post3j = pd.value_counts(post3j['Rating (0/1/2) '])\n",
    "rating_count_post3j"
   ]
  },
  {
   "cell_type": "code",
   "execution_count": 38,
   "id": "0f74be63",
   "metadata": {
    "execution": {
     "iopub.execute_input": "2022-09-30T08:03:01.621496Z",
     "iopub.status.busy": "2022-09-30T08:03:01.620701Z",
     "iopub.status.idle": "2022-09-30T08:03:01.632974Z",
     "shell.execute_reply": "2022-09-30T08:03:01.632025Z"
    },
    "papermill": {
     "duration": 0.033719,
     "end_time": "2022-09-30T08:03:01.635382",
     "exception": false,
     "start_time": "2022-09-30T08:03:01.601663",
     "status": "completed"
    },
    "tags": []
   },
   "outputs": [],
   "source": [
    "post_most = full_post['2021-07-17'>full_post['date']]"
   ]
  },
  {
   "cell_type": "code",
   "execution_count": 39,
   "id": "6091d4f9",
   "metadata": {
    "execution": {
     "iopub.execute_input": "2022-09-30T08:03:01.672571Z",
     "iopub.status.busy": "2022-09-30T08:03:01.671404Z",
     "iopub.status.idle": "2022-09-30T08:03:01.680238Z",
     "shell.execute_reply": "2022-09-30T08:03:01.679333Z"
    },
    "papermill": {
     "duration": 0.029738,
     "end_time": "2022-09-30T08:03:01.682573",
     "exception": false,
     "start_time": "2022-09-30T08:03:01.652835",
     "status": "completed"
    },
    "tags": []
   },
   "outputs": [],
   "source": [
    "pre_most = full_pre['2021-07-10'<full_pre['date']]"
   ]
  },
  {
   "cell_type": "code",
   "execution_count": 40,
   "id": "a122fef3",
   "metadata": {
    "execution": {
     "iopub.execute_input": "2022-09-30T08:03:01.720095Z",
     "iopub.status.busy": "2022-09-30T08:03:01.718937Z",
     "iopub.status.idle": "2022-09-30T08:03:01.725392Z",
     "shell.execute_reply": "2022-09-30T08:03:01.724527Z"
    },
    "papermill": {
     "duration": 0.027445,
     "end_time": "2022-09-30T08:03:01.727618",
     "exception": false,
     "start_time": "2022-09-30T08:03:01.700173",
     "status": "completed"
    },
    "tags": []
   },
   "outputs": [],
   "source": [
    "pre_most = pre_most[['User','Rating (0/1/2) ']]"
   ]
  },
  {
   "cell_type": "code",
   "execution_count": 41,
   "id": "e6175fa5",
   "metadata": {
    "execution": {
     "iopub.execute_input": "2022-09-30T08:03:01.764905Z",
     "iopub.status.busy": "2022-09-30T08:03:01.764161Z",
     "iopub.status.idle": "2022-09-30T08:03:01.771493Z",
     "shell.execute_reply": "2022-09-30T08:03:01.770222Z"
    },
    "papermill": {
     "duration": 0.028717,
     "end_time": "2022-09-30T08:03:01.773980",
     "exception": false,
     "start_time": "2022-09-30T08:03:01.745263",
     "status": "completed"
    },
    "tags": []
   },
   "outputs": [],
   "source": [
    "post_most = post_most[['User','Rating (0/1/2) ']]"
   ]
  },
  {
   "cell_type": "code",
   "execution_count": 42,
   "id": "4406c10d",
   "metadata": {
    "execution": {
     "iopub.execute_input": "2022-09-30T08:03:01.811588Z",
     "iopub.status.busy": "2022-09-30T08:03:01.810865Z",
     "iopub.status.idle": "2022-09-30T08:03:01.817272Z",
     "shell.execute_reply": "2022-09-30T08:03:01.816141Z"
    },
    "papermill": {
     "duration": 0.028029,
     "end_time": "2022-09-30T08:03:01.819733",
     "exception": false,
     "start_time": "2022-09-30T08:03:01.791704",
     "status": "completed"
    },
    "tags": []
   },
   "outputs": [],
   "source": [
    "pre_most.rename(columns = {'Rating (0/1/2) ':'Rating_pre'}, inplace = True)\n",
    "post_most.rename(columns = {'Rating (0/1/2) ':'Rating_post'}, inplace = True)"
   ]
  },
  {
   "cell_type": "code",
   "execution_count": 43,
   "id": "592b4743",
   "metadata": {
    "execution": {
     "iopub.execute_input": "2022-09-30T08:03:01.856927Z",
     "iopub.status.busy": "2022-09-30T08:03:01.856480Z",
     "iopub.status.idle": "2022-09-30T08:03:01.871996Z",
     "shell.execute_reply": "2022-09-30T08:03:01.870539Z"
    },
    "papermill": {
     "duration": 0.037124,
     "end_time": "2022-09-30T08:03:01.874527",
     "exception": false,
     "start_time": "2022-09-30T08:03:01.837403",
     "status": "completed"
    },
    "tags": []
   },
   "outputs": [
    {
     "data": {
      "text/html": [
       "<div>\n",
       "<style scoped>\n",
       "    .dataframe tbody tr th:only-of-type {\n",
       "        vertical-align: middle;\n",
       "    }\n",
       "\n",
       "    .dataframe tbody tr th {\n",
       "        vertical-align: top;\n",
       "    }\n",
       "\n",
       "    .dataframe thead th {\n",
       "        text-align: right;\n",
       "    }\n",
       "</style>\n",
       "<table border=\"1\" class=\"dataframe\">\n",
       "  <thead>\n",
       "    <tr style=\"text-align: right;\">\n",
       "      <th></th>\n",
       "      <th>User</th>\n",
       "      <th>Rating_pre</th>\n",
       "    </tr>\n",
       "  </thead>\n",
       "  <tbody>\n",
       "    <tr>\n",
       "      <th>80954</th>\n",
       "      <td>Arminirma1Armin</td>\n",
       "      <td>0.0</td>\n",
       "    </tr>\n",
       "    <tr>\n",
       "      <th>80955</th>\n",
       "      <td>nfdampf</td>\n",
       "      <td>0.0</td>\n",
       "    </tr>\n",
       "    <tr>\n",
       "      <th>80956</th>\n",
       "      <td>MEPilarczyk</td>\n",
       "      <td>0.0</td>\n",
       "    </tr>\n",
       "    <tr>\n",
       "      <th>80957</th>\n",
       "      <td>megatrendy</td>\n",
       "      <td>0.0</td>\n",
       "    </tr>\n",
       "    <tr>\n",
       "      <th>80958</th>\n",
       "      <td>FFFLeipzig</td>\n",
       "      <td>0.0</td>\n",
       "    </tr>\n",
       "    <tr>\n",
       "      <th>...</th>\n",
       "      <td>...</td>\n",
       "      <td>...</td>\n",
       "    </tr>\n",
       "    <tr>\n",
       "      <th>88200</th>\n",
       "      <td>MonacoFerdl</td>\n",
       "      <td>0.0</td>\n",
       "    </tr>\n",
       "    <tr>\n",
       "      <th>88201</th>\n",
       "      <td>nfdampf</td>\n",
       "      <td>0.0</td>\n",
       "    </tr>\n",
       "    <tr>\n",
       "      <th>88202</th>\n",
       "      <td>MieuletCleo</td>\n",
       "      <td>1.0</td>\n",
       "    </tr>\n",
       "    <tr>\n",
       "      <th>88203</th>\n",
       "      <td>mikeltwi123</td>\n",
       "      <td>0.0</td>\n",
       "    </tr>\n",
       "    <tr>\n",
       "      <th>88204</th>\n",
       "      <td>superbello123</td>\n",
       "      <td>2.0</td>\n",
       "    </tr>\n",
       "  </tbody>\n",
       "</table>\n",
       "<p>7251 rows × 2 columns</p>\n",
       "</div>"
      ],
      "text/plain": [
       "                  User  Rating_pre\n",
       "80954  Arminirma1Armin         0.0\n",
       "80955          nfdampf         0.0\n",
       "80956      MEPilarczyk         0.0\n",
       "80957       megatrendy         0.0\n",
       "80958       FFFLeipzig         0.0\n",
       "...                ...         ...\n",
       "88200      MonacoFerdl         0.0\n",
       "88201          nfdampf         0.0\n",
       "88202      MieuletCleo         1.0\n",
       "88203      mikeltwi123         0.0\n",
       "88204    superbello123         2.0\n",
       "\n",
       "[7251 rows x 2 columns]"
      ]
     },
     "execution_count": 43,
     "metadata": {},
     "output_type": "execute_result"
    }
   ],
   "source": [
    "pre_most"
   ]
  },
  {
   "cell_type": "code",
   "execution_count": 44,
   "id": "a1d082ad",
   "metadata": {
    "execution": {
     "iopub.execute_input": "2022-09-30T08:03:01.913829Z",
     "iopub.status.busy": "2022-09-30T08:03:01.913099Z",
     "iopub.status.idle": "2022-09-30T08:03:01.938736Z",
     "shell.execute_reply": "2022-09-30T08:03:01.937679Z"
    },
    "papermill": {
     "duration": 0.048616,
     "end_time": "2022-09-30T08:03:01.941564",
     "exception": false,
     "start_time": "2022-09-30T08:03:01.892948",
     "status": "completed"
    },
    "tags": []
   },
   "outputs": [],
   "source": [
    "pre_post = pd.merge(pre_most, post_most, on='User', how='inner')"
   ]
  },
  {
   "cell_type": "code",
   "execution_count": 45,
   "id": "9dce4492",
   "metadata": {
    "execution": {
     "iopub.execute_input": "2022-09-30T08:03:01.978800Z",
     "iopub.status.busy": "2022-09-30T08:03:01.978373Z",
     "iopub.status.idle": "2022-09-30T08:03:01.995687Z",
     "shell.execute_reply": "2022-09-30T08:03:01.994458Z"
    },
    "papermill": {
     "duration": 0.038833,
     "end_time": "2022-09-30T08:03:01.998265",
     "exception": false,
     "start_time": "2022-09-30T08:03:01.959432",
     "status": "completed"
    },
    "tags": []
   },
   "outputs": [
    {
     "data": {
      "text/html": [
       "<div>\n",
       "<style scoped>\n",
       "    .dataframe tbody tr th:only-of-type {\n",
       "        vertical-align: middle;\n",
       "    }\n",
       "\n",
       "    .dataframe tbody tr th {\n",
       "        vertical-align: top;\n",
       "    }\n",
       "\n",
       "    .dataframe thead th {\n",
       "        text-align: right;\n",
       "    }\n",
       "</style>\n",
       "<table border=\"1\" class=\"dataframe\">\n",
       "  <thead>\n",
       "    <tr style=\"text-align: right;\">\n",
       "      <th></th>\n",
       "      <th>User</th>\n",
       "      <th>Rating_pre</th>\n",
       "      <th>Rating_post</th>\n",
       "    </tr>\n",
       "  </thead>\n",
       "  <tbody>\n",
       "    <tr>\n",
       "      <th>0</th>\n",
       "      <td>nfdampf</td>\n",
       "      <td>0.0</td>\n",
       "      <td>0.0</td>\n",
       "    </tr>\n",
       "    <tr>\n",
       "      <th>1</th>\n",
       "      <td>nfdampf</td>\n",
       "      <td>0.0</td>\n",
       "      <td>0.0</td>\n",
       "    </tr>\n",
       "    <tr>\n",
       "      <th>2</th>\n",
       "      <td>nfdampf</td>\n",
       "      <td>0.0</td>\n",
       "      <td>0.0</td>\n",
       "    </tr>\n",
       "    <tr>\n",
       "      <th>3</th>\n",
       "      <td>nfdampf</td>\n",
       "      <td>0.0</td>\n",
       "      <td>0.0</td>\n",
       "    </tr>\n",
       "    <tr>\n",
       "      <th>4</th>\n",
       "      <td>nfdampf</td>\n",
       "      <td>0.0</td>\n",
       "      <td>0.0</td>\n",
       "    </tr>\n",
       "    <tr>\n",
       "      <th>...</th>\n",
       "      <td>...</td>\n",
       "      <td>...</td>\n",
       "      <td>...</td>\n",
       "    </tr>\n",
       "    <tr>\n",
       "      <th>32142</th>\n",
       "      <td>Nationallibera3</td>\n",
       "      <td>0.0</td>\n",
       "      <td>1.0</td>\n",
       "    </tr>\n",
       "    <tr>\n",
       "      <th>32143</th>\n",
       "      <td>Nationallibera3</td>\n",
       "      <td>0.0</td>\n",
       "      <td>2.0</td>\n",
       "    </tr>\n",
       "    <tr>\n",
       "      <th>32144</th>\n",
       "      <td>Nationallibera3</td>\n",
       "      <td>0.0</td>\n",
       "      <td>0.0</td>\n",
       "    </tr>\n",
       "    <tr>\n",
       "      <th>32145</th>\n",
       "      <td>Nationallibera3</td>\n",
       "      <td>0.0</td>\n",
       "      <td>0.0</td>\n",
       "    </tr>\n",
       "    <tr>\n",
       "      <th>32146</th>\n",
       "      <td>Alex_M_A_Rimmer</td>\n",
       "      <td>0.0</td>\n",
       "      <td>0.0</td>\n",
       "    </tr>\n",
       "  </tbody>\n",
       "</table>\n",
       "<p>32147 rows × 3 columns</p>\n",
       "</div>"
      ],
      "text/plain": [
       "                  User  Rating_pre  Rating_post\n",
       "0              nfdampf         0.0          0.0\n",
       "1              nfdampf         0.0          0.0\n",
       "2              nfdampf         0.0          0.0\n",
       "3              nfdampf         0.0          0.0\n",
       "4              nfdampf         0.0          0.0\n",
       "...                ...         ...          ...\n",
       "32142  Nationallibera3         0.0          1.0\n",
       "32143  Nationallibera3         0.0          2.0\n",
       "32144  Nationallibera3         0.0          0.0\n",
       "32145  Nationallibera3         0.0          0.0\n",
       "32146  Alex_M_A_Rimmer         0.0          0.0\n",
       "\n",
       "[32147 rows x 3 columns]"
      ]
     },
     "execution_count": 45,
     "metadata": {},
     "output_type": "execute_result"
    }
   ],
   "source": [
    "pre_post"
   ]
  },
  {
   "cell_type": "code",
   "execution_count": 46,
   "id": "eab91d39",
   "metadata": {
    "execution": {
     "iopub.execute_input": "2022-09-30T08:03:02.035955Z",
     "iopub.status.busy": "2022-09-30T08:03:02.035524Z",
     "iopub.status.idle": "2022-09-30T08:03:02.043409Z",
     "shell.execute_reply": "2022-09-30T08:03:02.042412Z"
    },
    "papermill": {
     "duration": 0.029615,
     "end_time": "2022-09-30T08:03:02.045864",
     "exception": false,
     "start_time": "2022-09-30T08:03:02.016249",
     "status": "completed"
    },
    "tags": []
   },
   "outputs": [],
   "source": [
    "more_intense = pre_post[pre_post['Rating_post']>pre_post['Rating_pre']]"
   ]
  },
  {
   "cell_type": "code",
   "execution_count": 47,
   "id": "4486adaf",
   "metadata": {
    "execution": {
     "iopub.execute_input": "2022-09-30T08:03:02.083241Z",
     "iopub.status.busy": "2022-09-30T08:03:02.082818Z",
     "iopub.status.idle": "2022-09-30T08:03:02.092568Z",
     "shell.execute_reply": "2022-09-30T08:03:02.091156Z"
    },
    "papermill": {
     "duration": 0.0312,
     "end_time": "2022-09-30T08:03:02.094960",
     "exception": false,
     "start_time": "2022-09-30T08:03:02.063760",
     "status": "completed"
    },
    "tags": []
   },
   "outputs": [
    {
     "data": {
      "text/plain": [
       "850"
      ]
     },
     "execution_count": 47,
     "metadata": {},
     "output_type": "execute_result"
    }
   ],
   "source": [
    "more_intense['User'].nunique()"
   ]
  },
  {
   "cell_type": "code",
   "execution_count": 48,
   "id": "f980dd48",
   "metadata": {
    "execution": {
     "iopub.execute_input": "2022-09-30T08:03:02.133272Z",
     "iopub.status.busy": "2022-09-30T08:03:02.132549Z",
     "iopub.status.idle": "2022-09-30T08:03:02.143074Z",
     "shell.execute_reply": "2022-09-30T08:03:02.141938Z"
    },
    "papermill": {
     "duration": 0.032314,
     "end_time": "2022-09-30T08:03:02.145314",
     "exception": false,
     "start_time": "2022-09-30T08:03:02.113000",
     "status": "completed"
    },
    "tags": []
   },
   "outputs": [
    {
     "data": {
      "text/plain": [
       "2133"
      ]
     },
     "execution_count": 48,
     "metadata": {},
     "output_type": "execute_result"
    }
   ],
   "source": [
    "pre_post['User'].nunique()"
   ]
  },
  {
   "cell_type": "code",
   "execution_count": 49,
   "id": "ed327aa4",
   "metadata": {
    "execution": {
     "iopub.execute_input": "2022-09-30T08:03:02.184038Z",
     "iopub.status.busy": "2022-09-30T08:03:02.183570Z",
     "iopub.status.idle": "2022-09-30T08:03:02.192195Z",
     "shell.execute_reply": "2022-09-30T08:03:02.191079Z"
    },
    "papermill": {
     "duration": 0.030587,
     "end_time": "2022-09-30T08:03:02.194538",
     "exception": false,
     "start_time": "2022-09-30T08:03:02.163951",
     "status": "completed"
    },
    "tags": []
   },
   "outputs": [
    {
     "data": {
      "text/plain": [
       "4904"
      ]
     },
     "execution_count": 49,
     "metadata": {},
     "output_type": "execute_result"
    }
   ],
   "source": [
    "pre_most['User'].nunique()"
   ]
  },
  {
   "cell_type": "code",
   "execution_count": 50,
   "id": "b0fa7b8b",
   "metadata": {
    "execution": {
     "iopub.execute_input": "2022-09-30T08:03:02.233730Z",
     "iopub.status.busy": "2022-09-30T08:03:02.233336Z",
     "iopub.status.idle": "2022-09-30T08:03:02.246893Z",
     "shell.execute_reply": "2022-09-30T08:03:02.245777Z"
    },
    "papermill": {
     "duration": 0.035312,
     "end_time": "2022-09-30T08:03:02.249181",
     "exception": false,
     "start_time": "2022-09-30T08:03:02.213869",
     "status": "completed"
    },
    "tags": []
   },
   "outputs": [
    {
     "data": {
      "text/plain": [
       "16509"
      ]
     },
     "execution_count": 50,
     "metadata": {},
     "output_type": "execute_result"
    }
   ],
   "source": [
    "post_most['User'].nunique()"
   ]
  },
  {
   "cell_type": "code",
   "execution_count": 51,
   "id": "af640569",
   "metadata": {
    "execution": {
     "iopub.execute_input": "2022-09-30T08:03:02.287567Z",
     "iopub.status.busy": "2022-09-30T08:03:02.287161Z",
     "iopub.status.idle": "2022-09-30T08:03:02.293284Z",
     "shell.execute_reply": "2022-09-30T08:03:02.292444Z"
    },
    "papermill": {
     "duration": 0.027908,
     "end_time": "2022-09-30T08:03:02.295543",
     "exception": false,
     "start_time": "2022-09-30T08:03:02.267635",
     "status": "completed"
    },
    "tags": []
   },
   "outputs": [],
   "source": [
    "less_intense = pre_post[pre_post['Rating_post']<pre_post['Rating_pre']]"
   ]
  },
  {
   "cell_type": "code",
   "execution_count": 52,
   "id": "4cbcf6fe",
   "metadata": {
    "execution": {
     "iopub.execute_input": "2022-09-30T08:03:02.334842Z",
     "iopub.status.busy": "2022-09-30T08:03:02.334367Z",
     "iopub.status.idle": "2022-09-30T08:03:02.343463Z",
     "shell.execute_reply": "2022-09-30T08:03:02.342217Z"
    },
    "papermill": {
     "duration": 0.031457,
     "end_time": "2022-09-30T08:03:02.345879",
     "exception": false,
     "start_time": "2022-09-30T08:03:02.314422",
     "status": "completed"
    },
    "tags": []
   },
   "outputs": [
    {
     "data": {
      "text/plain": [
       "788"
      ]
     },
     "execution_count": 52,
     "metadata": {},
     "output_type": "execute_result"
    }
   ],
   "source": [
    "less_intense['User'].nunique()"
   ]
  },
  {
   "cell_type": "code",
   "execution_count": 53,
   "id": "a3a84567",
   "metadata": {
    "execution": {
     "iopub.execute_input": "2022-09-30T08:03:02.384685Z",
     "iopub.status.busy": "2022-09-30T08:03:02.384284Z",
     "iopub.status.idle": "2022-09-30T08:03:02.391707Z",
     "shell.execute_reply": "2022-09-30T08:03:02.390548Z"
    },
    "papermill": {
     "duration": 0.029547,
     "end_time": "2022-09-30T08:03:02.394140",
     "exception": false,
     "start_time": "2022-09-30T08:03:02.364593",
     "status": "completed"
    },
    "tags": []
   },
   "outputs": [],
   "source": [
    "same_intense = pre_post[pre_post['Rating_post']==pre_post['Rating_pre']]"
   ]
  },
  {
   "cell_type": "code",
   "execution_count": 54,
   "id": "2bcefa53",
   "metadata": {
    "execution": {
     "iopub.execute_input": "2022-09-30T08:03:02.434207Z",
     "iopub.status.busy": "2022-09-30T08:03:02.433729Z",
     "iopub.status.idle": "2022-09-30T08:03:02.444249Z",
     "shell.execute_reply": "2022-09-30T08:03:02.443107Z"
    },
    "papermill": {
     "duration": 0.033403,
     "end_time": "2022-09-30T08:03:02.446461",
     "exception": false,
     "start_time": "2022-09-30T08:03:02.413058",
     "status": "completed"
    },
    "tags": []
   },
   "outputs": [
    {
     "data": {
      "text/plain": [
       "1662"
      ]
     },
     "execution_count": 54,
     "metadata": {},
     "output_type": "execute_result"
    }
   ],
   "source": [
    "same_intense['User'].nunique()"
   ]
  },
  {
   "cell_type": "code",
   "execution_count": null,
   "id": "9c594f9c",
   "metadata": {
    "papermill": {
     "duration": 0.017989,
     "end_time": "2022-09-30T08:03:02.483357",
     "exception": false,
     "start_time": "2022-09-30T08:03:02.465368",
     "status": "completed"
    },
    "tags": []
   },
   "outputs": [],
   "source": []
  }
 ],
 "metadata": {
  "kernelspec": {
   "display_name": "Python 3",
   "language": "python",
   "name": "python3"
  },
  "language_info": {
   "codemirror_mode": {
    "name": "ipython",
    "version": 3
   },
   "file_extension": ".py",
   "mimetype": "text/x-python",
   "name": "python",
   "nbconvert_exporter": "python",
   "pygments_lexer": "ipython3",
   "version": "3.7.12"
  },
  "papermill": {
   "default_parameters": {},
   "duration": 83.005021,
   "end_time": "2022-09-30T08:03:05.912554",
   "environment_variables": {},
   "exception": null,
   "input_path": "__notebook__.ipynb",
   "output_path": "__notebook__.ipynb",
   "parameters": {},
   "start_time": "2022-09-30T08:01:42.907533",
   "version": "2.3.4"
  }
 },
 "nbformat": 4,
 "nbformat_minor": 5
}
