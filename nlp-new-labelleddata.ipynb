{
 "cells": [
  {
   "cell_type": "code",
   "execution_count": 1,
   "id": "045e9c85",
   "metadata": {
    "execution": {
     "iopub.execute_input": "2022-09-30T07:43:58.689064Z",
     "iopub.status.busy": "2022-09-30T07:43:58.688486Z",
     "iopub.status.idle": "2022-09-30T07:44:41.036697Z",
     "shell.execute_reply": "2022-09-30T07:44:41.035373Z"
    },
    "papermill": {
     "duration": 42.363516,
     "end_time": "2022-09-30T07:44:41.039687",
     "exception": false,
     "start_time": "2022-09-30T07:43:58.676171",
     "status": "completed"
    },
    "tags": []
   },
   "outputs": [
    {
     "name": "stdout",
     "output_type": "stream",
     "text": [
      "Collecting de-core-news-md==3.3.0\r\n",
      "  Downloading https://github.com/explosion/spacy-models/releases/download/de_core_news_md-3.3.0/de_core_news_md-3.3.0-py3-none-any.whl (44.4 MB)\r\n",
      "\u001b[2K     \u001b[90m━━━━━━━━━━━━━━━━━━━━━━━━━━━━━━━━━━━━━━━━\u001b[0m \u001b[32m44.4/44.4 MB\u001b[0m \u001b[31m9.0 MB/s\u001b[0m eta \u001b[36m0:00:00\u001b[0m\r\n",
      "\u001b[?25hRequirement already satisfied: spacy<3.4.0,>=3.3.0.dev0 in /opt/conda/lib/python3.7/site-packages (from de-core-news-md==3.3.0) (3.3.1)\r\n",
      "Requirement already satisfied: tqdm<5.0.0,>=4.38.0 in /opt/conda/lib/python3.7/site-packages (from spacy<3.4.0,>=3.3.0.dev0->de-core-news-md==3.3.0) (4.64.0)\r\n",
      "Requirement already satisfied: setuptools in /opt/conda/lib/python3.7/site-packages (from spacy<3.4.0,>=3.3.0.dev0->de-core-news-md==3.3.0) (59.8.0)\r\n",
      "Requirement already satisfied: blis<0.8.0,>=0.4.0 in /opt/conda/lib/python3.7/site-packages (from spacy<3.4.0,>=3.3.0.dev0->de-core-news-md==3.3.0) (0.7.8)\r\n",
      "Requirement already satisfied: typer<0.5.0,>=0.3.0 in /opt/conda/lib/python3.7/site-packages (from spacy<3.4.0,>=3.3.0.dev0->de-core-news-md==3.3.0) (0.4.2)\r\n",
      "Requirement already satisfied: requests<3.0.0,>=2.13.0 in /opt/conda/lib/python3.7/site-packages (from spacy<3.4.0,>=3.3.0.dev0->de-core-news-md==3.3.0) (2.28.1)\r\n",
      "Requirement already satisfied: preshed<3.1.0,>=3.0.2 in /opt/conda/lib/python3.7/site-packages (from spacy<3.4.0,>=3.3.0.dev0->de-core-news-md==3.3.0) (3.0.7)\r\n",
      "Requirement already satisfied: numpy>=1.15.0 in /opt/conda/lib/python3.7/site-packages (from spacy<3.4.0,>=3.3.0.dev0->de-core-news-md==3.3.0) (1.21.6)\r\n",
      "Requirement already satisfied: wasabi<1.1.0,>=0.9.1 in /opt/conda/lib/python3.7/site-packages (from spacy<3.4.0,>=3.3.0.dev0->de-core-news-md==3.3.0) (0.10.1)\r\n",
      "Collecting typing-extensions<4.2.0,>=3.7.4\r\n",
      "  Downloading typing_extensions-4.1.1-py3-none-any.whl (26 kB)\r\n",
      "Requirement already satisfied: spacy-legacy<3.1.0,>=3.0.9 in /opt/conda/lib/python3.7/site-packages (from spacy<3.4.0,>=3.3.0.dev0->de-core-news-md==3.3.0) (3.0.10)\r\n",
      "Requirement already satisfied: murmurhash<1.1.0,>=0.28.0 in /opt/conda/lib/python3.7/site-packages (from spacy<3.4.0,>=3.3.0.dev0->de-core-news-md==3.3.0) (1.0.8)\r\n",
      "Requirement already satisfied: langcodes<4.0.0,>=3.2.0 in /opt/conda/lib/python3.7/site-packages (from spacy<3.4.0,>=3.3.0.dev0->de-core-news-md==3.3.0) (3.3.0)\r\n",
      "Requirement already satisfied: pathy>=0.3.5 in /opt/conda/lib/python3.7/site-packages (from spacy<3.4.0,>=3.3.0.dev0->de-core-news-md==3.3.0) (0.6.2)\r\n",
      "Requirement already satisfied: cymem<2.1.0,>=2.0.2 in /opt/conda/lib/python3.7/site-packages (from spacy<3.4.0,>=3.3.0.dev0->de-core-news-md==3.3.0) (2.0.6)\r\n",
      "Requirement already satisfied: srsly<3.0.0,>=2.4.3 in /opt/conda/lib/python3.7/site-packages (from spacy<3.4.0,>=3.3.0.dev0->de-core-news-md==3.3.0) (2.4.4)\r\n",
      "Requirement already satisfied: catalogue<2.1.0,>=2.0.6 in /opt/conda/lib/python3.7/site-packages (from spacy<3.4.0,>=3.3.0.dev0->de-core-news-md==3.3.0) (2.0.8)\r\n",
      "Requirement already satisfied: spacy-loggers<2.0.0,>=1.0.0 in /opt/conda/lib/python3.7/site-packages (from spacy<3.4.0,>=3.3.0.dev0->de-core-news-md==3.3.0) (1.0.3)\r\n",
      "Requirement already satisfied: packaging>=20.0 in /opt/conda/lib/python3.7/site-packages (from spacy<3.4.0,>=3.3.0.dev0->de-core-news-md==3.3.0) (21.3)\r\n",
      "Requirement already satisfied: pydantic!=1.8,!=1.8.1,<1.9.0,>=1.7.4 in /opt/conda/lib/python3.7/site-packages (from spacy<3.4.0,>=3.3.0.dev0->de-core-news-md==3.3.0) (1.8.2)\r\n",
      "Requirement already satisfied: jinja2 in /opt/conda/lib/python3.7/site-packages (from spacy<3.4.0,>=3.3.0.dev0->de-core-news-md==3.3.0) (3.1.2)\r\n",
      "Requirement already satisfied: thinc<8.1.0,>=8.0.14 in /opt/conda/lib/python3.7/site-packages (from spacy<3.4.0,>=3.3.0.dev0->de-core-news-md==3.3.0) (8.0.17)\r\n",
      "Requirement already satisfied: zipp>=0.5 in /opt/conda/lib/python3.7/site-packages (from catalogue<2.1.0,>=2.0.6->spacy<3.4.0,>=3.3.0.dev0->de-core-news-md==3.3.0) (3.8.0)\r\n",
      "Requirement already satisfied: pyparsing!=3.0.5,>=2.0.2 in /opt/conda/lib/python3.7/site-packages (from packaging>=20.0->spacy<3.4.0,>=3.3.0.dev0->de-core-news-md==3.3.0) (3.0.9)\r\n",
      "Requirement already satisfied: smart-open<6.0.0,>=5.2.1 in /opt/conda/lib/python3.7/site-packages (from pathy>=0.3.5->spacy<3.4.0,>=3.3.0.dev0->de-core-news-md==3.3.0) (5.2.1)\r\n",
      "Requirement already satisfied: certifi>=2017.4.17 in /opt/conda/lib/python3.7/site-packages (from requests<3.0.0,>=2.13.0->spacy<3.4.0,>=3.3.0.dev0->de-core-news-md==3.3.0) (2022.6.15.2)\r\n",
      "Requirement already satisfied: charset-normalizer<3,>=2 in /opt/conda/lib/python3.7/site-packages (from requests<3.0.0,>=2.13.0->spacy<3.4.0,>=3.3.0.dev0->de-core-news-md==3.3.0) (2.1.0)\r\n",
      "Requirement already satisfied: urllib3<1.27,>=1.21.1 in /opt/conda/lib/python3.7/site-packages (from requests<3.0.0,>=2.13.0->spacy<3.4.0,>=3.3.0.dev0->de-core-news-md==3.3.0) (1.26.12)\r\n",
      "Requirement already satisfied: idna<4,>=2.5 in /opt/conda/lib/python3.7/site-packages (from requests<3.0.0,>=2.13.0->spacy<3.4.0,>=3.3.0.dev0->de-core-news-md==3.3.0) (3.3)\r\n",
      "Requirement already satisfied: click<9.0.0,>=7.1.1 in /opt/conda/lib/python3.7/site-packages (from typer<0.5.0,>=0.3.0->spacy<3.4.0,>=3.3.0.dev0->de-core-news-md==3.3.0) (8.0.4)\r\n",
      "Requirement already satisfied: MarkupSafe>=2.0 in /opt/conda/lib/python3.7/site-packages (from jinja2->spacy<3.4.0,>=3.3.0.dev0->de-core-news-md==3.3.0) (2.1.1)\r\n",
      "Requirement already satisfied: importlib-metadata in /opt/conda/lib/python3.7/site-packages (from click<9.0.0,>=7.1.1->typer<0.5.0,>=0.3.0->spacy<3.4.0,>=3.3.0.dev0->de-core-news-md==3.3.0) (4.12.0)\r\n",
      "Installing collected packages: typing-extensions, de-core-news-md\r\n",
      "  Attempting uninstall: typing-extensions\r\n",
      "    Found existing installation: typing_extensions 4.3.0\r\n",
      "    Uninstalling typing_extensions-4.3.0:\r\n",
      "      Successfully uninstalled typing_extensions-4.3.0\r\n",
      "\u001b[31mERROR: pip's dependency resolver does not currently take into account all the packages that are installed. This behaviour is the source of the following dependency conflicts.\r\n",
      "tensorflow-io 0.21.0 requires tensorflow-io-gcs-filesystem==0.21.0, which is not installed.\r\n",
      "tensorflow 2.6.4 requires h5py~=3.1.0, but you have h5py 3.7.0 which is incompatible.\r\n",
      "tensorflow 2.6.4 requires numpy~=1.19.2, but you have numpy 1.21.6 which is incompatible.\r\n",
      "tensorflow 2.6.4 requires tensorboard<2.7,>=2.6.0, but you have tensorboard 2.10.0 which is incompatible.\r\n",
      "tensorflow 2.6.4 requires typing-extensions<3.11,>=3.7, but you have typing-extensions 4.1.1 which is incompatible.\r\n",
      "tensorflow-transform 1.9.0 requires pyarrow<6,>=1, but you have pyarrow 8.0.0 which is incompatible.\r\n",
      "tensorflow-transform 1.9.0 requires tensorflow!=2.0.*,!=2.1.*,!=2.2.*,!=2.3.*,!=2.4.*,!=2.5.*,!=2.6.*,!=2.7.*,!=2.8.*,<2.10,>=1.15.5, but you have tensorflow 2.6.4 which is incompatible.\r\n",
      "tensorflow-serving-api 2.9.0 requires tensorflow<3,>=2.9.0, but you have tensorflow 2.6.4 which is incompatible.\r\n",
      "pandas-profiling 3.1.0 requires markupsafe~=2.0.1, but you have markupsafe 2.1.1 which is incompatible.\r\n",
      "flax 0.6.0 requires rich~=11.1, but you have rich 12.1.0 which is incompatible.\r\n",
      "flake8 4.0.1 requires importlib-metadata<4.3; python_version < \"3.8\", but you have importlib-metadata 4.12.0 which is incompatible.\r\n",
      "apache-beam 2.40.0 requires dill<0.3.2,>=0.3.1.1, but you have dill 0.3.5.1 which is incompatible.\r\n",
      "apache-beam 2.40.0 requires pyarrow<8.0.0,>=0.15.1, but you have pyarrow 8.0.0 which is incompatible.\r\n",
      "allennlp 2.10.0 requires protobuf==3.20.0, but you have protobuf 3.19.4 which is incompatible.\r\n",
      "aiobotocore 2.4.0 requires botocore<1.27.60,>=1.27.59, but you have botocore 1.27.72 which is incompatible.\u001b[0m\u001b[31m\r\n",
      "\u001b[0mSuccessfully installed de-core-news-md-3.3.0 typing-extensions-4.1.1\r\n",
      "\u001b[33mWARNING: Running pip as the 'root' user can result in broken permissions and conflicting behaviour with the system package manager. It is recommended to use a virtual environment instead: https://pip.pypa.io/warnings/venv\u001b[0m\u001b[33m\r\n",
      "\u001b[0m\u001b[38;5;2m✔ Download and installation successful\u001b[0m\r\n",
      "You can now load the package via spacy.load('de_core_news_md')\r\n"
     ]
    }
   ],
   "source": [
    "!python -m spacy download de_core_news_md"
   ]
  },
  {
   "cell_type": "code",
   "execution_count": 2,
   "id": "db7ff95e",
   "metadata": {
    "execution": {
     "iopub.execute_input": "2022-09-30T07:44:41.075006Z",
     "iopub.status.busy": "2022-09-30T07:44:41.074537Z",
     "iopub.status.idle": "2022-09-30T07:44:47.961017Z",
     "shell.execute_reply": "2022-09-30T07:44:47.959897Z"
    },
    "papermill": {
     "duration": 6.907012,
     "end_time": "2022-09-30T07:44:47.963484",
     "exception": false,
     "start_time": "2022-09-30T07:44:41.056472",
     "status": "completed"
    },
    "tags": []
   },
   "outputs": [],
   "source": [
    "import spacy\n",
    "nlp = spacy.load('de_core_news_md')"
   ]
  },
  {
   "cell_type": "code",
   "execution_count": 3,
   "id": "6ad538e0",
   "metadata": {
    "execution": {
     "iopub.execute_input": "2022-09-30T07:44:48.000783Z",
     "iopub.status.busy": "2022-09-30T07:44:47.999685Z",
     "iopub.status.idle": "2022-09-30T07:44:48.396268Z",
     "shell.execute_reply": "2022-09-30T07:44:48.394986Z"
    },
    "papermill": {
     "duration": 0.417242,
     "end_time": "2022-09-30T07:44:48.399208",
     "exception": false,
     "start_time": "2022-09-30T07:44:47.981966",
     "status": "completed"
    },
    "tags": []
   },
   "outputs": [],
   "source": [
    "import pandas as pd\n",
    "df=pd.read_csv('../input/updated-nlp/data_to_label - data_to_label.csv')"
   ]
  },
  {
   "cell_type": "code",
   "execution_count": 4,
   "id": "f0703305",
   "metadata": {
    "execution": {
     "iopub.execute_input": "2022-09-30T07:44:48.435048Z",
     "iopub.status.busy": "2022-09-30T07:44:48.434078Z",
     "iopub.status.idle": "2022-09-30T07:44:48.454666Z",
     "shell.execute_reply": "2022-09-30T07:44:48.453391Z"
    },
    "papermill": {
     "duration": 0.041275,
     "end_time": "2022-09-30T07:44:48.457046",
     "exception": false,
     "start_time": "2022-09-30T07:44:48.415771",
     "status": "completed"
    },
    "tags": []
   },
   "outputs": [
    {
     "data": {
      "text/html": [
       "<div>\n",
       "<style scoped>\n",
       "    .dataframe tbody tr th:only-of-type {\n",
       "        vertical-align: middle;\n",
       "    }\n",
       "\n",
       "    .dataframe tbody tr th {\n",
       "        vertical-align: top;\n",
       "    }\n",
       "\n",
       "    .dataframe thead th {\n",
       "        text-align: right;\n",
       "    }\n",
       "</style>\n",
       "<table border=\"1\" class=\"dataframe\">\n",
       "  <thead>\n",
       "    <tr style=\"text-align: right;\">\n",
       "      <th></th>\n",
       "      <th>date</th>\n",
       "      <th>Tweet</th>\n",
       "      <th>Rating (0/1/2)</th>\n",
       "      <th>Unnamed: 3</th>\n",
       "    </tr>\n",
       "  </thead>\n",
       "  <tbody>\n",
       "    <tr>\n",
       "      <th>0</th>\n",
       "      <td>2021-07-17 23:58:23+00:00</td>\n",
       "      <td>@do_kaleh @saki_statement @watch_union Ja, vie...</td>\n",
       "      <td>0.0</td>\n",
       "      <td>NaN</td>\n",
       "    </tr>\n",
       "    <tr>\n",
       "      <th>1</th>\n",
       "      <td>2021-07-17 23:56:01+00:00</td>\n",
       "      <td>@gregorgolland scheint sich zu amüsieren. Hat ...</td>\n",
       "      <td>0.0</td>\n",
       "      <td>NaN</td>\n",
       "    </tr>\n",
       "    <tr>\n",
       "      <th>2</th>\n",
       "      <td>2021-07-17 23:54:15+00:00</td>\n",
       "      <td>@welt Super, jetzt kann Supersöder mal zeigen ...</td>\n",
       "      <td>1.0</td>\n",
       "      <td>NaN</td>\n",
       "    </tr>\n",
       "    <tr>\n",
       "      <th>3</th>\n",
       "      <td>2021-07-17 23:52:51+00:00</td>\n",
       "      <td>Der Kampf gegen den Klimawandel ist aussichtsl...</td>\n",
       "      <td>0.0</td>\n",
       "      <td>NaN</td>\n",
       "    </tr>\n",
       "    <tr>\n",
       "      <th>4</th>\n",
       "      <td>2021-07-17 23:52:15+00:00</td>\n",
       "      <td>@ralphruthe @wolliane Wegen einem Riss im Aqua...</td>\n",
       "      <td>1.0</td>\n",
       "      <td>NaN</td>\n",
       "    </tr>\n",
       "  </tbody>\n",
       "</table>\n",
       "</div>"
      ],
      "text/plain": [
       "                        date  \\\n",
       "0  2021-07-17 23:58:23+00:00   \n",
       "1  2021-07-17 23:56:01+00:00   \n",
       "2  2021-07-17 23:54:15+00:00   \n",
       "3  2021-07-17 23:52:51+00:00   \n",
       "4  2021-07-17 23:52:15+00:00   \n",
       "\n",
       "                                               Tweet  Rating (0/1/2)  \\\n",
       "0  @do_kaleh @saki_statement @watch_union Ja, vie...             0.0   \n",
       "1  @gregorgolland scheint sich zu amüsieren. Hat ...             0.0   \n",
       "2  @welt Super, jetzt kann Supersöder mal zeigen ...             1.0   \n",
       "3  Der Kampf gegen den Klimawandel ist aussichtsl...             0.0   \n",
       "4  @ralphruthe @wolliane Wegen einem Riss im Aqua...             1.0   \n",
       "\n",
       "  Unnamed: 3  \n",
       "0        NaN  \n",
       "1        NaN  \n",
       "2        NaN  \n",
       "3        NaN  \n",
       "4        NaN  "
      ]
     },
     "execution_count": 4,
     "metadata": {},
     "output_type": "execute_result"
    }
   ],
   "source": [
    "df.head()"
   ]
  },
  {
   "cell_type": "code",
   "execution_count": 5,
   "id": "a9986c40",
   "metadata": {
    "execution": {
     "iopub.execute_input": "2022-09-30T07:44:48.492735Z",
     "iopub.status.busy": "2022-09-30T07:44:48.492292Z",
     "iopub.status.idle": "2022-09-30T07:44:48.505152Z",
     "shell.execute_reply": "2022-09-30T07:44:48.504241Z"
    },
    "papermill": {
     "duration": 0.033357,
     "end_time": "2022-09-30T07:44:48.507287",
     "exception": false,
     "start_time": "2022-09-30T07:44:48.473930",
     "status": "completed"
    },
    "tags": []
   },
   "outputs": [],
   "source": [
    "new = df[['Tweet','Rating (0/1/2)']]"
   ]
  },
  {
   "cell_type": "code",
   "execution_count": 6,
   "id": "bf050c4d",
   "metadata": {
    "execution": {
     "iopub.execute_input": "2022-09-30T07:44:48.542209Z",
     "iopub.status.busy": "2022-09-30T07:44:48.541769Z",
     "iopub.status.idle": "2022-09-30T07:44:48.557448Z",
     "shell.execute_reply": "2022-09-30T07:44:48.556637Z"
    },
    "papermill": {
     "duration": 0.035503,
     "end_time": "2022-09-30T07:44:48.559409",
     "exception": false,
     "start_time": "2022-09-30T07:44:48.523906",
     "status": "completed"
    },
    "tags": []
   },
   "outputs": [
    {
     "data": {
      "text/html": [
       "<div>\n",
       "<style scoped>\n",
       "    .dataframe tbody tr th:only-of-type {\n",
       "        vertical-align: middle;\n",
       "    }\n",
       "\n",
       "    .dataframe tbody tr th {\n",
       "        vertical-align: top;\n",
       "    }\n",
       "\n",
       "    .dataframe thead th {\n",
       "        text-align: right;\n",
       "    }\n",
       "</style>\n",
       "<table border=\"1\" class=\"dataframe\">\n",
       "  <thead>\n",
       "    <tr style=\"text-align: right;\">\n",
       "      <th></th>\n",
       "      <th>Tweet</th>\n",
       "      <th>Rating (0/1/2)</th>\n",
       "    </tr>\n",
       "  </thead>\n",
       "  <tbody>\n",
       "    <tr>\n",
       "      <th>0</th>\n",
       "      <td>@do_kaleh @saki_statement @watch_union Ja, vie...</td>\n",
       "      <td>0.0</td>\n",
       "    </tr>\n",
       "    <tr>\n",
       "      <th>1</th>\n",
       "      <td>@gregorgolland scheint sich zu amüsieren. Hat ...</td>\n",
       "      <td>0.0</td>\n",
       "    </tr>\n",
       "    <tr>\n",
       "      <th>2</th>\n",
       "      <td>@welt Super, jetzt kann Supersöder mal zeigen ...</td>\n",
       "      <td>1.0</td>\n",
       "    </tr>\n",
       "    <tr>\n",
       "      <th>3</th>\n",
       "      <td>Der Kampf gegen den Klimawandel ist aussichtsl...</td>\n",
       "      <td>0.0</td>\n",
       "    </tr>\n",
       "    <tr>\n",
       "      <th>4</th>\n",
       "      <td>@ralphruthe @wolliane Wegen einem Riss im Aqua...</td>\n",
       "      <td>1.0</td>\n",
       "    </tr>\n",
       "    <tr>\n",
       "      <th>...</th>\n",
       "      <td>...</td>\n",
       "      <td>...</td>\n",
       "    </tr>\n",
       "    <tr>\n",
       "      <th>46283</th>\n",
       "      <td>@gemusegurke @DiB_Thueringen @GDrehsen @brauch...</td>\n",
       "      <td>10.0</td>\n",
       "    </tr>\n",
       "    <tr>\n",
       "      <th>46284</th>\n",
       "      <td>@Burpeelover alles beweist Klima.</td>\n",
       "      <td>10.0</td>\n",
       "    </tr>\n",
       "    <tr>\n",
       "      <th>46285</th>\n",
       "      <td>@knathumsun Ich sehe, dass unglaubliche viele,...</td>\n",
       "      <td>10.0</td>\n",
       "    </tr>\n",
       "    <tr>\n",
       "      <th>46286</th>\n",
       "      <td>@Christoph_Br98 Weil diese Familien vom Klimaw...</td>\n",
       "      <td>10.0</td>\n",
       "    </tr>\n",
       "    <tr>\n",
       "      <th>46287</th>\n",
       "      <td>@MFrauchigerSVP Extremwetterereignisse stehen ...</td>\n",
       "      <td>10.0</td>\n",
       "    </tr>\n",
       "  </tbody>\n",
       "</table>\n",
       "<p>46288 rows × 2 columns</p>\n",
       "</div>"
      ],
      "text/plain": [
       "                                                   Tweet  Rating (0/1/2)\n",
       "0      @do_kaleh @saki_statement @watch_union Ja, vie...             0.0\n",
       "1      @gregorgolland scheint sich zu amüsieren. Hat ...             0.0\n",
       "2      @welt Super, jetzt kann Supersöder mal zeigen ...             1.0\n",
       "3      Der Kampf gegen den Klimawandel ist aussichtsl...             0.0\n",
       "4      @ralphruthe @wolliane Wegen einem Riss im Aqua...             1.0\n",
       "...                                                  ...             ...\n",
       "46283  @gemusegurke @DiB_Thueringen @GDrehsen @brauch...            10.0\n",
       "46284                  @Burpeelover alles beweist Klima.            10.0\n",
       "46285  @knathumsun Ich sehe, dass unglaubliche viele,...            10.0\n",
       "46286  @Christoph_Br98 Weil diese Familien vom Klimaw...            10.0\n",
       "46287  @MFrauchigerSVP Extremwetterereignisse stehen ...            10.0\n",
       "\n",
       "[46288 rows x 2 columns]"
      ]
     },
     "execution_count": 6,
     "metadata": {},
     "output_type": "execute_result"
    }
   ],
   "source": [
    "new"
   ]
  },
  {
   "cell_type": "code",
   "execution_count": 7,
   "id": "ddc7e6ef",
   "metadata": {
    "execution": {
     "iopub.execute_input": "2022-09-30T07:44:48.594928Z",
     "iopub.status.busy": "2022-09-30T07:44:48.594546Z",
     "iopub.status.idle": "2022-09-30T07:44:48.602201Z",
     "shell.execute_reply": "2022-09-30T07:44:48.600982Z"
    },
    "papermill": {
     "duration": 0.028047,
     "end_time": "2022-09-30T07:44:48.604317",
     "exception": false,
     "start_time": "2022-09-30T07:44:48.576270",
     "status": "completed"
    },
    "tags": []
   },
   "outputs": [],
   "source": [
    "new = new[new['Rating (0/1/2)']!=10]"
   ]
  },
  {
   "cell_type": "code",
   "execution_count": 8,
   "id": "a6ede62c",
   "metadata": {
    "execution": {
     "iopub.execute_input": "2022-09-30T07:44:48.640141Z",
     "iopub.status.busy": "2022-09-30T07:44:48.639068Z",
     "iopub.status.idle": "2022-09-30T07:44:48.652875Z",
     "shell.execute_reply": "2022-09-30T07:44:48.651850Z"
    },
    "papermill": {
     "duration": 0.033829,
     "end_time": "2022-09-30T07:44:48.654825",
     "exception": false,
     "start_time": "2022-09-30T07:44:48.620996",
     "status": "completed"
    },
    "tags": []
   },
   "outputs": [
    {
     "data": {
      "text/html": [
       "<div>\n",
       "<style scoped>\n",
       "    .dataframe tbody tr th:only-of-type {\n",
       "        vertical-align: middle;\n",
       "    }\n",
       "\n",
       "    .dataframe tbody tr th {\n",
       "        vertical-align: top;\n",
       "    }\n",
       "\n",
       "    .dataframe thead th {\n",
       "        text-align: right;\n",
       "    }\n",
       "</style>\n",
       "<table border=\"1\" class=\"dataframe\">\n",
       "  <thead>\n",
       "    <tr style=\"text-align: right;\">\n",
       "      <th></th>\n",
       "      <th>Tweet</th>\n",
       "      <th>Rating (0/1/2)</th>\n",
       "    </tr>\n",
       "  </thead>\n",
       "  <tbody>\n",
       "    <tr>\n",
       "      <th>0</th>\n",
       "      <td>@do_kaleh @saki_statement @watch_union Ja, vie...</td>\n",
       "      <td>0.0</td>\n",
       "    </tr>\n",
       "    <tr>\n",
       "      <th>1</th>\n",
       "      <td>@gregorgolland scheint sich zu amüsieren. Hat ...</td>\n",
       "      <td>0.0</td>\n",
       "    </tr>\n",
       "    <tr>\n",
       "      <th>2</th>\n",
       "      <td>@welt Super, jetzt kann Supersöder mal zeigen ...</td>\n",
       "      <td>1.0</td>\n",
       "    </tr>\n",
       "    <tr>\n",
       "      <th>3</th>\n",
       "      <td>Der Kampf gegen den Klimawandel ist aussichtsl...</td>\n",
       "      <td>0.0</td>\n",
       "    </tr>\n",
       "    <tr>\n",
       "      <th>4</th>\n",
       "      <td>@ralphruthe @wolliane Wegen einem Riss im Aqua...</td>\n",
       "      <td>1.0</td>\n",
       "    </tr>\n",
       "    <tr>\n",
       "      <th>...</th>\n",
       "      <td>...</td>\n",
       "      <td>...</td>\n",
       "    </tr>\n",
       "    <tr>\n",
       "      <th>15956</th>\n",
       "      <td>10</td>\n",
       "      <td>NaN</td>\n",
       "    </tr>\n",
       "    <tr>\n",
       "      <th>28798</th>\n",
       "      <td>Linksgrüne wieder am zur Schau stellen ihrer I...</td>\n",
       "      <td>2.0</td>\n",
       "    </tr>\n",
       "    <tr>\n",
       "      <th>28799</th>\n",
       "      <td>Zum 2. Mal innerhalb von 3 Jahren sind Teile m...</td>\n",
       "      <td>0.0</td>\n",
       "    </tr>\n",
       "    <tr>\n",
       "      <th>41966</th>\n",
       "      <td>DBU - Bonde: Wälder leiden massiv unter der Kl...</td>\n",
       "      <td>NaN</td>\n",
       "    </tr>\n",
       "    <tr>\n",
       "      <th>41967</th>\n",
       "      <td>10</td>\n",
       "      <td>NaN</td>\n",
       "    </tr>\n",
       "  </tbody>\n",
       "</table>\n",
       "<p>336 rows × 2 columns</p>\n",
       "</div>"
      ],
      "text/plain": [
       "                                                   Tweet  Rating (0/1/2)\n",
       "0      @do_kaleh @saki_statement @watch_union Ja, vie...             0.0\n",
       "1      @gregorgolland scheint sich zu amüsieren. Hat ...             0.0\n",
       "2      @welt Super, jetzt kann Supersöder mal zeigen ...             1.0\n",
       "3      Der Kampf gegen den Klimawandel ist aussichtsl...             0.0\n",
       "4      @ralphruthe @wolliane Wegen einem Riss im Aqua...             1.0\n",
       "...                                                  ...             ...\n",
       "15956                                                 10             NaN\n",
       "28798  Linksgrüne wieder am zur Schau stellen ihrer I...             2.0\n",
       "28799  Zum 2. Mal innerhalb von 3 Jahren sind Teile m...             0.0\n",
       "41966  DBU - Bonde: Wälder leiden massiv unter der Kl...             NaN\n",
       "41967                                                 10             NaN\n",
       "\n",
       "[336 rows x 2 columns]"
      ]
     },
     "execution_count": 8,
     "metadata": {},
     "output_type": "execute_result"
    }
   ],
   "source": [
    "new"
   ]
  },
  {
   "cell_type": "code",
   "execution_count": 9,
   "id": "ee77966a",
   "metadata": {
    "execution": {
     "iopub.execute_input": "2022-09-30T07:44:48.690644Z",
     "iopub.status.busy": "2022-09-30T07:44:48.690210Z",
     "iopub.status.idle": "2022-09-30T07:44:48.701964Z",
     "shell.execute_reply": "2022-09-30T07:44:48.700720Z"
    },
    "papermill": {
     "duration": 0.03278,
     "end_time": "2022-09-30T07:44:48.704647",
     "exception": false,
     "start_time": "2022-09-30T07:44:48.671867",
     "status": "completed"
    },
    "tags": []
   },
   "outputs": [
    {
     "name": "stderr",
     "output_type": "stream",
     "text": [
      "/opt/conda/lib/python3.7/site-packages/pandas/util/_decorators.py:311: SettingWithCopyWarning: \n",
      "A value is trying to be set on a copy of a slice from a DataFrame\n",
      "\n",
      "See the caveats in the documentation: https://pandas.pydata.org/pandas-docs/stable/user_guide/indexing.html#returning-a-view-versus-a-copy\n",
      "  return func(*args, **kwargs)\n"
     ]
    }
   ],
   "source": [
    "new.dropna(inplace=True)"
   ]
  },
  {
   "cell_type": "code",
   "execution_count": 10,
   "id": "3d2adcb4",
   "metadata": {
    "execution": {
     "iopub.execute_input": "2022-09-30T07:44:48.741194Z",
     "iopub.status.busy": "2022-09-30T07:44:48.740778Z",
     "iopub.status.idle": "2022-09-30T07:44:48.746950Z",
     "shell.execute_reply": "2022-09-30T07:44:48.745845Z"
    },
    "papermill": {
     "duration": 0.027009,
     "end_time": "2022-09-30T07:44:48.749155",
     "exception": false,
     "start_time": "2022-09-30T07:44:48.722146",
     "status": "completed"
    },
    "tags": []
   },
   "outputs": [],
   "source": [
    "new.reset_index(inplace=True)"
   ]
  },
  {
   "cell_type": "code",
   "execution_count": 11,
   "id": "71241808",
   "metadata": {
    "execution": {
     "iopub.execute_input": "2022-09-30T07:44:48.784649Z",
     "iopub.status.busy": "2022-09-30T07:44:48.784236Z",
     "iopub.status.idle": "2022-09-30T07:44:48.798889Z",
     "shell.execute_reply": "2022-09-30T07:44:48.797810Z"
    },
    "papermill": {
     "duration": 0.035006,
     "end_time": "2022-09-30T07:44:48.801065",
     "exception": false,
     "start_time": "2022-09-30T07:44:48.766059",
     "status": "completed"
    },
    "tags": []
   },
   "outputs": [
    {
     "data": {
      "text/html": [
       "<div>\n",
       "<style scoped>\n",
       "    .dataframe tbody tr th:only-of-type {\n",
       "        vertical-align: middle;\n",
       "    }\n",
       "\n",
       "    .dataframe tbody tr th {\n",
       "        vertical-align: top;\n",
       "    }\n",
       "\n",
       "    .dataframe thead th {\n",
       "        text-align: right;\n",
       "    }\n",
       "</style>\n",
       "<table border=\"1\" class=\"dataframe\">\n",
       "  <thead>\n",
       "    <tr style=\"text-align: right;\">\n",
       "      <th></th>\n",
       "      <th>index</th>\n",
       "      <th>Tweet</th>\n",
       "      <th>Rating (0/1/2)</th>\n",
       "    </tr>\n",
       "  </thead>\n",
       "  <tbody>\n",
       "    <tr>\n",
       "      <th>0</th>\n",
       "      <td>0</td>\n",
       "      <td>@do_kaleh @saki_statement @watch_union Ja, vie...</td>\n",
       "      <td>0.0</td>\n",
       "    </tr>\n",
       "    <tr>\n",
       "      <th>1</th>\n",
       "      <td>1</td>\n",
       "      <td>@gregorgolland scheint sich zu amüsieren. Hat ...</td>\n",
       "      <td>0.0</td>\n",
       "    </tr>\n",
       "    <tr>\n",
       "      <th>2</th>\n",
       "      <td>2</td>\n",
       "      <td>@welt Super, jetzt kann Supersöder mal zeigen ...</td>\n",
       "      <td>1.0</td>\n",
       "    </tr>\n",
       "    <tr>\n",
       "      <th>3</th>\n",
       "      <td>3</td>\n",
       "      <td>Der Kampf gegen den Klimawandel ist aussichtsl...</td>\n",
       "      <td>0.0</td>\n",
       "    </tr>\n",
       "    <tr>\n",
       "      <th>4</th>\n",
       "      <td>4</td>\n",
       "      <td>@ralphruthe @wolliane Wegen einem Riss im Aqua...</td>\n",
       "      <td>1.0</td>\n",
       "    </tr>\n",
       "    <tr>\n",
       "      <th>...</th>\n",
       "      <td>...</td>\n",
       "      <td>...</td>\n",
       "      <td>...</td>\n",
       "    </tr>\n",
       "    <tr>\n",
       "      <th>327</th>\n",
       "      <td>8606</td>\n",
       "      <td>@FrauKreis Weg mit dem Mann. \\nMit @ABaerbock ...</td>\n",
       "      <td>0.0</td>\n",
       "    </tr>\n",
       "    <tr>\n",
       "      <th>328</th>\n",
       "      <td>8607</td>\n",
       "      <td>@virtualtotte Ich spreche nicht davon, dass wi...</td>\n",
       "      <td>0.0</td>\n",
       "    </tr>\n",
       "    <tr>\n",
       "      <th>329</th>\n",
       "      <td>8608</td>\n",
       "      <td>Jetzt sagt sie erstmals #Klima - und fordert e...</td>\n",
       "      <td>1.0</td>\n",
       "    </tr>\n",
       "    <tr>\n",
       "      <th>330</th>\n",
       "      <td>28798</td>\n",
       "      <td>Linksgrüne wieder am zur Schau stellen ihrer I...</td>\n",
       "      <td>2.0</td>\n",
       "    </tr>\n",
       "    <tr>\n",
       "      <th>331</th>\n",
       "      <td>28799</td>\n",
       "      <td>Zum 2. Mal innerhalb von 3 Jahren sind Teile m...</td>\n",
       "      <td>0.0</td>\n",
       "    </tr>\n",
       "  </tbody>\n",
       "</table>\n",
       "<p>332 rows × 3 columns</p>\n",
       "</div>"
      ],
      "text/plain": [
       "     index                                              Tweet  Rating (0/1/2)\n",
       "0        0  @do_kaleh @saki_statement @watch_union Ja, vie...             0.0\n",
       "1        1  @gregorgolland scheint sich zu amüsieren. Hat ...             0.0\n",
       "2        2  @welt Super, jetzt kann Supersöder mal zeigen ...             1.0\n",
       "3        3  Der Kampf gegen den Klimawandel ist aussichtsl...             0.0\n",
       "4        4  @ralphruthe @wolliane Wegen einem Riss im Aqua...             1.0\n",
       "..     ...                                                ...             ...\n",
       "327   8606  @FrauKreis Weg mit dem Mann. \\nMit @ABaerbock ...             0.0\n",
       "328   8607  @virtualtotte Ich spreche nicht davon, dass wi...             0.0\n",
       "329   8608  Jetzt sagt sie erstmals #Klima - und fordert e...             1.0\n",
       "330  28798  Linksgrüne wieder am zur Schau stellen ihrer I...             2.0\n",
       "331  28799  Zum 2. Mal innerhalb von 3 Jahren sind Teile m...             0.0\n",
       "\n",
       "[332 rows x 3 columns]"
      ]
     },
     "execution_count": 11,
     "metadata": {},
     "output_type": "execute_result"
    }
   ],
   "source": [
    "new"
   ]
  },
  {
   "cell_type": "code",
   "execution_count": 12,
   "id": "2441ff56",
   "metadata": {
    "execution": {
     "iopub.execute_input": "2022-09-30T07:44:48.837168Z",
     "iopub.status.busy": "2022-09-30T07:44:48.836764Z",
     "iopub.status.idle": "2022-09-30T07:44:48.842497Z",
     "shell.execute_reply": "2022-09-30T07:44:48.841373Z"
    },
    "papermill": {
     "duration": 0.026446,
     "end_time": "2022-09-30T07:44:48.844823",
     "exception": false,
     "start_time": "2022-09-30T07:44:48.818377",
     "status": "completed"
    },
    "tags": []
   },
   "outputs": [],
   "source": [
    "X_train = new['Tweet'].copy()\n",
    "y_train = new['Rating (0/1/2)'].copy()"
   ]
  },
  {
   "cell_type": "code",
   "execution_count": 13,
   "id": "6df6ad30",
   "metadata": {
    "execution": {
     "iopub.execute_input": "2022-09-30T07:44:48.881406Z",
     "iopub.status.busy": "2022-09-30T07:44:48.880957Z",
     "iopub.status.idle": "2022-09-30T07:44:48.889439Z",
     "shell.execute_reply": "2022-09-30T07:44:48.888380Z"
    },
    "papermill": {
     "duration": 0.02925,
     "end_time": "2022-09-30T07:44:48.891504",
     "exception": false,
     "start_time": "2022-09-30T07:44:48.862254",
     "status": "completed"
    },
    "tags": []
   },
   "outputs": [
    {
     "data": {
      "text/plain": [
       "0      @do_kaleh @saki_statement @watch_union Ja, vie...\n",
       "1      @gregorgolland scheint sich zu amüsieren. Hat ...\n",
       "2      @welt Super, jetzt kann Supersöder mal zeigen ...\n",
       "3      Der Kampf gegen den Klimawandel ist aussichtsl...\n",
       "4      @ralphruthe @wolliane Wegen einem Riss im Aqua...\n",
       "                             ...                        \n",
       "327    @FrauKreis Weg mit dem Mann. \\nMit @ABaerbock ...\n",
       "328    @virtualtotte Ich spreche nicht davon, dass wi...\n",
       "329    Jetzt sagt sie erstmals #Klima - und fordert e...\n",
       "330    Linksgrüne wieder am zur Schau stellen ihrer I...\n",
       "331    Zum 2. Mal innerhalb von 3 Jahren sind Teile m...\n",
       "Name: Tweet, Length: 332, dtype: object"
      ]
     },
     "execution_count": 13,
     "metadata": {},
     "output_type": "execute_result"
    }
   ],
   "source": [
    "X_train"
   ]
  },
  {
   "cell_type": "code",
   "execution_count": 14,
   "id": "de1a1e3b",
   "metadata": {
    "execution": {
     "iopub.execute_input": "2022-09-30T07:44:48.928430Z",
     "iopub.status.busy": "2022-09-30T07:44:48.927734Z",
     "iopub.status.idle": "2022-09-30T07:44:50.037823Z",
     "shell.execute_reply": "2022-09-30T07:44:50.036602Z"
    },
    "papermill": {
     "duration": 1.131722,
     "end_time": "2022-09-30T07:44:50.040752",
     "exception": false,
     "start_time": "2022-09-30T07:44:48.909030",
     "status": "completed"
    },
    "tags": []
   },
   "outputs": [],
   "source": [
    "full = pd.read_csv('../input/full-flood/full30.csv', lineterminator = '\\n')"
   ]
  },
  {
   "cell_type": "code",
   "execution_count": 15,
   "id": "f1b84a2b",
   "metadata": {
    "execution": {
     "iopub.execute_input": "2022-09-30T07:44:50.077354Z",
     "iopub.status.busy": "2022-09-30T07:44:50.076924Z",
     "iopub.status.idle": "2022-09-30T07:44:50.092521Z",
     "shell.execute_reply": "2022-09-30T07:44:50.091409Z"
    },
    "papermill": {
     "duration": 0.036479,
     "end_time": "2022-09-30T07:44:50.094818",
     "exception": false,
     "start_time": "2022-09-30T07:44:50.058339",
     "status": "completed"
    },
    "tags": []
   },
   "outputs": [
    {
     "data": {
      "text/html": [
       "<div>\n",
       "<style scoped>\n",
       "    .dataframe tbody tr th:only-of-type {\n",
       "        vertical-align: middle;\n",
       "    }\n",
       "\n",
       "    .dataframe tbody tr th {\n",
       "        vertical-align: top;\n",
       "    }\n",
       "\n",
       "    .dataframe thead th {\n",
       "        text-align: right;\n",
       "    }\n",
       "</style>\n",
       "<table border=\"1\" class=\"dataframe\">\n",
       "  <thead>\n",
       "    <tr style=\"text-align: right;\">\n",
       "      <th></th>\n",
       "      <th>Unnamed: 0</th>\n",
       "      <th>date</th>\n",
       "      <th>User</th>\n",
       "      <th>Tweet</th>\n",
       "    </tr>\n",
       "  </thead>\n",
       "  <tbody>\n",
       "    <tr>\n",
       "      <th>0</th>\n",
       "      <td>0</td>\n",
       "      <td>2021-07-29 23:58:48+00:00</td>\n",
       "      <td>Porticus2</td>\n",
       "      <td>Bevor Herr @MarkusSöder solches Klima-Trallala...</td>\n",
       "    </tr>\n",
       "    <tr>\n",
       "      <th>1</th>\n",
       "      <td>1</td>\n",
       "      <td>2021-07-29 23:57:38+00:00</td>\n",
       "      <td>watch_union</td>\n",
       "      <td>Der Vorstandsvorsitzende von #VW zerstört bei ...</td>\n",
       "    </tr>\n",
       "    <tr>\n",
       "      <th>2</th>\n",
       "      <td>2</td>\n",
       "      <td>2021-07-29 23:56:57+00:00</td>\n",
       "      <td>NiklasCcr</td>\n",
       "      <td>@raichubvb Klimawandel. Die Menschen müssen en...</td>\n",
       "    </tr>\n",
       "    <tr>\n",
       "      <th>3</th>\n",
       "      <td>3</td>\n",
       "      <td>2021-07-29 23:53:53+00:00</td>\n",
       "      <td>SvenPhenix</td>\n",
       "      <td>Jetzt in einer Zeit voller Krisen: #COVID19, #...</td>\n",
       "    </tr>\n",
       "    <tr>\n",
       "      <th>4</th>\n",
       "      <td>4</td>\n",
       "      <td>2021-07-29 23:52:19+00:00</td>\n",
       "      <td>brokenspirits</td>\n",
       "      <td>Und nochmal etwas weitergedacht: Während hier ...</td>\n",
       "    </tr>\n",
       "    <tr>\n",
       "      <th>...</th>\n",
       "      <td>...</td>\n",
       "      <td>...</td>\n",
       "      <td>...</td>\n",
       "      <td>...</td>\n",
       "    </tr>\n",
       "    <tr>\n",
       "      <th>118724</th>\n",
       "      <td>118724</td>\n",
       "      <td>2021-07-01 00:09:08+00:00</td>\n",
       "      <td>SenorTenor</td>\n",
       "      <td>@nukeman11859765 @DerClue @VeroWendland @fwies...</td>\n",
       "    </tr>\n",
       "    <tr>\n",
       "      <th>118725</th>\n",
       "      <td>118725</td>\n",
       "      <td>2021-07-01 00:07:01+00:00</td>\n",
       "      <td>f_talmon</td>\n",
       "      <td>Nur wenn es gelingt den #Klimawandel zu stoppe...</td>\n",
       "    </tr>\n",
       "    <tr>\n",
       "      <th>118726</th>\n",
       "      <td>118726</td>\n",
       "      <td>2021-07-01 00:06:29+00:00</td>\n",
       "      <td>RRMeyer2</td>\n",
       "      <td>@SenorTenor @MoormannRainer @amardeo @DerClue ...</td>\n",
       "    </tr>\n",
       "    <tr>\n",
       "      <th>118727</th>\n",
       "      <td>118727</td>\n",
       "      <td>2021-07-01 00:03:50+00:00</td>\n",
       "      <td>SenorTenor</td>\n",
       "      <td>@MoormannRainer @DerClue @VeroWendland @fwiesc...</td>\n",
       "    </tr>\n",
       "    <tr>\n",
       "      <th>118728</th>\n",
       "      <td>118728</td>\n",
       "      <td>2021-07-01 00:01:23+00:00</td>\n",
       "      <td>SenorTenor</td>\n",
       "      <td>@MoormannRainer @DerClue @VeroWendland @fwiesc...</td>\n",
       "    </tr>\n",
       "  </tbody>\n",
       "</table>\n",
       "<p>118729 rows × 4 columns</p>\n",
       "</div>"
      ],
      "text/plain": [
       "        Unnamed: 0                       date           User  \\\n",
       "0                0  2021-07-29 23:58:48+00:00      Porticus2   \n",
       "1                1  2021-07-29 23:57:38+00:00    watch_union   \n",
       "2                2  2021-07-29 23:56:57+00:00      NiklasCcr   \n",
       "3                3  2021-07-29 23:53:53+00:00     SvenPhenix   \n",
       "4                4  2021-07-29 23:52:19+00:00  brokenspirits   \n",
       "...            ...                        ...            ...   \n",
       "118724      118724  2021-07-01 00:09:08+00:00     SenorTenor   \n",
       "118725      118725  2021-07-01 00:07:01+00:00       f_talmon   \n",
       "118726      118726  2021-07-01 00:06:29+00:00       RRMeyer2   \n",
       "118727      118727  2021-07-01 00:03:50+00:00     SenorTenor   \n",
       "118728      118728  2021-07-01 00:01:23+00:00     SenorTenor   \n",
       "\n",
       "                                                    Tweet  \n",
       "0       Bevor Herr @MarkusSöder solches Klima-Trallala...  \n",
       "1       Der Vorstandsvorsitzende von #VW zerstört bei ...  \n",
       "2       @raichubvb Klimawandel. Die Menschen müssen en...  \n",
       "3       Jetzt in einer Zeit voller Krisen: #COVID19, #...  \n",
       "4       Und nochmal etwas weitergedacht: Während hier ...  \n",
       "...                                                   ...  \n",
       "118724  @nukeman11859765 @DerClue @VeroWendland @fwies...  \n",
       "118725  Nur wenn es gelingt den #Klimawandel zu stoppe...  \n",
       "118726  @SenorTenor @MoormannRainer @amardeo @DerClue ...  \n",
       "118727  @MoormannRainer @DerClue @VeroWendland @fwiesc...  \n",
       "118728  @MoormannRainer @DerClue @VeroWendland @fwiesc...  \n",
       "\n",
       "[118729 rows x 4 columns]"
      ]
     },
     "execution_count": 15,
     "metadata": {},
     "output_type": "execute_result"
    }
   ],
   "source": [
    "full"
   ]
  },
  {
   "cell_type": "code",
   "execution_count": 16,
   "id": "9ea54a90",
   "metadata": {
    "execution": {
     "iopub.execute_input": "2022-09-30T07:44:50.133063Z",
     "iopub.status.busy": "2022-09-30T07:44:50.132657Z",
     "iopub.status.idle": "2022-09-30T07:44:50.141233Z",
     "shell.execute_reply": "2022-09-30T07:44:50.140323Z"
    },
    "papermill": {
     "duration": 0.030499,
     "end_time": "2022-09-30T07:44:50.143442",
     "exception": false,
     "start_time": "2022-09-30T07:44:50.112943",
     "status": "completed"
    },
    "tags": []
   },
   "outputs": [],
   "source": [
    "X_predict=full.copy()"
   ]
  },
  {
   "cell_type": "code",
   "execution_count": null,
   "id": "3ecc7187",
   "metadata": {
    "papermill": {
     "duration": 0.017472,
     "end_time": "2022-09-30T07:44:50.178868",
     "exception": false,
     "start_time": "2022-09-30T07:44:50.161396",
     "status": "completed"
    },
    "tags": []
   },
   "outputs": [],
   "source": []
  },
  {
   "cell_type": "code",
   "execution_count": 17,
   "id": "a0f83d5a",
   "metadata": {
    "execution": {
     "iopub.execute_input": "2022-09-30T07:44:50.217032Z",
     "iopub.status.busy": "2022-09-30T07:44:50.215871Z",
     "iopub.status.idle": "2022-09-30T07:44:56.059375Z",
     "shell.execute_reply": "2022-09-30T07:44:56.057939Z"
    },
    "papermill": {
     "duration": 5.865788,
     "end_time": "2022-09-30T07:44:56.062520",
     "exception": false,
     "start_time": "2022-09-30T07:44:50.196732",
     "status": "completed"
    },
    "tags": []
   },
   "outputs": [],
   "source": [
    "import re\n",
    "import spacy\n",
    "nlp = spacy.load('de_core_news_md')\n",
    "corpus = []\n",
    "for i in range(0, len(new)):\n",
    "    tweet = re.sub('@|,|#|;|:|\\n', '', X_train[i])\n",
    "    tweet = re.sub('\\.',' ',tweet)\n",
    "    doc=nlp(tweet)\n",
    "    result = ' '.join([x.lemma_ for x in doc]) \n",
    "    corpus.append(result)"
   ]
  },
  {
   "cell_type": "code",
   "execution_count": 18,
   "id": "f6edac5e",
   "metadata": {
    "execution": {
     "iopub.execute_input": "2022-09-30T07:44:56.107299Z",
     "iopub.status.busy": "2022-09-30T07:44:56.106782Z",
     "iopub.status.idle": "2022-09-30T07:44:56.117764Z",
     "shell.execute_reply": "2022-09-30T07:44:56.116691Z"
    },
    "papermill": {
     "duration": 0.035865,
     "end_time": "2022-09-30T07:44:56.120446",
     "exception": false,
     "start_time": "2022-09-30T07:44:56.084581",
     "status": "completed"
    },
    "tags": []
   },
   "outputs": [
    {
     "data": {
      "text/plain": [
       "0      @do_kaleh @saki_statement @watch_union Ja, vie...\n",
       "1      @gregorgolland scheint sich zu amüsieren. Hat ...\n",
       "2      @welt Super, jetzt kann Supersöder mal zeigen ...\n",
       "3      Der Kampf gegen den Klimawandel ist aussichtsl...\n",
       "4      @ralphruthe @wolliane Wegen einem Riss im Aqua...\n",
       "                             ...                        \n",
       "327    @FrauKreis Weg mit dem Mann. \\nMit @ABaerbock ...\n",
       "328    @virtualtotte Ich spreche nicht davon, dass wi...\n",
       "329    Jetzt sagt sie erstmals #Klima - und fordert e...\n",
       "330    Linksgrüne wieder am zur Schau stellen ihrer I...\n",
       "331    Zum 2. Mal innerhalb von 3 Jahren sind Teile m...\n",
       "Name: Tweet, Length: 332, dtype: object"
      ]
     },
     "execution_count": 18,
     "metadata": {},
     "output_type": "execute_result"
    }
   ],
   "source": [
    "X_train"
   ]
  },
  {
   "cell_type": "code",
   "execution_count": 19,
   "id": "5256b760",
   "metadata": {
    "execution": {
     "iopub.execute_input": "2022-09-30T07:44:56.169131Z",
     "iopub.status.busy": "2022-09-30T07:44:56.168691Z",
     "iopub.status.idle": "2022-09-30T07:44:56.176289Z",
     "shell.execute_reply": "2022-09-30T07:44:56.174874Z"
    },
    "papermill": {
     "duration": 0.033323,
     "end_time": "2022-09-30T07:44:56.179070",
     "exception": false,
     "start_time": "2022-09-30T07:44:56.145747",
     "status": "completed"
    },
    "tags": []
   },
   "outputs": [
    {
     "data": {
      "text/plain": [
       "['do_kaleh saki_statement watch_union Ja vieler Mensch sein m d   Werbespruch -- Fleisch sein ein Stück Lebenskraft -- aufwachsen      u   saki_statement sein sonst eigentl   mehr ironisch -- witzig     hier können ich der nicht erkennen   anderer Lebewesen -- ohne Not -- zu essen -- plus Klimawandel -- der sein gestrig nicht witzig',\n",
       " 'Gregorgolland scheinen sich zu amüsieren   haben er doch selbst schon Million von europäisch Hauptverursacher der Klimakrise dafür bekommen sein Wähler zu verraten   der paar tote in eigen Wahlkreis vermiesen ihm da doch nicht der Laune   https//t co -- 5nSk6D7Ki7',\n",
       " 'Welt Super jetzt können Supersöder mal zeigen was er können      Klima    Wetter -- was nu --',\n",
       " 'der Kampf gegen der Klimawandel sein aussichtslos   wenn es nicht gelingen Afrika und Asien in Boot zu holen es sein nett wenn Österreich und Norwegen auf Elektro Auto umsteigen gleichzeitig schlägern hundert Million Afrikaner Baum weil sie Essen kochen wollen',\n",
       " 'Ralphruthe wollian wegen ein Riss in Aquarium ändern man doch nicht sein Politik -- frei nach LaschetDarfNichtKanzlerWerde Klimakatastrophe klimakris']"
      ]
     },
     "execution_count": 19,
     "metadata": {},
     "output_type": "execute_result"
    }
   ],
   "source": [
    "corpus[:5]"
   ]
  },
  {
   "cell_type": "code",
   "execution_count": 20,
   "id": "70e1f1ec",
   "metadata": {
    "execution": {
     "iopub.execute_input": "2022-09-30T07:44:56.219445Z",
     "iopub.status.busy": "2022-09-30T07:44:56.218580Z",
     "iopub.status.idle": "2022-09-30T07:44:59.628063Z",
     "shell.execute_reply": "2022-09-30T07:44:59.626912Z"
    },
    "papermill": {
     "duration": 3.432422,
     "end_time": "2022-09-30T07:44:59.631002",
     "exception": false,
     "start_time": "2022-09-30T07:44:56.198580",
     "status": "completed"
    },
    "tags": []
   },
   "outputs": [],
   "source": [
    "from sklearn.feature_extraction.text import TfidfVectorizer\n",
    "vectorizer=TfidfVectorizer()\n",
    "X_train=vectorizer.fit_transform(corpus)\n",
    "X_predict=vectorizer.transform(X_predict['Tweet'])"
   ]
  },
  {
   "cell_type": "code",
   "execution_count": 21,
   "id": "40bf65a3",
   "metadata": {
    "execution": {
     "iopub.execute_input": "2022-09-30T07:44:59.671069Z",
     "iopub.status.busy": "2022-09-30T07:44:59.670654Z",
     "iopub.status.idle": "2022-09-30T07:44:59.677263Z",
     "shell.execute_reply": "2022-09-30T07:44:59.676249Z"
    },
    "papermill": {
     "duration": 0.029059,
     "end_time": "2022-09-30T07:44:59.679539",
     "exception": false,
     "start_time": "2022-09-30T07:44:59.650480",
     "status": "completed"
    },
    "tags": []
   },
   "outputs": [
    {
     "data": {
      "text/plain": [
       "(332, 2736)"
      ]
     },
     "execution_count": 21,
     "metadata": {},
     "output_type": "execute_result"
    }
   ],
   "source": [
    "X_train.shape"
   ]
  },
  {
   "cell_type": "code",
   "execution_count": 22,
   "id": "9a462e2a",
   "metadata": {
    "execution": {
     "iopub.execute_input": "2022-09-30T07:44:59.718846Z",
     "iopub.status.busy": "2022-09-30T07:44:59.718408Z",
     "iopub.status.idle": "2022-09-30T07:44:59.724344Z",
     "shell.execute_reply": "2022-09-30T07:44:59.723584Z"
    },
    "papermill": {
     "duration": 0.027884,
     "end_time": "2022-09-30T07:44:59.726343",
     "exception": false,
     "start_time": "2022-09-30T07:44:59.698459",
     "status": "completed"
    },
    "tags": []
   },
   "outputs": [
    {
     "data": {
      "text/plain": [
       "<118729x2736 sparse matrix of type '<class 'numpy.float64'>'\n",
       "\twith 1743757 stored elements in Compressed Sparse Row format>"
      ]
     },
     "execution_count": 22,
     "metadata": {},
     "output_type": "execute_result"
    }
   ],
   "source": [
    "X_predict"
   ]
  },
  {
   "cell_type": "code",
   "execution_count": 23,
   "id": "870c9b49",
   "metadata": {
    "execution": {
     "iopub.execute_input": "2022-09-30T07:44:59.765582Z",
     "iopub.status.busy": "2022-09-30T07:44:59.764893Z",
     "iopub.status.idle": "2022-09-30T07:44:59.941035Z",
     "shell.execute_reply": "2022-09-30T07:44:59.940057Z"
    },
    "papermill": {
     "duration": 0.198225,
     "end_time": "2022-09-30T07:44:59.943422",
     "exception": false,
     "start_time": "2022-09-30T07:44:59.745197",
     "status": "completed"
    },
    "tags": []
   },
   "outputs": [
    {
     "data": {
      "text/plain": [
       "SVC(C=100, kernel='linear')"
      ]
     },
     "execution_count": 23,
     "metadata": {},
     "output_type": "execute_result"
    }
   ],
   "source": [
    "from sklearn import svm\n",
    "svm_classifier=svm.SVC(kernel='linear',C=100)\n",
    "svm_classifier.fit(X_train,y_train)"
   ]
  },
  {
   "cell_type": "code",
   "execution_count": 24,
   "id": "8112d1b8",
   "metadata": {
    "execution": {
     "iopub.execute_input": "2022-09-30T07:44:59.985149Z",
     "iopub.status.busy": "2022-09-30T07:44:59.984736Z",
     "iopub.status.idle": "2022-09-30T07:45:08.152021Z",
     "shell.execute_reply": "2022-09-30T07:45:08.151059Z"
    },
    "papermill": {
     "duration": 8.191139,
     "end_time": "2022-09-30T07:45:08.154512",
     "exception": false,
     "start_time": "2022-09-30T07:44:59.963373",
     "status": "completed"
    },
    "tags": []
   },
   "outputs": [],
   "source": [
    "predictions = svm_classifier.predict(X_predict)"
   ]
  },
  {
   "cell_type": "code",
   "execution_count": 25,
   "id": "f6f3a865",
   "metadata": {
    "execution": {
     "iopub.execute_input": "2022-09-30T07:45:08.194361Z",
     "iopub.status.busy": "2022-09-30T07:45:08.193582Z",
     "iopub.status.idle": "2022-09-30T07:45:08.199552Z",
     "shell.execute_reply": "2022-09-30T07:45:08.198506Z"
    },
    "papermill": {
     "duration": 0.028307,
     "end_time": "2022-09-30T07:45:08.201781",
     "exception": false,
     "start_time": "2022-09-30T07:45:08.173474",
     "status": "completed"
    },
    "tags": []
   },
   "outputs": [],
   "source": [
    "full['Rating (0/1/2) ']=predictions"
   ]
  },
  {
   "cell_type": "code",
   "execution_count": 26,
   "id": "a79f144e",
   "metadata": {
    "execution": {
     "iopub.execute_input": "2022-09-30T07:45:08.239935Z",
     "iopub.status.busy": "2022-09-30T07:45:08.239530Z",
     "iopub.status.idle": "2022-09-30T07:45:08.255535Z",
     "shell.execute_reply": "2022-09-30T07:45:08.254661Z"
    },
    "papermill": {
     "duration": 0.037523,
     "end_time": "2022-09-30T07:45:08.257516",
     "exception": false,
     "start_time": "2022-09-30T07:45:08.219993",
     "status": "completed"
    },
    "tags": []
   },
   "outputs": [
    {
     "data": {
      "text/html": [
       "<div>\n",
       "<style scoped>\n",
       "    .dataframe tbody tr th:only-of-type {\n",
       "        vertical-align: middle;\n",
       "    }\n",
       "\n",
       "    .dataframe tbody tr th {\n",
       "        vertical-align: top;\n",
       "    }\n",
       "\n",
       "    .dataframe thead th {\n",
       "        text-align: right;\n",
       "    }\n",
       "</style>\n",
       "<table border=\"1\" class=\"dataframe\">\n",
       "  <thead>\n",
       "    <tr style=\"text-align: right;\">\n",
       "      <th></th>\n",
       "      <th>Unnamed: 0</th>\n",
       "      <th>date</th>\n",
       "      <th>User</th>\n",
       "      <th>Tweet</th>\n",
       "      <th>Rating (0/1/2)</th>\n",
       "    </tr>\n",
       "  </thead>\n",
       "  <tbody>\n",
       "    <tr>\n",
       "      <th>0</th>\n",
       "      <td>0</td>\n",
       "      <td>2021-07-29 23:58:48+00:00</td>\n",
       "      <td>Porticus2</td>\n",
       "      <td>Bevor Herr @MarkusSöder solches Klima-Trallala...</td>\n",
       "      <td>1.0</td>\n",
       "    </tr>\n",
       "    <tr>\n",
       "      <th>1</th>\n",
       "      <td>1</td>\n",
       "      <td>2021-07-29 23:57:38+00:00</td>\n",
       "      <td>watch_union</td>\n",
       "      <td>Der Vorstandsvorsitzende von #VW zerstört bei ...</td>\n",
       "      <td>0.0</td>\n",
       "    </tr>\n",
       "    <tr>\n",
       "      <th>2</th>\n",
       "      <td>2</td>\n",
       "      <td>2021-07-29 23:56:57+00:00</td>\n",
       "      <td>NiklasCcr</td>\n",
       "      <td>@raichubvb Klimawandel. Die Menschen müssen en...</td>\n",
       "      <td>0.0</td>\n",
       "    </tr>\n",
       "    <tr>\n",
       "      <th>3</th>\n",
       "      <td>3</td>\n",
       "      <td>2021-07-29 23:53:53+00:00</td>\n",
       "      <td>SvenPhenix</td>\n",
       "      <td>Jetzt in einer Zeit voller Krisen: #COVID19, #...</td>\n",
       "      <td>0.0</td>\n",
       "    </tr>\n",
       "    <tr>\n",
       "      <th>4</th>\n",
       "      <td>4</td>\n",
       "      <td>2021-07-29 23:52:19+00:00</td>\n",
       "      <td>brokenspirits</td>\n",
       "      <td>Und nochmal etwas weitergedacht: Während hier ...</td>\n",
       "      <td>0.0</td>\n",
       "    </tr>\n",
       "    <tr>\n",
       "      <th>...</th>\n",
       "      <td>...</td>\n",
       "      <td>...</td>\n",
       "      <td>...</td>\n",
       "      <td>...</td>\n",
       "      <td>...</td>\n",
       "    </tr>\n",
       "    <tr>\n",
       "      <th>118724</th>\n",
       "      <td>118724</td>\n",
       "      <td>2021-07-01 00:09:08+00:00</td>\n",
       "      <td>SenorTenor</td>\n",
       "      <td>@nukeman11859765 @DerClue @VeroWendland @fwies...</td>\n",
       "      <td>1.0</td>\n",
       "    </tr>\n",
       "    <tr>\n",
       "      <th>118725</th>\n",
       "      <td>118725</td>\n",
       "      <td>2021-07-01 00:07:01+00:00</td>\n",
       "      <td>f_talmon</td>\n",
       "      <td>Nur wenn es gelingt den #Klimawandel zu stoppe...</td>\n",
       "      <td>0.0</td>\n",
       "    </tr>\n",
       "    <tr>\n",
       "      <th>118726</th>\n",
       "      <td>118726</td>\n",
       "      <td>2021-07-01 00:06:29+00:00</td>\n",
       "      <td>RRMeyer2</td>\n",
       "      <td>@SenorTenor @MoormannRainer @amardeo @DerClue ...</td>\n",
       "      <td>0.0</td>\n",
       "    </tr>\n",
       "    <tr>\n",
       "      <th>118727</th>\n",
       "      <td>118727</td>\n",
       "      <td>2021-07-01 00:03:50+00:00</td>\n",
       "      <td>SenorTenor</td>\n",
       "      <td>@MoormannRainer @DerClue @VeroWendland @fwiesc...</td>\n",
       "      <td>0.0</td>\n",
       "    </tr>\n",
       "    <tr>\n",
       "      <th>118728</th>\n",
       "      <td>118728</td>\n",
       "      <td>2021-07-01 00:01:23+00:00</td>\n",
       "      <td>SenorTenor</td>\n",
       "      <td>@MoormannRainer @DerClue @VeroWendland @fwiesc...</td>\n",
       "      <td>0.0</td>\n",
       "    </tr>\n",
       "  </tbody>\n",
       "</table>\n",
       "<p>118729 rows × 5 columns</p>\n",
       "</div>"
      ],
      "text/plain": [
       "        Unnamed: 0                       date           User  \\\n",
       "0                0  2021-07-29 23:58:48+00:00      Porticus2   \n",
       "1                1  2021-07-29 23:57:38+00:00    watch_union   \n",
       "2                2  2021-07-29 23:56:57+00:00      NiklasCcr   \n",
       "3                3  2021-07-29 23:53:53+00:00     SvenPhenix   \n",
       "4                4  2021-07-29 23:52:19+00:00  brokenspirits   \n",
       "...            ...                        ...            ...   \n",
       "118724      118724  2021-07-01 00:09:08+00:00     SenorTenor   \n",
       "118725      118725  2021-07-01 00:07:01+00:00       f_talmon   \n",
       "118726      118726  2021-07-01 00:06:29+00:00       RRMeyer2   \n",
       "118727      118727  2021-07-01 00:03:50+00:00     SenorTenor   \n",
       "118728      118728  2021-07-01 00:01:23+00:00     SenorTenor   \n",
       "\n",
       "                                                    Tweet  Rating (0/1/2)   \n",
       "0       Bevor Herr @MarkusSöder solches Klima-Trallala...              1.0  \n",
       "1       Der Vorstandsvorsitzende von #VW zerstört bei ...              0.0  \n",
       "2       @raichubvb Klimawandel. Die Menschen müssen en...              0.0  \n",
       "3       Jetzt in einer Zeit voller Krisen: #COVID19, #...              0.0  \n",
       "4       Und nochmal etwas weitergedacht: Während hier ...              0.0  \n",
       "...                                                   ...              ...  \n",
       "118724  @nukeman11859765 @DerClue @VeroWendland @fwies...              1.0  \n",
       "118725  Nur wenn es gelingt den #Klimawandel zu stoppe...              0.0  \n",
       "118726  @SenorTenor @MoormannRainer @amardeo @DerClue ...              0.0  \n",
       "118727  @MoormannRainer @DerClue @VeroWendland @fwiesc...              0.0  \n",
       "118728  @MoormannRainer @DerClue @VeroWendland @fwiesc...              0.0  \n",
       "\n",
       "[118729 rows x 5 columns]"
      ]
     },
     "execution_count": 26,
     "metadata": {},
     "output_type": "execute_result"
    }
   ],
   "source": [
    "full"
   ]
  },
  {
   "cell_type": "code",
   "execution_count": 27,
   "id": "52481d52",
   "metadata": {
    "execution": {
     "iopub.execute_input": "2022-09-30T07:45:08.298300Z",
     "iopub.status.busy": "2022-09-30T07:45:08.297220Z",
     "iopub.status.idle": "2022-09-30T07:45:09.060034Z",
     "shell.execute_reply": "2022-09-30T07:45:09.058743Z"
    },
    "papermill": {
     "duration": 0.786507,
     "end_time": "2022-09-30T07:45:09.062804",
     "exception": false,
     "start_time": "2022-09-30T07:45:08.276297",
     "status": "completed"
    },
    "tags": []
   },
   "outputs": [],
   "source": [
    "from datetime import datetime\n",
    "full['date']=pd.to_datetime(full['date'])\n",
    "full['date']= full['date'].apply(lambda x: x.strftime('%Y-%m-%d'))"
   ]
  },
  {
   "cell_type": "code",
   "execution_count": 28,
   "id": "1e7e4c83",
   "metadata": {
    "execution": {
     "iopub.execute_input": "2022-09-30T07:45:09.103569Z",
     "iopub.status.busy": "2022-09-30T07:45:09.102479Z",
     "iopub.status.idle": "2022-09-30T07:45:09.132620Z",
     "shell.execute_reply": "2022-09-30T07:45:09.131502Z"
    },
    "papermill": {
     "duration": 0.052946,
     "end_time": "2022-09-30T07:45:09.135459",
     "exception": false,
     "start_time": "2022-09-30T07:45:09.082513",
     "status": "completed"
    },
    "tags": []
   },
   "outputs": [],
   "source": [
    "full_pre = full[full['date']<='2021-07-13']"
   ]
  },
  {
   "cell_type": "code",
   "execution_count": 29,
   "id": "8c46bd11",
   "metadata": {
    "execution": {
     "iopub.execute_input": "2022-09-30T07:45:09.175107Z",
     "iopub.status.busy": "2022-09-30T07:45:09.174716Z",
     "iopub.status.idle": "2022-09-30T07:45:09.191459Z",
     "shell.execute_reply": "2022-09-30T07:45:09.190408Z"
    },
    "papermill": {
     "duration": 0.039209,
     "end_time": "2022-09-30T07:45:09.193751",
     "exception": false,
     "start_time": "2022-09-30T07:45:09.154542",
     "status": "completed"
    },
    "tags": []
   },
   "outputs": [
    {
     "data": {
      "text/html": [
       "<div>\n",
       "<style scoped>\n",
       "    .dataframe tbody tr th:only-of-type {\n",
       "        vertical-align: middle;\n",
       "    }\n",
       "\n",
       "    .dataframe tbody tr th {\n",
       "        vertical-align: top;\n",
       "    }\n",
       "\n",
       "    .dataframe thead th {\n",
       "        text-align: right;\n",
       "    }\n",
       "</style>\n",
       "<table border=\"1\" class=\"dataframe\">\n",
       "  <thead>\n",
       "    <tr style=\"text-align: right;\">\n",
       "      <th></th>\n",
       "      <th>Unnamed: 0</th>\n",
       "      <th>date</th>\n",
       "      <th>User</th>\n",
       "      <th>Tweet</th>\n",
       "      <th>Rating (0/1/2)</th>\n",
       "    </tr>\n",
       "  </thead>\n",
       "  <tbody>\n",
       "    <tr>\n",
       "      <th>80954</th>\n",
       "      <td>80954</td>\n",
       "      <td>2021-07-13</td>\n",
       "      <td>Arminirma1Armin</td>\n",
       "      <td>@BPsteinmueller Die USA ist uns durch Bidens T...</td>\n",
       "      <td>0.0</td>\n",
       "    </tr>\n",
       "    <tr>\n",
       "      <th>80955</th>\n",
       "      <td>80955</td>\n",
       "      <td>2021-07-13</td>\n",
       "      <td>nfdampf</td>\n",
       "      <td>Pandemie, Klimakrise, Artensterben, Ausbeutung...</td>\n",
       "      <td>0.0</td>\n",
       "    </tr>\n",
       "    <tr>\n",
       "      <th>80956</th>\n",
       "      <td>80956</td>\n",
       "      <td>2021-07-13</td>\n",
       "      <td>MEPilarczyk</td>\n",
       "      <td>Und solch ein extrem arroganter WischiWaschi -...</td>\n",
       "      <td>0.0</td>\n",
       "    </tr>\n",
       "    <tr>\n",
       "      <th>80957</th>\n",
       "      <td>80957</td>\n",
       "      <td>2021-07-13</td>\n",
       "      <td>megatrendy</td>\n",
       "      <td>ich nehme jetzt an, dass sich die Herren Rösti...</td>\n",
       "      <td>0.0</td>\n",
       "    </tr>\n",
       "    <tr>\n",
       "      <th>80958</th>\n",
       "      <td>80958</td>\n",
       "      <td>2021-07-13</td>\n",
       "      <td>FFFLeipzig</td>\n",
       "      <td>+++ Übersicht der nächsten Aktionen +++\\n\\nIn ...</td>\n",
       "      <td>0.0</td>\n",
       "    </tr>\n",
       "    <tr>\n",
       "      <th>...</th>\n",
       "      <td>...</td>\n",
       "      <td>...</td>\n",
       "      <td>...</td>\n",
       "      <td>...</td>\n",
       "      <td>...</td>\n",
       "    </tr>\n",
       "    <tr>\n",
       "      <th>118724</th>\n",
       "      <td>118724</td>\n",
       "      <td>2021-07-01</td>\n",
       "      <td>SenorTenor</td>\n",
       "      <td>@nukeman11859765 @DerClue @VeroWendland @fwies...</td>\n",
       "      <td>1.0</td>\n",
       "    </tr>\n",
       "    <tr>\n",
       "      <th>118725</th>\n",
       "      <td>118725</td>\n",
       "      <td>2021-07-01</td>\n",
       "      <td>f_talmon</td>\n",
       "      <td>Nur wenn es gelingt den #Klimawandel zu stoppe...</td>\n",
       "      <td>0.0</td>\n",
       "    </tr>\n",
       "    <tr>\n",
       "      <th>118726</th>\n",
       "      <td>118726</td>\n",
       "      <td>2021-07-01</td>\n",
       "      <td>RRMeyer2</td>\n",
       "      <td>@SenorTenor @MoormannRainer @amardeo @DerClue ...</td>\n",
       "      <td>0.0</td>\n",
       "    </tr>\n",
       "    <tr>\n",
       "      <th>118727</th>\n",
       "      <td>118727</td>\n",
       "      <td>2021-07-01</td>\n",
       "      <td>SenorTenor</td>\n",
       "      <td>@MoormannRainer @DerClue @VeroWendland @fwiesc...</td>\n",
       "      <td>0.0</td>\n",
       "    </tr>\n",
       "    <tr>\n",
       "      <th>118728</th>\n",
       "      <td>118728</td>\n",
       "      <td>2021-07-01</td>\n",
       "      <td>SenorTenor</td>\n",
       "      <td>@MoormannRainer @DerClue @VeroWendland @fwiesc...</td>\n",
       "      <td>0.0</td>\n",
       "    </tr>\n",
       "  </tbody>\n",
       "</table>\n",
       "<p>37775 rows × 5 columns</p>\n",
       "</div>"
      ],
      "text/plain": [
       "        Unnamed: 0        date             User  \\\n",
       "80954        80954  2021-07-13  Arminirma1Armin   \n",
       "80955        80955  2021-07-13          nfdampf   \n",
       "80956        80956  2021-07-13      MEPilarczyk   \n",
       "80957        80957  2021-07-13       megatrendy   \n",
       "80958        80958  2021-07-13       FFFLeipzig   \n",
       "...            ...         ...              ...   \n",
       "118724      118724  2021-07-01       SenorTenor   \n",
       "118725      118725  2021-07-01         f_talmon   \n",
       "118726      118726  2021-07-01         RRMeyer2   \n",
       "118727      118727  2021-07-01       SenorTenor   \n",
       "118728      118728  2021-07-01       SenorTenor   \n",
       "\n",
       "                                                    Tweet  Rating (0/1/2)   \n",
       "80954   @BPsteinmueller Die USA ist uns durch Bidens T...              0.0  \n",
       "80955   Pandemie, Klimakrise, Artensterben, Ausbeutung...              0.0  \n",
       "80956   Und solch ein extrem arroganter WischiWaschi -...              0.0  \n",
       "80957   ich nehme jetzt an, dass sich die Herren Rösti...              0.0  \n",
       "80958   +++ Übersicht der nächsten Aktionen +++\\n\\nIn ...              0.0  \n",
       "...                                                   ...              ...  \n",
       "118724  @nukeman11859765 @DerClue @VeroWendland @fwies...              1.0  \n",
       "118725  Nur wenn es gelingt den #Klimawandel zu stoppe...              0.0  \n",
       "118726  @SenorTenor @MoormannRainer @amardeo @DerClue ...              0.0  \n",
       "118727  @MoormannRainer @DerClue @VeroWendland @fwiesc...              0.0  \n",
       "118728  @MoormannRainer @DerClue @VeroWendland @fwiesc...              0.0  \n",
       "\n",
       "[37775 rows x 5 columns]"
      ]
     },
     "execution_count": 29,
     "metadata": {},
     "output_type": "execute_result"
    }
   ],
   "source": [
    "full_pre"
   ]
  },
  {
   "cell_type": "code",
   "execution_count": 30,
   "id": "72c6a6f3",
   "metadata": {
    "execution": {
     "iopub.execute_input": "2022-09-30T07:45:09.233475Z",
     "iopub.status.busy": "2022-09-30T07:45:09.233061Z",
     "iopub.status.idle": "2022-09-30T07:45:09.251828Z",
     "shell.execute_reply": "2022-09-30T07:45:09.250803Z"
    },
    "papermill": {
     "duration": 0.041317,
     "end_time": "2022-09-30T07:45:09.254227",
     "exception": false,
     "start_time": "2022-09-30T07:45:09.212910",
     "status": "completed"
    },
    "tags": []
   },
   "outputs": [],
   "source": [
    "full_post = full[full['date']>'2021-07-13']"
   ]
  },
  {
   "cell_type": "code",
   "execution_count": 31,
   "id": "44a0af1e",
   "metadata": {
    "execution": {
     "iopub.execute_input": "2022-09-30T07:45:09.293611Z",
     "iopub.status.busy": "2022-09-30T07:45:09.293193Z",
     "iopub.status.idle": "2022-09-30T07:45:09.308552Z",
     "shell.execute_reply": "2022-09-30T07:45:09.307493Z"
    },
    "papermill": {
     "duration": 0.037794,
     "end_time": "2022-09-30T07:45:09.310858",
     "exception": false,
     "start_time": "2022-09-30T07:45:09.273064",
     "status": "completed"
    },
    "tags": []
   },
   "outputs": [
    {
     "data": {
      "text/html": [
       "<div>\n",
       "<style scoped>\n",
       "    .dataframe tbody tr th:only-of-type {\n",
       "        vertical-align: middle;\n",
       "    }\n",
       "\n",
       "    .dataframe tbody tr th {\n",
       "        vertical-align: top;\n",
       "    }\n",
       "\n",
       "    .dataframe thead th {\n",
       "        text-align: right;\n",
       "    }\n",
       "</style>\n",
       "<table border=\"1\" class=\"dataframe\">\n",
       "  <thead>\n",
       "    <tr style=\"text-align: right;\">\n",
       "      <th></th>\n",
       "      <th>Unnamed: 0</th>\n",
       "      <th>date</th>\n",
       "      <th>User</th>\n",
       "      <th>Tweet</th>\n",
       "      <th>Rating (0/1/2)</th>\n",
       "    </tr>\n",
       "  </thead>\n",
       "  <tbody>\n",
       "    <tr>\n",
       "      <th>0</th>\n",
       "      <td>0</td>\n",
       "      <td>2021-07-29</td>\n",
       "      <td>Porticus2</td>\n",
       "      <td>Bevor Herr @MarkusSöder solches Klima-Trallala...</td>\n",
       "      <td>1.0</td>\n",
       "    </tr>\n",
       "    <tr>\n",
       "      <th>1</th>\n",
       "      <td>1</td>\n",
       "      <td>2021-07-29</td>\n",
       "      <td>watch_union</td>\n",
       "      <td>Der Vorstandsvorsitzende von #VW zerstört bei ...</td>\n",
       "      <td>0.0</td>\n",
       "    </tr>\n",
       "    <tr>\n",
       "      <th>2</th>\n",
       "      <td>2</td>\n",
       "      <td>2021-07-29</td>\n",
       "      <td>NiklasCcr</td>\n",
       "      <td>@raichubvb Klimawandel. Die Menschen müssen en...</td>\n",
       "      <td>0.0</td>\n",
       "    </tr>\n",
       "    <tr>\n",
       "      <th>3</th>\n",
       "      <td>3</td>\n",
       "      <td>2021-07-29</td>\n",
       "      <td>SvenPhenix</td>\n",
       "      <td>Jetzt in einer Zeit voller Krisen: #COVID19, #...</td>\n",
       "      <td>0.0</td>\n",
       "    </tr>\n",
       "    <tr>\n",
       "      <th>4</th>\n",
       "      <td>4</td>\n",
       "      <td>2021-07-29</td>\n",
       "      <td>brokenspirits</td>\n",
       "      <td>Und nochmal etwas weitergedacht: Während hier ...</td>\n",
       "      <td>0.0</td>\n",
       "    </tr>\n",
       "    <tr>\n",
       "      <th>...</th>\n",
       "      <td>...</td>\n",
       "      <td>...</td>\n",
       "      <td>...</td>\n",
       "      <td>...</td>\n",
       "      <td>...</td>\n",
       "    </tr>\n",
       "    <tr>\n",
       "      <th>80949</th>\n",
       "      <td>80949</td>\n",
       "      <td>2021-07-14</td>\n",
       "      <td>EinFragender</td>\n",
       "      <td>@Karl_Lauterbach So weit ich weiß, war es 1913...</td>\n",
       "      <td>0.0</td>\n",
       "    </tr>\n",
       "    <tr>\n",
       "      <th>80950</th>\n",
       "      <td>80950</td>\n",
       "      <td>2021-07-14</td>\n",
       "      <td>MoSchaefer66</td>\n",
       "      <td>@P4F_Leipzig Jetzt sollte so manchem langsam k...</td>\n",
       "      <td>0.0</td>\n",
       "    </tr>\n",
       "    <tr>\n",
       "      <th>80951</th>\n",
       "      <td>80951</td>\n",
       "      <td>2021-07-14</td>\n",
       "      <td>f_talmon</td>\n",
       "      <td>Wenn der Meeresspiegel weiter steigt, wird das...</td>\n",
       "      <td>0.0</td>\n",
       "    </tr>\n",
       "    <tr>\n",
       "      <th>80952</th>\n",
       "      <td>80952</td>\n",
       "      <td>2021-07-14</td>\n",
       "      <td>Elke__Kuhn</td>\n",
       "      <td>@ayranundspeck @CCitiesOrg @dvd_hrtmnn @Monika...</td>\n",
       "      <td>1.0</td>\n",
       "    </tr>\n",
       "    <tr>\n",
       "      <th>80953</th>\n",
       "      <td>80953</td>\n",
       "      <td>2021-07-14</td>\n",
       "      <td>fahrIehrer</td>\n",
       "      <td>@Vampirkamel @AndreasBlnMi @zeitonline Alles i...</td>\n",
       "      <td>1.0</td>\n",
       "    </tr>\n",
       "  </tbody>\n",
       "</table>\n",
       "<p>80954 rows × 5 columns</p>\n",
       "</div>"
      ],
      "text/plain": [
       "       Unnamed: 0        date           User  \\\n",
       "0               0  2021-07-29      Porticus2   \n",
       "1               1  2021-07-29    watch_union   \n",
       "2               2  2021-07-29      NiklasCcr   \n",
       "3               3  2021-07-29     SvenPhenix   \n",
       "4               4  2021-07-29  brokenspirits   \n",
       "...           ...         ...            ...   \n",
       "80949       80949  2021-07-14   EinFragender   \n",
       "80950       80950  2021-07-14   MoSchaefer66   \n",
       "80951       80951  2021-07-14       f_talmon   \n",
       "80952       80952  2021-07-14     Elke__Kuhn   \n",
       "80953       80953  2021-07-14     fahrIehrer   \n",
       "\n",
       "                                                   Tweet  Rating (0/1/2)   \n",
       "0      Bevor Herr @MarkusSöder solches Klima-Trallala...              1.0  \n",
       "1      Der Vorstandsvorsitzende von #VW zerstört bei ...              0.0  \n",
       "2      @raichubvb Klimawandel. Die Menschen müssen en...              0.0  \n",
       "3      Jetzt in einer Zeit voller Krisen: #COVID19, #...              0.0  \n",
       "4      Und nochmal etwas weitergedacht: Während hier ...              0.0  \n",
       "...                                                  ...              ...  \n",
       "80949  @Karl_Lauterbach So weit ich weiß, war es 1913...              0.0  \n",
       "80950  @P4F_Leipzig Jetzt sollte so manchem langsam k...              0.0  \n",
       "80951  Wenn der Meeresspiegel weiter steigt, wird das...              0.0  \n",
       "80952  @ayranundspeck @CCitiesOrg @dvd_hrtmnn @Monika...              1.0  \n",
       "80953  @Vampirkamel @AndreasBlnMi @zeitonline Alles i...              1.0  \n",
       "\n",
       "[80954 rows x 5 columns]"
      ]
     },
     "execution_count": 31,
     "metadata": {},
     "output_type": "execute_result"
    }
   ],
   "source": [
    "full_post"
   ]
  },
  {
   "cell_type": "code",
   "execution_count": 32,
   "id": "acea21e8",
   "metadata": {
    "execution": {
     "iopub.execute_input": "2022-09-30T07:45:09.351908Z",
     "iopub.status.busy": "2022-09-30T07:45:09.350766Z",
     "iopub.status.idle": "2022-09-30T07:45:09.363490Z",
     "shell.execute_reply": "2022-09-30T07:45:09.362439Z"
    },
    "papermill": {
     "duration": 0.035292,
     "end_time": "2022-09-30T07:45:09.365811",
     "exception": false,
     "start_time": "2022-09-30T07:45:09.330519",
     "status": "completed"
    },
    "tags": []
   },
   "outputs": [
    {
     "data": {
      "text/plain": [
       "0.0    25626\n",
       "1.0    10626\n",
       "2.0     1523\n",
       "Name: Rating (0/1/2) , dtype: int64"
      ]
     },
     "execution_count": 32,
     "metadata": {},
     "output_type": "execute_result"
    }
   ],
   "source": [
    "rating_count_pre = pd.value_counts(full_pre['Rating (0/1/2) '])\n",
    "rating_count_pre"
   ]
  },
  {
   "cell_type": "code",
   "execution_count": 33,
   "id": "0ac17db0",
   "metadata": {
    "execution": {
     "iopub.execute_input": "2022-09-30T07:45:09.406988Z",
     "iopub.status.busy": "2022-09-30T07:45:09.405870Z",
     "iopub.status.idle": "2022-09-30T07:45:09.416157Z",
     "shell.execute_reply": "2022-09-30T07:45:09.415225Z"
    },
    "papermill": {
     "duration": 0.033389,
     "end_time": "2022-09-30T07:45:09.418265",
     "exception": false,
     "start_time": "2022-09-30T07:45:09.384876",
     "status": "completed"
    },
    "tags": []
   },
   "outputs": [
    {
     "data": {
      "text/plain": [
       "0.0    55622\n",
       "1.0    21504\n",
       "2.0     3828\n",
       "Name: Rating (0/1/2) , dtype: int64"
      ]
     },
     "execution_count": 33,
     "metadata": {},
     "output_type": "execute_result"
    }
   ],
   "source": [
    "rating_count_post = pd.value_counts(full_post['Rating (0/1/2) '])\n",
    "rating_count_post"
   ]
  },
  {
   "cell_type": "code",
   "execution_count": 34,
   "id": "9105a8c5",
   "metadata": {
    "execution": {
     "iopub.execute_input": "2022-09-30T07:45:09.459160Z",
     "iopub.status.busy": "2022-09-30T07:45:09.458355Z",
     "iopub.status.idle": "2022-09-30T07:45:09.467309Z",
     "shell.execute_reply": "2022-09-30T07:45:09.466529Z"
    },
    "papermill": {
     "duration": 0.031746,
     "end_time": "2022-09-30T07:45:09.469434",
     "exception": false,
     "start_time": "2022-09-30T07:45:09.437688",
     "status": "completed"
    },
    "tags": []
   },
   "outputs": [],
   "source": [
    "pre3j = full_pre[full_pre['date']>'2021-07-10']"
   ]
  },
  {
   "cell_type": "code",
   "execution_count": 35,
   "id": "d726f737",
   "metadata": {
    "execution": {
     "iopub.execute_input": "2022-09-30T07:45:09.510308Z",
     "iopub.status.busy": "2022-09-30T07:45:09.509210Z",
     "iopub.status.idle": "2022-09-30T07:45:09.518385Z",
     "shell.execute_reply": "2022-09-30T07:45:09.517348Z"
    },
    "papermill": {
     "duration": 0.03172,
     "end_time": "2022-09-30T07:45:09.520484",
     "exception": false,
     "start_time": "2022-09-30T07:45:09.488764",
     "status": "completed"
    },
    "tags": []
   },
   "outputs": [
    {
     "data": {
      "text/plain": [
       "0.0    4878\n",
       "1.0    2059\n",
       "2.0     314\n",
       "Name: Rating (0/1/2) , dtype: int64"
      ]
     },
     "execution_count": 35,
     "metadata": {},
     "output_type": "execute_result"
    }
   ],
   "source": [
    "rating_count_pre3j = pd.value_counts(pre3j['Rating (0/1/2) '])\n",
    "rating_count_pre3j"
   ]
  },
  {
   "cell_type": "code",
   "execution_count": 36,
   "id": "d97e5a26",
   "metadata": {
    "execution": {
     "iopub.execute_input": "2022-09-30T07:45:09.561507Z",
     "iopub.status.busy": "2022-09-30T07:45:09.560792Z",
     "iopub.status.idle": "2022-09-30T07:45:09.573218Z",
     "shell.execute_reply": "2022-09-30T07:45:09.572081Z"
    },
    "papermill": {
     "duration": 0.035445,
     "end_time": "2022-09-30T07:45:09.575585",
     "exception": false,
     "start_time": "2022-09-30T07:45:09.540140",
     "status": "completed"
    },
    "tags": []
   },
   "outputs": [],
   "source": [
    "post3j = full_post[full_post['date']<'2021-07-17']"
   ]
  },
  {
   "cell_type": "code",
   "execution_count": 37,
   "id": "43ca64a1",
   "metadata": {
    "execution": {
     "iopub.execute_input": "2022-09-30T07:45:09.616367Z",
     "iopub.status.busy": "2022-09-30T07:45:09.615920Z",
     "iopub.status.idle": "2022-09-30T07:45:09.624806Z",
     "shell.execute_reply": "2022-09-30T07:45:09.623787Z"
    },
    "papermill": {
     "duration": 0.031752,
     "end_time": "2022-09-30T07:45:09.626976",
     "exception": false,
     "start_time": "2022-09-30T07:45:09.595224",
     "status": "completed"
    },
    "tags": []
   },
   "outputs": [
    {
     "data": {
      "text/plain": [
       "0.0    20907\n",
       "1.0     7603\n",
       "2.0     1353\n",
       "Name: Rating (0/1/2) , dtype: int64"
      ]
     },
     "execution_count": 37,
     "metadata": {},
     "output_type": "execute_result"
    }
   ],
   "source": [
    "rating_count_post3j = pd.value_counts(post3j['Rating (0/1/2) '])\n",
    "rating_count_post3j"
   ]
  },
  {
   "cell_type": "code",
   "execution_count": null,
   "id": "04e090ca",
   "metadata": {
    "papermill": {
     "duration": 0.01894,
     "end_time": "2022-09-30T07:45:09.665215",
     "exception": false,
     "start_time": "2022-09-30T07:45:09.646275",
     "status": "completed"
    },
    "tags": []
   },
   "outputs": [],
   "source": []
  }
 ],
 "metadata": {
  "kernelspec": {
   "display_name": "Python 3",
   "language": "python",
   "name": "python3"
  },
  "language_info": {
   "codemirror_mode": {
    "name": "ipython",
    "version": 3
   },
   "file_extension": ".py",
   "mimetype": "text/x-python",
   "name": "python",
   "nbconvert_exporter": "python",
   "pygments_lexer": "ipython3",
   "version": "3.7.12"
  },
  "papermill": {
   "default_parameters": {},
   "duration": 82.154854,
   "end_time": "2022-09-30T07:45:12.354304",
   "environment_variables": {},
   "exception": null,
   "input_path": "__notebook__.ipynb",
   "output_path": "__notebook__.ipynb",
   "parameters": {},
   "start_time": "2022-09-30T07:43:50.199450",
   "version": "2.3.4"
  }
 },
 "nbformat": 4,
 "nbformat_minor": 5
}
