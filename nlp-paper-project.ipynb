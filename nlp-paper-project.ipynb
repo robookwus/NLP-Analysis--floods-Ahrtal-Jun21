{
 "cells": [
  {
   "cell_type": "code",
   "execution_count": 1,
   "id": "89b7e4ea",
   "metadata": {
    "execution": {
     "iopub.execute_input": "2022-09-15T18:52:35.146979Z",
     "iopub.status.busy": "2022-09-15T18:52:35.146519Z",
     "iopub.status.idle": "2022-09-15T18:53:14.334482Z",
     "shell.execute_reply": "2022-09-15T18:53:14.332950Z"
    },
    "papermill": {
     "duration": 39.204683,
     "end_time": "2022-09-15T18:53:14.337570",
     "exception": false,
     "start_time": "2022-09-15T18:52:35.132887",
     "status": "completed"
    },
    "tags": []
   },
   "outputs": [
    {
     "name": "stdout",
     "output_type": "stream",
     "text": [
      "Collecting de-core-news-md==3.3.0\r\n",
      "  Downloading https://github.com/explosion/spacy-models/releases/download/de_core_news_md-3.3.0/de_core_news_md-3.3.0-py3-none-any.whl (44.4 MB)\r\n",
      "\u001b[2K     \u001b[90m━━━━━━━━━━━━━━━━━━━━━━━━━━━━━━━━━━━━━━━━\u001b[0m \u001b[32m44.4/44.4 MB\u001b[0m \u001b[31m23.5 MB/s\u001b[0m eta \u001b[36m0:00:00\u001b[0m\r\n",
      "\u001b[?25hRequirement already satisfied: spacy<3.4.0,>=3.3.0.dev0 in /opt/conda/lib/python3.7/site-packages (from de-core-news-md==3.3.0) (3.3.1)\r\n",
      "Requirement already satisfied: langcodes<4.0.0,>=3.2.0 in /opt/conda/lib/python3.7/site-packages (from spacy<3.4.0,>=3.3.0.dev0->de-core-news-md==3.3.0) (3.3.0)\r\n",
      "Requirement already satisfied: typer<0.5.0,>=0.3.0 in /opt/conda/lib/python3.7/site-packages (from spacy<3.4.0,>=3.3.0.dev0->de-core-news-md==3.3.0) (0.4.2)\r\n",
      "Requirement already satisfied: pydantic!=1.8,!=1.8.1,<1.9.0,>=1.7.4 in /opt/conda/lib/python3.7/site-packages (from spacy<3.4.0,>=3.3.0.dev0->de-core-news-md==3.3.0) (1.8.2)\r\n",
      "Requirement already satisfied: preshed<3.1.0,>=3.0.2 in /opt/conda/lib/python3.7/site-packages (from spacy<3.4.0,>=3.3.0.dev0->de-core-news-md==3.3.0) (3.0.7)\r\n",
      "Requirement already satisfied: srsly<3.0.0,>=2.4.3 in /opt/conda/lib/python3.7/site-packages (from spacy<3.4.0,>=3.3.0.dev0->de-core-news-md==3.3.0) (2.4.4)\r\n",
      "Requirement already satisfied: spacy-loggers<2.0.0,>=1.0.0 in /opt/conda/lib/python3.7/site-packages (from spacy<3.4.0,>=3.3.0.dev0->de-core-news-md==3.3.0) (1.0.3)\r\n",
      "Requirement already satisfied: packaging>=20.0 in /opt/conda/lib/python3.7/site-packages (from spacy<3.4.0,>=3.3.0.dev0->de-core-news-md==3.3.0) (21.3)\r\n",
      "Requirement already satisfied: tqdm<5.0.0,>=4.38.0 in /opt/conda/lib/python3.7/site-packages (from spacy<3.4.0,>=3.3.0.dev0->de-core-news-md==3.3.0) (4.64.0)\r\n",
      "Requirement already satisfied: murmurhash<1.1.0,>=0.28.0 in /opt/conda/lib/python3.7/site-packages (from spacy<3.4.0,>=3.3.0.dev0->de-core-news-md==3.3.0) (1.0.8)\r\n",
      "Requirement already satisfied: wasabi<1.1.0,>=0.9.1 in /opt/conda/lib/python3.7/site-packages (from spacy<3.4.0,>=3.3.0.dev0->de-core-news-md==3.3.0) (0.10.1)\r\n",
      "Requirement already satisfied: catalogue<2.1.0,>=2.0.6 in /opt/conda/lib/python3.7/site-packages (from spacy<3.4.0,>=3.3.0.dev0->de-core-news-md==3.3.0) (2.0.8)\r\n",
      "Requirement already satisfied: numpy>=1.15.0 in /opt/conda/lib/python3.7/site-packages (from spacy<3.4.0,>=3.3.0.dev0->de-core-news-md==3.3.0) (1.21.6)\r\n",
      "Requirement already satisfied: thinc<8.1.0,>=8.0.14 in /opt/conda/lib/python3.7/site-packages (from spacy<3.4.0,>=3.3.0.dev0->de-core-news-md==3.3.0) (8.0.17)\r\n",
      "Requirement already satisfied: jinja2 in /opt/conda/lib/python3.7/site-packages (from spacy<3.4.0,>=3.3.0.dev0->de-core-news-md==3.3.0) (3.1.2)\r\n",
      "Requirement already satisfied: spacy-legacy<3.1.0,>=3.0.9 in /opt/conda/lib/python3.7/site-packages (from spacy<3.4.0,>=3.3.0.dev0->de-core-news-md==3.3.0) (3.0.10)\r\n",
      "Collecting typing-extensions<4.2.0,>=3.7.4\r\n",
      "  Downloading typing_extensions-4.1.1-py3-none-any.whl (26 kB)\r\n",
      "Requirement already satisfied: requests<3.0.0,>=2.13.0 in /opt/conda/lib/python3.7/site-packages (from spacy<3.4.0,>=3.3.0.dev0->de-core-news-md==3.3.0) (2.28.1)\r\n",
      "Requirement already satisfied: cymem<2.1.0,>=2.0.2 in /opt/conda/lib/python3.7/site-packages (from spacy<3.4.0,>=3.3.0.dev0->de-core-news-md==3.3.0) (2.0.6)\r\n",
      "Requirement already satisfied: setuptools in /opt/conda/lib/python3.7/site-packages (from spacy<3.4.0,>=3.3.0.dev0->de-core-news-md==3.3.0) (59.8.0)\r\n",
      "Requirement already satisfied: pathy>=0.3.5 in /opt/conda/lib/python3.7/site-packages (from spacy<3.4.0,>=3.3.0.dev0->de-core-news-md==3.3.0) (0.6.2)\r\n",
      "Requirement already satisfied: blis<0.8.0,>=0.4.0 in /opt/conda/lib/python3.7/site-packages (from spacy<3.4.0,>=3.3.0.dev0->de-core-news-md==3.3.0) (0.7.8)\r\n",
      "Requirement already satisfied: zipp>=0.5 in /opt/conda/lib/python3.7/site-packages (from catalogue<2.1.0,>=2.0.6->spacy<3.4.0,>=3.3.0.dev0->de-core-news-md==3.3.0) (3.8.0)\r\n",
      "Requirement already satisfied: pyparsing!=3.0.5,>=2.0.2 in /opt/conda/lib/python3.7/site-packages (from packaging>=20.0->spacy<3.4.0,>=3.3.0.dev0->de-core-news-md==3.3.0) (3.0.9)\r\n",
      "Requirement already satisfied: smart-open<6.0.0,>=5.2.1 in /opt/conda/lib/python3.7/site-packages (from pathy>=0.3.5->spacy<3.4.0,>=3.3.0.dev0->de-core-news-md==3.3.0) (5.2.1)\r\n",
      "Requirement already satisfied: idna<4,>=2.5 in /opt/conda/lib/python3.7/site-packages (from requests<3.0.0,>=2.13.0->spacy<3.4.0,>=3.3.0.dev0->de-core-news-md==3.3.0) (3.3)\r\n",
      "Requirement already satisfied: certifi>=2017.4.17 in /opt/conda/lib/python3.7/site-packages (from requests<3.0.0,>=2.13.0->spacy<3.4.0,>=3.3.0.dev0->de-core-news-md==3.3.0) (2022.6.15)\r\n",
      "Requirement already satisfied: charset-normalizer<3,>=2 in /opt/conda/lib/python3.7/site-packages (from requests<3.0.0,>=2.13.0->spacy<3.4.0,>=3.3.0.dev0->de-core-news-md==3.3.0) (2.1.0)\r\n",
      "Requirement already satisfied: urllib3<1.27,>=1.21.1 in /opt/conda/lib/python3.7/site-packages (from requests<3.0.0,>=2.13.0->spacy<3.4.0,>=3.3.0.dev0->de-core-news-md==3.3.0) (1.26.11)\r\n",
      "Requirement already satisfied: click<9.0.0,>=7.1.1 in /opt/conda/lib/python3.7/site-packages (from typer<0.5.0,>=0.3.0->spacy<3.4.0,>=3.3.0.dev0->de-core-news-md==3.3.0) (8.0.4)\r\n",
      "Requirement already satisfied: MarkupSafe>=2.0 in /opt/conda/lib/python3.7/site-packages (from jinja2->spacy<3.4.0,>=3.3.0.dev0->de-core-news-md==3.3.0) (2.1.1)\r\n",
      "Requirement already satisfied: importlib-metadata in /opt/conda/lib/python3.7/site-packages (from click<9.0.0,>=7.1.1->typer<0.5.0,>=0.3.0->spacy<3.4.0,>=3.3.0.dev0->de-core-news-md==3.3.0) (4.12.0)\r\n",
      "Installing collected packages: typing-extensions, de-core-news-md\r\n",
      "  Attempting uninstall: typing-extensions\r\n",
      "    Found existing installation: typing_extensions 4.3.0\r\n",
      "    Uninstalling typing_extensions-4.3.0:\r\n",
      "      Successfully uninstalled typing_extensions-4.3.0\r\n",
      "\u001b[31mERROR: pip's dependency resolver does not currently take into account all the packages that are installed. This behaviour is the source of the following dependency conflicts.\r\n",
      "tensorflow-io 0.21.0 requires tensorflow-io-gcs-filesystem==0.21.0, which is not installed.\r\n",
      "tensorflow 2.6.4 requires h5py~=3.1.0, but you have h5py 3.7.0 which is incompatible.\r\n",
      "tensorflow 2.6.4 requires numpy~=1.19.2, but you have numpy 1.21.6 which is incompatible.\r\n",
      "tensorflow 2.6.4 requires tensorboard<2.7,>=2.6.0, but you have tensorboard 2.10.0 which is incompatible.\r\n",
      "tensorflow 2.6.4 requires typing-extensions<3.11,>=3.7, but you have typing-extensions 4.1.1 which is incompatible.\r\n",
      "tensorflow-transform 1.9.0 requires pyarrow<6,>=1, but you have pyarrow 8.0.0 which is incompatible.\r\n",
      "tensorflow-transform 1.9.0 requires tensorflow!=2.0.*,!=2.1.*,!=2.2.*,!=2.3.*,!=2.4.*,!=2.5.*,!=2.6.*,!=2.7.*,!=2.8.*,<2.10,>=1.15.5, but you have tensorflow 2.6.4 which is incompatible.\r\n",
      "tensorflow-serving-api 2.9.0 requires tensorflow<3,>=2.9.0, but you have tensorflow 2.6.4 which is incompatible.\r\n",
      "pandas-profiling 3.1.0 requires markupsafe~=2.0.1, but you have markupsafe 2.1.1 which is incompatible.\r\n",
      "flax 0.6.0 requires rich~=11.1, but you have rich 12.1.0 which is incompatible.\r\n",
      "flake8 4.0.1 requires importlib-metadata<4.3; python_version < \"3.8\", but you have importlib-metadata 4.12.0 which is incompatible.\r\n",
      "apache-beam 2.40.0 requires dill<0.3.2,>=0.3.1.1, but you have dill 0.3.5.1 which is incompatible.\r\n",
      "apache-beam 2.40.0 requires pyarrow<8.0.0,>=0.15.1, but you have pyarrow 8.0.0 which is incompatible.\r\n",
      "allennlp 2.10.0 requires protobuf==3.20.0, but you have protobuf 3.19.4 which is incompatible.\r\n",
      "aiobotocore 2.3.4 requires botocore<1.24.22,>=1.24.21, but you have botocore 1.27.56 which is incompatible.\u001b[0m\u001b[31m\r\n",
      "\u001b[0mSuccessfully installed de-core-news-md-3.3.0 typing-extensions-4.1.1\r\n",
      "\u001b[33mWARNING: Running pip as the 'root' user can result in broken permissions and conflicting behaviour with the system package manager. It is recommended to use a virtual environment instead: https://pip.pypa.io/warnings/venv\u001b[0m\u001b[33m\r\n",
      "\u001b[0m\u001b[38;5;2m✔ Download and installation successful\u001b[0m\r\n",
      "You can now load the package via spacy.load('de_core_news_md')\r\n"
     ]
    }
   ],
   "source": [
    "!python -m spacy download de_core_news_md"
   ]
  },
  {
   "cell_type": "code",
   "execution_count": 2,
   "id": "1b7236cc",
   "metadata": {
    "execution": {
     "iopub.execute_input": "2022-09-15T18:53:14.363891Z",
     "iopub.status.busy": "2022-09-15T18:53:14.363044Z",
     "iopub.status.idle": "2022-09-15T18:53:21.465981Z",
     "shell.execute_reply": "2022-09-15T18:53:21.464640Z"
    },
    "papermill": {
     "duration": 7.119134,
     "end_time": "2022-09-15T18:53:21.468809",
     "exception": false,
     "start_time": "2022-09-15T18:53:14.349675",
     "status": "completed"
    },
    "tags": []
   },
   "outputs": [],
   "source": [
    "import spacy\n",
    "nlp = spacy.load('de_core_news_md')"
   ]
  },
  {
   "cell_type": "code",
   "execution_count": 3,
   "id": "997bc36e",
   "metadata": {
    "execution": {
     "iopub.execute_input": "2022-09-15T18:53:21.495030Z",
     "iopub.status.busy": "2022-09-15T18:53:21.494347Z",
     "iopub.status.idle": "2022-09-15T18:53:21.526744Z",
     "shell.execute_reply": "2022-09-15T18:53:21.525319Z"
    },
    "papermill": {
     "duration": 0.048395,
     "end_time": "2022-09-15T18:53:21.529419",
     "exception": false,
     "start_time": "2022-09-15T18:53:21.481024",
     "status": "completed"
    },
    "tags": []
   },
   "outputs": [],
   "source": [
    "import pandas as pd\n",
    "df=pd.read_csv('../input/pre3-labelled/pre3_labelled.csv')"
   ]
  },
  {
   "cell_type": "code",
   "execution_count": 4,
   "id": "40084725",
   "metadata": {
    "execution": {
     "iopub.execute_input": "2022-09-15T18:53:21.556677Z",
     "iopub.status.busy": "2022-09-15T18:53:21.555617Z",
     "iopub.status.idle": "2022-09-15T18:53:21.566272Z",
     "shell.execute_reply": "2022-09-15T18:53:21.564938Z"
    },
    "papermill": {
     "duration": 0.026132,
     "end_time": "2022-09-15T18:53:21.568688",
     "exception": false,
     "start_time": "2022-09-15T18:53:21.542556",
     "status": "completed"
    },
    "tags": []
   },
   "outputs": [
    {
     "data": {
      "text/plain": [
       "Index(['Unnamed: 0', 'User', 'Tweet', 'Rating (0/1/2) ', 'date', 'Unnamed: 5'], dtype='object')"
      ]
     },
     "execution_count": 4,
     "metadata": {},
     "output_type": "execute_result"
    }
   ],
   "source": [
    "df.columns"
   ]
  },
  {
   "cell_type": "code",
   "execution_count": 5,
   "id": "28b4d8fd",
   "metadata": {
    "execution": {
     "iopub.execute_input": "2022-09-15T18:53:21.595443Z",
     "iopub.status.busy": "2022-09-15T18:53:21.594661Z",
     "iopub.status.idle": "2022-09-15T18:53:21.614705Z",
     "shell.execute_reply": "2022-09-15T18:53:21.613308Z"
    },
    "papermill": {
     "duration": 0.036294,
     "end_time": "2022-09-15T18:53:21.617104",
     "exception": false,
     "start_time": "2022-09-15T18:53:21.580810",
     "status": "completed"
    },
    "tags": []
   },
   "outputs": [
    {
     "data": {
      "text/html": [
       "<div>\n",
       "<style scoped>\n",
       "    .dataframe tbody tr th:only-of-type {\n",
       "        vertical-align: middle;\n",
       "    }\n",
       "\n",
       "    .dataframe tbody tr th {\n",
       "        vertical-align: top;\n",
       "    }\n",
       "\n",
       "    .dataframe thead th {\n",
       "        text-align: right;\n",
       "    }\n",
       "</style>\n",
       "<table border=\"1\" class=\"dataframe\">\n",
       "  <thead>\n",
       "    <tr style=\"text-align: right;\">\n",
       "      <th></th>\n",
       "      <th>Unnamed: 0</th>\n",
       "      <th>User</th>\n",
       "      <th>Tweet</th>\n",
       "      <th>Rating (0/1/2)</th>\n",
       "      <th>date</th>\n",
       "      <th>Unnamed: 5</th>\n",
       "    </tr>\n",
       "  </thead>\n",
       "  <tbody>\n",
       "    <tr>\n",
       "      <th>0</th>\n",
       "      <td>0</td>\n",
       "      <td>FriedelWirtz</td>\n",
       "      <td>@anja1970a Außerdem kann eine Regierung auch d...</td>\n",
       "      <td>1.0</td>\n",
       "      <td>2021-07-12 23:55:34+00:00</td>\n",
       "      <td>NaN</td>\n",
       "    </tr>\n",
       "    <tr>\n",
       "      <th>1</th>\n",
       "      <td>1</td>\n",
       "      <td>ReinerSobota</td>\n",
       "      <td>Umgang mit Klimawandel: Reden wir doch mal übe...</td>\n",
       "      <td>1.0</td>\n",
       "      <td>2021-07-12 23:54:09+00:00</td>\n",
       "      <td>NaN</td>\n",
       "    </tr>\n",
       "    <tr>\n",
       "      <th>2</th>\n",
       "      <td>2</td>\n",
       "      <td>Keeper_86</td>\n",
       "      <td>@sabi_ri @chili_deluxe @ZDFheute @Kachelmann K...</td>\n",
       "      <td>2.0</td>\n",
       "      <td>2021-07-12 23:50:24+00:00</td>\n",
       "      <td>NaN</td>\n",
       "    </tr>\n",
       "    <tr>\n",
       "      <th>3</th>\n",
       "      <td>3</td>\n",
       "      <td>OSturzebecher</td>\n",
       "      <td>@manaf12hassan @rhonradlegende Diggi, was mein...</td>\n",
       "      <td>2.0</td>\n",
       "      <td>2021-07-12 23:48:01+00:00</td>\n",
       "      <td>NaN</td>\n",
       "    </tr>\n",
       "    <tr>\n",
       "      <th>4</th>\n",
       "      <td>4</td>\n",
       "      <td>nfdampf</td>\n",
       "      <td>.@daserste berichtet lieber über eine angeblic...</td>\n",
       "      <td>1.0</td>\n",
       "      <td>2021-07-12 23:47:02+00:00</td>\n",
       "      <td>NaN</td>\n",
       "    </tr>\n",
       "  </tbody>\n",
       "</table>\n",
       "</div>"
      ],
      "text/plain": [
       "   Unnamed: 0           User  \\\n",
       "0           0   FriedelWirtz   \n",
       "1           1   ReinerSobota   \n",
       "2           2      Keeper_86   \n",
       "3           3  OSturzebecher   \n",
       "4           4        nfdampf   \n",
       "\n",
       "                                               Tweet  Rating (0/1/2)   \\\n",
       "0  @anja1970a Außerdem kann eine Regierung auch d...              1.0   \n",
       "1  Umgang mit Klimawandel: Reden wir doch mal übe...              1.0   \n",
       "2  @sabi_ri @chili_deluxe @ZDFheute @Kachelmann K...              2.0   \n",
       "3  @manaf12hassan @rhonradlegende Diggi, was mein...              2.0   \n",
       "4  .@daserste berichtet lieber über eine angeblic...              1.0   \n",
       "\n",
       "                        date Unnamed: 5  \n",
       "0  2021-07-12 23:55:34+00:00        NaN  \n",
       "1  2021-07-12 23:54:09+00:00        NaN  \n",
       "2  2021-07-12 23:50:24+00:00        NaN  \n",
       "3  2021-07-12 23:48:01+00:00        NaN  \n",
       "4  2021-07-12 23:47:02+00:00        NaN  "
      ]
     },
     "execution_count": 5,
     "metadata": {},
     "output_type": "execute_result"
    }
   ],
   "source": [
    "df.head()"
   ]
  },
  {
   "cell_type": "code",
   "execution_count": 6,
   "id": "a070400f",
   "metadata": {
    "execution": {
     "iopub.execute_input": "2022-09-15T18:53:21.643818Z",
     "iopub.status.busy": "2022-09-15T18:53:21.643355Z",
     "iopub.status.idle": "2022-09-15T18:53:21.655704Z",
     "shell.execute_reply": "2022-09-15T18:53:21.654426Z"
    },
    "papermill": {
     "duration": 0.02877,
     "end_time": "2022-09-15T18:53:21.658184",
     "exception": false,
     "start_time": "2022-09-15T18:53:21.629414",
     "status": "completed"
    },
    "tags": []
   },
   "outputs": [],
   "source": [
    "new = df[['Tweet','Rating (0/1/2) ']]"
   ]
  },
  {
   "cell_type": "code",
   "execution_count": 7,
   "id": "242be8b3",
   "metadata": {
    "execution": {
     "iopub.execute_input": "2022-09-15T18:53:21.684349Z",
     "iopub.status.busy": "2022-09-15T18:53:21.683945Z",
     "iopub.status.idle": "2022-09-15T18:53:21.700602Z",
     "shell.execute_reply": "2022-09-15T18:53:21.699313Z"
    },
    "papermill": {
     "duration": 0.03246,
     "end_time": "2022-09-15T18:53:21.702904",
     "exception": false,
     "start_time": "2022-09-15T18:53:21.670444",
     "status": "completed"
    },
    "tags": []
   },
   "outputs": [
    {
     "data": {
      "text/html": [
       "<div>\n",
       "<style scoped>\n",
       "    .dataframe tbody tr th:only-of-type {\n",
       "        vertical-align: middle;\n",
       "    }\n",
       "\n",
       "    .dataframe tbody tr th {\n",
       "        vertical-align: top;\n",
       "    }\n",
       "\n",
       "    .dataframe thead th {\n",
       "        text-align: right;\n",
       "    }\n",
       "</style>\n",
       "<table border=\"1\" class=\"dataframe\">\n",
       "  <thead>\n",
       "    <tr style=\"text-align: right;\">\n",
       "      <th></th>\n",
       "      <th>Tweet</th>\n",
       "      <th>Rating (0/1/2)</th>\n",
       "    </tr>\n",
       "  </thead>\n",
       "  <tbody>\n",
       "    <tr>\n",
       "      <th>0</th>\n",
       "      <td>@anja1970a Außerdem kann eine Regierung auch d...</td>\n",
       "      <td>1.0</td>\n",
       "    </tr>\n",
       "    <tr>\n",
       "      <th>1</th>\n",
       "      <td>Umgang mit Klimawandel: Reden wir doch mal übe...</td>\n",
       "      <td>1.0</td>\n",
       "    </tr>\n",
       "    <tr>\n",
       "      <th>2</th>\n",
       "      <td>@sabi_ri @chili_deluxe @ZDFheute @Kachelmann K...</td>\n",
       "      <td>2.0</td>\n",
       "    </tr>\n",
       "    <tr>\n",
       "      <th>3</th>\n",
       "      <td>@manaf12hassan @rhonradlegende Diggi, was mein...</td>\n",
       "      <td>2.0</td>\n",
       "    </tr>\n",
       "    <tr>\n",
       "      <th>4</th>\n",
       "      <td>.@daserste berichtet lieber über eine angeblic...</td>\n",
       "      <td>1.0</td>\n",
       "    </tr>\n",
       "    <tr>\n",
       "      <th>...</th>\n",
       "      <td>...</td>\n",
       "      <td>...</td>\n",
       "    </tr>\n",
       "    <tr>\n",
       "      <th>995</th>\n",
       "      <td>@KeilaniFatina @Michael_Leh Sie vermischen hie...</td>\n",
       "      <td>NaN</td>\n",
       "    </tr>\n",
       "    <tr>\n",
       "      <th>996</th>\n",
       "      <td>@PandaMawr @HalleVerkehrt @Keeper_86 @dansiela...</td>\n",
       "      <td>NaN</td>\n",
       "    </tr>\n",
       "    <tr>\n",
       "      <th>997</th>\n",
       "      <td>Unfreie Menschen in Barracken \"besiegen\"* übri...</td>\n",
       "      <td>NaN</td>\n",
       "    </tr>\n",
       "    <tr>\n",
       "      <th>998</th>\n",
       "      <td>Die Kernfusion wird die Klimakrise für uns lös...</td>\n",
       "      <td>NaN</td>\n",
       "    </tr>\n",
       "    <tr>\n",
       "      <th>999</th>\n",
       "      <td>Dabei verlieren wir das eigentliche Ziel des K...</td>\n",
       "      <td>NaN</td>\n",
       "    </tr>\n",
       "  </tbody>\n",
       "</table>\n",
       "<p>1000 rows × 2 columns</p>\n",
       "</div>"
      ],
      "text/plain": [
       "                                                 Tweet  Rating (0/1/2) \n",
       "0    @anja1970a Außerdem kann eine Regierung auch d...              1.0\n",
       "1    Umgang mit Klimawandel: Reden wir doch mal übe...              1.0\n",
       "2    @sabi_ri @chili_deluxe @ZDFheute @Kachelmann K...              2.0\n",
       "3    @manaf12hassan @rhonradlegende Diggi, was mein...              2.0\n",
       "4    .@daserste berichtet lieber über eine angeblic...              1.0\n",
       "..                                                 ...              ...\n",
       "995  @KeilaniFatina @Michael_Leh Sie vermischen hie...              NaN\n",
       "996  @PandaMawr @HalleVerkehrt @Keeper_86 @dansiela...              NaN\n",
       "997  Unfreie Menschen in Barracken \"besiegen\"* übri...              NaN\n",
       "998  Die Kernfusion wird die Klimakrise für uns lös...              NaN\n",
       "999  Dabei verlieren wir das eigentliche Ziel des K...              NaN\n",
       "\n",
       "[1000 rows x 2 columns]"
      ]
     },
     "execution_count": 7,
     "metadata": {},
     "output_type": "execute_result"
    }
   ],
   "source": [
    "new"
   ]
  },
  {
   "cell_type": "code",
   "execution_count": 8,
   "id": "8108b648",
   "metadata": {
    "execution": {
     "iopub.execute_input": "2022-09-15T18:53:21.730063Z",
     "iopub.status.busy": "2022-09-15T18:53:21.729676Z",
     "iopub.status.idle": "2022-09-15T18:53:21.734852Z",
     "shell.execute_reply": "2022-09-15T18:53:21.733570Z"
    },
    "papermill": {
     "duration": 0.021817,
     "end_time": "2022-09-15T18:53:21.737264",
     "exception": false,
     "start_time": "2022-09-15T18:53:21.715447",
     "status": "completed"
    },
    "tags": []
   },
   "outputs": [],
   "source": [
    "X=new[0:99].copy()"
   ]
  },
  {
   "cell_type": "code",
   "execution_count": 9,
   "id": "50775f08",
   "metadata": {
    "execution": {
     "iopub.execute_input": "2022-09-15T18:53:21.764062Z",
     "iopub.status.busy": "2022-09-15T18:53:21.763667Z",
     "iopub.status.idle": "2022-09-15T18:53:21.770979Z",
     "shell.execute_reply": "2022-09-15T18:53:21.769740Z"
    },
    "papermill": {
     "duration": 0.023757,
     "end_time": "2022-09-15T18:53:21.773554",
     "exception": false,
     "start_time": "2022-09-15T18:53:21.749797",
     "status": "completed"
    },
    "tags": []
   },
   "outputs": [],
   "source": [
    "X_train=X['Tweet'].copy()\n",
    "y_train=X['Rating (0/1/2) '].copy()"
   ]
  },
  {
   "cell_type": "code",
   "execution_count": 10,
   "id": "86d293bc",
   "metadata": {
    "execution": {
     "iopub.execute_input": "2022-09-15T18:53:21.800880Z",
     "iopub.status.busy": "2022-09-15T18:53:21.800482Z",
     "iopub.status.idle": "2022-09-15T18:53:21.815121Z",
     "shell.execute_reply": "2022-09-15T18:53:21.813738Z"
    },
    "papermill": {
     "duration": 0.030913,
     "end_time": "2022-09-15T18:53:21.817438",
     "exception": false,
     "start_time": "2022-09-15T18:53:21.786525",
     "status": "completed"
    },
    "tags": []
   },
   "outputs": [
    {
     "data": {
      "text/html": [
       "<div>\n",
       "<style scoped>\n",
       "    .dataframe tbody tr th:only-of-type {\n",
       "        vertical-align: middle;\n",
       "    }\n",
       "\n",
       "    .dataframe tbody tr th {\n",
       "        vertical-align: top;\n",
       "    }\n",
       "\n",
       "    .dataframe thead th {\n",
       "        text-align: right;\n",
       "    }\n",
       "</style>\n",
       "<table border=\"1\" class=\"dataframe\">\n",
       "  <thead>\n",
       "    <tr style=\"text-align: right;\">\n",
       "      <th></th>\n",
       "      <th>Tweet</th>\n",
       "      <th>Rating (0/1/2)</th>\n",
       "    </tr>\n",
       "  </thead>\n",
       "  <tbody>\n",
       "    <tr>\n",
       "      <th>99</th>\n",
       "      <td>@ReiSteurer Was soll das:\\nIst es warm und tro...</td>\n",
       "      <td>NaN</td>\n",
       "    </tr>\n",
       "    <tr>\n",
       "      <th>100</th>\n",
       "      <td>@Gert_Woellmann @ben_brechtken Wir könnten mal...</td>\n",
       "      <td>NaN</td>\n",
       "    </tr>\n",
       "    <tr>\n",
       "      <th>101</th>\n",
       "      <td>@Marcus_MoD @Nationallibera3 @sebastiankurz @r...</td>\n",
       "      <td>NaN</td>\n",
       "    </tr>\n",
       "    <tr>\n",
       "      <th>102</th>\n",
       "      <td>@Philipp_Sgtz 😊glaube nicht nur du🥰,\\nStattdes...</td>\n",
       "      <td>NaN</td>\n",
       "    </tr>\n",
       "    <tr>\n",
       "      <th>103</th>\n",
       "      <td>@stevenehring @welt Mit Co2 Einsparung kann De...</td>\n",
       "      <td>NaN</td>\n",
       "    </tr>\n",
       "    <tr>\n",
       "      <th>...</th>\n",
       "      <td>...</td>\n",
       "      <td>...</td>\n",
       "    </tr>\n",
       "    <tr>\n",
       "      <th>995</th>\n",
       "      <td>@KeilaniFatina @Michael_Leh Sie vermischen hie...</td>\n",
       "      <td>NaN</td>\n",
       "    </tr>\n",
       "    <tr>\n",
       "      <th>996</th>\n",
       "      <td>@PandaMawr @HalleVerkehrt @Keeper_86 @dansiela...</td>\n",
       "      <td>NaN</td>\n",
       "    </tr>\n",
       "    <tr>\n",
       "      <th>997</th>\n",
       "      <td>Unfreie Menschen in Barracken \"besiegen\"* übri...</td>\n",
       "      <td>NaN</td>\n",
       "    </tr>\n",
       "    <tr>\n",
       "      <th>998</th>\n",
       "      <td>Die Kernfusion wird die Klimakrise für uns lös...</td>\n",
       "      <td>NaN</td>\n",
       "    </tr>\n",
       "    <tr>\n",
       "      <th>999</th>\n",
       "      <td>Dabei verlieren wir das eigentliche Ziel des K...</td>\n",
       "      <td>NaN</td>\n",
       "    </tr>\n",
       "  </tbody>\n",
       "</table>\n",
       "<p>901 rows × 2 columns</p>\n",
       "</div>"
      ],
      "text/plain": [
       "                                                 Tweet  Rating (0/1/2) \n",
       "99   @ReiSteurer Was soll das:\\nIst es warm und tro...              NaN\n",
       "100  @Gert_Woellmann @ben_brechtken Wir könnten mal...              NaN\n",
       "101  @Marcus_MoD @Nationallibera3 @sebastiankurz @r...              NaN\n",
       "102  @Philipp_Sgtz 😊glaube nicht nur du🥰,\\nStattdes...              NaN\n",
       "103  @stevenehring @welt Mit Co2 Einsparung kann De...              NaN\n",
       "..                                                 ...              ...\n",
       "995  @KeilaniFatina @Michael_Leh Sie vermischen hie...              NaN\n",
       "996  @PandaMawr @HalleVerkehrt @Keeper_86 @dansiela...              NaN\n",
       "997  Unfreie Menschen in Barracken \"besiegen\"* übri...              NaN\n",
       "998  Die Kernfusion wird die Klimakrise für uns lös...              NaN\n",
       "999  Dabei verlieren wir das eigentliche Ziel des K...              NaN\n",
       "\n",
       "[901 rows x 2 columns]"
      ]
     },
     "execution_count": 10,
     "metadata": {},
     "output_type": "execute_result"
    }
   ],
   "source": [
    "X_predict=new[99:].copy()\n",
    "X_predict"
   ]
  },
  {
   "cell_type": "code",
   "execution_count": 11,
   "id": "cfb18f8b",
   "metadata": {
    "execution": {
     "iopub.execute_input": "2022-09-15T18:53:21.845057Z",
     "iopub.status.busy": "2022-09-15T18:53:21.844628Z",
     "iopub.status.idle": "2022-09-15T18:53:21.849978Z",
     "shell.execute_reply": "2022-09-15T18:53:21.849044Z"
    },
    "papermill": {
     "duration": 0.021798,
     "end_time": "2022-09-15T18:53:21.852138",
     "exception": false,
     "start_time": "2022-09-15T18:53:21.830340",
     "status": "completed"
    },
    "tags": []
   },
   "outputs": [],
   "source": [
    "X_predict.drop('Rating (0/1/2) ',axis=1,inplace=True)"
   ]
  },
  {
   "cell_type": "code",
   "execution_count": 12,
   "id": "6b4dcab6",
   "metadata": {
    "execution": {
     "iopub.execute_input": "2022-09-15T18:53:21.879230Z",
     "iopub.status.busy": "2022-09-15T18:53:21.878790Z",
     "iopub.status.idle": "2022-09-15T18:53:21.890488Z",
     "shell.execute_reply": "2022-09-15T18:53:21.889613Z"
    },
    "papermill": {
     "duration": 0.027849,
     "end_time": "2022-09-15T18:53:21.892831",
     "exception": false,
     "start_time": "2022-09-15T18:53:21.864982",
     "status": "completed"
    },
    "tags": []
   },
   "outputs": [
    {
     "data": {
      "text/html": [
       "<div>\n",
       "<style scoped>\n",
       "    .dataframe tbody tr th:only-of-type {\n",
       "        vertical-align: middle;\n",
       "    }\n",
       "\n",
       "    .dataframe tbody tr th {\n",
       "        vertical-align: top;\n",
       "    }\n",
       "\n",
       "    .dataframe thead th {\n",
       "        text-align: right;\n",
       "    }\n",
       "</style>\n",
       "<table border=\"1\" class=\"dataframe\">\n",
       "  <thead>\n",
       "    <tr style=\"text-align: right;\">\n",
       "      <th></th>\n",
       "      <th>Tweet</th>\n",
       "    </tr>\n",
       "  </thead>\n",
       "  <tbody>\n",
       "    <tr>\n",
       "      <th>99</th>\n",
       "      <td>@ReiSteurer Was soll das:\\nIst es warm und tro...</td>\n",
       "    </tr>\n",
       "    <tr>\n",
       "      <th>100</th>\n",
       "      <td>@Gert_Woellmann @ben_brechtken Wir könnten mal...</td>\n",
       "    </tr>\n",
       "    <tr>\n",
       "      <th>101</th>\n",
       "      <td>@Marcus_MoD @Nationallibera3 @sebastiankurz @r...</td>\n",
       "    </tr>\n",
       "    <tr>\n",
       "      <th>102</th>\n",
       "      <td>@Philipp_Sgtz 😊glaube nicht nur du🥰,\\nStattdes...</td>\n",
       "    </tr>\n",
       "    <tr>\n",
       "      <th>103</th>\n",
       "      <td>@stevenehring @welt Mit Co2 Einsparung kann De...</td>\n",
       "    </tr>\n",
       "    <tr>\n",
       "      <th>...</th>\n",
       "      <td>...</td>\n",
       "    </tr>\n",
       "    <tr>\n",
       "      <th>995</th>\n",
       "      <td>@KeilaniFatina @Michael_Leh Sie vermischen hie...</td>\n",
       "    </tr>\n",
       "    <tr>\n",
       "      <th>996</th>\n",
       "      <td>@PandaMawr @HalleVerkehrt @Keeper_86 @dansiela...</td>\n",
       "    </tr>\n",
       "    <tr>\n",
       "      <th>997</th>\n",
       "      <td>Unfreie Menschen in Barracken \"besiegen\"* übri...</td>\n",
       "    </tr>\n",
       "    <tr>\n",
       "      <th>998</th>\n",
       "      <td>Die Kernfusion wird die Klimakrise für uns lös...</td>\n",
       "    </tr>\n",
       "    <tr>\n",
       "      <th>999</th>\n",
       "      <td>Dabei verlieren wir das eigentliche Ziel des K...</td>\n",
       "    </tr>\n",
       "  </tbody>\n",
       "</table>\n",
       "<p>901 rows × 1 columns</p>\n",
       "</div>"
      ],
      "text/plain": [
       "                                                 Tweet\n",
       "99   @ReiSteurer Was soll das:\\nIst es warm und tro...\n",
       "100  @Gert_Woellmann @ben_brechtken Wir könnten mal...\n",
       "101  @Marcus_MoD @Nationallibera3 @sebastiankurz @r...\n",
       "102  @Philipp_Sgtz 😊glaube nicht nur du🥰,\\nStattdes...\n",
       "103  @stevenehring @welt Mit Co2 Einsparung kann De...\n",
       "..                                                 ...\n",
       "995  @KeilaniFatina @Michael_Leh Sie vermischen hie...\n",
       "996  @PandaMawr @HalleVerkehrt @Keeper_86 @dansiela...\n",
       "997  Unfreie Menschen in Barracken \"besiegen\"* übri...\n",
       "998  Die Kernfusion wird die Klimakrise für uns lös...\n",
       "999  Dabei verlieren wir das eigentliche Ziel des K...\n",
       "\n",
       "[901 rows x 1 columns]"
      ]
     },
     "execution_count": 12,
     "metadata": {},
     "output_type": "execute_result"
    }
   ],
   "source": [
    "X_predict"
   ]
  },
  {
   "cell_type": "code",
   "execution_count": 13,
   "id": "43615f80",
   "metadata": {
    "execution": {
     "iopub.execute_input": "2022-09-15T18:53:21.920830Z",
     "iopub.status.busy": "2022-09-15T18:53:21.920199Z",
     "iopub.status.idle": "2022-09-15T18:53:25.445003Z",
     "shell.execute_reply": "2022-09-15T18:53:25.443836Z"
    },
    "papermill": {
     "duration": 3.542236,
     "end_time": "2022-09-15T18:53:25.448043",
     "exception": false,
     "start_time": "2022-09-15T18:53:21.905807",
     "status": "completed"
    },
    "tags": []
   },
   "outputs": [],
   "source": [
    "import re\n",
    "import spacy\n",
    "nlp = spacy.load('de_core_news_md')\n",
    "corpus = []\n",
    "for i in range(0, len(X)):\n",
    "    tweet = re.sub('@|,|#|;|:|\\n', '', X_train[i])\n",
    "    tweet = re.sub('\\.',' ',tweet)\n",
    "    doc=nlp(tweet)\n",
    "    result = ' '.join([x.lemma_ for x in doc]) \n",
    "    corpus.append(result)"
   ]
  },
  {
   "cell_type": "code",
   "execution_count": 14,
   "id": "cc756098",
   "metadata": {
    "execution": {
     "iopub.execute_input": "2022-09-15T18:53:25.475497Z",
     "iopub.status.busy": "2022-09-15T18:53:25.475076Z",
     "iopub.status.idle": "2022-09-15T18:53:25.483607Z",
     "shell.execute_reply": "2022-09-15T18:53:25.482732Z"
    },
    "papermill": {
     "duration": 0.024936,
     "end_time": "2022-09-15T18:53:25.485814",
     "exception": false,
     "start_time": "2022-09-15T18:53:25.460878",
     "status": "completed"
    },
    "tags": []
   },
   "outputs": [
    {
     "data": {
      "text/plain": [
       "0     @anja1970a Außerdem kann eine Regierung auch d...\n",
       "1     Umgang mit Klimawandel: Reden wir doch mal übe...\n",
       "2     @sabi_ri @chili_deluxe @ZDFheute @Kachelmann K...\n",
       "3     @manaf12hassan @rhonradlegende Diggi, was mein...\n",
       "4     .@daserste berichtet lieber über eine angeblic...\n",
       "                            ...                        \n",
       "94    P.S.: Ja, es ist richtig, über Fehler von Poli...\n",
       "95    Gibt es eigentlich eine Art #opendata Zusammen...\n",
       "96    @zeitonline_ent Klimawandel, Artensterben, Übe...\n",
       "97    @terrxrzecke161_ Klimawandel absolut legitim, ...\n",
       "98    @sspdw @welt Natürlich müssen CO2 Emissionen d...\n",
       "Name: Tweet, Length: 99, dtype: object"
      ]
     },
     "execution_count": 14,
     "metadata": {},
     "output_type": "execute_result"
    }
   ],
   "source": [
    "X_train"
   ]
  },
  {
   "cell_type": "code",
   "execution_count": 15,
   "id": "47352e65",
   "metadata": {
    "execution": {
     "iopub.execute_input": "2022-09-15T18:53:25.514989Z",
     "iopub.status.busy": "2022-09-15T18:53:25.513977Z",
     "iopub.status.idle": "2022-09-15T18:53:25.520736Z",
     "shell.execute_reply": "2022-09-15T18:53:25.519820Z"
    },
    "papermill": {
     "duration": 0.023639,
     "end_time": "2022-09-15T18:53:25.522985",
     "exception": false,
     "start_time": "2022-09-15T18:53:25.499346",
     "status": "completed"
    },
    "tags": []
   },
   "outputs": [
    {
     "data": {
      "text/plain": [
       "['Anja1970a außerdem können ein Regierung auch da gesetzlich nachbessern   der Klimawandel benötigen Antwort   und der Kosten dürfen nicht bei der hängenbleiben der ein CO2 Bepreisung als Mieter nur hinnehmen können   Aktiv werden können nur ein Hausbesitzer   Egal ob Eigenheim oder Vermieter',\n",
       " 'Umgang mit Klimawandel reden wir doch mal über Armin Laschet https//t co -- TYDrBbLnss via Derspiegel 🧐 🦊 🌻',\n",
       " \"sabi_ri chili_deluxe ZDFheute Kachelmann Klimawandel verstärken dieser Dürre darum geht'sn\",\n",
       " 'Manaf12hassan rhonradlegend Diggi was meinst du passieren mit der Mittel und Unterschicht wenn nicht JETZT was gegen der Klimawandel tun werden -- so wie es jetzt laufen können man sich sein Job bei Audi in & lt50 Jahr in der Podex schieben --',\n",
       " '  daser berichten lieber über ein angeblich Bürgerkriegsgefahr in Cuba obwohl der halb USA BrenntDas sein der Einfluss der CDU sie schweigen der Thema Klimakrise komplett tot schauen euch der Profil an niemand aus der Union verlieren ein Wort darüber LaschetLuegt https//t co -- 1sIwCjBpyF']"
      ]
     },
     "execution_count": 15,
     "metadata": {},
     "output_type": "execute_result"
    }
   ],
   "source": [
    "corpus[:5]"
   ]
  },
  {
   "cell_type": "code",
   "execution_count": 16,
   "id": "5fc9f57f",
   "metadata": {
    "execution": {
     "iopub.execute_input": "2022-09-15T18:53:25.552223Z",
     "iopub.status.busy": "2022-09-15T18:53:25.551254Z",
     "iopub.status.idle": "2022-09-15T18:53:25.630799Z",
     "shell.execute_reply": "2022-09-15T18:53:25.629659Z"
    },
    "papermill": {
     "duration": 0.09716,
     "end_time": "2022-09-15T18:53:25.633544",
     "exception": false,
     "start_time": "2022-09-15T18:53:25.536384",
     "status": "completed"
    },
    "tags": []
   },
   "outputs": [],
   "source": [
    "from sklearn.feature_extraction.text import TfidfVectorizer\n",
    "vectorizer=TfidfVectorizer()\n",
    "X_train=vectorizer.fit_transform(corpus)\n",
    "X_predict=vectorizer.transform(X_predict['Tweet'])"
   ]
  },
  {
   "cell_type": "code",
   "execution_count": 17,
   "id": "fd1354e7",
   "metadata": {
    "execution": {
     "iopub.execute_input": "2022-09-15T18:53:25.661740Z",
     "iopub.status.busy": "2022-09-15T18:53:25.661270Z",
     "iopub.status.idle": "2022-09-15T18:53:25.668615Z",
     "shell.execute_reply": "2022-09-15T18:53:25.667079Z"
    },
    "papermill": {
     "duration": 0.024091,
     "end_time": "2022-09-15T18:53:25.670946",
     "exception": false,
     "start_time": "2022-09-15T18:53:25.646855",
     "status": "completed"
    },
    "tags": []
   },
   "outputs": [
    {
     "data": {
      "text/plain": [
       "(99, 1112)"
      ]
     },
     "execution_count": 17,
     "metadata": {},
     "output_type": "execute_result"
    }
   ],
   "source": [
    "X_train.shape"
   ]
  },
  {
   "cell_type": "code",
   "execution_count": 18,
   "id": "71777395",
   "metadata": {
    "execution": {
     "iopub.execute_input": "2022-09-15T18:53:25.700343Z",
     "iopub.status.busy": "2022-09-15T18:53:25.699632Z",
     "iopub.status.idle": "2022-09-15T18:53:25.706124Z",
     "shell.execute_reply": "2022-09-15T18:53:25.704673Z"
    },
    "papermill": {
     "duration": 0.023998,
     "end_time": "2022-09-15T18:53:25.708385",
     "exception": false,
     "start_time": "2022-09-15T18:53:25.684387",
     "status": "completed"
    },
    "tags": []
   },
   "outputs": [
    {
     "data": {
      "text/plain": [
       "<901x1112 sparse matrix of type '<class 'numpy.float64'>'\n",
       "\twith 11559 stored elements in Compressed Sparse Row format>"
      ]
     },
     "execution_count": 18,
     "metadata": {},
     "output_type": "execute_result"
    }
   ],
   "source": [
    "X_predict"
   ]
  },
  {
   "cell_type": "code",
   "execution_count": 19,
   "id": "cde7864c",
   "metadata": {
    "execution": {
     "iopub.execute_input": "2022-09-15T18:53:25.737821Z",
     "iopub.status.busy": "2022-09-15T18:53:25.737136Z",
     "iopub.status.idle": "2022-09-15T18:53:25.882165Z",
     "shell.execute_reply": "2022-09-15T18:53:25.880938Z"
    },
    "papermill": {
     "duration": 0.162591,
     "end_time": "2022-09-15T18:53:25.884852",
     "exception": false,
     "start_time": "2022-09-15T18:53:25.722261",
     "status": "completed"
    },
    "tags": []
   },
   "outputs": [
    {
     "data": {
      "text/plain": [
       "SVC(C=100, kernel='linear')"
      ]
     },
     "execution_count": 19,
     "metadata": {},
     "output_type": "execute_result"
    }
   ],
   "source": [
    "from sklearn import svm\n",
    "svm_classifier=svm.SVC(kernel='linear',C=100)\n",
    "svm_classifier.fit(X_train,y_train)"
   ]
  },
  {
   "cell_type": "code",
   "execution_count": 20,
   "id": "7f363bae",
   "metadata": {
    "execution": {
     "iopub.execute_input": "2022-09-15T18:53:25.913763Z",
     "iopub.status.busy": "2022-09-15T18:53:25.912772Z",
     "iopub.status.idle": "2022-09-15T18:53:25.936794Z",
     "shell.execute_reply": "2022-09-15T18:53:25.935703Z"
    },
    "papermill": {
     "duration": 0.041383,
     "end_time": "2022-09-15T18:53:25.939581",
     "exception": false,
     "start_time": "2022-09-15T18:53:25.898198",
     "status": "completed"
    },
    "tags": []
   },
   "outputs": [],
   "source": [
    "predictions = svm_classifier.predict(X_predict)"
   ]
  },
  {
   "cell_type": "code",
   "execution_count": 21,
   "id": "52476c05",
   "metadata": {
    "execution": {
     "iopub.execute_input": "2022-09-15T18:53:25.969138Z",
     "iopub.status.busy": "2022-09-15T18:53:25.968350Z",
     "iopub.status.idle": "2022-09-15T18:53:25.983560Z",
     "shell.execute_reply": "2022-09-15T18:53:25.982699Z"
    },
    "papermill": {
     "duration": 0.033148,
     "end_time": "2022-09-15T18:53:25.986213",
     "exception": false,
     "start_time": "2022-09-15T18:53:25.953065",
     "status": "completed"
    },
    "tags": []
   },
   "outputs": [],
   "source": [
    "output = pd.DataFrame({'Tweet': new[99:].Tweet,\n",
    "                       'Rating': predictions})\n",
    "output.to_csv('full_preLabelled_svm.csv', index= False)\n"
   ]
  },
  {
   "cell_type": "code",
   "execution_count": 22,
   "id": "104d131f",
   "metadata": {
    "execution": {
     "iopub.execute_input": "2022-09-15T18:53:26.015545Z",
     "iopub.status.busy": "2022-09-15T18:53:26.014789Z",
     "iopub.status.idle": "2022-09-15T18:53:27.216091Z",
     "shell.execute_reply": "2022-09-15T18:53:27.214988Z"
    },
    "papermill": {
     "duration": 1.219885,
     "end_time": "2022-09-15T18:53:27.219364",
     "exception": false,
     "start_time": "2022-09-15T18:53:25.999479",
     "status": "completed"
    },
    "tags": []
   },
   "outputs": [],
   "source": [
    "full = pd.read_csv('../input/german-floods/full30.csv',lineterminator='\\n')"
   ]
  },
  {
   "cell_type": "code",
   "execution_count": 23,
   "id": "cfa9377e",
   "metadata": {
    "execution": {
     "iopub.execute_input": "2022-09-15T18:53:27.258681Z",
     "iopub.status.busy": "2022-09-15T18:53:27.257597Z",
     "iopub.status.idle": "2022-09-15T18:53:27.269207Z",
     "shell.execute_reply": "2022-09-15T18:53:27.268171Z"
    },
    "papermill": {
     "duration": 0.037911,
     "end_time": "2022-09-15T18:53:27.271672",
     "exception": false,
     "start_time": "2022-09-15T18:53:27.233761",
     "status": "completed"
    },
    "tags": []
   },
   "outputs": [
    {
     "data": {
      "text/html": [
       "<div>\n",
       "<style scoped>\n",
       "    .dataframe tbody tr th:only-of-type {\n",
       "        vertical-align: middle;\n",
       "    }\n",
       "\n",
       "    .dataframe tbody tr th {\n",
       "        vertical-align: top;\n",
       "    }\n",
       "\n",
       "    .dataframe thead th {\n",
       "        text-align: right;\n",
       "    }\n",
       "</style>\n",
       "<table border=\"1\" class=\"dataframe\">\n",
       "  <thead>\n",
       "    <tr style=\"text-align: right;\">\n",
       "      <th></th>\n",
       "      <th>Unnamed: 0</th>\n",
       "      <th>date</th>\n",
       "      <th>User</th>\n",
       "      <th>Tweet</th>\n",
       "    </tr>\n",
       "  </thead>\n",
       "  <tbody>\n",
       "    <tr>\n",
       "      <th>0</th>\n",
       "      <td>0</td>\n",
       "      <td>2021-07-29 23:58:48+00:00</td>\n",
       "      <td>Porticus2</td>\n",
       "      <td>Bevor Herr @MarkusSöder solches Klima-Trallala...</td>\n",
       "    </tr>\n",
       "    <tr>\n",
       "      <th>1</th>\n",
       "      <td>1</td>\n",
       "      <td>2021-07-29 23:57:38+00:00</td>\n",
       "      <td>watch_union</td>\n",
       "      <td>Der Vorstandsvorsitzende von #VW zerstört bei ...</td>\n",
       "    </tr>\n",
       "    <tr>\n",
       "      <th>2</th>\n",
       "      <td>2</td>\n",
       "      <td>2021-07-29 23:56:57+00:00</td>\n",
       "      <td>NiklasCcr</td>\n",
       "      <td>@raichubvb Klimawandel. Die Menschen müssen en...</td>\n",
       "    </tr>\n",
       "    <tr>\n",
       "      <th>3</th>\n",
       "      <td>3</td>\n",
       "      <td>2021-07-29 23:53:53+00:00</td>\n",
       "      <td>SvenPhenix</td>\n",
       "      <td>Jetzt in einer Zeit voller Krisen: #COVID19, #...</td>\n",
       "    </tr>\n",
       "    <tr>\n",
       "      <th>4</th>\n",
       "      <td>4</td>\n",
       "      <td>2021-07-29 23:52:19+00:00</td>\n",
       "      <td>brokenspirits</td>\n",
       "      <td>Und nochmal etwas weitergedacht: Während hier ...</td>\n",
       "    </tr>\n",
       "  </tbody>\n",
       "</table>\n",
       "</div>"
      ],
      "text/plain": [
       "   Unnamed: 0                       date           User  \\\n",
       "0           0  2021-07-29 23:58:48+00:00      Porticus2   \n",
       "1           1  2021-07-29 23:57:38+00:00    watch_union   \n",
       "2           2  2021-07-29 23:56:57+00:00      NiklasCcr   \n",
       "3           3  2021-07-29 23:53:53+00:00     SvenPhenix   \n",
       "4           4  2021-07-29 23:52:19+00:00  brokenspirits   \n",
       "\n",
       "                                               Tweet  \n",
       "0  Bevor Herr @MarkusSöder solches Klima-Trallala...  \n",
       "1  Der Vorstandsvorsitzende von #VW zerstört bei ...  \n",
       "2  @raichubvb Klimawandel. Die Menschen müssen en...  \n",
       "3  Jetzt in einer Zeit voller Krisen: #COVID19, #...  \n",
       "4  Und nochmal etwas weitergedacht: Während hier ...  "
      ]
     },
     "execution_count": 23,
     "metadata": {},
     "output_type": "execute_result"
    }
   ],
   "source": [
    "full.head()"
   ]
  },
  {
   "cell_type": "code",
   "execution_count": 24,
   "id": "f666fad2",
   "metadata": {
    "execution": {
     "iopub.execute_input": "2022-09-15T18:53:27.300768Z",
     "iopub.status.busy": "2022-09-15T18:53:27.300346Z",
     "iopub.status.idle": "2022-09-15T18:53:30.622606Z",
     "shell.execute_reply": "2022-09-15T18:53:30.621334Z"
    },
    "papermill": {
     "duration": 3.339919,
     "end_time": "2022-09-15T18:53:30.625477",
     "exception": false,
     "start_time": "2022-09-15T18:53:27.285558",
     "status": "completed"
    },
    "tags": []
   },
   "outputs": [],
   "source": [
    "X_full_predict=vectorizer.transform(full['Tweet'])"
   ]
  },
  {
   "cell_type": "code",
   "execution_count": 25,
   "id": "fd3624e7",
   "metadata": {
    "execution": {
     "iopub.execute_input": "2022-09-15T18:53:30.654957Z",
     "iopub.status.busy": "2022-09-15T18:53:30.654537Z",
     "iopub.status.idle": "2022-09-15T18:53:30.661588Z",
     "shell.execute_reply": "2022-09-15T18:53:30.660394Z"
    },
    "papermill": {
     "duration": 0.024808,
     "end_time": "2022-09-15T18:53:30.664033",
     "exception": false,
     "start_time": "2022-09-15T18:53:30.639225",
     "status": "completed"
    },
    "tags": []
   },
   "outputs": [
    {
     "data": {
      "text/plain": [
       "(118729, 1112)"
      ]
     },
     "execution_count": 25,
     "metadata": {},
     "output_type": "execute_result"
    }
   ],
   "source": [
    "X_full_predict.shape"
   ]
  },
  {
   "cell_type": "code",
   "execution_count": 26,
   "id": "629c39ec",
   "metadata": {
    "execution": {
     "iopub.execute_input": "2022-09-15T18:53:30.694199Z",
     "iopub.status.busy": "2022-09-15T18:53:30.693804Z",
     "iopub.status.idle": "2022-09-15T18:53:32.963177Z",
     "shell.execute_reply": "2022-09-15T18:53:32.961892Z"
    },
    "papermill": {
     "duration": 2.287662,
     "end_time": "2022-09-15T18:53:32.965960",
     "exception": false,
     "start_time": "2022-09-15T18:53:30.678298",
     "status": "completed"
    },
    "tags": []
   },
   "outputs": [],
   "source": [
    "predictions_full = svm_classifier.predict(X_full_predict)"
   ]
  },
  {
   "cell_type": "code",
   "execution_count": 27,
   "id": "4dfa70ec",
   "metadata": {
    "execution": {
     "iopub.execute_input": "2022-09-15T18:53:32.995497Z",
     "iopub.status.busy": "2022-09-15T18:53:32.995080Z",
     "iopub.status.idle": "2022-09-15T18:53:33.001173Z",
     "shell.execute_reply": "2022-09-15T18:53:32.999820Z"
    },
    "papermill": {
     "duration": 0.023616,
     "end_time": "2022-09-15T18:53:33.003561",
     "exception": false,
     "start_time": "2022-09-15T18:53:32.979945",
     "status": "completed"
    },
    "tags": []
   },
   "outputs": [],
   "source": [
    "full['Rating (0/1/2) ']=predictions_full"
   ]
  },
  {
   "cell_type": "code",
   "execution_count": 28,
   "id": "7d5e68d2",
   "metadata": {
    "execution": {
     "iopub.execute_input": "2022-09-15T18:53:33.033305Z",
     "iopub.status.busy": "2022-09-15T18:53:33.032519Z",
     "iopub.status.idle": "2022-09-15T18:53:33.810087Z",
     "shell.execute_reply": "2022-09-15T18:53:33.808754Z"
    },
    "papermill": {
     "duration": 0.795544,
     "end_time": "2022-09-15T18:53:33.812906",
     "exception": false,
     "start_time": "2022-09-15T18:53:33.017362",
     "status": "completed"
    },
    "tags": []
   },
   "outputs": [],
   "source": [
    "from datetime import datetime\n",
    "full['date']=pd.to_datetime(full['date'])\n",
    "full['date']= full['date'].apply(lambda x: x.strftime('%Y-%m-%d'))"
   ]
  },
  {
   "cell_type": "code",
   "execution_count": 29,
   "id": "7fe2abf2",
   "metadata": {
    "execution": {
     "iopub.execute_input": "2022-09-15T18:53:33.842905Z",
     "iopub.status.busy": "2022-09-15T18:53:33.842191Z",
     "iopub.status.idle": "2022-09-15T18:53:33.872390Z",
     "shell.execute_reply": "2022-09-15T18:53:33.871133Z"
    },
    "papermill": {
     "duration": 0.048114,
     "end_time": "2022-09-15T18:53:33.875171",
     "exception": false,
     "start_time": "2022-09-15T18:53:33.827057",
     "status": "completed"
    },
    "tags": []
   },
   "outputs": [],
   "source": [
    "full_pre = full[full['date']<='2021-07-13']"
   ]
  },
  {
   "cell_type": "code",
   "execution_count": 30,
   "id": "67eb472e",
   "metadata": {
    "execution": {
     "iopub.execute_input": "2022-09-15T18:53:33.905435Z",
     "iopub.status.busy": "2022-09-15T18:53:33.904729Z",
     "iopub.status.idle": "2022-09-15T18:53:33.922057Z",
     "shell.execute_reply": "2022-09-15T18:53:33.921013Z"
    },
    "papermill": {
     "duration": 0.035078,
     "end_time": "2022-09-15T18:53:33.924556",
     "exception": false,
     "start_time": "2022-09-15T18:53:33.889478",
     "status": "completed"
    },
    "tags": []
   },
   "outputs": [
    {
     "data": {
      "text/html": [
       "<div>\n",
       "<style scoped>\n",
       "    .dataframe tbody tr th:only-of-type {\n",
       "        vertical-align: middle;\n",
       "    }\n",
       "\n",
       "    .dataframe tbody tr th {\n",
       "        vertical-align: top;\n",
       "    }\n",
       "\n",
       "    .dataframe thead th {\n",
       "        text-align: right;\n",
       "    }\n",
       "</style>\n",
       "<table border=\"1\" class=\"dataframe\">\n",
       "  <thead>\n",
       "    <tr style=\"text-align: right;\">\n",
       "      <th></th>\n",
       "      <th>Unnamed: 0</th>\n",
       "      <th>date</th>\n",
       "      <th>User</th>\n",
       "      <th>Tweet</th>\n",
       "      <th>Rating (0/1/2)</th>\n",
       "    </tr>\n",
       "  </thead>\n",
       "  <tbody>\n",
       "    <tr>\n",
       "      <th>80954</th>\n",
       "      <td>80954</td>\n",
       "      <td>2021-07-13</td>\n",
       "      <td>Arminirma1Armin</td>\n",
       "      <td>@BPsteinmueller Die USA ist uns durch Bidens T...</td>\n",
       "      <td>1.0</td>\n",
       "    </tr>\n",
       "    <tr>\n",
       "      <th>80955</th>\n",
       "      <td>80955</td>\n",
       "      <td>2021-07-13</td>\n",
       "      <td>nfdampf</td>\n",
       "      <td>Pandemie, Klimakrise, Artensterben, Ausbeutung...</td>\n",
       "      <td>1.0</td>\n",
       "    </tr>\n",
       "    <tr>\n",
       "      <th>80956</th>\n",
       "      <td>80956</td>\n",
       "      <td>2021-07-13</td>\n",
       "      <td>MEPilarczyk</td>\n",
       "      <td>Und solch ein extrem arroganter WischiWaschi -...</td>\n",
       "      <td>1.0</td>\n",
       "    </tr>\n",
       "    <tr>\n",
       "      <th>80957</th>\n",
       "      <td>80957</td>\n",
       "      <td>2021-07-13</td>\n",
       "      <td>megatrendy</td>\n",
       "      <td>ich nehme jetzt an, dass sich die Herren Rösti...</td>\n",
       "      <td>1.0</td>\n",
       "    </tr>\n",
       "    <tr>\n",
       "      <th>80958</th>\n",
       "      <td>80958</td>\n",
       "      <td>2021-07-13</td>\n",
       "      <td>FFFLeipzig</td>\n",
       "      <td>+++ Übersicht der nächsten Aktionen +++\\n\\nIn ...</td>\n",
       "      <td>1.0</td>\n",
       "    </tr>\n",
       "    <tr>\n",
       "      <th>...</th>\n",
       "      <td>...</td>\n",
       "      <td>...</td>\n",
       "      <td>...</td>\n",
       "      <td>...</td>\n",
       "      <td>...</td>\n",
       "    </tr>\n",
       "    <tr>\n",
       "      <th>118724</th>\n",
       "      <td>118724</td>\n",
       "      <td>2021-07-01</td>\n",
       "      <td>SenorTenor</td>\n",
       "      <td>@nukeman11859765 @DerClue @VeroWendland @fwies...</td>\n",
       "      <td>1.0</td>\n",
       "    </tr>\n",
       "    <tr>\n",
       "      <th>118725</th>\n",
       "      <td>118725</td>\n",
       "      <td>2021-07-01</td>\n",
       "      <td>f_talmon</td>\n",
       "      <td>Nur wenn es gelingt den #Klimawandel zu stoppe...</td>\n",
       "      <td>1.0</td>\n",
       "    </tr>\n",
       "    <tr>\n",
       "      <th>118726</th>\n",
       "      <td>118726</td>\n",
       "      <td>2021-07-01</td>\n",
       "      <td>RRMeyer2</td>\n",
       "      <td>@SenorTenor @MoormannRainer @amardeo @DerClue ...</td>\n",
       "      <td>0.0</td>\n",
       "    </tr>\n",
       "    <tr>\n",
       "      <th>118727</th>\n",
       "      <td>118727</td>\n",
       "      <td>2021-07-01</td>\n",
       "      <td>SenorTenor</td>\n",
       "      <td>@MoormannRainer @DerClue @VeroWendland @fwiesc...</td>\n",
       "      <td>1.0</td>\n",
       "    </tr>\n",
       "    <tr>\n",
       "      <th>118728</th>\n",
       "      <td>118728</td>\n",
       "      <td>2021-07-01</td>\n",
       "      <td>SenorTenor</td>\n",
       "      <td>@MoormannRainer @DerClue @VeroWendland @fwiesc...</td>\n",
       "      <td>1.0</td>\n",
       "    </tr>\n",
       "  </tbody>\n",
       "</table>\n",
       "<p>37775 rows × 5 columns</p>\n",
       "</div>"
      ],
      "text/plain": [
       "        Unnamed: 0        date             User  \\\n",
       "80954        80954  2021-07-13  Arminirma1Armin   \n",
       "80955        80955  2021-07-13          nfdampf   \n",
       "80956        80956  2021-07-13      MEPilarczyk   \n",
       "80957        80957  2021-07-13       megatrendy   \n",
       "80958        80958  2021-07-13       FFFLeipzig   \n",
       "...            ...         ...              ...   \n",
       "118724      118724  2021-07-01       SenorTenor   \n",
       "118725      118725  2021-07-01         f_talmon   \n",
       "118726      118726  2021-07-01         RRMeyer2   \n",
       "118727      118727  2021-07-01       SenorTenor   \n",
       "118728      118728  2021-07-01       SenorTenor   \n",
       "\n",
       "                                                    Tweet  Rating (0/1/2)   \n",
       "80954   @BPsteinmueller Die USA ist uns durch Bidens T...              1.0  \n",
       "80955   Pandemie, Klimakrise, Artensterben, Ausbeutung...              1.0  \n",
       "80956   Und solch ein extrem arroganter WischiWaschi -...              1.0  \n",
       "80957   ich nehme jetzt an, dass sich die Herren Rösti...              1.0  \n",
       "80958   +++ Übersicht der nächsten Aktionen +++\\n\\nIn ...              1.0  \n",
       "...                                                   ...              ...  \n",
       "118724  @nukeman11859765 @DerClue @VeroWendland @fwies...              1.0  \n",
       "118725  Nur wenn es gelingt den #Klimawandel zu stoppe...              1.0  \n",
       "118726  @SenorTenor @MoormannRainer @amardeo @DerClue ...              0.0  \n",
       "118727  @MoormannRainer @DerClue @VeroWendland @fwiesc...              1.0  \n",
       "118728  @MoormannRainer @DerClue @VeroWendland @fwiesc...              1.0  \n",
       "\n",
       "[37775 rows x 5 columns]"
      ]
     },
     "execution_count": 30,
     "metadata": {},
     "output_type": "execute_result"
    }
   ],
   "source": [
    "full_pre"
   ]
  },
  {
   "cell_type": "code",
   "execution_count": 31,
   "id": "4a677b32",
   "metadata": {
    "execution": {
     "iopub.execute_input": "2022-09-15T18:53:33.954959Z",
     "iopub.status.busy": "2022-09-15T18:53:33.954519Z",
     "iopub.status.idle": "2022-09-15T18:53:33.973502Z",
     "shell.execute_reply": "2022-09-15T18:53:33.972059Z"
    },
    "papermill": {
     "duration": 0.037412,
     "end_time": "2022-09-15T18:53:33.976206",
     "exception": false,
     "start_time": "2022-09-15T18:53:33.938794",
     "status": "completed"
    },
    "tags": []
   },
   "outputs": [],
   "source": [
    "full_post = full[full['date']>'2021-07-13']"
   ]
  },
  {
   "cell_type": "code",
   "execution_count": 32,
   "id": "87b8ff56",
   "metadata": {
    "execution": {
     "iopub.execute_input": "2022-09-15T18:53:34.007357Z",
     "iopub.status.busy": "2022-09-15T18:53:34.006947Z",
     "iopub.status.idle": "2022-09-15T18:53:34.023831Z",
     "shell.execute_reply": "2022-09-15T18:53:34.022710Z"
    },
    "papermill": {
     "duration": 0.03538,
     "end_time": "2022-09-15T18:53:34.026151",
     "exception": false,
     "start_time": "2022-09-15T18:53:33.990771",
     "status": "completed"
    },
    "tags": []
   },
   "outputs": [
    {
     "data": {
      "text/html": [
       "<div>\n",
       "<style scoped>\n",
       "    .dataframe tbody tr th:only-of-type {\n",
       "        vertical-align: middle;\n",
       "    }\n",
       "\n",
       "    .dataframe tbody tr th {\n",
       "        vertical-align: top;\n",
       "    }\n",
       "\n",
       "    .dataframe thead th {\n",
       "        text-align: right;\n",
       "    }\n",
       "</style>\n",
       "<table border=\"1\" class=\"dataframe\">\n",
       "  <thead>\n",
       "    <tr style=\"text-align: right;\">\n",
       "      <th></th>\n",
       "      <th>Unnamed: 0</th>\n",
       "      <th>date</th>\n",
       "      <th>User</th>\n",
       "      <th>Tweet</th>\n",
       "      <th>Rating (0/1/2)</th>\n",
       "    </tr>\n",
       "  </thead>\n",
       "  <tbody>\n",
       "    <tr>\n",
       "      <th>0</th>\n",
       "      <td>0</td>\n",
       "      <td>2021-07-29</td>\n",
       "      <td>Porticus2</td>\n",
       "      <td>Bevor Herr @MarkusSöder solches Klima-Trallala...</td>\n",
       "      <td>1.0</td>\n",
       "    </tr>\n",
       "    <tr>\n",
       "      <th>1</th>\n",
       "      <td>1</td>\n",
       "      <td>2021-07-29</td>\n",
       "      <td>watch_union</td>\n",
       "      <td>Der Vorstandsvorsitzende von #VW zerstört bei ...</td>\n",
       "      <td>1.0</td>\n",
       "    </tr>\n",
       "    <tr>\n",
       "      <th>2</th>\n",
       "      <td>2</td>\n",
       "      <td>2021-07-29</td>\n",
       "      <td>NiklasCcr</td>\n",
       "      <td>@raichubvb Klimawandel. Die Menschen müssen en...</td>\n",
       "      <td>1.0</td>\n",
       "    </tr>\n",
       "    <tr>\n",
       "      <th>3</th>\n",
       "      <td>3</td>\n",
       "      <td>2021-07-29</td>\n",
       "      <td>SvenPhenix</td>\n",
       "      <td>Jetzt in einer Zeit voller Krisen: #COVID19, #...</td>\n",
       "      <td>1.0</td>\n",
       "    </tr>\n",
       "    <tr>\n",
       "      <th>4</th>\n",
       "      <td>4</td>\n",
       "      <td>2021-07-29</td>\n",
       "      <td>brokenspirits</td>\n",
       "      <td>Und nochmal etwas weitergedacht: Während hier ...</td>\n",
       "      <td>1.0</td>\n",
       "    </tr>\n",
       "    <tr>\n",
       "      <th>...</th>\n",
       "      <td>...</td>\n",
       "      <td>...</td>\n",
       "      <td>...</td>\n",
       "      <td>...</td>\n",
       "      <td>...</td>\n",
       "    </tr>\n",
       "    <tr>\n",
       "      <th>80949</th>\n",
       "      <td>80949</td>\n",
       "      <td>2021-07-14</td>\n",
       "      <td>EinFragender</td>\n",
       "      <td>@Karl_Lauterbach So weit ich weiß, war es 1913...</td>\n",
       "      <td>1.0</td>\n",
       "    </tr>\n",
       "    <tr>\n",
       "      <th>80950</th>\n",
       "      <td>80950</td>\n",
       "      <td>2021-07-14</td>\n",
       "      <td>MoSchaefer66</td>\n",
       "      <td>@P4F_Leipzig Jetzt sollte so manchem langsam k...</td>\n",
       "      <td>1.0</td>\n",
       "    </tr>\n",
       "    <tr>\n",
       "      <th>80951</th>\n",
       "      <td>80951</td>\n",
       "      <td>2021-07-14</td>\n",
       "      <td>f_talmon</td>\n",
       "      <td>Wenn der Meeresspiegel weiter steigt, wird das...</td>\n",
       "      <td>1.0</td>\n",
       "    </tr>\n",
       "    <tr>\n",
       "      <th>80952</th>\n",
       "      <td>80952</td>\n",
       "      <td>2021-07-14</td>\n",
       "      <td>Elke__Kuhn</td>\n",
       "      <td>@ayranundspeck @CCitiesOrg @dvd_hrtmnn @Monika...</td>\n",
       "      <td>1.0</td>\n",
       "    </tr>\n",
       "    <tr>\n",
       "      <th>80953</th>\n",
       "      <td>80953</td>\n",
       "      <td>2021-07-14</td>\n",
       "      <td>fahrIehrer</td>\n",
       "      <td>@Vampirkamel @AndreasBlnMi @zeitonline Alles i...</td>\n",
       "      <td>1.0</td>\n",
       "    </tr>\n",
       "  </tbody>\n",
       "</table>\n",
       "<p>80954 rows × 5 columns</p>\n",
       "</div>"
      ],
      "text/plain": [
       "       Unnamed: 0        date           User  \\\n",
       "0               0  2021-07-29      Porticus2   \n",
       "1               1  2021-07-29    watch_union   \n",
       "2               2  2021-07-29      NiklasCcr   \n",
       "3               3  2021-07-29     SvenPhenix   \n",
       "4               4  2021-07-29  brokenspirits   \n",
       "...           ...         ...            ...   \n",
       "80949       80949  2021-07-14   EinFragender   \n",
       "80950       80950  2021-07-14   MoSchaefer66   \n",
       "80951       80951  2021-07-14       f_talmon   \n",
       "80952       80952  2021-07-14     Elke__Kuhn   \n",
       "80953       80953  2021-07-14     fahrIehrer   \n",
       "\n",
       "                                                   Tweet  Rating (0/1/2)   \n",
       "0      Bevor Herr @MarkusSöder solches Klima-Trallala...              1.0  \n",
       "1      Der Vorstandsvorsitzende von #VW zerstört bei ...              1.0  \n",
       "2      @raichubvb Klimawandel. Die Menschen müssen en...              1.0  \n",
       "3      Jetzt in einer Zeit voller Krisen: #COVID19, #...              1.0  \n",
       "4      Und nochmal etwas weitergedacht: Während hier ...              1.0  \n",
       "...                                                  ...              ...  \n",
       "80949  @Karl_Lauterbach So weit ich weiß, war es 1913...              1.0  \n",
       "80950  @P4F_Leipzig Jetzt sollte so manchem langsam k...              1.0  \n",
       "80951  Wenn der Meeresspiegel weiter steigt, wird das...              1.0  \n",
       "80952  @ayranundspeck @CCitiesOrg @dvd_hrtmnn @Monika...              1.0  \n",
       "80953  @Vampirkamel @AndreasBlnMi @zeitonline Alles i...              1.0  \n",
       "\n",
       "[80954 rows x 5 columns]"
      ]
     },
     "execution_count": 32,
     "metadata": {},
     "output_type": "execute_result"
    }
   ],
   "source": [
    "full_post"
   ]
  },
  {
   "cell_type": "code",
   "execution_count": 33,
   "id": "b4fc1e81",
   "metadata": {
    "execution": {
     "iopub.execute_input": "2022-09-15T18:53:34.057138Z",
     "iopub.status.busy": "2022-09-15T18:53:34.056408Z",
     "iopub.status.idle": "2022-09-15T18:53:34.070222Z",
     "shell.execute_reply": "2022-09-15T18:53:34.069076Z"
    },
    "papermill": {
     "duration": 0.031939,
     "end_time": "2022-09-15T18:53:34.072544",
     "exception": false,
     "start_time": "2022-09-15T18:53:34.040605",
     "status": "completed"
    },
    "tags": []
   },
   "outputs": [
    {
     "data": {
      "text/plain": [
       "1.0    35350\n",
       "2.0     1928\n",
       "0.0      497\n",
       "Name: Rating (0/1/2) , dtype: int64"
      ]
     },
     "execution_count": 33,
     "metadata": {},
     "output_type": "execute_result"
    }
   ],
   "source": [
    "rating_count_pre = pd.value_counts(full_pre['Rating (0/1/2) '])\n",
    "rating_count_pre"
   ]
  },
  {
   "cell_type": "code",
   "execution_count": 34,
   "id": "26eb19ce",
   "metadata": {
    "execution": {
     "iopub.execute_input": "2022-09-15T18:53:34.104279Z",
     "iopub.status.busy": "2022-09-15T18:53:34.103563Z",
     "iopub.status.idle": "2022-09-15T18:53:34.114380Z",
     "shell.execute_reply": "2022-09-15T18:53:34.113230Z"
    },
    "papermill": {
     "duration": 0.0295,
     "end_time": "2022-09-15T18:53:34.116829",
     "exception": false,
     "start_time": "2022-09-15T18:53:34.087329",
     "status": "completed"
    },
    "tags": []
   },
   "outputs": [
    {
     "data": {
      "text/plain": [
       "1.0    75628\n",
       "2.0     4391\n",
       "0.0      935\n",
       "Name: Rating (0/1/2) , dtype: int64"
      ]
     },
     "execution_count": 34,
     "metadata": {},
     "output_type": "execute_result"
    }
   ],
   "source": [
    "rating_count_post = pd.value_counts(full_post['Rating (0/1/2) '])\n",
    "rating_count_post"
   ]
  },
  {
   "cell_type": "code",
   "execution_count": 35,
   "id": "afe347ec",
   "metadata": {
    "execution": {
     "iopub.execute_input": "2022-09-15T18:53:34.149767Z",
     "iopub.status.busy": "2022-09-15T18:53:34.149337Z",
     "iopub.status.idle": "2022-09-15T18:53:34.156743Z",
     "shell.execute_reply": "2022-09-15T18:53:34.155515Z"
    },
    "papermill": {
     "duration": 0.026229,
     "end_time": "2022-09-15T18:53:34.159191",
     "exception": false,
     "start_time": "2022-09-15T18:53:34.132962",
     "status": "completed"
    },
    "tags": []
   },
   "outputs": [
    {
     "data": {
      "text/plain": [
       "0.05424067989228451"
      ]
     },
     "execution_count": 35,
     "metadata": {},
     "output_type": "execute_result"
    }
   ],
   "source": [
    "(4391)/(4391+75628+935)\n",
    "#post event"
   ]
  },
  {
   "cell_type": "code",
   "execution_count": 36,
   "id": "958ed179",
   "metadata": {
    "execution": {
     "iopub.execute_input": "2022-09-15T18:53:34.191736Z",
     "iopub.status.busy": "2022-09-15T18:53:34.191308Z",
     "iopub.status.idle": "2022-09-15T18:53:34.198316Z",
     "shell.execute_reply": "2022-09-15T18:53:34.197233Z"
    },
    "papermill": {
     "duration": 0.026111,
     "end_time": "2022-09-15T18:53:34.201196",
     "exception": false,
     "start_time": "2022-09-15T18:53:34.175085",
     "status": "completed"
    },
    "tags": []
   },
   "outputs": [
    {
     "data": {
      "text/plain": [
       "0.05103904698874917"
      ]
     },
     "execution_count": 36,
     "metadata": {},
     "output_type": "execute_result"
    }
   ],
   "source": [
    "1928/(1928+35350+497)"
   ]
  },
  {
   "cell_type": "code",
   "execution_count": 37,
   "id": "6dd2fbeb",
   "metadata": {
    "execution": {
     "iopub.execute_input": "2022-09-15T18:53:34.232980Z",
     "iopub.status.busy": "2022-09-15T18:53:34.232555Z",
     "iopub.status.idle": "2022-09-15T18:53:34.822152Z",
     "shell.execute_reply": "2022-09-15T18:53:34.820903Z"
    },
    "papermill": {
     "duration": 0.608689,
     "end_time": "2022-09-15T18:53:34.825038",
     "exception": false,
     "start_time": "2022-09-15T18:53:34.216349",
     "status": "completed"
    },
    "tags": []
   },
   "outputs": [],
   "source": [
    "full_post.to_csv('full_postLabelled.csv', index= False)"
   ]
  },
  {
   "cell_type": "code",
   "execution_count": 38,
   "id": "86b3fadd",
   "metadata": {
    "execution": {
     "iopub.execute_input": "2022-09-15T18:53:34.857158Z",
     "iopub.status.busy": "2022-09-15T18:53:34.856745Z",
     "iopub.status.idle": "2022-09-15T18:53:35.159632Z",
     "shell.execute_reply": "2022-09-15T18:53:35.158505Z"
    },
    "papermill": {
     "duration": 0.322276,
     "end_time": "2022-09-15T18:53:35.162280",
     "exception": false,
     "start_time": "2022-09-15T18:53:34.840004",
     "status": "completed"
    },
    "tags": []
   },
   "outputs": [],
   "source": [
    "full_pre.to_csv('full_preLabelled.csv', index= False)"
   ]
  },
  {
   "cell_type": "code",
   "execution_count": 39,
   "id": "0b8e4168",
   "metadata": {
    "execution": {
     "iopub.execute_input": "2022-09-15T18:53:35.193971Z",
     "iopub.status.busy": "2022-09-15T18:53:35.193547Z",
     "iopub.status.idle": "2022-09-15T18:53:35.201613Z",
     "shell.execute_reply": "2022-09-15T18:53:35.200668Z"
    },
    "papermill": {
     "duration": 0.026672,
     "end_time": "2022-09-15T18:53:35.203863",
     "exception": false,
     "start_time": "2022-09-15T18:53:35.177191",
     "status": "completed"
    },
    "tags": []
   },
   "outputs": [
    {
     "data": {
      "text/plain": [
       "0.013156849768365321"
      ]
     },
     "execution_count": 39,
     "metadata": {},
     "output_type": "execute_result"
    }
   ],
   "source": [
    "497/(1928+35350+497)\n",
    "#pre for 0"
   ]
  },
  {
   "cell_type": "code",
   "execution_count": 40,
   "id": "fde39dc6",
   "metadata": {
    "execution": {
     "iopub.execute_input": "2022-09-15T18:53:35.235592Z",
     "iopub.status.busy": "2022-09-15T18:53:35.235225Z",
     "iopub.status.idle": "2022-09-15T18:53:35.241850Z",
     "shell.execute_reply": "2022-09-15T18:53:35.240707Z"
    },
    "papermill": {
     "duration": 0.025185,
     "end_time": "2022-09-15T18:53:35.244109",
     "exception": false,
     "start_time": "2022-09-15T18:53:35.218924",
     "status": "completed"
    },
    "tags": []
   },
   "outputs": [
    {
     "data": {
      "text/plain": [
       "0.011549769004619908"
      ]
     },
     "execution_count": 40,
     "metadata": {},
     "output_type": "execute_result"
    }
   ],
   "source": [
    "935/(4391+75628+935)\n",
    "#post for 0"
   ]
  },
  {
   "cell_type": "code",
   "execution_count": null,
   "id": "58509526",
   "metadata": {
    "papermill": {
     "duration": 0.014638,
     "end_time": "2022-09-15T18:53:35.273591",
     "exception": false,
     "start_time": "2022-09-15T18:53:35.258953",
     "status": "completed"
    },
    "tags": []
   },
   "outputs": [],
   "source": []
  }
 ],
 "metadata": {
  "kernelspec": {
   "display_name": "Python 3",
   "language": "python",
   "name": "python3"
  },
  "language_info": {
   "codemirror_mode": {
    "name": "ipython",
    "version": 3
   },
   "file_extension": ".py",
   "mimetype": "text/x-python",
   "name": "python",
   "nbconvert_exporter": "python",
   "pygments_lexer": "ipython3",
   "version": "3.7.12"
  },
  "papermill": {
   "default_parameters": {},
   "duration": 72.252387,
   "end_time": "2022-09-15T18:53:38.103504",
   "environment_variables": {},
   "exception": null,
   "input_path": "__notebook__.ipynb",
   "output_path": "__notebook__.ipynb",
   "parameters": {},
   "start_time": "2022-09-15T18:52:25.851117",
   "version": "2.3.4"
  }
 },
 "nbformat": 4,
 "nbformat_minor": 5
}
