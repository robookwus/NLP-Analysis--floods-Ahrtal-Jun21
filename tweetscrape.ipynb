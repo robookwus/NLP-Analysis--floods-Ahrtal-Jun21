{
 "cells": [
  {
   "cell_type": "markdown",
   "id": "b9d82d29",
   "metadata": {},
   "source": [
    "probs:\n",
    "\n",
    "germans tweeting in english, no way to geolocate tweets\n",
    "\n",
    "look at:\n",
    "quantity of tweets pre and post-floods"
   ]
  },
  {
   "cell_type": "markdown",
   "id": "28299fdc",
   "metadata": {},
   "source": [
    "### 2 weeks pre-floods ((actually 3 day pre, because of limit 1000)"
   ]
  },
  {
   "cell_type": "code",
   "execution_count": 2,
   "id": "608f969d",
   "metadata": {},
   "outputs": [
    {
     "name": "stdout",
     "output_type": "stream",
     "text": [
      "                         date             User  \\\n",
      "0   2021-07-12 23:56:58+00:00           thommx   \n",
      "1   2021-07-12 23:56:34+00:00    BirgittaNeu57   \n",
      "2   2021-07-12 23:55:34+00:00     FriedelWirtz   \n",
      "3   2021-07-12 23:54:09+00:00     ReinerSobota   \n",
      "4   2021-07-12 23:50:24+00:00        Keeper_86   \n",
      "..                        ...              ...   \n",
      "995 2021-07-12 13:57:10+00:00    _Katja_Diehl_   \n",
      "996 2021-07-12 13:56:53+00:00     theiceman357   \n",
      "997 2021-07-12 13:56:48+00:00      XR_Aufstand   \n",
      "998 2021-07-12 13:55:48+00:00  t_witteria_wien   \n",
      "999 2021-07-12 13:55:46+00:00        EvaStegen   \n",
      "\n",
      "                                                 Tweet  \n",
      "0    @OlliLuksic Weder Fetisch noch Klima ! Die grö...  \n",
      "1    Plakat ist viel zu harmlos, noch konkreter mit...  \n",
      "2    @anja1970a Außerdem kann eine Regierung auch d...  \n",
      "3    Umgang mit Klimawandel: Reden wir doch mal übe...  \n",
      "4    @sabi_ri @chili_deluxe @ZDFheute @Kachelmann K...  \n",
      "..                                                 ...  \n",
      "995  Wer bekommt mehr Medienecho:\\nBoys in Space od...  \n",
      "996  @bamboo_ish Klimawandel gibt es immer von der ...  \n",
      "997  .@BUNDjugend eröffnet eine dekoloniale und ras...  \n",
      "998  @JChristandl @Drowhunter Ziegen die vor dem Kl...  \n",
      "999  Ausgerechnet der exzentrische Klima-Ignogrant ...  \n",
      "\n",
      "[1000 rows x 3 columns]\n"
     ]
    }
   ],
   "source": [
    "import snscrape.modules.twitter as sntwitter\n",
    "import pandas as pd\n",
    "\n",
    "prequery = \"klimawandel OR klimakrise OR erderwärmung OR klima until:2021-07-13 since:2021-07-01 lang:de\"   \n",
    " \n",
    "pre = []\n",
    "post = []\n",
    "limit = 1000\n",
    "\n",
    "#creating list pre-floods\n",
    "for tweet in sntwitter.TwitterSearchScraper(prequery).get_items():\n",
    "    \n",
    "    #print(vars(tweet))\n",
    "    #break\n",
    "    if len(pre) == limit:\n",
    "        break\n",
    "    else:\n",
    "        pre.append([tweet.date,tweet.user.username,tweet.content])\n",
    "        \n",
    "    \n",
    "predf = pd.DataFrame(pre, columns=['date','User', 'Tweet'])\n",
    "print(predf)\n",
    "\n",
    "# to save to csvh\n",
    "predf.to_csv('twpre.csv')    "
   ]
  },
  {
   "cell_type": "code",
   "execution_count": 1,
   "id": "db7328c5",
   "metadata": {},
   "outputs": [
    {
     "ename": "NameError",
     "evalue": "name 'predf' is not defined",
     "output_type": "error",
     "traceback": [
      "\u001b[0;31m---------------------------------------------------------------------------\u001b[0m",
      "\u001b[0;31mNameError\u001b[0m                                 Traceback (most recent call last)",
      "\u001b[0;32m/tmp/ipykernel_98927/8517346.py\u001b[0m in \u001b[0;36m<module>\u001b[0;34m\u001b[0m\n\u001b[1;32m     20\u001b[0m \u001b[0;34m\u001b[0m\u001b[0m\n\u001b[1;32m     21\u001b[0m \u001b[0mpredtf\u001b[0m \u001b[0;34m=\u001b[0m \u001b[0mpd\u001b[0m\u001b[0;34m.\u001b[0m\u001b[0mDataFrame\u001b[0m\u001b[0;34m(\u001b[0m\u001b[0mpre\u001b[0m\u001b[0;34m,\u001b[0m \u001b[0mcolumns\u001b[0m\u001b[0;34m=\u001b[0m\u001b[0;34m[\u001b[0m\u001b[0;34m'date'\u001b[0m\u001b[0;34m,\u001b[0m\u001b[0;34m'User'\u001b[0m\u001b[0;34m,\u001b[0m \u001b[0;34m'Tweet'\u001b[0m\u001b[0;34m]\u001b[0m\u001b[0;34m)\u001b[0m\u001b[0;34m\u001b[0m\u001b[0;34m\u001b[0m\u001b[0m\n\u001b[0;32m---> 22\u001b[0;31m \u001b[0mprint\u001b[0m\u001b[0;34m(\u001b[0m\u001b[0mpredf\u001b[0m\u001b[0;34m)\u001b[0m\u001b[0;34m\u001b[0m\u001b[0;34m\u001b[0m\u001b[0m\n\u001b[0m\u001b[1;32m     23\u001b[0m \u001b[0;34m\u001b[0m\u001b[0m\n\u001b[1;32m     24\u001b[0m \u001b[0;31m# to save to csvh\u001b[0m\u001b[0;34m\u001b[0m\u001b[0;34m\u001b[0m\u001b[0m\n",
      "\u001b[0;31mNameError\u001b[0m: name 'predf' is not defined"
     ]
    }
   ],
   "source": [
    "import snscrape.modules.twitter as sntwitter\n",
    "import pandas as pd\n",
    "\n",
    "prequery = \"klimawandel OR klimakrise OR erderwärmung OR klima until:2021-07-13 since:2021-07-01 lang:de\"   \n",
    " \n",
    "pre = []\n",
    "post = []\n",
    "limit = 1000\n",
    "\n",
    "#creating list pre-floods\n",
    "for tweet in sntwitter.TwitterSearchScraper(prequery).get_items():\n",
    "    \n",
    "    #print(vars(tweet))\n",
    "    #break\n",
    "    if len(pre) == limit:\n",
    "        break\n",
    "    else:\n",
    "        pre.append([tweet.date,tweet.user.username,tweet.content])\n",
    "        \n",
    "    \n",
    "predtf = pd.DataFrame(pre, columns=['date','User', 'Tweet'])\n",
    "print(predtf)\n",
    "\n",
    "# to save to csvh\n",
    "predtf.to_csv('twpre.csv')    "
   ]
  },
  {
   "cell_type": "markdown",
   "id": "4d21cec1",
   "metadata": {},
   "source": [
    "### 2 weeks post-floods (actually a snapshot of 2 weeks after ((limit is hit, it gives the latest tweets first in search))"
   ]
  },
  {
   "cell_type": "code",
   "execution_count": 6,
   "id": "2855ed3a",
   "metadata": {},
   "outputs": [
    {
     "name": "stdout",
     "output_type": "stream",
     "text": [
      "              date                                               User  \\\n",
      "0        Porticus2  Bevor Herr @MarkusSöder solches Klima-Trallala...   \n",
      "1      watch_union  Der Vorstandsvorsitzende von #VW zerstört bei ...   \n",
      "2        NiklasCcr  @raichubvb Klimawandel. Die Menschen müssen en...   \n",
      "3       SvenPhenix  Jetzt in einer Zeit voller Krisen: #COVID19, #...   \n",
      "4    brokenspirits  Und nochmal etwas weitergedacht: Während hier ...   \n",
      "..             ...                                                ...   \n",
      "995  telefonica_de  Der heutige #Erdueberlastungstag zeigt es ganz...   \n",
      "996        x_lunix  Dass Wälder enorm wichtig für das #Klima sind,...   \n",
      "997    wagnerbert1  Klimakrise und Rassismus hängen für Aktivistin...   \n",
      "998   karstennoack  In globalen Zusammenhängen denken und handeln ...   \n",
      "999         weh_oh  @frauhasenklee Genau. Bei Wiederkäuern, die zu...   \n",
      "\n",
      "                        Tweet  \n",
      "0   2021-07-29 23:58:48+00:00  \n",
      "1   2021-07-29 23:57:38+00:00  \n",
      "2   2021-07-29 23:56:57+00:00  \n",
      "3   2021-07-29 23:53:53+00:00  \n",
      "4   2021-07-29 23:52:19+00:00  \n",
      "..                        ...  \n",
      "995 2021-07-29 14:39:36+00:00  \n",
      "996 2021-07-29 14:38:07+00:00  \n",
      "997 2021-07-29 14:37:21+00:00  \n",
      "998 2021-07-29 14:36:19+00:00  \n",
      "999 2021-07-29 14:35:12+00:00  \n",
      "\n",
      "[1000 rows x 3 columns]\n"
     ]
    }
   ],
   "source": [
    "postquery = \"(klimawandel OR klimakrise OR erderwärmung OR klima until:2021-07-30 since:2021-07-15 lang:de\"  \n",
    "post = []\n",
    "        \n",
    "#creating list post-floods       \n",
    "for tweet in sntwitter.TwitterSearchScraper(postquery).get_items():\n",
    "    \n",
    "    if len(post) == limit:\n",
    "        break\n",
    "    else:\n",
    "        post.append([tweet.user.username,tweet.content,tweet.date])\n",
    "        \n",
    "        \n",
    "\n",
    "                                   \n",
    "postdf = pd.DataFrame(post, columns=['date','User', 'Tweet'])\n",
    "print(postdf) \n",
    "\n",
    "# to save to csv\n",
    "postdf.to_csv('twpost.csv')\n",
    "    "
   ]
  },
  {
   "cell_type": "markdown",
   "id": "955ccd52",
   "metadata": {},
   "source": [
    "### snapshot 3 days before\n"
   ]
  },
  {
   "cell_type": "code",
   "execution_count": 7,
   "id": "95b3c73a",
   "metadata": {},
   "outputs": [
    {
     "name": "stdout",
     "output_type": "stream",
     "text": [
      "              User                                              Tweet  \\\n",
      "0     FriedelWirtz  @anja1970a Außerdem kann eine Regierung auch d...   \n",
      "1     ReinerSobota  Umgang mit Klimawandel: Reden wir doch mal übe...   \n",
      "2        Keeper_86  @sabi_ri @chili_deluxe @ZDFheute @Kachelmann K...   \n",
      "3    OSturzebecher  @manaf12hassan @rhonradlegende Diggi, was mein...   \n",
      "4          nfdampf  .@daserste berichtet lieber über eine angeblic...   \n",
      "..             ...                                                ...   \n",
      "995     Mic_Sander  @KeilaniFatina @Michael_Leh Sie vermischen hie...   \n",
      "996         tuessl  @PandaMawr @HalleVerkehrt @Keeper_86 @dansiela...   \n",
      "997   AchimSpiegel  Unfreie Menschen in Barracken \"besiegen\"* übri...   \n",
      "998        pdr2002  Die Kernfusion wird die Klimakrise für uns lös...   \n",
      "999         tuessl  Dabei verlieren wir das eigentliche Ziel des K...   \n",
      "\n",
      "                         date  \n",
      "0   2021-07-12 23:55:34+00:00  \n",
      "1   2021-07-12 23:54:09+00:00  \n",
      "2   2021-07-12 23:50:24+00:00  \n",
      "3   2021-07-12 23:48:01+00:00  \n",
      "4   2021-07-12 23:47:02+00:00  \n",
      "..                        ...  \n",
      "995 2021-07-12 06:37:17+00:00  \n",
      "996 2021-07-12 06:36:22+00:00  \n",
      "997 2021-07-12 06:35:56+00:00  \n",
      "998 2021-07-12 06:34:04+00:00  \n",
      "999 2021-07-12 06:33:25+00:00  \n",
      "\n",
      "[1000 rows x 3 columns]\n"
     ]
    }
   ],
   "source": [
    "pre3query = \"(klimawandel OR klimakrise OR erderwärmung until:2021-07-13 since:2021-07-12 lang:de\"  \n",
    "pre3 = []\n",
    "        \n",
    "#creating list post-floods       \n",
    "for tweet in sntwitter.TwitterSearchScraper(pre3query).get_items():\n",
    "    \n",
    "    if len(pre3) == limit:\n",
    "        break\n",
    "    else:\n",
    "        pre3.append([tweet.user.username,tweet.content,tweet.date])\n",
    "        \n",
    "        \n",
    "\n",
    "                                   \n",
    "pre3df = pd.DataFrame(pre3, columns=['User', 'Tweet','date'])\n",
    "print(pre3df)\n",
    "\n",
    "# to save to csv\n",
    "pre3df.to_csv('pre3.csv')\n",
    "    "
   ]
  },
  {
   "cell_type": "markdown",
   "id": "3100f40b",
   "metadata": {},
   "source": [
    "### snapshot 3 days after\n"
   ]
  },
  {
   "cell_type": "code",
   "execution_count": 14,
   "id": "adbc4c49",
   "metadata": {},
   "outputs": [
    {
     "name": "stdout",
     "output_type": "stream",
     "text": [
      "                User                                              Tweet  \\\n",
      "0    CarolaConundrum  @do_kaleh @saki_statement @watch_union Ja, vie...   \n",
      "1        TBornheimer  @gregorgolland scheint sich zu amüsieren. Hat ...   \n",
      "2              fgroe  Der Kampf gegen den Klimawandel ist aussichtsl...   \n",
      "3         DerNsenbr1  @ralphruthe @wolliane Wegen einem Riss im Aqua...   \n",
      "4       guenes_dogan  Das sind Vorwarnungen einer Klimakrise. Ich ho...   \n",
      "..               ...                                                ...   \n",
      "995    big_orwellian  Klimawandel als Flut-Auslöser? Meteorologen wi...   \n",
      "996       C_Schymura  @FeindSender642 Einige wurden geflüchtete, and...   \n",
      "997         grimmrad  @igorpianist Vielleicht kann der Herr Minister...   \n",
      "998           00sohn  @HolzheuStefan @markusdd5 Ok. Punkt. Für diese...   \n",
      "999     Marktzyniker  @ZDF @Rennrad_Opa Wussten Sie schon, dass dama...   \n",
      "\n",
      "                         date  \n",
      "0   2021-07-17 23:58:23+00:00  \n",
      "1   2021-07-17 23:56:01+00:00  \n",
      "2   2021-07-17 23:52:51+00:00  \n",
      "3   2021-07-17 23:52:15+00:00  \n",
      "4   2021-07-17 23:50:49+00:00  \n",
      "..                        ...  \n",
      "995 2021-07-17 17:19:09+00:00  \n",
      "996 2021-07-17 17:18:41+00:00  \n",
      "997 2021-07-17 17:18:34+00:00  \n",
      "998 2021-07-17 17:18:30+00:00  \n",
      "999 2021-07-17 17:17:43+00:00  \n",
      "\n",
      "[1000 rows x 3 columns]\n"
     ]
    }
   ],
   "source": [
    "post3query = \"(klimawandel OR klimakrise OR erderwärmung until:2021-07-18 since:2021-07-17 lang:de\"  \n",
    "post3 = []\n",
    "        \n",
    "#creating list post-floods       \n",
    "for tweet in sntwitter.TwitterSearchScraper(post3query).get_items():\n",
    "    \n",
    "    if len(post3) == limit:\n",
    "        break\n",
    "    else:\n",
    "        post3.append([tweet.user.username,tweet.content,tweet.date])\n",
    "        \n",
    "        \n",
    "\n",
    "                                   \n",
    "post3df = pd.DataFrame(post3, columns=['User', 'Tweet','date'])\n",
    "print(post3df)\n",
    "\n",
    "# to save to csv\n",
    "post3df.to_csv('post3.csv')\n",
    "    "
   ]
  },
  {
   "cell_type": "code",
   "execution_count": 10,
   "id": "7f697ebc",
   "metadata": {},
   "outputs": [
    {
     "name": "stdout",
     "output_type": "stream",
     "text": [
      "1109\n"
     ]
    }
   ],
   "source": [
    "### count pre 3        \n",
    " \n",
    "print(sum (1 for tweet in sntwitter.TwitterSearchScraper(pre3query).get_items()))\n"
   ]
  },
  {
   "cell_type": "code",
   "execution_count": 13,
   "id": "be8bf395",
   "metadata": {},
   "outputs": [
    {
     "ename": "NameError",
     "evalue": "name 'post3query' is not defined",
     "output_type": "error",
     "traceback": [
      "\u001b[0;31m---------------------------------------------------------------------------\u001b[0m",
      "\u001b[0;31mNameError\u001b[0m                                 Traceback (most recent call last)",
      "\u001b[0;32m/tmp/ipykernel_34802/1513080870.py\u001b[0m in \u001b[0;36m<module>\u001b[0;34m\u001b[0m\n\u001b[1;32m      2\u001b[0m \u001b[0;34m\u001b[0m\u001b[0m\n\u001b[1;32m      3\u001b[0m \u001b[0;34m\u001b[0m\u001b[0m\n\u001b[0;32m----> 4\u001b[0;31m \u001b[0mprint\u001b[0m\u001b[0;34m(\u001b[0m\u001b[0msum\u001b[0m \u001b[0;34m(\u001b[0m\u001b[0;36m1\u001b[0m \u001b[0;32mfor\u001b[0m \u001b[0mtweet\u001b[0m \u001b[0;32min\u001b[0m \u001b[0msntwitter\u001b[0m\u001b[0;34m.\u001b[0m\u001b[0mTwitterSearchScraper\u001b[0m\u001b[0;34m(\u001b[0m\u001b[0mpost3query\u001b[0m\u001b[0;34m)\u001b[0m\u001b[0;34m.\u001b[0m\u001b[0mget_items\u001b[0m\u001b[0;34m(\u001b[0m\u001b[0;34m)\u001b[0m\u001b[0;34m)\u001b[0m\u001b[0;34m)\u001b[0m\u001b[0;34m\u001b[0m\u001b[0;34m\u001b[0m\u001b[0m\n\u001b[0m",
      "\u001b[0;31mNameError\u001b[0m: name 'post3query' is not defined"
     ]
    }
   ],
   "source": [
    "### count post 3\n",
    "\n",
    "      \n",
    "print(sum (1 for tweet in sntwitter.TwitterSearchScraper(post3query).get_items()))"
   ]
  },
  {
   "cell_type": "markdown",
   "id": "a096b953",
   "metadata": {},
   "source": [
    "FULL 1 Month set:"
   ]
  },
  {
   "cell_type": "code",
   "execution_count": 4,
   "id": "4732fb31",
   "metadata": {},
   "outputs": [
    {
     "name": "stdout",
     "output_type": "stream",
     "text": [
      "                            date           User  \\\n",
      "0      2021-07-29 23:58:48+00:00      Porticus2   \n",
      "1      2021-07-29 23:57:38+00:00    watch_union   \n",
      "2      2021-07-29 23:56:57+00:00      NiklasCcr   \n",
      "3      2021-07-29 23:53:53+00:00     SvenPhenix   \n",
      "4      2021-07-29 23:52:19+00:00  brokenspirits   \n",
      "...                          ...            ...   \n",
      "118724 2021-07-01 00:09:08+00:00     SenorTenor   \n",
      "118725 2021-07-01 00:07:01+00:00       f_talmon   \n",
      "118726 2021-07-01 00:06:29+00:00       RRMeyer2   \n",
      "118727 2021-07-01 00:03:50+00:00     SenorTenor   \n",
      "118728 2021-07-01 00:01:23+00:00     SenorTenor   \n",
      "\n",
      "                                                    Tweet  \n",
      "0       Bevor Herr @MarkusSöder solches Klima-Trallala...  \n",
      "1       Der Vorstandsvorsitzende von #VW zerstört bei ...  \n",
      "2       @raichubvb Klimawandel. Die Menschen müssen en...  \n",
      "3       Jetzt in einer Zeit voller Krisen: #COVID19, #...  \n",
      "4       Und nochmal etwas weitergedacht: Während hier ...  \n",
      "...                                                   ...  \n",
      "118724  @nukeman11859765 @DerClue @VeroWendland @fwies...  \n",
      "118725  Nur wenn es gelingt den #Klimawandel zu stoppe...  \n",
      "118726  @SenorTenor @MoormannRainer @amardeo @DerClue ...  \n",
      "118727  @MoormannRainer @DerClue @VeroWendland @fwiesc...  \n",
      "118728  @MoormannRainer @DerClue @VeroWendland @fwiesc...  \n",
      "\n",
      "[118729 rows x 3 columns]\n"
     ]
    }
   ],
   "source": [
    "import snscrape.modules.twitter as sntwitter\n",
    "import pandas as pd\n",
    "\n",
    "fullquery = \"klimawandel OR klimakrise OR erderwärmung OR klima until:2021-07-30 since:2021-07-01 lang:de\"   \n",
    " \n",
    "full = []\n",
    "#limit = 1000\n",
    "\n",
    "#creating list pre-floods\n",
    "for tweet in sntwitter.TwitterSearchScraper(fullquery).get_items():\n",
    "    \n",
    "    full.append([tweet.date,tweet.user.username,tweet.content])\n",
    "        \n",
    "    \n",
    "fulldf = pd.DataFrame(full, columns=['date','User', 'Tweet'])\n",
    "print(fulldf)\n",
    "\n",
    "# to save to csvh\n",
    "fulldf.to_csv('full30.csv')   "
   ]
  },
  {
   "cell_type": "code",
   "execution_count": 2,
   "id": "effe5dde",
   "metadata": {},
   "outputs": [
    {
     "name": "stdout",
     "output_type": "stream",
     "text": [
      "                          date             User  \\\n",
      "0    2021-07-31 23:56:44+00:00   DietmarHammer1   \n",
      "1    2021-07-31 23:54:28+00:00  Lesend_im_Apfel   \n",
      "2    2021-07-31 23:48:26+00:00   noisy_engineer   \n",
      "3    2021-07-31 23:46:59+00:00          PlzmaLp   \n",
      "4    2021-07-31 23:45:26+00:00       Brennstoff   \n",
      "...                        ...              ...   \n",
      "4223 2021-07-30 00:09:52+00:00    Jan_NiklasKoe   \n",
      "4224 2021-07-30 00:04:27+00:00        Velofisch   \n",
      "4225 2021-07-30 00:03:34+00:00        eyeyron23   \n",
      "4226 2021-07-30 00:01:43+00:00  benedikt_walker   \n",
      "4227 2021-07-30 00:00:21+00:00          baulbvb   \n",
      "\n",
      "                                                  Tweet  \n",
      "0     In Graz schwere Unwetter. Wer jetzt noch immer...  \n",
      "1     Journalist: \"Wir müssen unsere Texte und Gesch...  \n",
      "2     @RubinNischara Gibts den mittlerweile neue bra...  \n",
      "3     @JustinBergen14 Mit welcher wissenschaftlichen...  \n",
      "4     #Klimawandel #Energiewende #EEG #Strompreis #B...  \n",
      "...                                                 ...  \n",
      "4223  @DanielM76693311 @JilNik Bei \"mir egal was Leu...  \n",
      "4224  @ben_brechtken Genau, wenn man da noch zwei Eu...  \n",
      "4225  @BauerGuenther @Luisamneubauer Dann kannst du ...  \n",
      "4226  Wir sind es gewohnt, wahrzunehmen und keinen G...  \n",
      "4227  @softdortmund Man muss wirklich alles versuche...  \n",
      "\n",
      "[4228 rows x 3 columns]\n"
     ]
    }
   ],
   "source": [
    "import snscrape.modules.twitter as sntwitter\n",
    "import pandas as pd\n",
    "\n",
    "fullquery = \"klimawandel OR klimakrise OR erderwärmung OR klima until:2021-08-01 since:2021-07-30 lang:de\"   \n",
    " \n",
    "day = []\n",
    "#limit = 1000\n",
    "\n",
    "#creating list pre-floods\n",
    "for tweet in sntwitter.TwitterSearchScraper(fullquery).get_items():\n",
    "    \n",
    "    day.append([tweet.date,tweet.user.username,tweet.content])\n",
    "        \n",
    "    \n",
    "daydf = pd.DataFrame(day, columns=['date','User', 'Tweet'])\n",
    "print(daydf)\n",
    "\n",
    "# to save to csvh\n",
    "daydf.to_csv('daydf.csv')  #june30th -2021"
   ]
  }
 ],
 "metadata": {
  "kernelspec": {
   "display_name": "Python 3 (ipykernel)",
   "language": "python",
   "name": "python3"
  },
  "language_info": {
   "codemirror_mode": {
    "name": "ipython",
    "version": 3
   },
   "file_extension": ".py",
   "mimetype": "text/x-python",
   "name": "python",
   "nbconvert_exporter": "python",
   "pygments_lexer": "ipython3",
   "version": "3.10.4"
  }
 },
 "nbformat": 4,
 "nbformat_minor": 5
}
