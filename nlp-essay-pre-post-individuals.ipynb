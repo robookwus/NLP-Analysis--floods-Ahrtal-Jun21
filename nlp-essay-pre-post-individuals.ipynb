{
 "cells": [
  {
   "cell_type": "code",
   "execution_count": 1,
   "id": "2eb50597",
   "metadata": {
    "execution": {
     "iopub.execute_input": "2022-09-15T18:50:37.556302Z",
     "iopub.status.busy": "2022-09-15T18:50:37.555431Z",
     "iopub.status.idle": "2022-09-15T18:50:38.634412Z",
     "shell.execute_reply": "2022-09-15T18:50:38.633135Z"
    },
    "papermill": {
     "duration": 1.092429,
     "end_time": "2022-09-15T18:50:38.638612",
     "exception": false,
     "start_time": "2022-09-15T18:50:37.546183",
     "status": "completed"
    },
    "tags": []
   },
   "outputs": [],
   "source": [
    "import pandas as pd\n",
    "post = pd.read_csv('../input/postlabelled-germanfloods/full_postLabelled.csv',lineterminator='\\n')\n",
    "pre = pd.read_csv('../input/prelabelled-germanfloods/full_preLabelled.csv',lineterminator='\\n')"
   ]
  },
  {
   "cell_type": "code",
   "execution_count": 2,
   "id": "1eae8825",
   "metadata": {
    "execution": {
     "iopub.execute_input": "2022-09-15T18:50:38.653979Z",
     "iopub.status.busy": "2022-09-15T18:50:38.653581Z",
     "iopub.status.idle": "2022-09-15T18:50:38.691098Z",
     "shell.execute_reply": "2022-09-15T18:50:38.689152Z"
    },
    "papermill": {
     "duration": 0.049953,
     "end_time": "2022-09-15T18:50:38.694989",
     "exception": false,
     "start_time": "2022-09-15T18:50:38.645036",
     "status": "completed"
    },
    "tags": []
   },
   "outputs": [
    {
     "data": {
      "text/html": [
       "<div>\n",
       "<style scoped>\n",
       "    .dataframe tbody tr th:only-of-type {\n",
       "        vertical-align: middle;\n",
       "    }\n",
       "\n",
       "    .dataframe tbody tr th {\n",
       "        vertical-align: top;\n",
       "    }\n",
       "\n",
       "    .dataframe thead th {\n",
       "        text-align: right;\n",
       "    }\n",
       "</style>\n",
       "<table border=\"1\" class=\"dataframe\">\n",
       "  <thead>\n",
       "    <tr style=\"text-align: right;\">\n",
       "      <th></th>\n",
       "      <th>Unnamed: 0</th>\n",
       "      <th>date</th>\n",
       "      <th>User</th>\n",
       "      <th>Tweet</th>\n",
       "      <th>Rating (0/1/2)</th>\n",
       "    </tr>\n",
       "  </thead>\n",
       "  <tbody>\n",
       "    <tr>\n",
       "      <th>0</th>\n",
       "      <td>0</td>\n",
       "      <td>2021-07-29</td>\n",
       "      <td>Porticus2</td>\n",
       "      <td>Bevor Herr @MarkusSöder solches Klima-Trallala...</td>\n",
       "      <td>1.0</td>\n",
       "    </tr>\n",
       "    <tr>\n",
       "      <th>1</th>\n",
       "      <td>1</td>\n",
       "      <td>2021-07-29</td>\n",
       "      <td>watch_union</td>\n",
       "      <td>Der Vorstandsvorsitzende von #VW zerstört bei ...</td>\n",
       "      <td>1.0</td>\n",
       "    </tr>\n",
       "    <tr>\n",
       "      <th>2</th>\n",
       "      <td>2</td>\n",
       "      <td>2021-07-29</td>\n",
       "      <td>NiklasCcr</td>\n",
       "      <td>@raichubvb Klimawandel. Die Menschen müssen en...</td>\n",
       "      <td>1.0</td>\n",
       "    </tr>\n",
       "    <tr>\n",
       "      <th>3</th>\n",
       "      <td>3</td>\n",
       "      <td>2021-07-29</td>\n",
       "      <td>SvenPhenix</td>\n",
       "      <td>Jetzt in einer Zeit voller Krisen: #COVID19, #...</td>\n",
       "      <td>1.0</td>\n",
       "    </tr>\n",
       "    <tr>\n",
       "      <th>4</th>\n",
       "      <td>4</td>\n",
       "      <td>2021-07-29</td>\n",
       "      <td>brokenspirits</td>\n",
       "      <td>Und nochmal etwas weitergedacht: Während hier ...</td>\n",
       "      <td>1.0</td>\n",
       "    </tr>\n",
       "    <tr>\n",
       "      <th>...</th>\n",
       "      <td>...</td>\n",
       "      <td>...</td>\n",
       "      <td>...</td>\n",
       "      <td>...</td>\n",
       "      <td>...</td>\n",
       "    </tr>\n",
       "    <tr>\n",
       "      <th>80949</th>\n",
       "      <td>80949</td>\n",
       "      <td>2021-07-14</td>\n",
       "      <td>EinFragender</td>\n",
       "      <td>@Karl_Lauterbach So weit ich weiß, war es 1913...</td>\n",
       "      <td>1.0</td>\n",
       "    </tr>\n",
       "    <tr>\n",
       "      <th>80950</th>\n",
       "      <td>80950</td>\n",
       "      <td>2021-07-14</td>\n",
       "      <td>MoSchaefer66</td>\n",
       "      <td>@P4F_Leipzig Jetzt sollte so manchem langsam k...</td>\n",
       "      <td>1.0</td>\n",
       "    </tr>\n",
       "    <tr>\n",
       "      <th>80951</th>\n",
       "      <td>80951</td>\n",
       "      <td>2021-07-14</td>\n",
       "      <td>f_talmon</td>\n",
       "      <td>Wenn der Meeresspiegel weiter steigt, wird das...</td>\n",
       "      <td>1.0</td>\n",
       "    </tr>\n",
       "    <tr>\n",
       "      <th>80952</th>\n",
       "      <td>80952</td>\n",
       "      <td>2021-07-14</td>\n",
       "      <td>Elke__Kuhn</td>\n",
       "      <td>@ayranundspeck @CCitiesOrg @dvd_hrtmnn @Monika...</td>\n",
       "      <td>1.0</td>\n",
       "    </tr>\n",
       "    <tr>\n",
       "      <th>80953</th>\n",
       "      <td>80953</td>\n",
       "      <td>2021-07-14</td>\n",
       "      <td>fahrIehrer</td>\n",
       "      <td>@Vampirkamel @AndreasBlnMi @zeitonline Alles i...</td>\n",
       "      <td>1.0</td>\n",
       "    </tr>\n",
       "  </tbody>\n",
       "</table>\n",
       "<p>80954 rows × 5 columns</p>\n",
       "</div>"
      ],
      "text/plain": [
       "       Unnamed: 0        date           User  \\\n",
       "0               0  2021-07-29      Porticus2   \n",
       "1               1  2021-07-29    watch_union   \n",
       "2               2  2021-07-29      NiklasCcr   \n",
       "3               3  2021-07-29     SvenPhenix   \n",
       "4               4  2021-07-29  brokenspirits   \n",
       "...           ...         ...            ...   \n",
       "80949       80949  2021-07-14   EinFragender   \n",
       "80950       80950  2021-07-14   MoSchaefer66   \n",
       "80951       80951  2021-07-14       f_talmon   \n",
       "80952       80952  2021-07-14     Elke__Kuhn   \n",
       "80953       80953  2021-07-14     fahrIehrer   \n",
       "\n",
       "                                                   Tweet  Rating (0/1/2)   \n",
       "0      Bevor Herr @MarkusSöder solches Klima-Trallala...              1.0  \n",
       "1      Der Vorstandsvorsitzende von #VW zerstört bei ...              1.0  \n",
       "2      @raichubvb Klimawandel. Die Menschen müssen en...              1.0  \n",
       "3      Jetzt in einer Zeit voller Krisen: #COVID19, #...              1.0  \n",
       "4      Und nochmal etwas weitergedacht: Während hier ...              1.0  \n",
       "...                                                  ...              ...  \n",
       "80949  @Karl_Lauterbach So weit ich weiß, war es 1913...              1.0  \n",
       "80950  @P4F_Leipzig Jetzt sollte so manchem langsam k...              1.0  \n",
       "80951  Wenn der Meeresspiegel weiter steigt, wird das...              1.0  \n",
       "80952  @ayranundspeck @CCitiesOrg @dvd_hrtmnn @Monika...              1.0  \n",
       "80953  @Vampirkamel @AndreasBlnMi @zeitonline Alles i...              1.0  \n",
       "\n",
       "[80954 rows x 5 columns]"
      ]
     },
     "execution_count": 2,
     "metadata": {},
     "output_type": "execute_result"
    }
   ],
   "source": [
    "post"
   ]
  },
  {
   "cell_type": "code",
   "execution_count": 3,
   "id": "831b7960",
   "metadata": {
    "execution": {
     "iopub.execute_input": "2022-09-15T18:50:38.713204Z",
     "iopub.status.busy": "2022-09-15T18:50:38.712714Z",
     "iopub.status.idle": "2022-09-15T18:50:38.730103Z",
     "shell.execute_reply": "2022-09-15T18:50:38.729006Z"
    },
    "papermill": {
     "duration": 0.028993,
     "end_time": "2022-09-15T18:50:38.733316",
     "exception": false,
     "start_time": "2022-09-15T18:50:38.704323",
     "status": "completed"
    },
    "tags": []
   },
   "outputs": [],
   "source": [
    "pre_most = pre['2021-07-10'<pre['date']]"
   ]
  },
  {
   "cell_type": "code",
   "execution_count": 4,
   "id": "42d6e94d",
   "metadata": {
    "execution": {
     "iopub.execute_input": "2022-09-15T18:50:38.752127Z",
     "iopub.status.busy": "2022-09-15T18:50:38.751437Z",
     "iopub.status.idle": "2022-09-15T18:50:38.765215Z",
     "shell.execute_reply": "2022-09-15T18:50:38.764279Z"
    },
    "papermill": {
     "duration": 0.025375,
     "end_time": "2022-09-15T18:50:38.767942",
     "exception": false,
     "start_time": "2022-09-15T18:50:38.742567",
     "status": "completed"
    },
    "tags": []
   },
   "outputs": [],
   "source": [
    "post_most = post['2021-07-17'>post['date']]"
   ]
  },
  {
   "cell_type": "code",
   "execution_count": 5,
   "id": "18d4d6bd",
   "metadata": {
    "execution": {
     "iopub.execute_input": "2022-09-15T18:50:38.783207Z",
     "iopub.status.busy": "2022-09-15T18:50:38.782222Z",
     "iopub.status.idle": "2022-09-15T18:50:38.797187Z",
     "shell.execute_reply": "2022-09-15T18:50:38.796010Z"
    },
    "papermill": {
     "duration": 0.025492,
     "end_time": "2022-09-15T18:50:38.799987",
     "exception": false,
     "start_time": "2022-09-15T18:50:38.774495",
     "status": "completed"
    },
    "tags": []
   },
   "outputs": [
    {
     "data": {
      "text/plain": [
       "1.0    6821\n",
       "2.0     334\n",
       "0.0      96\n",
       "Name: Rating (0/1/2) , dtype: int64"
      ]
     },
     "execution_count": 5,
     "metadata": {},
     "output_type": "execute_result"
    }
   ],
   "source": [
    "pd.value_counts(pre_most['Rating (0/1/2) '])"
   ]
  },
  {
   "cell_type": "code",
   "execution_count": 6,
   "id": "b98a213b",
   "metadata": {
    "execution": {
     "iopub.execute_input": "2022-09-15T18:50:38.815152Z",
     "iopub.status.busy": "2022-09-15T18:50:38.814520Z",
     "iopub.status.idle": "2022-09-15T18:50:38.823345Z",
     "shell.execute_reply": "2022-09-15T18:50:38.822508Z"
    },
    "papermill": {
     "duration": 0.018875,
     "end_time": "2022-09-15T18:50:38.825629",
     "exception": false,
     "start_time": "2022-09-15T18:50:38.806754",
     "status": "completed"
    },
    "tags": []
   },
   "outputs": [
    {
     "data": {
      "text/plain": [
       "1.0    27888\n",
       "2.0     1639\n",
       "0.0      336\n",
       "Name: Rating (0/1/2) , dtype: int64"
      ]
     },
     "execution_count": 6,
     "metadata": {},
     "output_type": "execute_result"
    }
   ],
   "source": [
    "pd.value_counts(post_most['Rating (0/1/2) '])"
   ]
  },
  {
   "cell_type": "code",
   "execution_count": 7,
   "id": "addfc607",
   "metadata": {
    "execution": {
     "iopub.execute_input": "2022-09-15T18:50:38.840513Z",
     "iopub.status.busy": "2022-09-15T18:50:38.840063Z",
     "iopub.status.idle": "2022-09-15T18:50:38.845891Z",
     "shell.execute_reply": "2022-09-15T18:50:38.844942Z"
    },
    "papermill": {
     "duration": 0.015555,
     "end_time": "2022-09-15T18:50:38.847892",
     "exception": false,
     "start_time": "2022-09-15T18:50:38.832337",
     "status": "completed"
    },
    "tags": []
   },
   "outputs": [
    {
     "data": {
      "text/plain": [
       "0.04606261205350986"
      ]
     },
     "execution_count": 7,
     "metadata": {},
     "output_type": "execute_result"
    }
   ],
   "source": [
    "334/(334+6821+96)"
   ]
  },
  {
   "cell_type": "code",
   "execution_count": 8,
   "id": "4d7f2775",
   "metadata": {
    "execution": {
     "iopub.execute_input": "2022-09-15T18:50:38.862976Z",
     "iopub.status.busy": "2022-09-15T18:50:38.862319Z",
     "iopub.status.idle": "2022-09-15T18:50:38.867667Z",
     "shell.execute_reply": "2022-09-15T18:50:38.866900Z"
    },
    "papermill": {
     "duration": 0.015611,
     "end_time": "2022-09-15T18:50:38.869746",
     "exception": false,
     "start_time": "2022-09-15T18:50:38.854135",
     "status": "completed"
    },
    "tags": []
   },
   "outputs": [
    {
     "data": {
      "text/plain": [
       "0.05506585612968592"
      ]
     },
     "execution_count": 8,
     "metadata": {},
     "output_type": "execute_result"
    }
   ],
   "source": [
    "1087/(18424+1087+229)"
   ]
  },
  {
   "cell_type": "code",
   "execution_count": 9,
   "id": "70280ba1",
   "metadata": {
    "execution": {
     "iopub.execute_input": "2022-09-15T18:50:38.884531Z",
     "iopub.status.busy": "2022-09-15T18:50:38.883862Z",
     "iopub.status.idle": "2022-09-15T18:50:38.889748Z",
     "shell.execute_reply": "2022-09-15T18:50:38.888716Z"
    },
    "papermill": {
     "duration": 0.01599,
     "end_time": "2022-09-15T18:50:38.892089",
     "exception": false,
     "start_time": "2022-09-15T18:50:38.876099",
     "status": "completed"
    },
    "tags": []
   },
   "outputs": [],
   "source": [
    "pre_most = pre_most[['User','Rating (0/1/2) ']]"
   ]
  },
  {
   "cell_type": "code",
   "execution_count": 10,
   "id": "25503c07",
   "metadata": {
    "execution": {
     "iopub.execute_input": "2022-09-15T18:50:38.906987Z",
     "iopub.status.busy": "2022-09-15T18:50:38.906318Z",
     "iopub.status.idle": "2022-09-15T18:50:38.912906Z",
     "shell.execute_reply": "2022-09-15T18:50:38.912047Z"
    },
    "papermill": {
     "duration": 0.016745,
     "end_time": "2022-09-15T18:50:38.915302",
     "exception": false,
     "start_time": "2022-09-15T18:50:38.898557",
     "status": "completed"
    },
    "tags": []
   },
   "outputs": [],
   "source": [
    "post_most = post_most[['User','Rating (0/1/2) ']]"
   ]
  },
  {
   "cell_type": "code",
   "execution_count": 11,
   "id": "2a9dafff",
   "metadata": {
    "execution": {
     "iopub.execute_input": "2022-09-15T18:50:38.930304Z",
     "iopub.status.busy": "2022-09-15T18:50:38.929704Z",
     "iopub.status.idle": "2022-09-15T18:50:38.937300Z",
     "shell.execute_reply": "2022-09-15T18:50:38.936418Z"
    },
    "papermill": {
     "duration": 0.017927,
     "end_time": "2022-09-15T18:50:38.939723",
     "exception": false,
     "start_time": "2022-09-15T18:50:38.921796",
     "status": "completed"
    },
    "tags": []
   },
   "outputs": [],
   "source": [
    "pre_most.rename(columns = {'Rating (0/1/2) ':'Rating_pre'}, inplace = True)\n",
    "post_most.rename(columns = {'Rating (0/1/2) ':'Rating_post'}, inplace = True)"
   ]
  },
  {
   "cell_type": "code",
   "execution_count": 12,
   "id": "8947504e",
   "metadata": {
    "execution": {
     "iopub.execute_input": "2022-09-15T18:50:38.954576Z",
     "iopub.status.busy": "2022-09-15T18:50:38.954143Z",
     "iopub.status.idle": "2022-09-15T18:50:38.969118Z",
     "shell.execute_reply": "2022-09-15T18:50:38.968232Z"
    },
    "papermill": {
     "duration": 0.025315,
     "end_time": "2022-09-15T18:50:38.971458",
     "exception": false,
     "start_time": "2022-09-15T18:50:38.946143",
     "status": "completed"
    },
    "tags": []
   },
   "outputs": [
    {
     "data": {
      "text/html": [
       "<div>\n",
       "<style scoped>\n",
       "    .dataframe tbody tr th:only-of-type {\n",
       "        vertical-align: middle;\n",
       "    }\n",
       "\n",
       "    .dataframe tbody tr th {\n",
       "        vertical-align: top;\n",
       "    }\n",
       "\n",
       "    .dataframe thead th {\n",
       "        text-align: right;\n",
       "    }\n",
       "</style>\n",
       "<table border=\"1\" class=\"dataframe\">\n",
       "  <thead>\n",
       "    <tr style=\"text-align: right;\">\n",
       "      <th></th>\n",
       "      <th>User</th>\n",
       "      <th>Rating_pre</th>\n",
       "    </tr>\n",
       "  </thead>\n",
       "  <tbody>\n",
       "    <tr>\n",
       "      <th>0</th>\n",
       "      <td>Arminirma1Armin</td>\n",
       "      <td>1.0</td>\n",
       "    </tr>\n",
       "    <tr>\n",
       "      <th>1</th>\n",
       "      <td>nfdampf</td>\n",
       "      <td>1.0</td>\n",
       "    </tr>\n",
       "    <tr>\n",
       "      <th>2</th>\n",
       "      <td>MEPilarczyk</td>\n",
       "      <td>1.0</td>\n",
       "    </tr>\n",
       "    <tr>\n",
       "      <th>3</th>\n",
       "      <td>megatrendy</td>\n",
       "      <td>1.0</td>\n",
       "    </tr>\n",
       "    <tr>\n",
       "      <th>4</th>\n",
       "      <td>FFFLeipzig</td>\n",
       "      <td>1.0</td>\n",
       "    </tr>\n",
       "    <tr>\n",
       "      <th>...</th>\n",
       "      <td>...</td>\n",
       "      <td>...</td>\n",
       "    </tr>\n",
       "    <tr>\n",
       "      <th>7246</th>\n",
       "      <td>MonacoFerdl</td>\n",
       "      <td>1.0</td>\n",
       "    </tr>\n",
       "    <tr>\n",
       "      <th>7247</th>\n",
       "      <td>nfdampf</td>\n",
       "      <td>1.0</td>\n",
       "    </tr>\n",
       "    <tr>\n",
       "      <th>7248</th>\n",
       "      <td>MieuletCleo</td>\n",
       "      <td>1.0</td>\n",
       "    </tr>\n",
       "    <tr>\n",
       "      <th>7249</th>\n",
       "      <td>mikeltwi123</td>\n",
       "      <td>1.0</td>\n",
       "    </tr>\n",
       "    <tr>\n",
       "      <th>7250</th>\n",
       "      <td>superbello123</td>\n",
       "      <td>1.0</td>\n",
       "    </tr>\n",
       "  </tbody>\n",
       "</table>\n",
       "<p>7251 rows × 2 columns</p>\n",
       "</div>"
      ],
      "text/plain": [
       "                 User  Rating_pre\n",
       "0     Arminirma1Armin         1.0\n",
       "1             nfdampf         1.0\n",
       "2         MEPilarczyk         1.0\n",
       "3          megatrendy         1.0\n",
       "4          FFFLeipzig         1.0\n",
       "...               ...         ...\n",
       "7246      MonacoFerdl         1.0\n",
       "7247          nfdampf         1.0\n",
       "7248      MieuletCleo         1.0\n",
       "7249      mikeltwi123         1.0\n",
       "7250    superbello123         1.0\n",
       "\n",
       "[7251 rows x 2 columns]"
      ]
     },
     "execution_count": 12,
     "metadata": {},
     "output_type": "execute_result"
    }
   ],
   "source": [
    "pre_most"
   ]
  },
  {
   "cell_type": "code",
   "execution_count": 13,
   "id": "63547ed8",
   "metadata": {
    "execution": {
     "iopub.execute_input": "2022-09-15T18:50:38.987307Z",
     "iopub.status.busy": "2022-09-15T18:50:38.986062Z",
     "iopub.status.idle": "2022-09-15T18:50:38.999348Z",
     "shell.execute_reply": "2022-09-15T18:50:38.998571Z"
    },
    "papermill": {
     "duration": 0.023501,
     "end_time": "2022-09-15T18:50:39.001580",
     "exception": false,
     "start_time": "2022-09-15T18:50:38.978079",
     "status": "completed"
    },
    "tags": []
   },
   "outputs": [
    {
     "data": {
      "text/html": [
       "<div>\n",
       "<style scoped>\n",
       "    .dataframe tbody tr th:only-of-type {\n",
       "        vertical-align: middle;\n",
       "    }\n",
       "\n",
       "    .dataframe tbody tr th {\n",
       "        vertical-align: top;\n",
       "    }\n",
       "\n",
       "    .dataframe thead th {\n",
       "        text-align: right;\n",
       "    }\n",
       "</style>\n",
       "<table border=\"1\" class=\"dataframe\">\n",
       "  <thead>\n",
       "    <tr style=\"text-align: right;\">\n",
       "      <th></th>\n",
       "      <th>User</th>\n",
       "      <th>Rating_post</th>\n",
       "    </tr>\n",
       "  </thead>\n",
       "  <tbody>\n",
       "    <tr>\n",
       "      <th>51091</th>\n",
       "      <td>F4y3M14</td>\n",
       "      <td>1.0</td>\n",
       "    </tr>\n",
       "    <tr>\n",
       "      <th>51092</th>\n",
       "      <td>Stoertebeker68</td>\n",
       "      <td>1.0</td>\n",
       "    </tr>\n",
       "    <tr>\n",
       "      <th>51093</th>\n",
       "      <td>dirk_ley</td>\n",
       "      <td>1.0</td>\n",
       "    </tr>\n",
       "    <tr>\n",
       "      <th>51094</th>\n",
       "      <td>grnFlip</td>\n",
       "      <td>1.0</td>\n",
       "    </tr>\n",
       "    <tr>\n",
       "      <th>51095</th>\n",
       "      <td>LaurinPol</td>\n",
       "      <td>1.0</td>\n",
       "    </tr>\n",
       "    <tr>\n",
       "      <th>...</th>\n",
       "      <td>...</td>\n",
       "      <td>...</td>\n",
       "    </tr>\n",
       "    <tr>\n",
       "      <th>80949</th>\n",
       "      <td>EinFragender</td>\n",
       "      <td>1.0</td>\n",
       "    </tr>\n",
       "    <tr>\n",
       "      <th>80950</th>\n",
       "      <td>MoSchaefer66</td>\n",
       "      <td>1.0</td>\n",
       "    </tr>\n",
       "    <tr>\n",
       "      <th>80951</th>\n",
       "      <td>f_talmon</td>\n",
       "      <td>1.0</td>\n",
       "    </tr>\n",
       "    <tr>\n",
       "      <th>80952</th>\n",
       "      <td>Elke__Kuhn</td>\n",
       "      <td>1.0</td>\n",
       "    </tr>\n",
       "    <tr>\n",
       "      <th>80953</th>\n",
       "      <td>fahrIehrer</td>\n",
       "      <td>1.0</td>\n",
       "    </tr>\n",
       "  </tbody>\n",
       "</table>\n",
       "<p>29863 rows × 2 columns</p>\n",
       "</div>"
      ],
      "text/plain": [
       "                 User  Rating_post\n",
       "51091         F4y3M14          1.0\n",
       "51092  Stoertebeker68          1.0\n",
       "51093        dirk_ley          1.0\n",
       "51094         grnFlip          1.0\n",
       "51095       LaurinPol          1.0\n",
       "...               ...          ...\n",
       "80949    EinFragender          1.0\n",
       "80950    MoSchaefer66          1.0\n",
       "80951        f_talmon          1.0\n",
       "80952      Elke__Kuhn          1.0\n",
       "80953      fahrIehrer          1.0\n",
       "\n",
       "[29863 rows x 2 columns]"
      ]
     },
     "execution_count": 13,
     "metadata": {},
     "output_type": "execute_result"
    }
   ],
   "source": [
    "post_most"
   ]
  },
  {
   "cell_type": "code",
   "execution_count": 14,
   "id": "a6d00f38",
   "metadata": {
    "execution": {
     "iopub.execute_input": "2022-09-15T18:50:39.017929Z",
     "iopub.status.busy": "2022-09-15T18:50:39.017188Z",
     "iopub.status.idle": "2022-09-15T18:50:39.042557Z",
     "shell.execute_reply": "2022-09-15T18:50:39.041624Z"
    },
    "papermill": {
     "duration": 0.036712,
     "end_time": "2022-09-15T18:50:39.045074",
     "exception": false,
     "start_time": "2022-09-15T18:50:39.008362",
     "status": "completed"
    },
    "tags": []
   },
   "outputs": [],
   "source": [
    "\n",
    "pre_post = pd.merge(pre_most, post_most, on='User', how='inner')"
   ]
  },
  {
   "cell_type": "code",
   "execution_count": 15,
   "id": "d054ce16",
   "metadata": {
    "execution": {
     "iopub.execute_input": "2022-09-15T18:50:39.060801Z",
     "iopub.status.busy": "2022-09-15T18:50:39.060154Z",
     "iopub.status.idle": "2022-09-15T18:50:39.077655Z",
     "shell.execute_reply": "2022-09-15T18:50:39.076439Z"
    },
    "papermill": {
     "duration": 0.028421,
     "end_time": "2022-09-15T18:50:39.080259",
     "exception": false,
     "start_time": "2022-09-15T18:50:39.051838",
     "status": "completed"
    },
    "tags": []
   },
   "outputs": [
    {
     "data": {
      "text/html": [
       "<div>\n",
       "<style scoped>\n",
       "    .dataframe tbody tr th:only-of-type {\n",
       "        vertical-align: middle;\n",
       "    }\n",
       "\n",
       "    .dataframe tbody tr th {\n",
       "        vertical-align: top;\n",
       "    }\n",
       "\n",
       "    .dataframe thead th {\n",
       "        text-align: right;\n",
       "    }\n",
       "</style>\n",
       "<table border=\"1\" class=\"dataframe\">\n",
       "  <thead>\n",
       "    <tr style=\"text-align: right;\">\n",
       "      <th></th>\n",
       "      <th>User</th>\n",
       "      <th>Rating_pre</th>\n",
       "      <th>Rating_post</th>\n",
       "    </tr>\n",
       "  </thead>\n",
       "  <tbody>\n",
       "    <tr>\n",
       "      <th>0</th>\n",
       "      <td>nfdampf</td>\n",
       "      <td>1.0</td>\n",
       "      <td>1.0</td>\n",
       "    </tr>\n",
       "    <tr>\n",
       "      <th>1</th>\n",
       "      <td>nfdampf</td>\n",
       "      <td>1.0</td>\n",
       "      <td>2.0</td>\n",
       "    </tr>\n",
       "    <tr>\n",
       "      <th>2</th>\n",
       "      <td>nfdampf</td>\n",
       "      <td>1.0</td>\n",
       "      <td>1.0</td>\n",
       "    </tr>\n",
       "    <tr>\n",
       "      <th>3</th>\n",
       "      <td>nfdampf</td>\n",
       "      <td>1.0</td>\n",
       "      <td>1.0</td>\n",
       "    </tr>\n",
       "    <tr>\n",
       "      <th>4</th>\n",
       "      <td>nfdampf</td>\n",
       "      <td>1.0</td>\n",
       "      <td>2.0</td>\n",
       "    </tr>\n",
       "    <tr>\n",
       "      <th>...</th>\n",
       "      <td>...</td>\n",
       "      <td>...</td>\n",
       "      <td>...</td>\n",
       "    </tr>\n",
       "    <tr>\n",
       "      <th>32142</th>\n",
       "      <td>Nationallibera3</td>\n",
       "      <td>1.0</td>\n",
       "      <td>1.0</td>\n",
       "    </tr>\n",
       "    <tr>\n",
       "      <th>32143</th>\n",
       "      <td>Nationallibera3</td>\n",
       "      <td>1.0</td>\n",
       "      <td>1.0</td>\n",
       "    </tr>\n",
       "    <tr>\n",
       "      <th>32144</th>\n",
       "      <td>Nationallibera3</td>\n",
       "      <td>1.0</td>\n",
       "      <td>1.0</td>\n",
       "    </tr>\n",
       "    <tr>\n",
       "      <th>32145</th>\n",
       "      <td>Nationallibera3</td>\n",
       "      <td>1.0</td>\n",
       "      <td>1.0</td>\n",
       "    </tr>\n",
       "    <tr>\n",
       "      <th>32146</th>\n",
       "      <td>Alex_M_A_Rimmer</td>\n",
       "      <td>1.0</td>\n",
       "      <td>1.0</td>\n",
       "    </tr>\n",
       "  </tbody>\n",
       "</table>\n",
       "<p>32147 rows × 3 columns</p>\n",
       "</div>"
      ],
      "text/plain": [
       "                  User  Rating_pre  Rating_post\n",
       "0              nfdampf         1.0          1.0\n",
       "1              nfdampf         1.0          2.0\n",
       "2              nfdampf         1.0          1.0\n",
       "3              nfdampf         1.0          1.0\n",
       "4              nfdampf         1.0          2.0\n",
       "...                ...         ...          ...\n",
       "32142  Nationallibera3         1.0          1.0\n",
       "32143  Nationallibera3         1.0          1.0\n",
       "32144  Nationallibera3         1.0          1.0\n",
       "32145  Nationallibera3         1.0          1.0\n",
       "32146  Alex_M_A_Rimmer         1.0          1.0\n",
       "\n",
       "[32147 rows x 3 columns]"
      ]
     },
     "execution_count": 15,
     "metadata": {},
     "output_type": "execute_result"
    }
   ],
   "source": [
    "pre_post"
   ]
  },
  {
   "cell_type": "code",
   "execution_count": 16,
   "id": "1f3d1345",
   "metadata": {
    "execution": {
     "iopub.execute_input": "2022-09-15T18:50:39.095921Z",
     "iopub.status.busy": "2022-09-15T18:50:39.095512Z",
     "iopub.status.idle": "2022-09-15T18:50:39.105008Z",
     "shell.execute_reply": "2022-09-15T18:50:39.101939Z"
    },
    "papermill": {
     "duration": 0.021068,
     "end_time": "2022-09-15T18:50:39.108369",
     "exception": false,
     "start_time": "2022-09-15T18:50:39.087301",
     "status": "completed"
    },
    "tags": []
   },
   "outputs": [],
   "source": [
    "more_intense = pre_post[pre_post['Rating_post']>pre_post['Rating_pre']]"
   ]
  },
  {
   "cell_type": "code",
   "execution_count": 17,
   "id": "6600e06a",
   "metadata": {
    "execution": {
     "iopub.execute_input": "2022-09-15T18:50:39.124785Z",
     "iopub.status.busy": "2022-09-15T18:50:39.123947Z",
     "iopub.status.idle": "2022-09-15T18:50:39.138744Z",
     "shell.execute_reply": "2022-09-15T18:50:39.137721Z"
    },
    "papermill": {
     "duration": 0.025419,
     "end_time": "2022-09-15T18:50:39.141036",
     "exception": false,
     "start_time": "2022-09-15T18:50:39.115617",
     "status": "completed"
    },
    "tags": []
   },
   "outputs": [
    {
     "data": {
      "text/html": [
       "<div>\n",
       "<style scoped>\n",
       "    .dataframe tbody tr th:only-of-type {\n",
       "        vertical-align: middle;\n",
       "    }\n",
       "\n",
       "    .dataframe tbody tr th {\n",
       "        vertical-align: top;\n",
       "    }\n",
       "\n",
       "    .dataframe thead th {\n",
       "        text-align: right;\n",
       "    }\n",
       "</style>\n",
       "<table border=\"1\" class=\"dataframe\">\n",
       "  <thead>\n",
       "    <tr style=\"text-align: right;\">\n",
       "      <th></th>\n",
       "      <th>User</th>\n",
       "      <th>Rating_pre</th>\n",
       "      <th>Rating_post</th>\n",
       "    </tr>\n",
       "  </thead>\n",
       "  <tbody>\n",
       "    <tr>\n",
       "      <th>1</th>\n",
       "      <td>nfdampf</td>\n",
       "      <td>1.0</td>\n",
       "      <td>2.0</td>\n",
       "    </tr>\n",
       "    <tr>\n",
       "      <th>4</th>\n",
       "      <td>nfdampf</td>\n",
       "      <td>1.0</td>\n",
       "      <td>2.0</td>\n",
       "    </tr>\n",
       "    <tr>\n",
       "      <th>7</th>\n",
       "      <td>nfdampf</td>\n",
       "      <td>1.0</td>\n",
       "      <td>2.0</td>\n",
       "    </tr>\n",
       "    <tr>\n",
       "      <th>10</th>\n",
       "      <td>nfdampf</td>\n",
       "      <td>1.0</td>\n",
       "      <td>2.0</td>\n",
       "    </tr>\n",
       "    <tr>\n",
       "      <th>13</th>\n",
       "      <td>nfdampf</td>\n",
       "      <td>1.0</td>\n",
       "      <td>2.0</td>\n",
       "    </tr>\n",
       "    <tr>\n",
       "      <th>...</th>\n",
       "      <td>...</td>\n",
       "      <td>...</td>\n",
       "      <td>...</td>\n",
       "    </tr>\n",
       "    <tr>\n",
       "      <th>32071</th>\n",
       "      <td>luftlesen</td>\n",
       "      <td>1.0</td>\n",
       "      <td>2.0</td>\n",
       "    </tr>\n",
       "    <tr>\n",
       "      <th>32073</th>\n",
       "      <td>luftlesen</td>\n",
       "      <td>1.0</td>\n",
       "      <td>2.0</td>\n",
       "    </tr>\n",
       "    <tr>\n",
       "      <th>32076</th>\n",
       "      <td>ntvde</td>\n",
       "      <td>1.0</td>\n",
       "      <td>2.0</td>\n",
       "    </tr>\n",
       "    <tr>\n",
       "      <th>32077</th>\n",
       "      <td>ntvde</td>\n",
       "      <td>1.0</td>\n",
       "      <td>2.0</td>\n",
       "    </tr>\n",
       "    <tr>\n",
       "      <th>32113</th>\n",
       "      <td>danielascholz7</td>\n",
       "      <td>1.0</td>\n",
       "      <td>2.0</td>\n",
       "    </tr>\n",
       "  </tbody>\n",
       "</table>\n",
       "<p>2118 rows × 3 columns</p>\n",
       "</div>"
      ],
      "text/plain": [
       "                 User  Rating_pre  Rating_post\n",
       "1             nfdampf         1.0          2.0\n",
       "4             nfdampf         1.0          2.0\n",
       "7             nfdampf         1.0          2.0\n",
       "10            nfdampf         1.0          2.0\n",
       "13            nfdampf         1.0          2.0\n",
       "...               ...         ...          ...\n",
       "32071       luftlesen         1.0          2.0\n",
       "32073       luftlesen         1.0          2.0\n",
       "32076           ntvde         1.0          2.0\n",
       "32077           ntvde         1.0          2.0\n",
       "32113  danielascholz7         1.0          2.0\n",
       "\n",
       "[2118 rows x 3 columns]"
      ]
     },
     "execution_count": 17,
     "metadata": {},
     "output_type": "execute_result"
    }
   ],
   "source": [
    "more_intense"
   ]
  },
  {
   "cell_type": "code",
   "execution_count": 18,
   "id": "fefca583",
   "metadata": {
    "execution": {
     "iopub.execute_input": "2022-09-15T18:50:39.157955Z",
     "iopub.status.busy": "2022-09-15T18:50:39.157235Z",
     "iopub.status.idle": "2022-09-15T18:50:39.163921Z",
     "shell.execute_reply": "2022-09-15T18:50:39.162980Z"
    },
    "papermill": {
     "duration": 0.017606,
     "end_time": "2022-09-15T18:50:39.165984",
     "exception": false,
     "start_time": "2022-09-15T18:50:39.148378",
     "status": "completed"
    },
    "tags": []
   },
   "outputs": [
    {
     "data": {
      "text/plain": [
       "345"
      ]
     },
     "execution_count": 18,
     "metadata": {},
     "output_type": "execute_result"
    }
   ],
   "source": [
    "more_intense['User'].nunique()"
   ]
  },
  {
   "cell_type": "code",
   "execution_count": 19,
   "id": "18b7007c",
   "metadata": {
    "execution": {
     "iopub.execute_input": "2022-09-15T18:50:39.182569Z",
     "iopub.status.busy": "2022-09-15T18:50:39.182141Z",
     "iopub.status.idle": "2022-09-15T18:50:39.191097Z",
     "shell.execute_reply": "2022-09-15T18:50:39.190242Z"
    },
    "papermill": {
     "duration": 0.019967,
     "end_time": "2022-09-15T18:50:39.193263",
     "exception": false,
     "start_time": "2022-09-15T18:50:39.173296",
     "status": "completed"
    },
    "tags": []
   },
   "outputs": [
    {
     "data": {
      "text/plain": [
       "2133"
      ]
     },
     "execution_count": 19,
     "metadata": {},
     "output_type": "execute_result"
    }
   ],
   "source": [
    "pre_post['User'].nunique()"
   ]
  },
  {
   "cell_type": "code",
   "execution_count": 20,
   "id": "6f1e84db",
   "metadata": {
    "execution": {
     "iopub.execute_input": "2022-09-15T18:50:39.210678Z",
     "iopub.status.busy": "2022-09-15T18:50:39.209931Z",
     "iopub.status.idle": "2022-09-15T18:50:39.217546Z",
     "shell.execute_reply": "2022-09-15T18:50:39.216696Z"
    },
    "papermill": {
     "duration": 0.019239,
     "end_time": "2022-09-15T18:50:39.220123",
     "exception": false,
     "start_time": "2022-09-15T18:50:39.200884",
     "status": "completed"
    },
    "tags": []
   },
   "outputs": [
    {
     "data": {
      "text/plain": [
       "4904"
      ]
     },
     "execution_count": 20,
     "metadata": {},
     "output_type": "execute_result"
    }
   ],
   "source": [
    "pre_most['User'].nunique()"
   ]
  },
  {
   "cell_type": "code",
   "execution_count": 21,
   "id": "e2d4d564",
   "metadata": {
    "execution": {
     "iopub.execute_input": "2022-09-15T18:50:39.237507Z",
     "iopub.status.busy": "2022-09-15T18:50:39.237057Z",
     "iopub.status.idle": "2022-09-15T18:50:39.250523Z",
     "shell.execute_reply": "2022-09-15T18:50:39.249363Z"
    },
    "papermill": {
     "duration": 0.024777,
     "end_time": "2022-09-15T18:50:39.252855",
     "exception": false,
     "start_time": "2022-09-15T18:50:39.228078",
     "status": "completed"
    },
    "tags": []
   },
   "outputs": [
    {
     "data": {
      "text/plain": [
       "16509"
      ]
     },
     "execution_count": 21,
     "metadata": {},
     "output_type": "execute_result"
    }
   ],
   "source": [
    "post_most['User'].nunique()"
   ]
  },
  {
   "cell_type": "code",
   "execution_count": null,
   "id": "8835645e",
   "metadata": {
    "papermill": {
     "duration": 0.007283,
     "end_time": "2022-09-15T18:50:39.267726",
     "exception": false,
     "start_time": "2022-09-15T18:50:39.260443",
     "status": "completed"
    },
    "tags": []
   },
   "outputs": [],
   "source": []
  }
 ],
 "metadata": {
  "kernelspec": {
   "display_name": "Python 3",
   "language": "python",
   "name": "python3"
  },
  "language_info": {
   "codemirror_mode": {
    "name": "ipython",
    "version": 3
   },
   "file_extension": ".py",
   "mimetype": "text/x-python",
   "name": "python",
   "nbconvert_exporter": "python",
   "pygments_lexer": "ipython3",
   "version": "3.7.12"
  },
  "papermill": {
   "default_parameters": {},
   "duration": 12.292143,
   "end_time": "2022-09-15T18:50:39.997639",
   "environment_variables": {},
   "exception": null,
   "input_path": "__notebook__.ipynb",
   "output_path": "__notebook__.ipynb",
   "parameters": {},
   "start_time": "2022-09-15T18:50:27.705496",
   "version": "2.3.4"
  }
 },
 "nbformat": 4,
 "nbformat_minor": 5
}
