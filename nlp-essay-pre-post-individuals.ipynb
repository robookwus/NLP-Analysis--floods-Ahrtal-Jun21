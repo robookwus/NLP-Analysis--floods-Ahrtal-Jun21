{
 "cells": [
  {
   "cell_type": "code",
   "execution_count": 1,
   "id": "7d0cf392",
   "metadata": {
    "execution": {
     "iopub.execute_input": "2022-09-30T08:05:42.848983Z",
     "iopub.status.busy": "2022-09-30T08:05:42.848415Z",
     "iopub.status.idle": "2022-09-30T08:05:44.093776Z",
     "shell.execute_reply": "2022-09-30T08:05:44.092380Z"
    },
    "papermill": {
     "duration": 1.259966,
     "end_time": "2022-09-30T08:05:44.097307",
     "exception": false,
     "start_time": "2022-09-30T08:05:42.837341",
     "status": "completed"
    },
    "tags": []
   },
   "outputs": [],
   "source": [
    "import pandas as pd\n",
    "post = pd.read_csv('../input/postlabelled-germanfloods/full_postLabelled.csv',lineterminator='\\n')\n",
    "pre = pd.read_csv('../input/prelabelled-germanfloods/full_preLabelled.csv',lineterminator='\\n')"
   ]
  },
  {
   "cell_type": "code",
   "execution_count": 2,
   "id": "de4c0bd8",
   "metadata": {
    "execution": {
     "iopub.execute_input": "2022-09-30T08:05:44.120102Z",
     "iopub.status.busy": "2022-09-30T08:05:44.118891Z",
     "iopub.status.idle": "2022-09-30T08:05:44.152500Z",
     "shell.execute_reply": "2022-09-30T08:05:44.151456Z"
    },
    "papermill": {
     "duration": 0.048227,
     "end_time": "2022-09-30T08:05:44.155962",
     "exception": false,
     "start_time": "2022-09-30T08:05:44.107735",
     "status": "completed"
    },
    "tags": []
   },
   "outputs": [
    {
     "data": {
      "text/html": [
       "<div>\n",
       "<style scoped>\n",
       "    .dataframe tbody tr th:only-of-type {\n",
       "        vertical-align: middle;\n",
       "    }\n",
       "\n",
       "    .dataframe tbody tr th {\n",
       "        vertical-align: top;\n",
       "    }\n",
       "\n",
       "    .dataframe thead th {\n",
       "        text-align: right;\n",
       "    }\n",
       "</style>\n",
       "<table border=\"1\" class=\"dataframe\">\n",
       "  <thead>\n",
       "    <tr style=\"text-align: right;\">\n",
       "      <th></th>\n",
       "      <th>Unnamed: 0</th>\n",
       "      <th>date</th>\n",
       "      <th>User</th>\n",
       "      <th>Tweet</th>\n",
       "      <th>Rating (0/1/2)</th>\n",
       "    </tr>\n",
       "  </thead>\n",
       "  <tbody>\n",
       "    <tr>\n",
       "      <th>0</th>\n",
       "      <td>0</td>\n",
       "      <td>2021-07-29</td>\n",
       "      <td>Porticus2</td>\n",
       "      <td>Bevor Herr @MarkusSöder solches Klima-Trallala...</td>\n",
       "      <td>1.0</td>\n",
       "    </tr>\n",
       "    <tr>\n",
       "      <th>1</th>\n",
       "      <td>1</td>\n",
       "      <td>2021-07-29</td>\n",
       "      <td>watch_union</td>\n",
       "      <td>Der Vorstandsvorsitzende von #VW zerstört bei ...</td>\n",
       "      <td>1.0</td>\n",
       "    </tr>\n",
       "    <tr>\n",
       "      <th>2</th>\n",
       "      <td>2</td>\n",
       "      <td>2021-07-29</td>\n",
       "      <td>NiklasCcr</td>\n",
       "      <td>@raichubvb Klimawandel. Die Menschen müssen en...</td>\n",
       "      <td>1.0</td>\n",
       "    </tr>\n",
       "    <tr>\n",
       "      <th>3</th>\n",
       "      <td>3</td>\n",
       "      <td>2021-07-29</td>\n",
       "      <td>SvenPhenix</td>\n",
       "      <td>Jetzt in einer Zeit voller Krisen: #COVID19, #...</td>\n",
       "      <td>1.0</td>\n",
       "    </tr>\n",
       "    <tr>\n",
       "      <th>4</th>\n",
       "      <td>4</td>\n",
       "      <td>2021-07-29</td>\n",
       "      <td>brokenspirits</td>\n",
       "      <td>Und nochmal etwas weitergedacht: Während hier ...</td>\n",
       "      <td>1.0</td>\n",
       "    </tr>\n",
       "    <tr>\n",
       "      <th>...</th>\n",
       "      <td>...</td>\n",
       "      <td>...</td>\n",
       "      <td>...</td>\n",
       "      <td>...</td>\n",
       "      <td>...</td>\n",
       "    </tr>\n",
       "    <tr>\n",
       "      <th>80949</th>\n",
       "      <td>80949</td>\n",
       "      <td>2021-07-14</td>\n",
       "      <td>EinFragender</td>\n",
       "      <td>@Karl_Lauterbach So weit ich weiß, war es 1913...</td>\n",
       "      <td>1.0</td>\n",
       "    </tr>\n",
       "    <tr>\n",
       "      <th>80950</th>\n",
       "      <td>80950</td>\n",
       "      <td>2021-07-14</td>\n",
       "      <td>MoSchaefer66</td>\n",
       "      <td>@P4F_Leipzig Jetzt sollte so manchem langsam k...</td>\n",
       "      <td>1.0</td>\n",
       "    </tr>\n",
       "    <tr>\n",
       "      <th>80951</th>\n",
       "      <td>80951</td>\n",
       "      <td>2021-07-14</td>\n",
       "      <td>f_talmon</td>\n",
       "      <td>Wenn der Meeresspiegel weiter steigt, wird das...</td>\n",
       "      <td>1.0</td>\n",
       "    </tr>\n",
       "    <tr>\n",
       "      <th>80952</th>\n",
       "      <td>80952</td>\n",
       "      <td>2021-07-14</td>\n",
       "      <td>Elke__Kuhn</td>\n",
       "      <td>@ayranundspeck @CCitiesOrg @dvd_hrtmnn @Monika...</td>\n",
       "      <td>1.0</td>\n",
       "    </tr>\n",
       "    <tr>\n",
       "      <th>80953</th>\n",
       "      <td>80953</td>\n",
       "      <td>2021-07-14</td>\n",
       "      <td>fahrIehrer</td>\n",
       "      <td>@Vampirkamel @AndreasBlnMi @zeitonline Alles i...</td>\n",
       "      <td>1.0</td>\n",
       "    </tr>\n",
       "  </tbody>\n",
       "</table>\n",
       "<p>80954 rows × 5 columns</p>\n",
       "</div>"
      ],
      "text/plain": [
       "       Unnamed: 0        date           User  \\\n",
       "0               0  2021-07-29      Porticus2   \n",
       "1               1  2021-07-29    watch_union   \n",
       "2               2  2021-07-29      NiklasCcr   \n",
       "3               3  2021-07-29     SvenPhenix   \n",
       "4               4  2021-07-29  brokenspirits   \n",
       "...           ...         ...            ...   \n",
       "80949       80949  2021-07-14   EinFragender   \n",
       "80950       80950  2021-07-14   MoSchaefer66   \n",
       "80951       80951  2021-07-14       f_talmon   \n",
       "80952       80952  2021-07-14     Elke__Kuhn   \n",
       "80953       80953  2021-07-14     fahrIehrer   \n",
       "\n",
       "                                                   Tweet  Rating (0/1/2)   \n",
       "0      Bevor Herr @MarkusSöder solches Klima-Trallala...              1.0  \n",
       "1      Der Vorstandsvorsitzende von #VW zerstört bei ...              1.0  \n",
       "2      @raichubvb Klimawandel. Die Menschen müssen en...              1.0  \n",
       "3      Jetzt in einer Zeit voller Krisen: #COVID19, #...              1.0  \n",
       "4      Und nochmal etwas weitergedacht: Während hier ...              1.0  \n",
       "...                                                  ...              ...  \n",
       "80949  @Karl_Lauterbach So weit ich weiß, war es 1913...              1.0  \n",
       "80950  @P4F_Leipzig Jetzt sollte so manchem langsam k...              1.0  \n",
       "80951  Wenn der Meeresspiegel weiter steigt, wird das...              1.0  \n",
       "80952  @ayranundspeck @CCitiesOrg @dvd_hrtmnn @Monika...              1.0  \n",
       "80953  @Vampirkamel @AndreasBlnMi @zeitonline Alles i...              1.0  \n",
       "\n",
       "[80954 rows x 5 columns]"
      ]
     },
     "execution_count": 2,
     "metadata": {},
     "output_type": "execute_result"
    }
   ],
   "source": [
    "post"
   ]
  },
  {
   "cell_type": "code",
   "execution_count": 3,
   "id": "e9913229",
   "metadata": {
    "execution": {
     "iopub.execute_input": "2022-09-30T08:05:44.174552Z",
     "iopub.status.busy": "2022-09-30T08:05:44.173687Z",
     "iopub.status.idle": "2022-09-30T08:05:44.190958Z",
     "shell.execute_reply": "2022-09-30T08:05:44.189338Z"
    },
    "papermill": {
     "duration": 0.030617,
     "end_time": "2022-09-30T08:05:44.194301",
     "exception": false,
     "start_time": "2022-09-30T08:05:44.163684",
     "status": "completed"
    },
    "tags": []
   },
   "outputs": [],
   "source": [
    "pre_most = pre['2021-07-10'<pre['date']]"
   ]
  },
  {
   "cell_type": "code",
   "execution_count": 4,
   "id": "ec8a0722",
   "metadata": {
    "execution": {
     "iopub.execute_input": "2022-09-30T08:05:44.213260Z",
     "iopub.status.busy": "2022-09-30T08:05:44.212442Z",
     "iopub.status.idle": "2022-09-30T08:05:44.229840Z",
     "shell.execute_reply": "2022-09-30T08:05:44.227906Z"
    },
    "papermill": {
     "duration": 0.031128,
     "end_time": "2022-09-30T08:05:44.233741",
     "exception": false,
     "start_time": "2022-09-30T08:05:44.202613",
     "status": "completed"
    },
    "tags": []
   },
   "outputs": [],
   "source": [
    "post_most = post['2021-07-17'>post['date']]"
   ]
  },
  {
   "cell_type": "code",
   "execution_count": 5,
   "id": "4d2c9db5",
   "metadata": {
    "execution": {
     "iopub.execute_input": "2022-09-30T08:05:44.251143Z",
     "iopub.status.busy": "2022-09-30T08:05:44.250612Z",
     "iopub.status.idle": "2022-09-30T08:05:44.267401Z",
     "shell.execute_reply": "2022-09-30T08:05:44.266029Z"
    },
    "papermill": {
     "duration": 0.028831,
     "end_time": "2022-09-30T08:05:44.270261",
     "exception": false,
     "start_time": "2022-09-30T08:05:44.241430",
     "status": "completed"
    },
    "tags": []
   },
   "outputs": [
    {
     "data": {
      "text/plain": [
       "1.0    6821\n",
       "2.0     334\n",
       "0.0      96\n",
       "Name: Rating (0/1/2) , dtype: int64"
      ]
     },
     "execution_count": 5,
     "metadata": {},
     "output_type": "execute_result"
    }
   ],
   "source": [
    "pd.value_counts(pre_most['Rating (0/1/2) '])"
   ]
  },
  {
   "cell_type": "code",
   "execution_count": 6,
   "id": "02a1b6cd",
   "metadata": {
    "execution": {
     "iopub.execute_input": "2022-09-30T08:05:44.288750Z",
     "iopub.status.busy": "2022-09-30T08:05:44.288094Z",
     "iopub.status.idle": "2022-09-30T08:05:44.299591Z",
     "shell.execute_reply": "2022-09-30T08:05:44.298337Z"
    },
    "papermill": {
     "duration": 0.023696,
     "end_time": "2022-09-30T08:05:44.302286",
     "exception": false,
     "start_time": "2022-09-30T08:05:44.278590",
     "status": "completed"
    },
    "tags": []
   },
   "outputs": [
    {
     "data": {
      "text/plain": [
       "1.0    27888\n",
       "2.0     1639\n",
       "0.0      336\n",
       "Name: Rating (0/1/2) , dtype: int64"
      ]
     },
     "execution_count": 6,
     "metadata": {},
     "output_type": "execute_result"
    }
   ],
   "source": [
    "pd.value_counts(post_most['Rating (0/1/2) '])"
   ]
  },
  {
   "cell_type": "code",
   "execution_count": 7,
   "id": "217cba7a",
   "metadata": {
    "execution": {
     "iopub.execute_input": "2022-09-30T08:05:44.320889Z",
     "iopub.status.busy": "2022-09-30T08:05:44.320350Z",
     "iopub.status.idle": "2022-09-30T08:05:44.328653Z",
     "shell.execute_reply": "2022-09-30T08:05:44.327162Z"
    },
    "papermill": {
     "duration": 0.021229,
     "end_time": "2022-09-30T08:05:44.331344",
     "exception": false,
     "start_time": "2022-09-30T08:05:44.310115",
     "status": "completed"
    },
    "tags": []
   },
   "outputs": [],
   "source": [
    "pre_most = pre_most[['User','Rating (0/1/2) ']]"
   ]
  },
  {
   "cell_type": "code",
   "execution_count": 8,
   "id": "513596d7",
   "metadata": {
    "execution": {
     "iopub.execute_input": "2022-09-30T08:05:44.349837Z",
     "iopub.status.busy": "2022-09-30T08:05:44.349337Z",
     "iopub.status.idle": "2022-09-30T08:05:44.358558Z",
     "shell.execute_reply": "2022-09-30T08:05:44.357088Z"
    },
    "papermill": {
     "duration": 0.021914,
     "end_time": "2022-09-30T08:05:44.361566",
     "exception": false,
     "start_time": "2022-09-30T08:05:44.339652",
     "status": "completed"
    },
    "tags": []
   },
   "outputs": [],
   "source": [
    "post_most = post_most[['User','Rating (0/1/2) ']]"
   ]
  },
  {
   "cell_type": "code",
   "execution_count": 9,
   "id": "38aa27b8",
   "metadata": {
    "execution": {
     "iopub.execute_input": "2022-09-30T08:05:44.379871Z",
     "iopub.status.busy": "2022-09-30T08:05:44.379382Z",
     "iopub.status.idle": "2022-09-30T08:05:44.389371Z",
     "shell.execute_reply": "2022-09-30T08:05:44.387743Z"
    },
    "papermill": {
     "duration": 0.023285,
     "end_time": "2022-09-30T08:05:44.392817",
     "exception": false,
     "start_time": "2022-09-30T08:05:44.369532",
     "status": "completed"
    },
    "tags": []
   },
   "outputs": [],
   "source": [
    "pre_most.rename(columns = {'Rating (0/1/2) ':'Rating_pre'}, inplace = True)\n",
    "post_most.rename(columns = {'Rating (0/1/2) ':'Rating_post'}, inplace = True)"
   ]
  },
  {
   "cell_type": "code",
   "execution_count": 10,
   "id": "df1c6fdc",
   "metadata": {
    "execution": {
     "iopub.execute_input": "2022-09-30T08:05:44.411385Z",
     "iopub.status.busy": "2022-09-30T08:05:44.410857Z",
     "iopub.status.idle": "2022-09-30T08:05:44.428244Z",
     "shell.execute_reply": "2022-09-30T08:05:44.427057Z"
    },
    "papermill": {
     "duration": 0.029278,
     "end_time": "2022-09-30T08:05:44.430932",
     "exception": false,
     "start_time": "2022-09-30T08:05:44.401654",
     "status": "completed"
    },
    "tags": []
   },
   "outputs": [
    {
     "data": {
      "text/html": [
       "<div>\n",
       "<style scoped>\n",
       "    .dataframe tbody tr th:only-of-type {\n",
       "        vertical-align: middle;\n",
       "    }\n",
       "\n",
       "    .dataframe tbody tr th {\n",
       "        vertical-align: top;\n",
       "    }\n",
       "\n",
       "    .dataframe thead th {\n",
       "        text-align: right;\n",
       "    }\n",
       "</style>\n",
       "<table border=\"1\" class=\"dataframe\">\n",
       "  <thead>\n",
       "    <tr style=\"text-align: right;\">\n",
       "      <th></th>\n",
       "      <th>User</th>\n",
       "      <th>Rating_pre</th>\n",
       "    </tr>\n",
       "  </thead>\n",
       "  <tbody>\n",
       "    <tr>\n",
       "      <th>0</th>\n",
       "      <td>Arminirma1Armin</td>\n",
       "      <td>1.0</td>\n",
       "    </tr>\n",
       "    <tr>\n",
       "      <th>1</th>\n",
       "      <td>nfdampf</td>\n",
       "      <td>1.0</td>\n",
       "    </tr>\n",
       "    <tr>\n",
       "      <th>2</th>\n",
       "      <td>MEPilarczyk</td>\n",
       "      <td>1.0</td>\n",
       "    </tr>\n",
       "    <tr>\n",
       "      <th>3</th>\n",
       "      <td>megatrendy</td>\n",
       "      <td>1.0</td>\n",
       "    </tr>\n",
       "    <tr>\n",
       "      <th>4</th>\n",
       "      <td>FFFLeipzig</td>\n",
       "      <td>1.0</td>\n",
       "    </tr>\n",
       "    <tr>\n",
       "      <th>...</th>\n",
       "      <td>...</td>\n",
       "      <td>...</td>\n",
       "    </tr>\n",
       "    <tr>\n",
       "      <th>7246</th>\n",
       "      <td>MonacoFerdl</td>\n",
       "      <td>1.0</td>\n",
       "    </tr>\n",
       "    <tr>\n",
       "      <th>7247</th>\n",
       "      <td>nfdampf</td>\n",
       "      <td>1.0</td>\n",
       "    </tr>\n",
       "    <tr>\n",
       "      <th>7248</th>\n",
       "      <td>MieuletCleo</td>\n",
       "      <td>1.0</td>\n",
       "    </tr>\n",
       "    <tr>\n",
       "      <th>7249</th>\n",
       "      <td>mikeltwi123</td>\n",
       "      <td>1.0</td>\n",
       "    </tr>\n",
       "    <tr>\n",
       "      <th>7250</th>\n",
       "      <td>superbello123</td>\n",
       "      <td>1.0</td>\n",
       "    </tr>\n",
       "  </tbody>\n",
       "</table>\n",
       "<p>7251 rows × 2 columns</p>\n",
       "</div>"
      ],
      "text/plain": [
       "                 User  Rating_pre\n",
       "0     Arminirma1Armin         1.0\n",
       "1             nfdampf         1.0\n",
       "2         MEPilarczyk         1.0\n",
       "3          megatrendy         1.0\n",
       "4          FFFLeipzig         1.0\n",
       "...               ...         ...\n",
       "7246      MonacoFerdl         1.0\n",
       "7247          nfdampf         1.0\n",
       "7248      MieuletCleo         1.0\n",
       "7249      mikeltwi123         1.0\n",
       "7250    superbello123         1.0\n",
       "\n",
       "[7251 rows x 2 columns]"
      ]
     },
     "execution_count": 10,
     "metadata": {},
     "output_type": "execute_result"
    }
   ],
   "source": [
    "pre_most"
   ]
  },
  {
   "cell_type": "code",
   "execution_count": 11,
   "id": "fa1b40ea",
   "metadata": {
    "execution": {
     "iopub.execute_input": "2022-09-30T08:05:44.449398Z",
     "iopub.status.busy": "2022-09-30T08:05:44.448829Z",
     "iopub.status.idle": "2022-09-30T08:05:44.466031Z",
     "shell.execute_reply": "2022-09-30T08:05:44.464424Z"
    },
    "papermill": {
     "duration": 0.03008,
     "end_time": "2022-09-30T08:05:44.469090",
     "exception": false,
     "start_time": "2022-09-30T08:05:44.439010",
     "status": "completed"
    },
    "tags": []
   },
   "outputs": [
    {
     "data": {
      "text/html": [
       "<div>\n",
       "<style scoped>\n",
       "    .dataframe tbody tr th:only-of-type {\n",
       "        vertical-align: middle;\n",
       "    }\n",
       "\n",
       "    .dataframe tbody tr th {\n",
       "        vertical-align: top;\n",
       "    }\n",
       "\n",
       "    .dataframe thead th {\n",
       "        text-align: right;\n",
       "    }\n",
       "</style>\n",
       "<table border=\"1\" class=\"dataframe\">\n",
       "  <thead>\n",
       "    <tr style=\"text-align: right;\">\n",
       "      <th></th>\n",
       "      <th>User</th>\n",
       "      <th>Rating_post</th>\n",
       "    </tr>\n",
       "  </thead>\n",
       "  <tbody>\n",
       "    <tr>\n",
       "      <th>51091</th>\n",
       "      <td>F4y3M14</td>\n",
       "      <td>1.0</td>\n",
       "    </tr>\n",
       "    <tr>\n",
       "      <th>51092</th>\n",
       "      <td>Stoertebeker68</td>\n",
       "      <td>1.0</td>\n",
       "    </tr>\n",
       "    <tr>\n",
       "      <th>51093</th>\n",
       "      <td>dirk_ley</td>\n",
       "      <td>1.0</td>\n",
       "    </tr>\n",
       "    <tr>\n",
       "      <th>51094</th>\n",
       "      <td>grnFlip</td>\n",
       "      <td>1.0</td>\n",
       "    </tr>\n",
       "    <tr>\n",
       "      <th>51095</th>\n",
       "      <td>LaurinPol</td>\n",
       "      <td>1.0</td>\n",
       "    </tr>\n",
       "    <tr>\n",
       "      <th>...</th>\n",
       "      <td>...</td>\n",
       "      <td>...</td>\n",
       "    </tr>\n",
       "    <tr>\n",
       "      <th>80949</th>\n",
       "      <td>EinFragender</td>\n",
       "      <td>1.0</td>\n",
       "    </tr>\n",
       "    <tr>\n",
       "      <th>80950</th>\n",
       "      <td>MoSchaefer66</td>\n",
       "      <td>1.0</td>\n",
       "    </tr>\n",
       "    <tr>\n",
       "      <th>80951</th>\n",
       "      <td>f_talmon</td>\n",
       "      <td>1.0</td>\n",
       "    </tr>\n",
       "    <tr>\n",
       "      <th>80952</th>\n",
       "      <td>Elke__Kuhn</td>\n",
       "      <td>1.0</td>\n",
       "    </tr>\n",
       "    <tr>\n",
       "      <th>80953</th>\n",
       "      <td>fahrIehrer</td>\n",
       "      <td>1.0</td>\n",
       "    </tr>\n",
       "  </tbody>\n",
       "</table>\n",
       "<p>29863 rows × 2 columns</p>\n",
       "</div>"
      ],
      "text/plain": [
       "                 User  Rating_post\n",
       "51091         F4y3M14          1.0\n",
       "51092  Stoertebeker68          1.0\n",
       "51093        dirk_ley          1.0\n",
       "51094         grnFlip          1.0\n",
       "51095       LaurinPol          1.0\n",
       "...               ...          ...\n",
       "80949    EinFragender          1.0\n",
       "80950    MoSchaefer66          1.0\n",
       "80951        f_talmon          1.0\n",
       "80952      Elke__Kuhn          1.0\n",
       "80953      fahrIehrer          1.0\n",
       "\n",
       "[29863 rows x 2 columns]"
      ]
     },
     "execution_count": 11,
     "metadata": {},
     "output_type": "execute_result"
    }
   ],
   "source": [
    "post_most"
   ]
  },
  {
   "cell_type": "code",
   "execution_count": 12,
   "id": "29abefc7",
   "metadata": {
    "execution": {
     "iopub.execute_input": "2022-09-30T08:05:44.487952Z",
     "iopub.status.busy": "2022-09-30T08:05:44.487450Z",
     "iopub.status.idle": "2022-09-30T08:05:44.520642Z",
     "shell.execute_reply": "2022-09-30T08:05:44.519069Z"
    },
    "papermill": {
     "duration": 0.046545,
     "end_time": "2022-09-30T08:05:44.524110",
     "exception": false,
     "start_time": "2022-09-30T08:05:44.477565",
     "status": "completed"
    },
    "tags": []
   },
   "outputs": [],
   "source": [
    "pre_post = pd.merge(pre_most, post_most, on='User', how='inner')"
   ]
  },
  {
   "cell_type": "code",
   "execution_count": 13,
   "id": "293d3ecd",
   "metadata": {
    "execution": {
     "iopub.execute_input": "2022-09-30T08:05:44.543021Z",
     "iopub.status.busy": "2022-09-30T08:05:44.542493Z",
     "iopub.status.idle": "2022-09-30T08:05:44.563859Z",
     "shell.execute_reply": "2022-09-30T08:05:44.562291Z"
    },
    "papermill": {
     "duration": 0.034452,
     "end_time": "2022-09-30T08:05:44.567020",
     "exception": false,
     "start_time": "2022-09-30T08:05:44.532568",
     "status": "completed"
    },
    "tags": []
   },
   "outputs": [
    {
     "data": {
      "text/html": [
       "<div>\n",
       "<style scoped>\n",
       "    .dataframe tbody tr th:only-of-type {\n",
       "        vertical-align: middle;\n",
       "    }\n",
       "\n",
       "    .dataframe tbody tr th {\n",
       "        vertical-align: top;\n",
       "    }\n",
       "\n",
       "    .dataframe thead th {\n",
       "        text-align: right;\n",
       "    }\n",
       "</style>\n",
       "<table border=\"1\" class=\"dataframe\">\n",
       "  <thead>\n",
       "    <tr style=\"text-align: right;\">\n",
       "      <th></th>\n",
       "      <th>User</th>\n",
       "      <th>Rating_pre</th>\n",
       "      <th>Rating_post</th>\n",
       "    </tr>\n",
       "  </thead>\n",
       "  <tbody>\n",
       "    <tr>\n",
       "      <th>0</th>\n",
       "      <td>nfdampf</td>\n",
       "      <td>1.0</td>\n",
       "      <td>1.0</td>\n",
       "    </tr>\n",
       "    <tr>\n",
       "      <th>1</th>\n",
       "      <td>nfdampf</td>\n",
       "      <td>1.0</td>\n",
       "      <td>2.0</td>\n",
       "    </tr>\n",
       "    <tr>\n",
       "      <th>2</th>\n",
       "      <td>nfdampf</td>\n",
       "      <td>1.0</td>\n",
       "      <td>1.0</td>\n",
       "    </tr>\n",
       "    <tr>\n",
       "      <th>3</th>\n",
       "      <td>nfdampf</td>\n",
       "      <td>1.0</td>\n",
       "      <td>1.0</td>\n",
       "    </tr>\n",
       "    <tr>\n",
       "      <th>4</th>\n",
       "      <td>nfdampf</td>\n",
       "      <td>1.0</td>\n",
       "      <td>2.0</td>\n",
       "    </tr>\n",
       "    <tr>\n",
       "      <th>...</th>\n",
       "      <td>...</td>\n",
       "      <td>...</td>\n",
       "      <td>...</td>\n",
       "    </tr>\n",
       "    <tr>\n",
       "      <th>32142</th>\n",
       "      <td>Nationallibera3</td>\n",
       "      <td>1.0</td>\n",
       "      <td>1.0</td>\n",
       "    </tr>\n",
       "    <tr>\n",
       "      <th>32143</th>\n",
       "      <td>Nationallibera3</td>\n",
       "      <td>1.0</td>\n",
       "      <td>1.0</td>\n",
       "    </tr>\n",
       "    <tr>\n",
       "      <th>32144</th>\n",
       "      <td>Nationallibera3</td>\n",
       "      <td>1.0</td>\n",
       "      <td>1.0</td>\n",
       "    </tr>\n",
       "    <tr>\n",
       "      <th>32145</th>\n",
       "      <td>Nationallibera3</td>\n",
       "      <td>1.0</td>\n",
       "      <td>1.0</td>\n",
       "    </tr>\n",
       "    <tr>\n",
       "      <th>32146</th>\n",
       "      <td>Alex_M_A_Rimmer</td>\n",
       "      <td>1.0</td>\n",
       "      <td>1.0</td>\n",
       "    </tr>\n",
       "  </tbody>\n",
       "</table>\n",
       "<p>32147 rows × 3 columns</p>\n",
       "</div>"
      ],
      "text/plain": [
       "                  User  Rating_pre  Rating_post\n",
       "0              nfdampf         1.0          1.0\n",
       "1              nfdampf         1.0          2.0\n",
       "2              nfdampf         1.0          1.0\n",
       "3              nfdampf         1.0          1.0\n",
       "4              nfdampf         1.0          2.0\n",
       "...                ...         ...          ...\n",
       "32142  Nationallibera3         1.0          1.0\n",
       "32143  Nationallibera3         1.0          1.0\n",
       "32144  Nationallibera3         1.0          1.0\n",
       "32145  Nationallibera3         1.0          1.0\n",
       "32146  Alex_M_A_Rimmer         1.0          1.0\n",
       "\n",
       "[32147 rows x 3 columns]"
      ]
     },
     "execution_count": 13,
     "metadata": {},
     "output_type": "execute_result"
    }
   ],
   "source": [
    "pre_post"
   ]
  },
  {
   "cell_type": "code",
   "execution_count": 14,
   "id": "52257649",
   "metadata": {
    "execution": {
     "iopub.execute_input": "2022-09-30T08:05:44.586106Z",
     "iopub.status.busy": "2022-09-30T08:05:44.585630Z",
     "iopub.status.idle": "2022-09-30T08:05:44.595169Z",
     "shell.execute_reply": "2022-09-30T08:05:44.593941Z"
    },
    "papermill": {
     "duration": 0.022348,
     "end_time": "2022-09-30T08:05:44.597960",
     "exception": false,
     "start_time": "2022-09-30T08:05:44.575612",
     "status": "completed"
    },
    "tags": []
   },
   "outputs": [],
   "source": [
    "more_intense = pre_post[pre_post['Rating_post']>pre_post['Rating_pre']]"
   ]
  },
  {
   "cell_type": "code",
   "execution_count": 15,
   "id": "9b64e269",
   "metadata": {
    "execution": {
     "iopub.execute_input": "2022-09-30T08:05:44.618135Z",
     "iopub.status.busy": "2022-09-30T08:05:44.617632Z",
     "iopub.status.idle": "2022-09-30T08:05:44.638774Z",
     "shell.execute_reply": "2022-09-30T08:05:44.637448Z"
    },
    "papermill": {
     "duration": 0.034934,
     "end_time": "2022-09-30T08:05:44.641653",
     "exception": false,
     "start_time": "2022-09-30T08:05:44.606719",
     "status": "completed"
    },
    "tags": []
   },
   "outputs": [
    {
     "data": {
      "text/html": [
       "<div>\n",
       "<style scoped>\n",
       "    .dataframe tbody tr th:only-of-type {\n",
       "        vertical-align: middle;\n",
       "    }\n",
       "\n",
       "    .dataframe tbody tr th {\n",
       "        vertical-align: top;\n",
       "    }\n",
       "\n",
       "    .dataframe thead th {\n",
       "        text-align: right;\n",
       "    }\n",
       "</style>\n",
       "<table border=\"1\" class=\"dataframe\">\n",
       "  <thead>\n",
       "    <tr style=\"text-align: right;\">\n",
       "      <th></th>\n",
       "      <th>User</th>\n",
       "      <th>Rating_pre</th>\n",
       "      <th>Rating_post</th>\n",
       "    </tr>\n",
       "  </thead>\n",
       "  <tbody>\n",
       "    <tr>\n",
       "      <th>1</th>\n",
       "      <td>nfdampf</td>\n",
       "      <td>1.0</td>\n",
       "      <td>2.0</td>\n",
       "    </tr>\n",
       "    <tr>\n",
       "      <th>4</th>\n",
       "      <td>nfdampf</td>\n",
       "      <td>1.0</td>\n",
       "      <td>2.0</td>\n",
       "    </tr>\n",
       "    <tr>\n",
       "      <th>7</th>\n",
       "      <td>nfdampf</td>\n",
       "      <td>1.0</td>\n",
       "      <td>2.0</td>\n",
       "    </tr>\n",
       "    <tr>\n",
       "      <th>10</th>\n",
       "      <td>nfdampf</td>\n",
       "      <td>1.0</td>\n",
       "      <td>2.0</td>\n",
       "    </tr>\n",
       "    <tr>\n",
       "      <th>13</th>\n",
       "      <td>nfdampf</td>\n",
       "      <td>1.0</td>\n",
       "      <td>2.0</td>\n",
       "    </tr>\n",
       "    <tr>\n",
       "      <th>...</th>\n",
       "      <td>...</td>\n",
       "      <td>...</td>\n",
       "      <td>...</td>\n",
       "    </tr>\n",
       "    <tr>\n",
       "      <th>32071</th>\n",
       "      <td>luftlesen</td>\n",
       "      <td>1.0</td>\n",
       "      <td>2.0</td>\n",
       "    </tr>\n",
       "    <tr>\n",
       "      <th>32073</th>\n",
       "      <td>luftlesen</td>\n",
       "      <td>1.0</td>\n",
       "      <td>2.0</td>\n",
       "    </tr>\n",
       "    <tr>\n",
       "      <th>32076</th>\n",
       "      <td>ntvde</td>\n",
       "      <td>1.0</td>\n",
       "      <td>2.0</td>\n",
       "    </tr>\n",
       "    <tr>\n",
       "      <th>32077</th>\n",
       "      <td>ntvde</td>\n",
       "      <td>1.0</td>\n",
       "      <td>2.0</td>\n",
       "    </tr>\n",
       "    <tr>\n",
       "      <th>32113</th>\n",
       "      <td>danielascholz7</td>\n",
       "      <td>1.0</td>\n",
       "      <td>2.0</td>\n",
       "    </tr>\n",
       "  </tbody>\n",
       "</table>\n",
       "<p>2118 rows × 3 columns</p>\n",
       "</div>"
      ],
      "text/plain": [
       "                 User  Rating_pre  Rating_post\n",
       "1             nfdampf         1.0          2.0\n",
       "4             nfdampf         1.0          2.0\n",
       "7             nfdampf         1.0          2.0\n",
       "10            nfdampf         1.0          2.0\n",
       "13            nfdampf         1.0          2.0\n",
       "...               ...         ...          ...\n",
       "32071       luftlesen         1.0          2.0\n",
       "32073       luftlesen         1.0          2.0\n",
       "32076           ntvde         1.0          2.0\n",
       "32077           ntvde         1.0          2.0\n",
       "32113  danielascholz7         1.0          2.0\n",
       "\n",
       "[2118 rows x 3 columns]"
      ]
     },
     "execution_count": 15,
     "metadata": {},
     "output_type": "execute_result"
    }
   ],
   "source": [
    "more_intense"
   ]
  },
  {
   "cell_type": "code",
   "execution_count": 16,
   "id": "ce2faf6c",
   "metadata": {
    "execution": {
     "iopub.execute_input": "2022-09-30T08:05:44.662103Z",
     "iopub.status.busy": "2022-09-30T08:05:44.660924Z",
     "iopub.status.idle": "2022-09-30T08:05:44.669444Z",
     "shell.execute_reply": "2022-09-30T08:05:44.668074Z"
    },
    "papermill": {
     "duration": 0.021478,
     "end_time": "2022-09-30T08:05:44.672025",
     "exception": false,
     "start_time": "2022-09-30T08:05:44.650547",
     "status": "completed"
    },
    "tags": []
   },
   "outputs": [
    {
     "data": {
      "text/plain": [
       "345"
      ]
     },
     "execution_count": 16,
     "metadata": {},
     "output_type": "execute_result"
    }
   ],
   "source": [
    "more_intense['User'].nunique()"
   ]
  },
  {
   "cell_type": "code",
   "execution_count": 17,
   "id": "c2dc6236",
   "metadata": {
    "execution": {
     "iopub.execute_input": "2022-09-30T08:05:44.692605Z",
     "iopub.status.busy": "2022-09-30T08:05:44.692033Z",
     "iopub.status.idle": "2022-09-30T08:05:44.702432Z",
     "shell.execute_reply": "2022-09-30T08:05:44.701484Z"
    },
    "papermill": {
     "duration": 0.023925,
     "end_time": "2022-09-30T08:05:44.704861",
     "exception": false,
     "start_time": "2022-09-30T08:05:44.680936",
     "status": "completed"
    },
    "tags": []
   },
   "outputs": [
    {
     "data": {
      "text/plain": [
       "2133"
      ]
     },
     "execution_count": 17,
     "metadata": {},
     "output_type": "execute_result"
    }
   ],
   "source": [
    "pre_post['User'].nunique()"
   ]
  },
  {
   "cell_type": "code",
   "execution_count": 18,
   "id": "404947a4",
   "metadata": {
    "execution": {
     "iopub.execute_input": "2022-09-30T08:05:44.726106Z",
     "iopub.status.busy": "2022-09-30T08:05:44.725605Z",
     "iopub.status.idle": "2022-09-30T08:05:44.736346Z",
     "shell.execute_reply": "2022-09-30T08:05:44.734998Z"
    },
    "papermill": {
     "duration": 0.024516,
     "end_time": "2022-09-30T08:05:44.739436",
     "exception": false,
     "start_time": "2022-09-30T08:05:44.714920",
     "status": "completed"
    },
    "tags": []
   },
   "outputs": [
    {
     "data": {
      "text/plain": [
       "4904"
      ]
     },
     "execution_count": 18,
     "metadata": {},
     "output_type": "execute_result"
    }
   ],
   "source": [
    "pre_most['User'].nunique()"
   ]
  },
  {
   "cell_type": "code",
   "execution_count": 19,
   "id": "43cbd78b",
   "metadata": {
    "execution": {
     "iopub.execute_input": "2022-09-30T08:05:44.759816Z",
     "iopub.status.busy": "2022-09-30T08:05:44.759330Z",
     "iopub.status.idle": "2022-09-30T08:05:44.777649Z",
     "shell.execute_reply": "2022-09-30T08:05:44.776099Z"
    },
    "papermill": {
     "duration": 0.031676,
     "end_time": "2022-09-30T08:05:44.780469",
     "exception": false,
     "start_time": "2022-09-30T08:05:44.748793",
     "status": "completed"
    },
    "tags": []
   },
   "outputs": [
    {
     "data": {
      "text/plain": [
       "16509"
      ]
     },
     "execution_count": 19,
     "metadata": {},
     "output_type": "execute_result"
    }
   ],
   "source": [
    "post_most['User'].nunique()"
   ]
  },
  {
   "cell_type": "code",
   "execution_count": 20,
   "id": "1f33c4b5",
   "metadata": {
    "execution": {
     "iopub.execute_input": "2022-09-30T08:05:44.801552Z",
     "iopub.status.busy": "2022-09-30T08:05:44.800569Z",
     "iopub.status.idle": "2022-09-30T08:05:44.807783Z",
     "shell.execute_reply": "2022-09-30T08:05:44.806484Z"
    },
    "papermill": {
     "duration": 0.020591,
     "end_time": "2022-09-30T08:05:44.810291",
     "exception": false,
     "start_time": "2022-09-30T08:05:44.789700",
     "status": "completed"
    },
    "tags": []
   },
   "outputs": [],
   "source": [
    "data1={'Unique users: (0 - pre-floods and 1 - post-floods)':['0','1'],'Count':[4904,16509]}\n",
    "\n",
    "df1=pd.DataFrame(data1)"
   ]
  },
  {
   "cell_type": "code",
   "execution_count": 21,
   "id": "08afca8d",
   "metadata": {
    "execution": {
     "iopub.execute_input": "2022-09-30T08:05:44.832513Z",
     "iopub.status.busy": "2022-09-30T08:05:44.831269Z",
     "iopub.status.idle": "2022-09-30T08:05:44.838777Z",
     "shell.execute_reply": "2022-09-30T08:05:44.837560Z"
    },
    "papermill": {
     "duration": 0.021938,
     "end_time": "2022-09-30T08:05:44.841532",
     "exception": false,
     "start_time": "2022-09-30T08:05:44.819594",
     "status": "completed"
    },
    "tags": []
   },
   "outputs": [],
   "source": [
    "df1.set_index('Unique users: (0 - pre-floods and 1 - post-floods)',inplace=True)"
   ]
  },
  {
   "cell_type": "code",
   "execution_count": 22,
   "id": "1f4317b4",
   "metadata": {
    "execution": {
     "iopub.execute_input": "2022-09-30T08:05:44.862139Z",
     "iopub.status.busy": "2022-09-30T08:05:44.861422Z",
     "iopub.status.idle": "2022-09-30T08:05:47.819054Z",
     "shell.execute_reply": "2022-09-30T08:05:47.817417Z"
    },
    "papermill": {
     "duration": 2.971833,
     "end_time": "2022-09-30T08:05:47.822515",
     "exception": false,
     "start_time": "2022-09-30T08:05:44.850682",
     "status": "completed"
    },
    "tags": []
   },
   "outputs": [
    {
     "data": {
      "text/html": [
       "        <script type=\"text/javascript\">\n",
       "        window.PlotlyConfig = {MathJaxConfig: 'local'};\n",
       "        if (window.MathJax && window.MathJax.Hub && window.MathJax.Hub.Config) {window.MathJax.Hub.Config({SVG: {font: \"STIX-Web\"}});}\n",
       "        if (typeof require !== 'undefined') {\n",
       "        require.undef(\"plotly\");\n",
       "        requirejs.config({\n",
       "            paths: {\n",
       "                'plotly': ['https://cdn.plot.ly/plotly-2.14.0.min']\n",
       "            }\n",
       "        });\n",
       "        require(['plotly'], function(Plotly) {\n",
       "            window._Plotly = Plotly;\n",
       "        });\n",
       "        }\n",
       "        </script>\n",
       "        "
      ]
     },
     "metadata": {},
     "output_type": "display_data"
    },
    {
     "data": {
      "text/html": [
       "<div>                            <div id=\"d200eab6-ed7a-4ce8-9123-cbd41ce6d023\" class=\"plotly-graph-div\" style=\"height:525px; width:100%;\"></div>            <script type=\"text/javascript\">                require([\"plotly\"], function(Plotly) {                    window.PLOTLYENV=window.PLOTLYENV || {};                                    if (document.getElementById(\"d200eab6-ed7a-4ce8-9123-cbd41ce6d023\")) {                    Plotly.newPlot(                        \"d200eab6-ed7a-4ce8-9123-cbd41ce6d023\",                        [{\"alignmentgroup\":\"True\",\"hovertemplate\":\"variable=Count<br>Unique users: (0 - pre-floods and 1 - post-floods)=%{x}<br>Count=%{y}<extra></extra>\",\"legendgroup\":\"Count\",\"marker\":{\"color\":\"#636efa\",\"pattern\":{\"shape\":\"\"}},\"name\":\"Count\",\"offsetgroup\":\"Count\",\"orientation\":\"v\",\"showlegend\":true,\"textposition\":\"auto\",\"x\":[\"0\",\"1\"],\"xaxis\":\"x\",\"y\":[4904,16509],\"yaxis\":\"y\",\"type\":\"bar\"}],                        {\"template\":{\"data\":{\"histogram2dcontour\":[{\"type\":\"histogram2dcontour\",\"colorbar\":{\"outlinewidth\":0,\"ticks\":\"\"},\"colorscale\":[[0.0,\"#0d0887\"],[0.1111111111111111,\"#46039f\"],[0.2222222222222222,\"#7201a8\"],[0.3333333333333333,\"#9c179e\"],[0.4444444444444444,\"#bd3786\"],[0.5555555555555556,\"#d8576b\"],[0.6666666666666666,\"#ed7953\"],[0.7777777777777778,\"#fb9f3a\"],[0.8888888888888888,\"#fdca26\"],[1.0,\"#f0f921\"]]}],\"choropleth\":[{\"type\":\"choropleth\",\"colorbar\":{\"outlinewidth\":0,\"ticks\":\"\"}}],\"histogram2d\":[{\"type\":\"histogram2d\",\"colorbar\":{\"outlinewidth\":0,\"ticks\":\"\"},\"colorscale\":[[0.0,\"#0d0887\"],[0.1111111111111111,\"#46039f\"],[0.2222222222222222,\"#7201a8\"],[0.3333333333333333,\"#9c179e\"],[0.4444444444444444,\"#bd3786\"],[0.5555555555555556,\"#d8576b\"],[0.6666666666666666,\"#ed7953\"],[0.7777777777777778,\"#fb9f3a\"],[0.8888888888888888,\"#fdca26\"],[1.0,\"#f0f921\"]]}],\"heatmap\":[{\"type\":\"heatmap\",\"colorbar\":{\"outlinewidth\":0,\"ticks\":\"\"},\"colorscale\":[[0.0,\"#0d0887\"],[0.1111111111111111,\"#46039f\"],[0.2222222222222222,\"#7201a8\"],[0.3333333333333333,\"#9c179e\"],[0.4444444444444444,\"#bd3786\"],[0.5555555555555556,\"#d8576b\"],[0.6666666666666666,\"#ed7953\"],[0.7777777777777778,\"#fb9f3a\"],[0.8888888888888888,\"#fdca26\"],[1.0,\"#f0f921\"]]}],\"heatmapgl\":[{\"type\":\"heatmapgl\",\"colorbar\":{\"outlinewidth\":0,\"ticks\":\"\"},\"colorscale\":[[0.0,\"#0d0887\"],[0.1111111111111111,\"#46039f\"],[0.2222222222222222,\"#7201a8\"],[0.3333333333333333,\"#9c179e\"],[0.4444444444444444,\"#bd3786\"],[0.5555555555555556,\"#d8576b\"],[0.6666666666666666,\"#ed7953\"],[0.7777777777777778,\"#fb9f3a\"],[0.8888888888888888,\"#fdca26\"],[1.0,\"#f0f921\"]]}],\"contourcarpet\":[{\"type\":\"contourcarpet\",\"colorbar\":{\"outlinewidth\":0,\"ticks\":\"\"}}],\"contour\":[{\"type\":\"contour\",\"colorbar\":{\"outlinewidth\":0,\"ticks\":\"\"},\"colorscale\":[[0.0,\"#0d0887\"],[0.1111111111111111,\"#46039f\"],[0.2222222222222222,\"#7201a8\"],[0.3333333333333333,\"#9c179e\"],[0.4444444444444444,\"#bd3786\"],[0.5555555555555556,\"#d8576b\"],[0.6666666666666666,\"#ed7953\"],[0.7777777777777778,\"#fb9f3a\"],[0.8888888888888888,\"#fdca26\"],[1.0,\"#f0f921\"]]}],\"surface\":[{\"type\":\"surface\",\"colorbar\":{\"outlinewidth\":0,\"ticks\":\"\"},\"colorscale\":[[0.0,\"#0d0887\"],[0.1111111111111111,\"#46039f\"],[0.2222222222222222,\"#7201a8\"],[0.3333333333333333,\"#9c179e\"],[0.4444444444444444,\"#bd3786\"],[0.5555555555555556,\"#d8576b\"],[0.6666666666666666,\"#ed7953\"],[0.7777777777777778,\"#fb9f3a\"],[0.8888888888888888,\"#fdca26\"],[1.0,\"#f0f921\"]]}],\"mesh3d\":[{\"type\":\"mesh3d\",\"colorbar\":{\"outlinewidth\":0,\"ticks\":\"\"}}],\"scatter\":[{\"fillpattern\":{\"fillmode\":\"overlay\",\"size\":10,\"solidity\":0.2},\"type\":\"scatter\"}],\"parcoords\":[{\"type\":\"parcoords\",\"line\":{\"colorbar\":{\"outlinewidth\":0,\"ticks\":\"\"}}}],\"scatterpolargl\":[{\"type\":\"scatterpolargl\",\"marker\":{\"colorbar\":{\"outlinewidth\":0,\"ticks\":\"\"}}}],\"bar\":[{\"error_x\":{\"color\":\"#2a3f5f\"},\"error_y\":{\"color\":\"#2a3f5f\"},\"marker\":{\"line\":{\"color\":\"#E5ECF6\",\"width\":0.5},\"pattern\":{\"fillmode\":\"overlay\",\"size\":10,\"solidity\":0.2}},\"type\":\"bar\"}],\"scattergeo\":[{\"type\":\"scattergeo\",\"marker\":{\"colorbar\":{\"outlinewidth\":0,\"ticks\":\"\"}}}],\"scatterpolar\":[{\"type\":\"scatterpolar\",\"marker\":{\"colorbar\":{\"outlinewidth\":0,\"ticks\":\"\"}}}],\"histogram\":[{\"marker\":{\"pattern\":{\"fillmode\":\"overlay\",\"size\":10,\"solidity\":0.2}},\"type\":\"histogram\"}],\"scattergl\":[{\"type\":\"scattergl\",\"marker\":{\"colorbar\":{\"outlinewidth\":0,\"ticks\":\"\"}}}],\"scatter3d\":[{\"type\":\"scatter3d\",\"line\":{\"colorbar\":{\"outlinewidth\":0,\"ticks\":\"\"}},\"marker\":{\"colorbar\":{\"outlinewidth\":0,\"ticks\":\"\"}}}],\"scattermapbox\":[{\"type\":\"scattermapbox\",\"marker\":{\"colorbar\":{\"outlinewidth\":0,\"ticks\":\"\"}}}],\"scatterternary\":[{\"type\":\"scatterternary\",\"marker\":{\"colorbar\":{\"outlinewidth\":0,\"ticks\":\"\"}}}],\"scattercarpet\":[{\"type\":\"scattercarpet\",\"marker\":{\"colorbar\":{\"outlinewidth\":0,\"ticks\":\"\"}}}],\"carpet\":[{\"aaxis\":{\"endlinecolor\":\"#2a3f5f\",\"gridcolor\":\"white\",\"linecolor\":\"white\",\"minorgridcolor\":\"white\",\"startlinecolor\":\"#2a3f5f\"},\"baxis\":{\"endlinecolor\":\"#2a3f5f\",\"gridcolor\":\"white\",\"linecolor\":\"white\",\"minorgridcolor\":\"white\",\"startlinecolor\":\"#2a3f5f\"},\"type\":\"carpet\"}],\"table\":[{\"cells\":{\"fill\":{\"color\":\"#EBF0F8\"},\"line\":{\"color\":\"white\"}},\"header\":{\"fill\":{\"color\":\"#C8D4E3\"},\"line\":{\"color\":\"white\"}},\"type\":\"table\"}],\"barpolar\":[{\"marker\":{\"line\":{\"color\":\"#E5ECF6\",\"width\":0.5},\"pattern\":{\"fillmode\":\"overlay\",\"size\":10,\"solidity\":0.2}},\"type\":\"barpolar\"}],\"pie\":[{\"automargin\":true,\"type\":\"pie\"}]},\"layout\":{\"autotypenumbers\":\"strict\",\"colorway\":[\"#636efa\",\"#EF553B\",\"#00cc96\",\"#ab63fa\",\"#FFA15A\",\"#19d3f3\",\"#FF6692\",\"#B6E880\",\"#FF97FF\",\"#FECB52\"],\"font\":{\"color\":\"#2a3f5f\"},\"hovermode\":\"closest\",\"hoverlabel\":{\"align\":\"left\"},\"paper_bgcolor\":\"white\",\"plot_bgcolor\":\"#E5ECF6\",\"polar\":{\"bgcolor\":\"#E5ECF6\",\"angularaxis\":{\"gridcolor\":\"white\",\"linecolor\":\"white\",\"ticks\":\"\"},\"radialaxis\":{\"gridcolor\":\"white\",\"linecolor\":\"white\",\"ticks\":\"\"}},\"ternary\":{\"bgcolor\":\"#E5ECF6\",\"aaxis\":{\"gridcolor\":\"white\",\"linecolor\":\"white\",\"ticks\":\"\"},\"baxis\":{\"gridcolor\":\"white\",\"linecolor\":\"white\",\"ticks\":\"\"},\"caxis\":{\"gridcolor\":\"white\",\"linecolor\":\"white\",\"ticks\":\"\"}},\"coloraxis\":{\"colorbar\":{\"outlinewidth\":0,\"ticks\":\"\"}},\"colorscale\":{\"sequential\":[[0.0,\"#0d0887\"],[0.1111111111111111,\"#46039f\"],[0.2222222222222222,\"#7201a8\"],[0.3333333333333333,\"#9c179e\"],[0.4444444444444444,\"#bd3786\"],[0.5555555555555556,\"#d8576b\"],[0.6666666666666666,\"#ed7953\"],[0.7777777777777778,\"#fb9f3a\"],[0.8888888888888888,\"#fdca26\"],[1.0,\"#f0f921\"]],\"sequentialminus\":[[0.0,\"#0d0887\"],[0.1111111111111111,\"#46039f\"],[0.2222222222222222,\"#7201a8\"],[0.3333333333333333,\"#9c179e\"],[0.4444444444444444,\"#bd3786\"],[0.5555555555555556,\"#d8576b\"],[0.6666666666666666,\"#ed7953\"],[0.7777777777777778,\"#fb9f3a\"],[0.8888888888888888,\"#fdca26\"],[1.0,\"#f0f921\"]],\"diverging\":[[0,\"#8e0152\"],[0.1,\"#c51b7d\"],[0.2,\"#de77ae\"],[0.3,\"#f1b6da\"],[0.4,\"#fde0ef\"],[0.5,\"#f7f7f7\"],[0.6,\"#e6f5d0\"],[0.7,\"#b8e186\"],[0.8,\"#7fbc41\"],[0.9,\"#4d9221\"],[1,\"#276419\"]]},\"xaxis\":{\"gridcolor\":\"white\",\"linecolor\":\"white\",\"ticks\":\"\",\"title\":{\"standoff\":15},\"zerolinecolor\":\"white\",\"automargin\":true,\"zerolinewidth\":2},\"yaxis\":{\"gridcolor\":\"white\",\"linecolor\":\"white\",\"ticks\":\"\",\"title\":{\"standoff\":15},\"zerolinecolor\":\"white\",\"automargin\":true,\"zerolinewidth\":2},\"scene\":{\"xaxis\":{\"backgroundcolor\":\"#E5ECF6\",\"gridcolor\":\"white\",\"linecolor\":\"white\",\"showbackground\":true,\"ticks\":\"\",\"zerolinecolor\":\"white\",\"gridwidth\":2},\"yaxis\":{\"backgroundcolor\":\"#E5ECF6\",\"gridcolor\":\"white\",\"linecolor\":\"white\",\"showbackground\":true,\"ticks\":\"\",\"zerolinecolor\":\"white\",\"gridwidth\":2},\"zaxis\":{\"backgroundcolor\":\"#E5ECF6\",\"gridcolor\":\"white\",\"linecolor\":\"white\",\"showbackground\":true,\"ticks\":\"\",\"zerolinecolor\":\"white\",\"gridwidth\":2}},\"shapedefaults\":{\"line\":{\"color\":\"#2a3f5f\"}},\"annotationdefaults\":{\"arrowcolor\":\"#2a3f5f\",\"arrowhead\":0,\"arrowwidth\":1},\"geo\":{\"bgcolor\":\"white\",\"landcolor\":\"#E5ECF6\",\"subunitcolor\":\"white\",\"showland\":true,\"showlakes\":true,\"lakecolor\":\"white\"},\"title\":{\"x\":0.05},\"mapbox\":{\"style\":\"light\"}}},\"xaxis\":{\"anchor\":\"y\",\"domain\":[0.0,1.0],\"title\":{\"text\":\"Unique users: (0 - pre-floods and 1 - post-floods)\"}},\"yaxis\":{\"anchor\":\"x\",\"domain\":[0.0,1.0],\"title\":{\"text\":\"Count\"}},\"legend\":{\"title\":{\"text\":\"variable\"},\"tracegroupgap\":0},\"margin\":{\"t\":60},\"barmode\":\"relative\"},                        {\"responsive\": true}                    ).then(function(){\n",
       "                            \n",
       "var gd = document.getElementById('d200eab6-ed7a-4ce8-9123-cbd41ce6d023');\n",
       "var x = new MutationObserver(function (mutations, observer) {{\n",
       "        var display = window.getComputedStyle(gd).display;\n",
       "        if (!display || display === 'none') {{\n",
       "            console.log([gd, 'removed!']);\n",
       "            Plotly.purge(gd);\n",
       "            observer.disconnect();\n",
       "        }}\n",
       "}});\n",
       "\n",
       "// Listen for the removal of the full notebook cells\n",
       "var notebookContainer = gd.closest('#notebook-container');\n",
       "if (notebookContainer) {{\n",
       "    x.observe(notebookContainer, {childList: true});\n",
       "}}\n",
       "\n",
       "// Listen for the clearing of the current output cell\n",
       "var outputEl = gd.closest('.output');\n",
       "if (outputEl) {{\n",
       "    x.observe(outputEl, {childList: true});\n",
       "}}\n",
       "\n",
       "                        })                };                });            </script>        </div>"
      ]
     },
     "metadata": {},
     "output_type": "display_data"
    }
   ],
   "source": [
    "import plotly.express as px\n",
    "#Plotting the frequency of tweets for the whole month of july.\n",
    "fig = px.bar(df1, labels=dict(value='Count'))\n",
    "\n",
    "fig.show()"
   ]
  },
  {
   "cell_type": "code",
   "execution_count": 23,
   "id": "0995deaa",
   "metadata": {
    "execution": {
     "iopub.execute_input": "2022-09-30T08:05:47.845081Z",
     "iopub.status.busy": "2022-09-30T08:05:47.844583Z",
     "iopub.status.idle": "2022-09-30T08:05:47.856487Z",
     "shell.execute_reply": "2022-09-30T08:05:47.854894Z"
    },
    "papermill": {
     "duration": 0.026181,
     "end_time": "2022-09-30T08:05:47.859145",
     "exception": false,
     "start_time": "2022-09-30T08:05:47.832964",
     "status": "completed"
    },
    "tags": []
   },
   "outputs": [
    {
     "data": {
      "text/html": [
       "<div>\n",
       "<style scoped>\n",
       "    .dataframe tbody tr th:only-of-type {\n",
       "        vertical-align: middle;\n",
       "    }\n",
       "\n",
       "    .dataframe tbody tr th {\n",
       "        vertical-align: top;\n",
       "    }\n",
       "\n",
       "    .dataframe thead th {\n",
       "        text-align: right;\n",
       "    }\n",
       "</style>\n",
       "<table border=\"1\" class=\"dataframe\">\n",
       "  <thead>\n",
       "    <tr style=\"text-align: right;\">\n",
       "      <th></th>\n",
       "      <th>Count</th>\n",
       "    </tr>\n",
       "    <tr>\n",
       "      <th>Unique users: (0 - pre-floods and 1 - post-floods)</th>\n",
       "      <th></th>\n",
       "    </tr>\n",
       "  </thead>\n",
       "  <tbody>\n",
       "    <tr>\n",
       "      <th>0</th>\n",
       "      <td>4904</td>\n",
       "    </tr>\n",
       "    <tr>\n",
       "      <th>1</th>\n",
       "      <td>16509</td>\n",
       "    </tr>\n",
       "  </tbody>\n",
       "</table>\n",
       "</div>"
      ],
      "text/plain": [
       "                                                    Count\n",
       "Unique users: (0 - pre-floods and 1 - post-floods)       \n",
       "0                                                    4904\n",
       "1                                                   16509"
      ]
     },
     "execution_count": 23,
     "metadata": {},
     "output_type": "execute_result"
    }
   ],
   "source": [
    "df1"
   ]
  },
  {
   "cell_type": "code",
   "execution_count": 24,
   "id": "3c6b5ded",
   "metadata": {
    "execution": {
     "iopub.execute_input": "2022-09-30T08:05:47.883988Z",
     "iopub.status.busy": "2022-09-30T08:05:47.883500Z",
     "iopub.status.idle": "2022-09-30T08:05:47.892423Z",
     "shell.execute_reply": "2022-09-30T08:05:47.891031Z"
    },
    "papermill": {
     "duration": 0.024893,
     "end_time": "2022-09-30T08:05:47.895563",
     "exception": false,
     "start_time": "2022-09-30T08:05:47.870670",
     "status": "completed"
    },
    "tags": []
   },
   "outputs": [],
   "source": [
    "less_intense = pre_post[pre_post['Rating_post']<pre_post['Rating_pre']]"
   ]
  },
  {
   "cell_type": "code",
   "execution_count": 25,
   "id": "5596f363",
   "metadata": {
    "execution": {
     "iopub.execute_input": "2022-09-30T08:05:47.918610Z",
     "iopub.status.busy": "2022-09-30T08:05:47.917128Z",
     "iopub.status.idle": "2022-09-30T08:05:47.927869Z",
     "shell.execute_reply": "2022-09-30T08:05:47.926264Z"
    },
    "papermill": {
     "duration": 0.02507,
     "end_time": "2022-09-30T08:05:47.930957",
     "exception": false,
     "start_time": "2022-09-30T08:05:47.905887",
     "status": "completed"
    },
    "tags": []
   },
   "outputs": [
    {
     "data": {
      "text/plain": [
       "220"
      ]
     },
     "execution_count": 25,
     "metadata": {},
     "output_type": "execute_result"
    }
   ],
   "source": [
    "less_intense['User'].nunique()"
   ]
  },
  {
   "cell_type": "code",
   "execution_count": 26,
   "id": "8a8dc1e3",
   "metadata": {
    "execution": {
     "iopub.execute_input": "2022-09-30T08:05:47.954728Z",
     "iopub.status.busy": "2022-09-30T08:05:47.954251Z",
     "iopub.status.idle": "2022-09-30T08:05:47.964105Z",
     "shell.execute_reply": "2022-09-30T08:05:47.962644Z"
    },
    "papermill": {
     "duration": 0.026328,
     "end_time": "2022-09-30T08:05:47.967240",
     "exception": false,
     "start_time": "2022-09-30T08:05:47.940912",
     "status": "completed"
    },
    "tags": []
   },
   "outputs": [],
   "source": [
    "same_intense = pre_post[pre_post['Rating_post']==pre_post['Rating_pre']]"
   ]
  },
  {
   "cell_type": "code",
   "execution_count": 27,
   "id": "50903cf5",
   "metadata": {
    "execution": {
     "iopub.execute_input": "2022-09-30T08:05:47.990502Z",
     "iopub.status.busy": "2022-09-30T08:05:47.989982Z",
     "iopub.status.idle": "2022-09-30T08:05:48.002472Z",
     "shell.execute_reply": "2022-09-30T08:05:48.001454Z"
    },
    "papermill": {
     "duration": 0.027315,
     "end_time": "2022-09-30T08:05:48.004917",
     "exception": false,
     "start_time": "2022-09-30T08:05:47.977602",
     "status": "completed"
    },
    "tags": []
   },
   "outputs": [
    {
     "data": {
      "text/plain": [
       "1992"
      ]
     },
     "execution_count": 27,
     "metadata": {},
     "output_type": "execute_result"
    }
   ],
   "source": [
    "same_intense['User'].nunique()"
   ]
  },
  {
   "cell_type": "code",
   "execution_count": null,
   "id": "765e284e",
   "metadata": {
    "papermill": {
     "duration": 0.010673,
     "end_time": "2022-09-30T08:05:48.026107",
     "exception": false,
     "start_time": "2022-09-30T08:05:48.015434",
     "status": "completed"
    },
    "tags": []
   },
   "outputs": [],
   "source": []
  }
 ],
 "metadata": {
  "kernelspec": {
   "display_name": "Python 3",
   "language": "python",
   "name": "python3"
  },
  "language_info": {
   "codemirror_mode": {
    "name": "ipython",
    "version": 3
   },
   "file_extension": ".py",
   "mimetype": "text/x-python",
   "name": "python",
   "nbconvert_exporter": "python",
   "pygments_lexer": "ipython3",
   "version": "3.7.12"
  },
  "papermill": {
   "default_parameters": {},
   "duration": 18.284583,
   "end_time": "2022-09-30T08:05:49.265879",
   "environment_variables": {},
   "exception": null,
   "input_path": "__notebook__.ipynb",
   "output_path": "__notebook__.ipynb",
   "parameters": {},
   "start_time": "2022-09-30T08:05:30.981296",
   "version": "2.3.4"
  }
 },
 "nbformat": 4,
 "nbformat_minor": 5
}
