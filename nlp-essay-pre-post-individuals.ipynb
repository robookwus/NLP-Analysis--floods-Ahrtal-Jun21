{
 "cells": [
  {
   "cell_type": "code",
   "execution_count": 1,
   "id": "17982d98",
   "metadata": {
    "execution": {
     "iopub.execute_input": "2022-09-24T17:45:44.081172Z",
     "iopub.status.busy": "2022-09-24T17:45:44.080772Z",
     "iopub.status.idle": "2022-09-24T17:45:45.063103Z",
     "shell.execute_reply": "2022-09-24T17:45:45.061792Z"
    },
    "papermill": {
     "duration": 0.99328,
     "end_time": "2022-09-24T17:45:45.066077",
     "exception": false,
     "start_time": "2022-09-24T17:45:44.072797",
     "status": "completed"
    },
    "tags": []
   },
   "outputs": [],
   "source": [
    "import pandas as pd\n",
    "post = pd.read_csv('../input/postlabelled-germanfloods/full_postLabelled.csv',lineterminator='\\n')\n",
    "pre = pd.read_csv('../input/prelabelled-germanfloods/full_preLabelled.csv',lineterminator='\\n')"
   ]
  },
  {
   "cell_type": "code",
   "execution_count": 2,
   "id": "28dffd7a",
   "metadata": {
    "execution": {
     "iopub.execute_input": "2022-09-24T17:45:45.079375Z",
     "iopub.status.busy": "2022-09-24T17:45:45.078994Z",
     "iopub.status.idle": "2022-09-24T17:45:45.107633Z",
     "shell.execute_reply": "2022-09-24T17:45:45.106405Z"
    },
    "papermill": {
     "duration": 0.038191,
     "end_time": "2022-09-24T17:45:45.110137",
     "exception": false,
     "start_time": "2022-09-24T17:45:45.071946",
     "status": "completed"
    },
    "tags": []
   },
   "outputs": [
    {
     "data": {
      "text/html": [
       "<div>\n",
       "<style scoped>\n",
       "    .dataframe tbody tr th:only-of-type {\n",
       "        vertical-align: middle;\n",
       "    }\n",
       "\n",
       "    .dataframe tbody tr th {\n",
       "        vertical-align: top;\n",
       "    }\n",
       "\n",
       "    .dataframe thead th {\n",
       "        text-align: right;\n",
       "    }\n",
       "</style>\n",
       "<table border=\"1\" class=\"dataframe\">\n",
       "  <thead>\n",
       "    <tr style=\"text-align: right;\">\n",
       "      <th></th>\n",
       "      <th>Unnamed: 0</th>\n",
       "      <th>date</th>\n",
       "      <th>User</th>\n",
       "      <th>Tweet</th>\n",
       "      <th>Rating (0/1/2)</th>\n",
       "    </tr>\n",
       "  </thead>\n",
       "  <tbody>\n",
       "    <tr>\n",
       "      <th>0</th>\n",
       "      <td>0</td>\n",
       "      <td>2021-07-29</td>\n",
       "      <td>Porticus2</td>\n",
       "      <td>Bevor Herr @MarkusSöder solches Klima-Trallala...</td>\n",
       "      <td>1.0</td>\n",
       "    </tr>\n",
       "    <tr>\n",
       "      <th>1</th>\n",
       "      <td>1</td>\n",
       "      <td>2021-07-29</td>\n",
       "      <td>watch_union</td>\n",
       "      <td>Der Vorstandsvorsitzende von #VW zerstört bei ...</td>\n",
       "      <td>1.0</td>\n",
       "    </tr>\n",
       "    <tr>\n",
       "      <th>2</th>\n",
       "      <td>2</td>\n",
       "      <td>2021-07-29</td>\n",
       "      <td>NiklasCcr</td>\n",
       "      <td>@raichubvb Klimawandel. Die Menschen müssen en...</td>\n",
       "      <td>1.0</td>\n",
       "    </tr>\n",
       "    <tr>\n",
       "      <th>3</th>\n",
       "      <td>3</td>\n",
       "      <td>2021-07-29</td>\n",
       "      <td>SvenPhenix</td>\n",
       "      <td>Jetzt in einer Zeit voller Krisen: #COVID19, #...</td>\n",
       "      <td>1.0</td>\n",
       "    </tr>\n",
       "    <tr>\n",
       "      <th>4</th>\n",
       "      <td>4</td>\n",
       "      <td>2021-07-29</td>\n",
       "      <td>brokenspirits</td>\n",
       "      <td>Und nochmal etwas weitergedacht: Während hier ...</td>\n",
       "      <td>1.0</td>\n",
       "    </tr>\n",
       "    <tr>\n",
       "      <th>...</th>\n",
       "      <td>...</td>\n",
       "      <td>...</td>\n",
       "      <td>...</td>\n",
       "      <td>...</td>\n",
       "      <td>...</td>\n",
       "    </tr>\n",
       "    <tr>\n",
       "      <th>80949</th>\n",
       "      <td>80949</td>\n",
       "      <td>2021-07-14</td>\n",
       "      <td>EinFragender</td>\n",
       "      <td>@Karl_Lauterbach So weit ich weiß, war es 1913...</td>\n",
       "      <td>1.0</td>\n",
       "    </tr>\n",
       "    <tr>\n",
       "      <th>80950</th>\n",
       "      <td>80950</td>\n",
       "      <td>2021-07-14</td>\n",
       "      <td>MoSchaefer66</td>\n",
       "      <td>@P4F_Leipzig Jetzt sollte so manchem langsam k...</td>\n",
       "      <td>1.0</td>\n",
       "    </tr>\n",
       "    <tr>\n",
       "      <th>80951</th>\n",
       "      <td>80951</td>\n",
       "      <td>2021-07-14</td>\n",
       "      <td>f_talmon</td>\n",
       "      <td>Wenn der Meeresspiegel weiter steigt, wird das...</td>\n",
       "      <td>1.0</td>\n",
       "    </tr>\n",
       "    <tr>\n",
       "      <th>80952</th>\n",
       "      <td>80952</td>\n",
       "      <td>2021-07-14</td>\n",
       "      <td>Elke__Kuhn</td>\n",
       "      <td>@ayranundspeck @CCitiesOrg @dvd_hrtmnn @Monika...</td>\n",
       "      <td>1.0</td>\n",
       "    </tr>\n",
       "    <tr>\n",
       "      <th>80953</th>\n",
       "      <td>80953</td>\n",
       "      <td>2021-07-14</td>\n",
       "      <td>fahrIehrer</td>\n",
       "      <td>@Vampirkamel @AndreasBlnMi @zeitonline Alles i...</td>\n",
       "      <td>1.0</td>\n",
       "    </tr>\n",
       "  </tbody>\n",
       "</table>\n",
       "<p>80954 rows × 5 columns</p>\n",
       "</div>"
      ],
      "text/plain": [
       "       Unnamed: 0        date           User  \\\n",
       "0               0  2021-07-29      Porticus2   \n",
       "1               1  2021-07-29    watch_union   \n",
       "2               2  2021-07-29      NiklasCcr   \n",
       "3               3  2021-07-29     SvenPhenix   \n",
       "4               4  2021-07-29  brokenspirits   \n",
       "...           ...         ...            ...   \n",
       "80949       80949  2021-07-14   EinFragender   \n",
       "80950       80950  2021-07-14   MoSchaefer66   \n",
       "80951       80951  2021-07-14       f_talmon   \n",
       "80952       80952  2021-07-14     Elke__Kuhn   \n",
       "80953       80953  2021-07-14     fahrIehrer   \n",
       "\n",
       "                                                   Tweet  Rating (0/1/2)   \n",
       "0      Bevor Herr @MarkusSöder solches Klima-Trallala...              1.0  \n",
       "1      Der Vorstandsvorsitzende von #VW zerstört bei ...              1.0  \n",
       "2      @raichubvb Klimawandel. Die Menschen müssen en...              1.0  \n",
       "3      Jetzt in einer Zeit voller Krisen: #COVID19, #...              1.0  \n",
       "4      Und nochmal etwas weitergedacht: Während hier ...              1.0  \n",
       "...                                                  ...              ...  \n",
       "80949  @Karl_Lauterbach So weit ich weiß, war es 1913...              1.0  \n",
       "80950  @P4F_Leipzig Jetzt sollte so manchem langsam k...              1.0  \n",
       "80951  Wenn der Meeresspiegel weiter steigt, wird das...              1.0  \n",
       "80952  @ayranundspeck @CCitiesOrg @dvd_hrtmnn @Monika...              1.0  \n",
       "80953  @Vampirkamel @AndreasBlnMi @zeitonline Alles i...              1.0  \n",
       "\n",
       "[80954 rows x 5 columns]"
      ]
     },
     "execution_count": 2,
     "metadata": {},
     "output_type": "execute_result"
    }
   ],
   "source": [
    "post"
   ]
  },
  {
   "cell_type": "code",
   "execution_count": 3,
   "id": "c6b50719",
   "metadata": {
    "execution": {
     "iopub.execute_input": "2022-09-24T17:45:45.124003Z",
     "iopub.status.busy": "2022-09-24T17:45:45.123490Z",
     "iopub.status.idle": "2022-09-24T17:45:45.138532Z",
     "shell.execute_reply": "2022-09-24T17:45:45.136876Z"
    },
    "papermill": {
     "duration": 0.024914,
     "end_time": "2022-09-24T17:45:45.141052",
     "exception": false,
     "start_time": "2022-09-24T17:45:45.116138",
     "status": "completed"
    },
    "tags": []
   },
   "outputs": [],
   "source": [
    "pre_most = pre['2021-07-10'<pre['date']]"
   ]
  },
  {
   "cell_type": "code",
   "execution_count": 4,
   "id": "bbd21588",
   "metadata": {
    "execution": {
     "iopub.execute_input": "2022-09-24T17:45:45.154156Z",
     "iopub.status.busy": "2022-09-24T17:45:45.153839Z",
     "iopub.status.idle": "2022-09-24T17:45:45.168255Z",
     "shell.execute_reply": "2022-09-24T17:45:45.166697Z"
    },
    "papermill": {
     "duration": 0.024148,
     "end_time": "2022-09-24T17:45:45.171108",
     "exception": false,
     "start_time": "2022-09-24T17:45:45.146960",
     "status": "completed"
    },
    "tags": []
   },
   "outputs": [],
   "source": [
    "post_most = post['2021-07-17'>post['date']]"
   ]
  },
  {
   "cell_type": "code",
   "execution_count": 5,
   "id": "8196abe6",
   "metadata": {
    "execution": {
     "iopub.execute_input": "2022-09-24T17:45:45.184603Z",
     "iopub.status.busy": "2022-09-24T17:45:45.184253Z",
     "iopub.status.idle": "2022-09-24T17:45:45.200148Z",
     "shell.execute_reply": "2022-09-24T17:45:45.198797Z"
    },
    "papermill": {
     "duration": 0.025641,
     "end_time": "2022-09-24T17:45:45.202760",
     "exception": false,
     "start_time": "2022-09-24T17:45:45.177119",
     "status": "completed"
    },
    "tags": []
   },
   "outputs": [
    {
     "data": {
      "text/plain": [
       "1.0    6821\n",
       "2.0     334\n",
       "0.0      96\n",
       "Name: Rating (0/1/2) , dtype: int64"
      ]
     },
     "execution_count": 5,
     "metadata": {},
     "output_type": "execute_result"
    }
   ],
   "source": [
    "pd.value_counts(pre_most['Rating (0/1/2) '])"
   ]
  },
  {
   "cell_type": "code",
   "execution_count": 6,
   "id": "105691d0",
   "metadata": {
    "execution": {
     "iopub.execute_input": "2022-09-24T17:45:45.216438Z",
     "iopub.status.busy": "2022-09-24T17:45:45.216078Z",
     "iopub.status.idle": "2022-09-24T17:45:45.225762Z",
     "shell.execute_reply": "2022-09-24T17:45:45.224521Z"
    },
    "papermill": {
     "duration": 0.018553,
     "end_time": "2022-09-24T17:45:45.227516",
     "exception": false,
     "start_time": "2022-09-24T17:45:45.208963",
     "status": "completed"
    },
    "tags": []
   },
   "outputs": [
    {
     "data": {
      "text/plain": [
       "1.0    27888\n",
       "2.0     1639\n",
       "0.0      336\n",
       "Name: Rating (0/1/2) , dtype: int64"
      ]
     },
     "execution_count": 6,
     "metadata": {},
     "output_type": "execute_result"
    }
   ],
   "source": [
    "pd.value_counts(post_most['Rating (0/1/2) '])"
   ]
  },
  {
   "cell_type": "code",
   "execution_count": 7,
   "id": "b18bfe4b",
   "metadata": {
    "execution": {
     "iopub.execute_input": "2022-09-24T17:45:45.240700Z",
     "iopub.status.busy": "2022-09-24T17:45:45.240359Z",
     "iopub.status.idle": "2022-09-24T17:45:45.247172Z",
     "shell.execute_reply": "2022-09-24T17:45:45.245222Z"
    },
    "papermill": {
     "duration": 0.017201,
     "end_time": "2022-09-24T17:45:45.250381",
     "exception": false,
     "start_time": "2022-09-24T17:45:45.233180",
     "status": "completed"
    },
    "tags": []
   },
   "outputs": [
    {
     "data": {
      "text/plain": [
       "0.04606261205350986"
      ]
     },
     "execution_count": 7,
     "metadata": {},
     "output_type": "execute_result"
    }
   ],
   "source": [
    "334/(334+6821+96)"
   ]
  },
  {
   "cell_type": "code",
   "execution_count": 8,
   "id": "aac3dd9b",
   "metadata": {
    "execution": {
     "iopub.execute_input": "2022-09-24T17:45:45.264665Z",
     "iopub.status.busy": "2022-09-24T17:45:45.264291Z",
     "iopub.status.idle": "2022-09-24T17:45:45.270399Z",
     "shell.execute_reply": "2022-09-24T17:45:45.269224Z"
    },
    "papermill": {
     "duration": 0.016276,
     "end_time": "2022-09-24T17:45:45.273023",
     "exception": false,
     "start_time": "2022-09-24T17:45:45.256747",
     "status": "completed"
    },
    "tags": []
   },
   "outputs": [
    {
     "data": {
      "text/plain": [
       "0.05506585612968592"
      ]
     },
     "execution_count": 8,
     "metadata": {},
     "output_type": "execute_result"
    }
   ],
   "source": [
    "1087/(18424+1087+229)"
   ]
  },
  {
   "cell_type": "code",
   "execution_count": 9,
   "id": "0c63de1a",
   "metadata": {
    "execution": {
     "iopub.execute_input": "2022-09-24T17:45:45.287927Z",
     "iopub.status.busy": "2022-09-24T17:45:45.287595Z",
     "iopub.status.idle": "2022-09-24T17:45:45.293296Z",
     "shell.execute_reply": "2022-09-24T17:45:45.292261Z"
    },
    "papermill": {
     "duration": 0.015402,
     "end_time": "2022-09-24T17:45:45.295030",
     "exception": false,
     "start_time": "2022-09-24T17:45:45.279628",
     "status": "completed"
    },
    "tags": []
   },
   "outputs": [],
   "source": [
    "pre_most = pre_most[['User','Rating (0/1/2) ']]"
   ]
  },
  {
   "cell_type": "code",
   "execution_count": 10,
   "id": "35657714",
   "metadata": {
    "execution": {
     "iopub.execute_input": "2022-09-24T17:45:45.309504Z",
     "iopub.status.busy": "2022-09-24T17:45:45.309121Z",
     "iopub.status.idle": "2022-09-24T17:45:45.317220Z",
     "shell.execute_reply": "2022-09-24T17:45:45.315535Z"
    },
    "papermill": {
     "duration": 0.018305,
     "end_time": "2022-09-24T17:45:45.319823",
     "exception": false,
     "start_time": "2022-09-24T17:45:45.301518",
     "status": "completed"
    },
    "tags": []
   },
   "outputs": [],
   "source": [
    "post_most = post_most[['User','Rating (0/1/2) ']]"
   ]
  },
  {
   "cell_type": "code",
   "execution_count": 11,
   "id": "e69fe1b2",
   "metadata": {
    "execution": {
     "iopub.execute_input": "2022-09-24T17:45:45.334674Z",
     "iopub.status.busy": "2022-09-24T17:45:45.334315Z",
     "iopub.status.idle": "2022-09-24T17:45:45.341860Z",
     "shell.execute_reply": "2022-09-24T17:45:45.340835Z"
    },
    "papermill": {
     "duration": 0.017604,
     "end_time": "2022-09-24T17:45:45.344383",
     "exception": false,
     "start_time": "2022-09-24T17:45:45.326779",
     "status": "completed"
    },
    "tags": []
   },
   "outputs": [],
   "source": [
    "pre_most.rename(columns = {'Rating (0/1/2) ':'Rating_pre'}, inplace = True)\n",
    "post_most.rename(columns = {'Rating (0/1/2) ':'Rating_post'}, inplace = True)"
   ]
  },
  {
   "cell_type": "code",
   "execution_count": 12,
   "id": "5d5f69b5",
   "metadata": {
    "execution": {
     "iopub.execute_input": "2022-09-24T17:45:45.359695Z",
     "iopub.status.busy": "2022-09-24T17:45:45.359261Z",
     "iopub.status.idle": "2022-09-24T17:45:45.372820Z",
     "shell.execute_reply": "2022-09-24T17:45:45.371199Z"
    },
    "papermill": {
     "duration": 0.023987,
     "end_time": "2022-09-24T17:45:45.374672",
     "exception": false,
     "start_time": "2022-09-24T17:45:45.350685",
     "status": "completed"
    },
    "tags": []
   },
   "outputs": [
    {
     "data": {
      "text/html": [
       "<div>\n",
       "<style scoped>\n",
       "    .dataframe tbody tr th:only-of-type {\n",
       "        vertical-align: middle;\n",
       "    }\n",
       "\n",
       "    .dataframe tbody tr th {\n",
       "        vertical-align: top;\n",
       "    }\n",
       "\n",
       "    .dataframe thead th {\n",
       "        text-align: right;\n",
       "    }\n",
       "</style>\n",
       "<table border=\"1\" class=\"dataframe\">\n",
       "  <thead>\n",
       "    <tr style=\"text-align: right;\">\n",
       "      <th></th>\n",
       "      <th>User</th>\n",
       "      <th>Rating_pre</th>\n",
       "    </tr>\n",
       "  </thead>\n",
       "  <tbody>\n",
       "    <tr>\n",
       "      <th>0</th>\n",
       "      <td>Arminirma1Armin</td>\n",
       "      <td>1.0</td>\n",
       "    </tr>\n",
       "    <tr>\n",
       "      <th>1</th>\n",
       "      <td>nfdampf</td>\n",
       "      <td>1.0</td>\n",
       "    </tr>\n",
       "    <tr>\n",
       "      <th>2</th>\n",
       "      <td>MEPilarczyk</td>\n",
       "      <td>1.0</td>\n",
       "    </tr>\n",
       "    <tr>\n",
       "      <th>3</th>\n",
       "      <td>megatrendy</td>\n",
       "      <td>1.0</td>\n",
       "    </tr>\n",
       "    <tr>\n",
       "      <th>4</th>\n",
       "      <td>FFFLeipzig</td>\n",
       "      <td>1.0</td>\n",
       "    </tr>\n",
       "    <tr>\n",
       "      <th>...</th>\n",
       "      <td>...</td>\n",
       "      <td>...</td>\n",
       "    </tr>\n",
       "    <tr>\n",
       "      <th>7246</th>\n",
       "      <td>MonacoFerdl</td>\n",
       "      <td>1.0</td>\n",
       "    </tr>\n",
       "    <tr>\n",
       "      <th>7247</th>\n",
       "      <td>nfdampf</td>\n",
       "      <td>1.0</td>\n",
       "    </tr>\n",
       "    <tr>\n",
       "      <th>7248</th>\n",
       "      <td>MieuletCleo</td>\n",
       "      <td>1.0</td>\n",
       "    </tr>\n",
       "    <tr>\n",
       "      <th>7249</th>\n",
       "      <td>mikeltwi123</td>\n",
       "      <td>1.0</td>\n",
       "    </tr>\n",
       "    <tr>\n",
       "      <th>7250</th>\n",
       "      <td>superbello123</td>\n",
       "      <td>1.0</td>\n",
       "    </tr>\n",
       "  </tbody>\n",
       "</table>\n",
       "<p>7251 rows × 2 columns</p>\n",
       "</div>"
      ],
      "text/plain": [
       "                 User  Rating_pre\n",
       "0     Arminirma1Armin         1.0\n",
       "1             nfdampf         1.0\n",
       "2         MEPilarczyk         1.0\n",
       "3          megatrendy         1.0\n",
       "4          FFFLeipzig         1.0\n",
       "...               ...         ...\n",
       "7246      MonacoFerdl         1.0\n",
       "7247          nfdampf         1.0\n",
       "7248      MieuletCleo         1.0\n",
       "7249      mikeltwi123         1.0\n",
       "7250    superbello123         1.0\n",
       "\n",
       "[7251 rows x 2 columns]"
      ]
     },
     "execution_count": 12,
     "metadata": {},
     "output_type": "execute_result"
    }
   ],
   "source": [
    "pre_most"
   ]
  },
  {
   "cell_type": "code",
   "execution_count": 13,
   "id": "ec30edfa",
   "metadata": {
    "execution": {
     "iopub.execute_input": "2022-09-24T17:45:45.389165Z",
     "iopub.status.busy": "2022-09-24T17:45:45.388820Z",
     "iopub.status.idle": "2022-09-24T17:45:45.401821Z",
     "shell.execute_reply": "2022-09-24T17:45:45.400552Z"
    },
    "papermill": {
     "duration": 0.022907,
     "end_time": "2022-09-24T17:45:45.404010",
     "exception": false,
     "start_time": "2022-09-24T17:45:45.381103",
     "status": "completed"
    },
    "tags": []
   },
   "outputs": [
    {
     "data": {
      "text/html": [
       "<div>\n",
       "<style scoped>\n",
       "    .dataframe tbody tr th:only-of-type {\n",
       "        vertical-align: middle;\n",
       "    }\n",
       "\n",
       "    .dataframe tbody tr th {\n",
       "        vertical-align: top;\n",
       "    }\n",
       "\n",
       "    .dataframe thead th {\n",
       "        text-align: right;\n",
       "    }\n",
       "</style>\n",
       "<table border=\"1\" class=\"dataframe\">\n",
       "  <thead>\n",
       "    <tr style=\"text-align: right;\">\n",
       "      <th></th>\n",
       "      <th>User</th>\n",
       "      <th>Rating_post</th>\n",
       "    </tr>\n",
       "  </thead>\n",
       "  <tbody>\n",
       "    <tr>\n",
       "      <th>51091</th>\n",
       "      <td>F4y3M14</td>\n",
       "      <td>1.0</td>\n",
       "    </tr>\n",
       "    <tr>\n",
       "      <th>51092</th>\n",
       "      <td>Stoertebeker68</td>\n",
       "      <td>1.0</td>\n",
       "    </tr>\n",
       "    <tr>\n",
       "      <th>51093</th>\n",
       "      <td>dirk_ley</td>\n",
       "      <td>1.0</td>\n",
       "    </tr>\n",
       "    <tr>\n",
       "      <th>51094</th>\n",
       "      <td>grnFlip</td>\n",
       "      <td>1.0</td>\n",
       "    </tr>\n",
       "    <tr>\n",
       "      <th>51095</th>\n",
       "      <td>LaurinPol</td>\n",
       "      <td>1.0</td>\n",
       "    </tr>\n",
       "    <tr>\n",
       "      <th>...</th>\n",
       "      <td>...</td>\n",
       "      <td>...</td>\n",
       "    </tr>\n",
       "    <tr>\n",
       "      <th>80949</th>\n",
       "      <td>EinFragender</td>\n",
       "      <td>1.0</td>\n",
       "    </tr>\n",
       "    <tr>\n",
       "      <th>80950</th>\n",
       "      <td>MoSchaefer66</td>\n",
       "      <td>1.0</td>\n",
       "    </tr>\n",
       "    <tr>\n",
       "      <th>80951</th>\n",
       "      <td>f_talmon</td>\n",
       "      <td>1.0</td>\n",
       "    </tr>\n",
       "    <tr>\n",
       "      <th>80952</th>\n",
       "      <td>Elke__Kuhn</td>\n",
       "      <td>1.0</td>\n",
       "    </tr>\n",
       "    <tr>\n",
       "      <th>80953</th>\n",
       "      <td>fahrIehrer</td>\n",
       "      <td>1.0</td>\n",
       "    </tr>\n",
       "  </tbody>\n",
       "</table>\n",
       "<p>29863 rows × 2 columns</p>\n",
       "</div>"
      ],
      "text/plain": [
       "                 User  Rating_post\n",
       "51091         F4y3M14          1.0\n",
       "51092  Stoertebeker68          1.0\n",
       "51093        dirk_ley          1.0\n",
       "51094         grnFlip          1.0\n",
       "51095       LaurinPol          1.0\n",
       "...               ...          ...\n",
       "80949    EinFragender          1.0\n",
       "80950    MoSchaefer66          1.0\n",
       "80951        f_talmon          1.0\n",
       "80952      Elke__Kuhn          1.0\n",
       "80953      fahrIehrer          1.0\n",
       "\n",
       "[29863 rows x 2 columns]"
      ]
     },
     "execution_count": 13,
     "metadata": {},
     "output_type": "execute_result"
    }
   ],
   "source": [
    "post_most"
   ]
  },
  {
   "cell_type": "code",
   "execution_count": 14,
   "id": "5dafa8cb",
   "metadata": {
    "execution": {
     "iopub.execute_input": "2022-09-24T17:45:45.418937Z",
     "iopub.status.busy": "2022-09-24T17:45:45.418606Z",
     "iopub.status.idle": "2022-09-24T17:45:45.443698Z",
     "shell.execute_reply": "2022-09-24T17:45:45.442283Z"
    },
    "papermill": {
     "duration": 0.035576,
     "end_time": "2022-09-24T17:45:45.446095",
     "exception": false,
     "start_time": "2022-09-24T17:45:45.410519",
     "status": "completed"
    },
    "tags": []
   },
   "outputs": [],
   "source": [
    "pre_post = pd.merge(pre_most, post_most, on='User', how='inner')"
   ]
  },
  {
   "cell_type": "code",
   "execution_count": 15,
   "id": "067fca26",
   "metadata": {
    "execution": {
     "iopub.execute_input": "2022-09-24T17:45:45.463722Z",
     "iopub.status.busy": "2022-09-24T17:45:45.460987Z",
     "iopub.status.idle": "2022-09-24T17:45:45.477385Z",
     "shell.execute_reply": "2022-09-24T17:45:45.476452Z"
    },
    "papermill": {
     "duration": 0.026793,
     "end_time": "2022-09-24T17:45:45.479663",
     "exception": false,
     "start_time": "2022-09-24T17:45:45.452870",
     "status": "completed"
    },
    "tags": []
   },
   "outputs": [
    {
     "data": {
      "text/html": [
       "<div>\n",
       "<style scoped>\n",
       "    .dataframe tbody tr th:only-of-type {\n",
       "        vertical-align: middle;\n",
       "    }\n",
       "\n",
       "    .dataframe tbody tr th {\n",
       "        vertical-align: top;\n",
       "    }\n",
       "\n",
       "    .dataframe thead th {\n",
       "        text-align: right;\n",
       "    }\n",
       "</style>\n",
       "<table border=\"1\" class=\"dataframe\">\n",
       "  <thead>\n",
       "    <tr style=\"text-align: right;\">\n",
       "      <th></th>\n",
       "      <th>User</th>\n",
       "      <th>Rating_pre</th>\n",
       "      <th>Rating_post</th>\n",
       "    </tr>\n",
       "  </thead>\n",
       "  <tbody>\n",
       "    <tr>\n",
       "      <th>0</th>\n",
       "      <td>nfdampf</td>\n",
       "      <td>1.0</td>\n",
       "      <td>1.0</td>\n",
       "    </tr>\n",
       "    <tr>\n",
       "      <th>1</th>\n",
       "      <td>nfdampf</td>\n",
       "      <td>1.0</td>\n",
       "      <td>2.0</td>\n",
       "    </tr>\n",
       "    <tr>\n",
       "      <th>2</th>\n",
       "      <td>nfdampf</td>\n",
       "      <td>1.0</td>\n",
       "      <td>1.0</td>\n",
       "    </tr>\n",
       "    <tr>\n",
       "      <th>3</th>\n",
       "      <td>nfdampf</td>\n",
       "      <td>1.0</td>\n",
       "      <td>1.0</td>\n",
       "    </tr>\n",
       "    <tr>\n",
       "      <th>4</th>\n",
       "      <td>nfdampf</td>\n",
       "      <td>1.0</td>\n",
       "      <td>2.0</td>\n",
       "    </tr>\n",
       "    <tr>\n",
       "      <th>...</th>\n",
       "      <td>...</td>\n",
       "      <td>...</td>\n",
       "      <td>...</td>\n",
       "    </tr>\n",
       "    <tr>\n",
       "      <th>32142</th>\n",
       "      <td>Nationallibera3</td>\n",
       "      <td>1.0</td>\n",
       "      <td>1.0</td>\n",
       "    </tr>\n",
       "    <tr>\n",
       "      <th>32143</th>\n",
       "      <td>Nationallibera3</td>\n",
       "      <td>1.0</td>\n",
       "      <td>1.0</td>\n",
       "    </tr>\n",
       "    <tr>\n",
       "      <th>32144</th>\n",
       "      <td>Nationallibera3</td>\n",
       "      <td>1.0</td>\n",
       "      <td>1.0</td>\n",
       "    </tr>\n",
       "    <tr>\n",
       "      <th>32145</th>\n",
       "      <td>Nationallibera3</td>\n",
       "      <td>1.0</td>\n",
       "      <td>1.0</td>\n",
       "    </tr>\n",
       "    <tr>\n",
       "      <th>32146</th>\n",
       "      <td>Alex_M_A_Rimmer</td>\n",
       "      <td>1.0</td>\n",
       "      <td>1.0</td>\n",
       "    </tr>\n",
       "  </tbody>\n",
       "</table>\n",
       "<p>32147 rows × 3 columns</p>\n",
       "</div>"
      ],
      "text/plain": [
       "                  User  Rating_pre  Rating_post\n",
       "0              nfdampf         1.0          1.0\n",
       "1              nfdampf         1.0          2.0\n",
       "2              nfdampf         1.0          1.0\n",
       "3              nfdampf         1.0          1.0\n",
       "4              nfdampf         1.0          2.0\n",
       "...                ...         ...          ...\n",
       "32142  Nationallibera3         1.0          1.0\n",
       "32143  Nationallibera3         1.0          1.0\n",
       "32144  Nationallibera3         1.0          1.0\n",
       "32145  Nationallibera3         1.0          1.0\n",
       "32146  Alex_M_A_Rimmer         1.0          1.0\n",
       "\n",
       "[32147 rows x 3 columns]"
      ]
     },
     "execution_count": 15,
     "metadata": {},
     "output_type": "execute_result"
    }
   ],
   "source": [
    "pre_post"
   ]
  },
  {
   "cell_type": "code",
   "execution_count": 16,
   "id": "c0078869",
   "metadata": {
    "execution": {
     "iopub.execute_input": "2022-09-24T17:45:45.495923Z",
     "iopub.status.busy": "2022-09-24T17:45:45.495179Z",
     "iopub.status.idle": "2022-09-24T17:45:45.500915Z",
     "shell.execute_reply": "2022-09-24T17:45:45.499742Z"
    },
    "papermill": {
     "duration": 0.016344,
     "end_time": "2022-09-24T17:45:45.503129",
     "exception": false,
     "start_time": "2022-09-24T17:45:45.486785",
     "status": "completed"
    },
    "tags": []
   },
   "outputs": [],
   "source": [
    "more_intense = pre_post[pre_post['Rating_post']>pre_post['Rating_pre']]"
   ]
  },
  {
   "cell_type": "code",
   "execution_count": 17,
   "id": "6c57de27",
   "metadata": {
    "execution": {
     "iopub.execute_input": "2022-09-24T17:45:45.518203Z",
     "iopub.status.busy": "2022-09-24T17:45:45.517849Z",
     "iopub.status.idle": "2022-09-24T17:45:45.531879Z",
     "shell.execute_reply": "2022-09-24T17:45:45.530237Z"
    },
    "papermill": {
     "duration": 0.024029,
     "end_time": "2022-09-24T17:45:45.533994",
     "exception": false,
     "start_time": "2022-09-24T17:45:45.509965",
     "status": "completed"
    },
    "tags": []
   },
   "outputs": [
    {
     "data": {
      "text/html": [
       "<div>\n",
       "<style scoped>\n",
       "    .dataframe tbody tr th:only-of-type {\n",
       "        vertical-align: middle;\n",
       "    }\n",
       "\n",
       "    .dataframe tbody tr th {\n",
       "        vertical-align: top;\n",
       "    }\n",
       "\n",
       "    .dataframe thead th {\n",
       "        text-align: right;\n",
       "    }\n",
       "</style>\n",
       "<table border=\"1\" class=\"dataframe\">\n",
       "  <thead>\n",
       "    <tr style=\"text-align: right;\">\n",
       "      <th></th>\n",
       "      <th>User</th>\n",
       "      <th>Rating_pre</th>\n",
       "      <th>Rating_post</th>\n",
       "    </tr>\n",
       "  </thead>\n",
       "  <tbody>\n",
       "    <tr>\n",
       "      <th>1</th>\n",
       "      <td>nfdampf</td>\n",
       "      <td>1.0</td>\n",
       "      <td>2.0</td>\n",
       "    </tr>\n",
       "    <tr>\n",
       "      <th>4</th>\n",
       "      <td>nfdampf</td>\n",
       "      <td>1.0</td>\n",
       "      <td>2.0</td>\n",
       "    </tr>\n",
       "    <tr>\n",
       "      <th>7</th>\n",
       "      <td>nfdampf</td>\n",
       "      <td>1.0</td>\n",
       "      <td>2.0</td>\n",
       "    </tr>\n",
       "    <tr>\n",
       "      <th>10</th>\n",
       "      <td>nfdampf</td>\n",
       "      <td>1.0</td>\n",
       "      <td>2.0</td>\n",
       "    </tr>\n",
       "    <tr>\n",
       "      <th>13</th>\n",
       "      <td>nfdampf</td>\n",
       "      <td>1.0</td>\n",
       "      <td>2.0</td>\n",
       "    </tr>\n",
       "    <tr>\n",
       "      <th>...</th>\n",
       "      <td>...</td>\n",
       "      <td>...</td>\n",
       "      <td>...</td>\n",
       "    </tr>\n",
       "    <tr>\n",
       "      <th>32071</th>\n",
       "      <td>luftlesen</td>\n",
       "      <td>1.0</td>\n",
       "      <td>2.0</td>\n",
       "    </tr>\n",
       "    <tr>\n",
       "      <th>32073</th>\n",
       "      <td>luftlesen</td>\n",
       "      <td>1.0</td>\n",
       "      <td>2.0</td>\n",
       "    </tr>\n",
       "    <tr>\n",
       "      <th>32076</th>\n",
       "      <td>ntvde</td>\n",
       "      <td>1.0</td>\n",
       "      <td>2.0</td>\n",
       "    </tr>\n",
       "    <tr>\n",
       "      <th>32077</th>\n",
       "      <td>ntvde</td>\n",
       "      <td>1.0</td>\n",
       "      <td>2.0</td>\n",
       "    </tr>\n",
       "    <tr>\n",
       "      <th>32113</th>\n",
       "      <td>danielascholz7</td>\n",
       "      <td>1.0</td>\n",
       "      <td>2.0</td>\n",
       "    </tr>\n",
       "  </tbody>\n",
       "</table>\n",
       "<p>2118 rows × 3 columns</p>\n",
       "</div>"
      ],
      "text/plain": [
       "                 User  Rating_pre  Rating_post\n",
       "1             nfdampf         1.0          2.0\n",
       "4             nfdampf         1.0          2.0\n",
       "7             nfdampf         1.0          2.0\n",
       "10            nfdampf         1.0          2.0\n",
       "13            nfdampf         1.0          2.0\n",
       "...               ...         ...          ...\n",
       "32071       luftlesen         1.0          2.0\n",
       "32073       luftlesen         1.0          2.0\n",
       "32076           ntvde         1.0          2.0\n",
       "32077           ntvde         1.0          2.0\n",
       "32113  danielascholz7         1.0          2.0\n",
       "\n",
       "[2118 rows x 3 columns]"
      ]
     },
     "execution_count": 17,
     "metadata": {},
     "output_type": "execute_result"
    }
   ],
   "source": [
    "more_intense"
   ]
  },
  {
   "cell_type": "code",
   "execution_count": 18,
   "id": "d16c565b",
   "metadata": {
    "execution": {
     "iopub.execute_input": "2022-09-24T17:45:45.549594Z",
     "iopub.status.busy": "2022-09-24T17:45:45.549255Z",
     "iopub.status.idle": "2022-09-24T17:45:45.556406Z",
     "shell.execute_reply": "2022-09-24T17:45:45.555364Z"
    },
    "papermill": {
     "duration": 0.017292,
     "end_time": "2022-09-24T17:45:45.558244",
     "exception": false,
     "start_time": "2022-09-24T17:45:45.540952",
     "status": "completed"
    },
    "tags": []
   },
   "outputs": [
    {
     "data": {
      "text/plain": [
       "345"
      ]
     },
     "execution_count": 18,
     "metadata": {},
     "output_type": "execute_result"
    }
   ],
   "source": [
    "more_intense['User'].nunique()"
   ]
  },
  {
   "cell_type": "code",
   "execution_count": 19,
   "id": "017679e6",
   "metadata": {
    "execution": {
     "iopub.execute_input": "2022-09-24T17:45:45.574816Z",
     "iopub.status.busy": "2022-09-24T17:45:45.574474Z",
     "iopub.status.idle": "2022-09-24T17:45:45.584420Z",
     "shell.execute_reply": "2022-09-24T17:45:45.583546Z"
    },
    "papermill": {
     "duration": 0.020608,
     "end_time": "2022-09-24T17:45:45.586231",
     "exception": false,
     "start_time": "2022-09-24T17:45:45.565623",
     "status": "completed"
    },
    "tags": []
   },
   "outputs": [
    {
     "data": {
      "text/plain": [
       "2133"
      ]
     },
     "execution_count": 19,
     "metadata": {},
     "output_type": "execute_result"
    }
   ],
   "source": [
    "pre_post['User'].nunique()"
   ]
  },
  {
   "cell_type": "code",
   "execution_count": 20,
   "id": "1fb58961",
   "metadata": {
    "execution": {
     "iopub.execute_input": "2022-09-24T17:45:45.603672Z",
     "iopub.status.busy": "2022-09-24T17:45:45.603276Z",
     "iopub.status.idle": "2022-09-24T17:45:45.611081Z",
     "shell.execute_reply": "2022-09-24T17:45:45.609540Z"
    },
    "papermill": {
     "duration": 0.020121,
     "end_time": "2022-09-24T17:45:45.613905",
     "exception": false,
     "start_time": "2022-09-24T17:45:45.593784",
     "status": "completed"
    },
    "tags": []
   },
   "outputs": [
    {
     "data": {
      "text/plain": [
       "4904"
      ]
     },
     "execution_count": 20,
     "metadata": {},
     "output_type": "execute_result"
    }
   ],
   "source": [
    "pre_most['User'].nunique()"
   ]
  },
  {
   "cell_type": "code",
   "execution_count": 21,
   "id": "362c1ec4",
   "metadata": {
    "execution": {
     "iopub.execute_input": "2022-09-24T17:45:45.631075Z",
     "iopub.status.busy": "2022-09-24T17:45:45.630742Z",
     "iopub.status.idle": "2022-09-24T17:45:45.643646Z",
     "shell.execute_reply": "2022-09-24T17:45:45.642456Z"
    },
    "papermill": {
     "duration": 0.02435,
     "end_time": "2022-09-24T17:45:45.646049",
     "exception": false,
     "start_time": "2022-09-24T17:45:45.621699",
     "status": "completed"
    },
    "tags": []
   },
   "outputs": [
    {
     "data": {
      "text/plain": [
       "16509"
      ]
     },
     "execution_count": 21,
     "metadata": {},
     "output_type": "execute_result"
    }
   ],
   "source": [
    "post_most['User'].nunique()"
   ]
  },
  {
   "cell_type": "code",
   "execution_count": 22,
   "id": "3047014b",
   "metadata": {
    "execution": {
     "iopub.execute_input": "2022-09-24T17:45:45.662533Z",
     "iopub.status.busy": "2022-09-24T17:45:45.662178Z",
     "iopub.status.idle": "2022-09-24T17:45:45.668952Z",
     "shell.execute_reply": "2022-09-24T17:45:45.667227Z"
    },
    "papermill": {
     "duration": 0.018126,
     "end_time": "2022-09-24T17:45:45.671753",
     "exception": false,
     "start_time": "2022-09-24T17:45:45.653627",
     "status": "completed"
    },
    "tags": []
   },
   "outputs": [],
   "source": [
    "data1={'Unique users: (0 - pre-floods and 1 - post-floods)':['0','1'],'Count':[4904,16509]}\n",
    "\n",
    "df1=pd.DataFrame(data1)"
   ]
  },
  {
   "cell_type": "code",
   "execution_count": 23,
   "id": "a9fcbca2",
   "metadata": {
    "execution": {
     "iopub.execute_input": "2022-09-24T17:45:45.689603Z",
     "iopub.status.busy": "2022-09-24T17:45:45.689229Z",
     "iopub.status.idle": "2022-09-24T17:45:45.696452Z",
     "shell.execute_reply": "2022-09-24T17:45:45.694612Z"
    },
    "papermill": {
     "duration": 0.019346,
     "end_time": "2022-09-24T17:45:45.698915",
     "exception": false,
     "start_time": "2022-09-24T17:45:45.679569",
     "status": "completed"
    },
    "tags": []
   },
   "outputs": [],
   "source": [
    "df1.set_index('Unique users: (0 - pre-floods and 1 - post-floods)',inplace=True)"
   ]
  },
  {
   "cell_type": "code",
   "execution_count": 24,
   "id": "026c84df",
   "metadata": {
    "execution": {
     "iopub.execute_input": "2022-09-24T17:45:45.715819Z",
     "iopub.status.busy": "2022-09-24T17:45:45.715457Z",
     "iopub.status.idle": "2022-09-24T17:45:48.543096Z",
     "shell.execute_reply": "2022-09-24T17:45:48.541299Z"
    },
    "papermill": {
     "duration": 2.839322,
     "end_time": "2022-09-24T17:45:48.545887",
     "exception": false,
     "start_time": "2022-09-24T17:45:45.706565",
     "status": "completed"
    },
    "tags": []
   },
   "outputs": [
    {
     "data": {
      "text/html": [
       "        <script type=\"text/javascript\">\n",
       "        window.PlotlyConfig = {MathJaxConfig: 'local'};\n",
       "        if (window.MathJax && window.MathJax.Hub && window.MathJax.Hub.Config) {window.MathJax.Hub.Config({SVG: {font: \"STIX-Web\"}});}\n",
       "        if (typeof require !== 'undefined') {\n",
       "        require.undef(\"plotly\");\n",
       "        requirejs.config({\n",
       "            paths: {\n",
       "                'plotly': ['https://cdn.plot.ly/plotly-2.14.0.min']\n",
       "            }\n",
       "        });\n",
       "        require(['plotly'], function(Plotly) {\n",
       "            window._Plotly = Plotly;\n",
       "        });\n",
       "        }\n",
       "        </script>\n",
       "        "
      ]
     },
     "metadata": {},
     "output_type": "display_data"
    },
    {
     "data": {
      "text/html": [
       "<div>                            <div id=\"239aa8ce-7b13-4c19-83e7-7be8453835fd\" class=\"plotly-graph-div\" style=\"height:525px; width:100%;\"></div>            <script type=\"text/javascript\">                require([\"plotly\"], function(Plotly) {                    window.PLOTLYENV=window.PLOTLYENV || {};                                    if (document.getElementById(\"239aa8ce-7b13-4c19-83e7-7be8453835fd\")) {                    Plotly.newPlot(                        \"239aa8ce-7b13-4c19-83e7-7be8453835fd\",                        [{\"alignmentgroup\":\"True\",\"hovertemplate\":\"variable=Count<br>Unique users: (0 - pre-floods and 1 - post-floods)=%{x}<br>Count=%{y}<extra></extra>\",\"legendgroup\":\"Count\",\"marker\":{\"color\":\"#636efa\",\"pattern\":{\"shape\":\"\"}},\"name\":\"Count\",\"offsetgroup\":\"Count\",\"orientation\":\"v\",\"showlegend\":true,\"textposition\":\"auto\",\"x\":[\"0\",\"1\"],\"xaxis\":\"x\",\"y\":[4904,16509],\"yaxis\":\"y\",\"type\":\"bar\"}],                        {\"template\":{\"data\":{\"histogram2dcontour\":[{\"type\":\"histogram2dcontour\",\"colorbar\":{\"outlinewidth\":0,\"ticks\":\"\"},\"colorscale\":[[0.0,\"#0d0887\"],[0.1111111111111111,\"#46039f\"],[0.2222222222222222,\"#7201a8\"],[0.3333333333333333,\"#9c179e\"],[0.4444444444444444,\"#bd3786\"],[0.5555555555555556,\"#d8576b\"],[0.6666666666666666,\"#ed7953\"],[0.7777777777777778,\"#fb9f3a\"],[0.8888888888888888,\"#fdca26\"],[1.0,\"#f0f921\"]]}],\"choropleth\":[{\"type\":\"choropleth\",\"colorbar\":{\"outlinewidth\":0,\"ticks\":\"\"}}],\"histogram2d\":[{\"type\":\"histogram2d\",\"colorbar\":{\"outlinewidth\":0,\"ticks\":\"\"},\"colorscale\":[[0.0,\"#0d0887\"],[0.1111111111111111,\"#46039f\"],[0.2222222222222222,\"#7201a8\"],[0.3333333333333333,\"#9c179e\"],[0.4444444444444444,\"#bd3786\"],[0.5555555555555556,\"#d8576b\"],[0.6666666666666666,\"#ed7953\"],[0.7777777777777778,\"#fb9f3a\"],[0.8888888888888888,\"#fdca26\"],[1.0,\"#f0f921\"]]}],\"heatmap\":[{\"type\":\"heatmap\",\"colorbar\":{\"outlinewidth\":0,\"ticks\":\"\"},\"colorscale\":[[0.0,\"#0d0887\"],[0.1111111111111111,\"#46039f\"],[0.2222222222222222,\"#7201a8\"],[0.3333333333333333,\"#9c179e\"],[0.4444444444444444,\"#bd3786\"],[0.5555555555555556,\"#d8576b\"],[0.6666666666666666,\"#ed7953\"],[0.7777777777777778,\"#fb9f3a\"],[0.8888888888888888,\"#fdca26\"],[1.0,\"#f0f921\"]]}],\"heatmapgl\":[{\"type\":\"heatmapgl\",\"colorbar\":{\"outlinewidth\":0,\"ticks\":\"\"},\"colorscale\":[[0.0,\"#0d0887\"],[0.1111111111111111,\"#46039f\"],[0.2222222222222222,\"#7201a8\"],[0.3333333333333333,\"#9c179e\"],[0.4444444444444444,\"#bd3786\"],[0.5555555555555556,\"#d8576b\"],[0.6666666666666666,\"#ed7953\"],[0.7777777777777778,\"#fb9f3a\"],[0.8888888888888888,\"#fdca26\"],[1.0,\"#f0f921\"]]}],\"contourcarpet\":[{\"type\":\"contourcarpet\",\"colorbar\":{\"outlinewidth\":0,\"ticks\":\"\"}}],\"contour\":[{\"type\":\"contour\",\"colorbar\":{\"outlinewidth\":0,\"ticks\":\"\"},\"colorscale\":[[0.0,\"#0d0887\"],[0.1111111111111111,\"#46039f\"],[0.2222222222222222,\"#7201a8\"],[0.3333333333333333,\"#9c179e\"],[0.4444444444444444,\"#bd3786\"],[0.5555555555555556,\"#d8576b\"],[0.6666666666666666,\"#ed7953\"],[0.7777777777777778,\"#fb9f3a\"],[0.8888888888888888,\"#fdca26\"],[1.0,\"#f0f921\"]]}],\"surface\":[{\"type\":\"surface\",\"colorbar\":{\"outlinewidth\":0,\"ticks\":\"\"},\"colorscale\":[[0.0,\"#0d0887\"],[0.1111111111111111,\"#46039f\"],[0.2222222222222222,\"#7201a8\"],[0.3333333333333333,\"#9c179e\"],[0.4444444444444444,\"#bd3786\"],[0.5555555555555556,\"#d8576b\"],[0.6666666666666666,\"#ed7953\"],[0.7777777777777778,\"#fb9f3a\"],[0.8888888888888888,\"#fdca26\"],[1.0,\"#f0f921\"]]}],\"mesh3d\":[{\"type\":\"mesh3d\",\"colorbar\":{\"outlinewidth\":0,\"ticks\":\"\"}}],\"scatter\":[{\"fillpattern\":{\"fillmode\":\"overlay\",\"size\":10,\"solidity\":0.2},\"type\":\"scatter\"}],\"parcoords\":[{\"type\":\"parcoords\",\"line\":{\"colorbar\":{\"outlinewidth\":0,\"ticks\":\"\"}}}],\"scatterpolargl\":[{\"type\":\"scatterpolargl\",\"marker\":{\"colorbar\":{\"outlinewidth\":0,\"ticks\":\"\"}}}],\"bar\":[{\"error_x\":{\"color\":\"#2a3f5f\"},\"error_y\":{\"color\":\"#2a3f5f\"},\"marker\":{\"line\":{\"color\":\"#E5ECF6\",\"width\":0.5},\"pattern\":{\"fillmode\":\"overlay\",\"size\":10,\"solidity\":0.2}},\"type\":\"bar\"}],\"scattergeo\":[{\"type\":\"scattergeo\",\"marker\":{\"colorbar\":{\"outlinewidth\":0,\"ticks\":\"\"}}}],\"scatterpolar\":[{\"type\":\"scatterpolar\",\"marker\":{\"colorbar\":{\"outlinewidth\":0,\"ticks\":\"\"}}}],\"histogram\":[{\"marker\":{\"pattern\":{\"fillmode\":\"overlay\",\"size\":10,\"solidity\":0.2}},\"type\":\"histogram\"}],\"scattergl\":[{\"type\":\"scattergl\",\"marker\":{\"colorbar\":{\"outlinewidth\":0,\"ticks\":\"\"}}}],\"scatter3d\":[{\"type\":\"scatter3d\",\"line\":{\"colorbar\":{\"outlinewidth\":0,\"ticks\":\"\"}},\"marker\":{\"colorbar\":{\"outlinewidth\":0,\"ticks\":\"\"}}}],\"scattermapbox\":[{\"type\":\"scattermapbox\",\"marker\":{\"colorbar\":{\"outlinewidth\":0,\"ticks\":\"\"}}}],\"scatterternary\":[{\"type\":\"scatterternary\",\"marker\":{\"colorbar\":{\"outlinewidth\":0,\"ticks\":\"\"}}}],\"scattercarpet\":[{\"type\":\"scattercarpet\",\"marker\":{\"colorbar\":{\"outlinewidth\":0,\"ticks\":\"\"}}}],\"carpet\":[{\"aaxis\":{\"endlinecolor\":\"#2a3f5f\",\"gridcolor\":\"white\",\"linecolor\":\"white\",\"minorgridcolor\":\"white\",\"startlinecolor\":\"#2a3f5f\"},\"baxis\":{\"endlinecolor\":\"#2a3f5f\",\"gridcolor\":\"white\",\"linecolor\":\"white\",\"minorgridcolor\":\"white\",\"startlinecolor\":\"#2a3f5f\"},\"type\":\"carpet\"}],\"table\":[{\"cells\":{\"fill\":{\"color\":\"#EBF0F8\"},\"line\":{\"color\":\"white\"}},\"header\":{\"fill\":{\"color\":\"#C8D4E3\"},\"line\":{\"color\":\"white\"}},\"type\":\"table\"}],\"barpolar\":[{\"marker\":{\"line\":{\"color\":\"#E5ECF6\",\"width\":0.5},\"pattern\":{\"fillmode\":\"overlay\",\"size\":10,\"solidity\":0.2}},\"type\":\"barpolar\"}],\"pie\":[{\"automargin\":true,\"type\":\"pie\"}]},\"layout\":{\"autotypenumbers\":\"strict\",\"colorway\":[\"#636efa\",\"#EF553B\",\"#00cc96\",\"#ab63fa\",\"#FFA15A\",\"#19d3f3\",\"#FF6692\",\"#B6E880\",\"#FF97FF\",\"#FECB52\"],\"font\":{\"color\":\"#2a3f5f\"},\"hovermode\":\"closest\",\"hoverlabel\":{\"align\":\"left\"},\"paper_bgcolor\":\"white\",\"plot_bgcolor\":\"#E5ECF6\",\"polar\":{\"bgcolor\":\"#E5ECF6\",\"angularaxis\":{\"gridcolor\":\"white\",\"linecolor\":\"white\",\"ticks\":\"\"},\"radialaxis\":{\"gridcolor\":\"white\",\"linecolor\":\"white\",\"ticks\":\"\"}},\"ternary\":{\"bgcolor\":\"#E5ECF6\",\"aaxis\":{\"gridcolor\":\"white\",\"linecolor\":\"white\",\"ticks\":\"\"},\"baxis\":{\"gridcolor\":\"white\",\"linecolor\":\"white\",\"ticks\":\"\"},\"caxis\":{\"gridcolor\":\"white\",\"linecolor\":\"white\",\"ticks\":\"\"}},\"coloraxis\":{\"colorbar\":{\"outlinewidth\":0,\"ticks\":\"\"}},\"colorscale\":{\"sequential\":[[0.0,\"#0d0887\"],[0.1111111111111111,\"#46039f\"],[0.2222222222222222,\"#7201a8\"],[0.3333333333333333,\"#9c179e\"],[0.4444444444444444,\"#bd3786\"],[0.5555555555555556,\"#d8576b\"],[0.6666666666666666,\"#ed7953\"],[0.7777777777777778,\"#fb9f3a\"],[0.8888888888888888,\"#fdca26\"],[1.0,\"#f0f921\"]],\"sequentialminus\":[[0.0,\"#0d0887\"],[0.1111111111111111,\"#46039f\"],[0.2222222222222222,\"#7201a8\"],[0.3333333333333333,\"#9c179e\"],[0.4444444444444444,\"#bd3786\"],[0.5555555555555556,\"#d8576b\"],[0.6666666666666666,\"#ed7953\"],[0.7777777777777778,\"#fb9f3a\"],[0.8888888888888888,\"#fdca26\"],[1.0,\"#f0f921\"]],\"diverging\":[[0,\"#8e0152\"],[0.1,\"#c51b7d\"],[0.2,\"#de77ae\"],[0.3,\"#f1b6da\"],[0.4,\"#fde0ef\"],[0.5,\"#f7f7f7\"],[0.6,\"#e6f5d0\"],[0.7,\"#b8e186\"],[0.8,\"#7fbc41\"],[0.9,\"#4d9221\"],[1,\"#276419\"]]},\"xaxis\":{\"gridcolor\":\"white\",\"linecolor\":\"white\",\"ticks\":\"\",\"title\":{\"standoff\":15},\"zerolinecolor\":\"white\",\"automargin\":true,\"zerolinewidth\":2},\"yaxis\":{\"gridcolor\":\"white\",\"linecolor\":\"white\",\"ticks\":\"\",\"title\":{\"standoff\":15},\"zerolinecolor\":\"white\",\"automargin\":true,\"zerolinewidth\":2},\"scene\":{\"xaxis\":{\"backgroundcolor\":\"#E5ECF6\",\"gridcolor\":\"white\",\"linecolor\":\"white\",\"showbackground\":true,\"ticks\":\"\",\"zerolinecolor\":\"white\",\"gridwidth\":2},\"yaxis\":{\"backgroundcolor\":\"#E5ECF6\",\"gridcolor\":\"white\",\"linecolor\":\"white\",\"showbackground\":true,\"ticks\":\"\",\"zerolinecolor\":\"white\",\"gridwidth\":2},\"zaxis\":{\"backgroundcolor\":\"#E5ECF6\",\"gridcolor\":\"white\",\"linecolor\":\"white\",\"showbackground\":true,\"ticks\":\"\",\"zerolinecolor\":\"white\",\"gridwidth\":2}},\"shapedefaults\":{\"line\":{\"color\":\"#2a3f5f\"}},\"annotationdefaults\":{\"arrowcolor\":\"#2a3f5f\",\"arrowhead\":0,\"arrowwidth\":1},\"geo\":{\"bgcolor\":\"white\",\"landcolor\":\"#E5ECF6\",\"subunitcolor\":\"white\",\"showland\":true,\"showlakes\":true,\"lakecolor\":\"white\"},\"title\":{\"x\":0.05},\"mapbox\":{\"style\":\"light\"}}},\"xaxis\":{\"anchor\":\"y\",\"domain\":[0.0,1.0],\"title\":{\"text\":\"Unique users: (0 - pre-floods and 1 - post-floods)\"}},\"yaxis\":{\"anchor\":\"x\",\"domain\":[0.0,1.0],\"title\":{\"text\":\"Count\"}},\"legend\":{\"title\":{\"text\":\"variable\"},\"tracegroupgap\":0},\"margin\":{\"t\":60},\"barmode\":\"relative\"},                        {\"responsive\": true}                    ).then(function(){\n",
       "                            \n",
       "var gd = document.getElementById('239aa8ce-7b13-4c19-83e7-7be8453835fd');\n",
       "var x = new MutationObserver(function (mutations, observer) {{\n",
       "        var display = window.getComputedStyle(gd).display;\n",
       "        if (!display || display === 'none') {{\n",
       "            console.log([gd, 'removed!']);\n",
       "            Plotly.purge(gd);\n",
       "            observer.disconnect();\n",
       "        }}\n",
       "}});\n",
       "\n",
       "// Listen for the removal of the full notebook cells\n",
       "var notebookContainer = gd.closest('#notebook-container');\n",
       "if (notebookContainer) {{\n",
       "    x.observe(notebookContainer, {childList: true});\n",
       "}}\n",
       "\n",
       "// Listen for the clearing of the current output cell\n",
       "var outputEl = gd.closest('.output');\n",
       "if (outputEl) {{\n",
       "    x.observe(outputEl, {childList: true});\n",
       "}}\n",
       "\n",
       "                        })                };                });            </script>        </div>"
      ]
     },
     "metadata": {},
     "output_type": "display_data"
    }
   ],
   "source": [
    "import plotly.express as px\n",
    "#Plotting the frequency of tweets for the whole month of july.\n",
    "fig = px.bar(df1, labels=dict(value='Count'))\n",
    "\n",
    "fig.show()"
   ]
  },
  {
   "cell_type": "code",
   "execution_count": 25,
   "id": "2cd8e2af",
   "metadata": {
    "execution": {
     "iopub.execute_input": "2022-09-24T17:45:48.564092Z",
     "iopub.status.busy": "2022-09-24T17:45:48.563716Z",
     "iopub.status.idle": "2022-09-24T17:45:48.574249Z",
     "shell.execute_reply": "2022-09-24T17:45:48.572515Z"
    },
    "papermill": {
     "duration": 0.022831,
     "end_time": "2022-09-24T17:45:48.577109",
     "exception": false,
     "start_time": "2022-09-24T17:45:48.554278",
     "status": "completed"
    },
    "tags": []
   },
   "outputs": [
    {
     "data": {
      "text/html": [
       "<div>\n",
       "<style scoped>\n",
       "    .dataframe tbody tr th:only-of-type {\n",
       "        vertical-align: middle;\n",
       "    }\n",
       "\n",
       "    .dataframe tbody tr th {\n",
       "        vertical-align: top;\n",
       "    }\n",
       "\n",
       "    .dataframe thead th {\n",
       "        text-align: right;\n",
       "    }\n",
       "</style>\n",
       "<table border=\"1\" class=\"dataframe\">\n",
       "  <thead>\n",
       "    <tr style=\"text-align: right;\">\n",
       "      <th></th>\n",
       "      <th>Count</th>\n",
       "    </tr>\n",
       "    <tr>\n",
       "      <th>Unique users: (0 - pre-floods and 1 - post-floods)</th>\n",
       "      <th></th>\n",
       "    </tr>\n",
       "  </thead>\n",
       "  <tbody>\n",
       "    <tr>\n",
       "      <th>0</th>\n",
       "      <td>4904</td>\n",
       "    </tr>\n",
       "    <tr>\n",
       "      <th>1</th>\n",
       "      <td>16509</td>\n",
       "    </tr>\n",
       "  </tbody>\n",
       "</table>\n",
       "</div>"
      ],
      "text/plain": [
       "                                                    Count\n",
       "Unique users: (0 - pre-floods and 1 - post-floods)       \n",
       "0                                                    4904\n",
       "1                                                   16509"
      ]
     },
     "execution_count": 25,
     "metadata": {},
     "output_type": "execute_result"
    }
   ],
   "source": [
    "df1"
   ]
  },
  {
   "cell_type": "code",
   "execution_count": null,
   "id": "5ece80a2",
   "metadata": {
    "papermill": {
     "duration": 0.007275,
     "end_time": "2022-09-24T17:45:48.592264",
     "exception": false,
     "start_time": "2022-09-24T17:45:48.584989",
     "status": "completed"
    },
    "tags": []
   },
   "outputs": [],
   "source": []
  }
 ],
 "metadata": {
  "kernelspec": {
   "display_name": "Python 3",
   "language": "python",
   "name": "python3"
  },
  "language_info": {
   "codemirror_mode": {
    "name": "ipython",
    "version": 3
   },
   "file_extension": ".py",
   "mimetype": "text/x-python",
   "name": "python",
   "nbconvert_exporter": "python",
   "pygments_lexer": "ipython3",
   "version": "3.7.12"
  },
  "papermill": {
   "default_parameters": {},
   "duration": 14.329286,
   "end_time": "2022-09-24T17:45:49.523877",
   "environment_variables": {},
   "exception": null,
   "input_path": "__notebook__.ipynb",
   "output_path": "__notebook__.ipynb",
   "parameters": {},
   "start_time": "2022-09-24T17:45:35.194591",
   "version": "2.3.4"
  }
 },
 "nbformat": 4,
 "nbformat_minor": 5
}
