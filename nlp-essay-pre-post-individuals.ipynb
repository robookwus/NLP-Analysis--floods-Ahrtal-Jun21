{
 "cells": [
  {
   "cell_type": "code",
   "execution_count": 1,
   "id": "e885748c",
   "metadata": {
    "execution": {
     "iopub.execute_input": "2022-09-24T17:51:23.762758Z",
     "iopub.status.busy": "2022-09-24T17:51:23.762138Z",
     "iopub.status.idle": "2022-09-24T17:51:24.887294Z",
     "shell.execute_reply": "2022-09-24T17:51:24.886247Z"
    },
    "papermill": {
     "duration": 1.137375,
     "end_time": "2022-09-24T17:51:24.890158",
     "exception": false,
     "start_time": "2022-09-24T17:51:23.752783",
     "status": "completed"
    },
    "tags": []
   },
   "outputs": [],
   "source": [
    "import pandas as pd\n",
    "post = pd.read_csv('../input/postlabelled-germanfloods/full_postLabelled.csv',lineterminator='\\n')\n",
    "pre = pd.read_csv('../input/prelabelled-germanfloods/full_preLabelled.csv',lineterminator='\\n')"
   ]
  },
  {
   "cell_type": "code",
   "execution_count": 2,
   "id": "a4e7b6c0",
   "metadata": {
    "execution": {
     "iopub.execute_input": "2022-09-24T17:51:24.904356Z",
     "iopub.status.busy": "2022-09-24T17:51:24.903911Z",
     "iopub.status.idle": "2022-09-24T17:51:24.933669Z",
     "shell.execute_reply": "2022-09-24T17:51:24.932359Z"
    },
    "papermill": {
     "duration": 0.040034,
     "end_time": "2022-09-24T17:51:24.936490",
     "exception": false,
     "start_time": "2022-09-24T17:51:24.896456",
     "status": "completed"
    },
    "tags": []
   },
   "outputs": [
    {
     "data": {
      "text/html": [
       "<div>\n",
       "<style scoped>\n",
       "    .dataframe tbody tr th:only-of-type {\n",
       "        vertical-align: middle;\n",
       "    }\n",
       "\n",
       "    .dataframe tbody tr th {\n",
       "        vertical-align: top;\n",
       "    }\n",
       "\n",
       "    .dataframe thead th {\n",
       "        text-align: right;\n",
       "    }\n",
       "</style>\n",
       "<table border=\"1\" class=\"dataframe\">\n",
       "  <thead>\n",
       "    <tr style=\"text-align: right;\">\n",
       "      <th></th>\n",
       "      <th>Unnamed: 0</th>\n",
       "      <th>date</th>\n",
       "      <th>User</th>\n",
       "      <th>Tweet</th>\n",
       "      <th>Rating (0/1/2)</th>\n",
       "    </tr>\n",
       "  </thead>\n",
       "  <tbody>\n",
       "    <tr>\n",
       "      <th>0</th>\n",
       "      <td>0</td>\n",
       "      <td>2021-07-29</td>\n",
       "      <td>Porticus2</td>\n",
       "      <td>Bevor Herr @MarkusSöder solches Klima-Trallala...</td>\n",
       "      <td>1.0</td>\n",
       "    </tr>\n",
       "    <tr>\n",
       "      <th>1</th>\n",
       "      <td>1</td>\n",
       "      <td>2021-07-29</td>\n",
       "      <td>watch_union</td>\n",
       "      <td>Der Vorstandsvorsitzende von #VW zerstört bei ...</td>\n",
       "      <td>1.0</td>\n",
       "    </tr>\n",
       "    <tr>\n",
       "      <th>2</th>\n",
       "      <td>2</td>\n",
       "      <td>2021-07-29</td>\n",
       "      <td>NiklasCcr</td>\n",
       "      <td>@raichubvb Klimawandel. Die Menschen müssen en...</td>\n",
       "      <td>1.0</td>\n",
       "    </tr>\n",
       "    <tr>\n",
       "      <th>3</th>\n",
       "      <td>3</td>\n",
       "      <td>2021-07-29</td>\n",
       "      <td>SvenPhenix</td>\n",
       "      <td>Jetzt in einer Zeit voller Krisen: #COVID19, #...</td>\n",
       "      <td>1.0</td>\n",
       "    </tr>\n",
       "    <tr>\n",
       "      <th>4</th>\n",
       "      <td>4</td>\n",
       "      <td>2021-07-29</td>\n",
       "      <td>brokenspirits</td>\n",
       "      <td>Und nochmal etwas weitergedacht: Während hier ...</td>\n",
       "      <td>1.0</td>\n",
       "    </tr>\n",
       "    <tr>\n",
       "      <th>...</th>\n",
       "      <td>...</td>\n",
       "      <td>...</td>\n",
       "      <td>...</td>\n",
       "      <td>...</td>\n",
       "      <td>...</td>\n",
       "    </tr>\n",
       "    <tr>\n",
       "      <th>80949</th>\n",
       "      <td>80949</td>\n",
       "      <td>2021-07-14</td>\n",
       "      <td>EinFragender</td>\n",
       "      <td>@Karl_Lauterbach So weit ich weiß, war es 1913...</td>\n",
       "      <td>1.0</td>\n",
       "    </tr>\n",
       "    <tr>\n",
       "      <th>80950</th>\n",
       "      <td>80950</td>\n",
       "      <td>2021-07-14</td>\n",
       "      <td>MoSchaefer66</td>\n",
       "      <td>@P4F_Leipzig Jetzt sollte so manchem langsam k...</td>\n",
       "      <td>1.0</td>\n",
       "    </tr>\n",
       "    <tr>\n",
       "      <th>80951</th>\n",
       "      <td>80951</td>\n",
       "      <td>2021-07-14</td>\n",
       "      <td>f_talmon</td>\n",
       "      <td>Wenn der Meeresspiegel weiter steigt, wird das...</td>\n",
       "      <td>1.0</td>\n",
       "    </tr>\n",
       "    <tr>\n",
       "      <th>80952</th>\n",
       "      <td>80952</td>\n",
       "      <td>2021-07-14</td>\n",
       "      <td>Elke__Kuhn</td>\n",
       "      <td>@ayranundspeck @CCitiesOrg @dvd_hrtmnn @Monika...</td>\n",
       "      <td>1.0</td>\n",
       "    </tr>\n",
       "    <tr>\n",
       "      <th>80953</th>\n",
       "      <td>80953</td>\n",
       "      <td>2021-07-14</td>\n",
       "      <td>fahrIehrer</td>\n",
       "      <td>@Vampirkamel @AndreasBlnMi @zeitonline Alles i...</td>\n",
       "      <td>1.0</td>\n",
       "    </tr>\n",
       "  </tbody>\n",
       "</table>\n",
       "<p>80954 rows × 5 columns</p>\n",
       "</div>"
      ],
      "text/plain": [
       "       Unnamed: 0        date           User  \\\n",
       "0               0  2021-07-29      Porticus2   \n",
       "1               1  2021-07-29    watch_union   \n",
       "2               2  2021-07-29      NiklasCcr   \n",
       "3               3  2021-07-29     SvenPhenix   \n",
       "4               4  2021-07-29  brokenspirits   \n",
       "...           ...         ...            ...   \n",
       "80949       80949  2021-07-14   EinFragender   \n",
       "80950       80950  2021-07-14   MoSchaefer66   \n",
       "80951       80951  2021-07-14       f_talmon   \n",
       "80952       80952  2021-07-14     Elke__Kuhn   \n",
       "80953       80953  2021-07-14     fahrIehrer   \n",
       "\n",
       "                                                   Tweet  Rating (0/1/2)   \n",
       "0      Bevor Herr @MarkusSöder solches Klima-Trallala...              1.0  \n",
       "1      Der Vorstandsvorsitzende von #VW zerstört bei ...              1.0  \n",
       "2      @raichubvb Klimawandel. Die Menschen müssen en...              1.0  \n",
       "3      Jetzt in einer Zeit voller Krisen: #COVID19, #...              1.0  \n",
       "4      Und nochmal etwas weitergedacht: Während hier ...              1.0  \n",
       "...                                                  ...              ...  \n",
       "80949  @Karl_Lauterbach So weit ich weiß, war es 1913...              1.0  \n",
       "80950  @P4F_Leipzig Jetzt sollte so manchem langsam k...              1.0  \n",
       "80951  Wenn der Meeresspiegel weiter steigt, wird das...              1.0  \n",
       "80952  @ayranundspeck @CCitiesOrg @dvd_hrtmnn @Monika...              1.0  \n",
       "80953  @Vampirkamel @AndreasBlnMi @zeitonline Alles i...              1.0  \n",
       "\n",
       "[80954 rows x 5 columns]"
      ]
     },
     "execution_count": 2,
     "metadata": {},
     "output_type": "execute_result"
    }
   ],
   "source": [
    "post"
   ]
  },
  {
   "cell_type": "code",
   "execution_count": 3,
   "id": "c5570863",
   "metadata": {
    "execution": {
     "iopub.execute_input": "2022-09-24T17:51:24.951521Z",
     "iopub.status.busy": "2022-09-24T17:51:24.951113Z",
     "iopub.status.idle": "2022-09-24T17:51:24.966962Z",
     "shell.execute_reply": "2022-09-24T17:51:24.965776Z"
    },
    "papermill": {
     "duration": 0.026769,
     "end_time": "2022-09-24T17:51:24.969735",
     "exception": false,
     "start_time": "2022-09-24T17:51:24.942966",
     "status": "completed"
    },
    "tags": []
   },
   "outputs": [],
   "source": [
    "pre_most = pre['2021-07-10'<pre['date']]"
   ]
  },
  {
   "cell_type": "code",
   "execution_count": 4,
   "id": "c7e04db1",
   "metadata": {
    "execution": {
     "iopub.execute_input": "2022-09-24T17:51:24.985399Z",
     "iopub.status.busy": "2022-09-24T17:51:24.984369Z",
     "iopub.status.idle": "2022-09-24T17:51:24.999603Z",
     "shell.execute_reply": "2022-09-24T17:51:24.998460Z"
    },
    "papermill": {
     "duration": 0.025943,
     "end_time": "2022-09-24T17:51:25.002483",
     "exception": false,
     "start_time": "2022-09-24T17:51:24.976540",
     "status": "completed"
    },
    "tags": []
   },
   "outputs": [],
   "source": [
    "post_most = post['2021-07-17'>post['date']]"
   ]
  },
  {
   "cell_type": "code",
   "execution_count": 5,
   "id": "d95e5955",
   "metadata": {
    "execution": {
     "iopub.execute_input": "2022-09-24T17:51:25.017835Z",
     "iopub.status.busy": "2022-09-24T17:51:25.017040Z",
     "iopub.status.idle": "2022-09-24T17:51:25.033041Z",
     "shell.execute_reply": "2022-09-24T17:51:25.031746Z"
    },
    "papermill": {
     "duration": 0.026565,
     "end_time": "2022-09-24T17:51:25.035602",
     "exception": false,
     "start_time": "2022-09-24T17:51:25.009037",
     "status": "completed"
    },
    "tags": []
   },
   "outputs": [
    {
     "data": {
      "text/plain": [
       "1.0    6821\n",
       "2.0     334\n",
       "0.0      96\n",
       "Name: Rating (0/1/2) , dtype: int64"
      ]
     },
     "execution_count": 5,
     "metadata": {},
     "output_type": "execute_result"
    }
   ],
   "source": [
    "pd.value_counts(pre_most['Rating (0/1/2) '])"
   ]
  },
  {
   "cell_type": "code",
   "execution_count": 6,
   "id": "e8485645",
   "metadata": {
    "execution": {
     "iopub.execute_input": "2022-09-24T17:51:25.051313Z",
     "iopub.status.busy": "2022-09-24T17:51:25.050125Z",
     "iopub.status.idle": "2022-09-24T17:51:25.060256Z",
     "shell.execute_reply": "2022-09-24T17:51:25.059144Z"
    },
    "papermill": {
     "duration": 0.020288,
     "end_time": "2022-09-24T17:51:25.062624",
     "exception": false,
     "start_time": "2022-09-24T17:51:25.042336",
     "status": "completed"
    },
    "tags": []
   },
   "outputs": [
    {
     "data": {
      "text/plain": [
       "1.0    27888\n",
       "2.0     1639\n",
       "0.0      336\n",
       "Name: Rating (0/1/2) , dtype: int64"
      ]
     },
     "execution_count": 6,
     "metadata": {},
     "output_type": "execute_result"
    }
   ],
   "source": [
    "pd.value_counts(post_most['Rating (0/1/2) '])"
   ]
  },
  {
   "cell_type": "code",
   "execution_count": 7,
   "id": "e5cc0491",
   "metadata": {
    "execution": {
     "iopub.execute_input": "2022-09-24T17:51:25.077880Z",
     "iopub.status.busy": "2022-09-24T17:51:25.077117Z",
     "iopub.status.idle": "2022-09-24T17:51:25.084013Z",
     "shell.execute_reply": "2022-09-24T17:51:25.082716Z"
    },
    "papermill": {
     "duration": 0.017193,
     "end_time": "2022-09-24T17:51:25.086538",
     "exception": false,
     "start_time": "2022-09-24T17:51:25.069345",
     "status": "completed"
    },
    "tags": []
   },
   "outputs": [],
   "source": [
    "pre_most = pre_most[['User','Rating (0/1/2) ']]"
   ]
  },
  {
   "cell_type": "code",
   "execution_count": 8,
   "id": "1729ac6d",
   "metadata": {
    "execution": {
     "iopub.execute_input": "2022-09-24T17:51:25.102461Z",
     "iopub.status.busy": "2022-09-24T17:51:25.101998Z",
     "iopub.status.idle": "2022-09-24T17:51:25.110790Z",
     "shell.execute_reply": "2022-09-24T17:51:25.109743Z"
    },
    "papermill": {
     "duration": 0.019789,
     "end_time": "2022-09-24T17:51:25.113276",
     "exception": false,
     "start_time": "2022-09-24T17:51:25.093487",
     "status": "completed"
    },
    "tags": []
   },
   "outputs": [],
   "source": [
    "post_most = post_most[['User','Rating (0/1/2) ']]"
   ]
  },
  {
   "cell_type": "code",
   "execution_count": 9,
   "id": "524b622e",
   "metadata": {
    "execution": {
     "iopub.execute_input": "2022-09-24T17:51:25.128785Z",
     "iopub.status.busy": "2022-09-24T17:51:25.127867Z",
     "iopub.status.idle": "2022-09-24T17:51:25.136515Z",
     "shell.execute_reply": "2022-09-24T17:51:25.135186Z"
    },
    "papermill": {
     "duration": 0.019267,
     "end_time": "2022-09-24T17:51:25.139159",
     "exception": false,
     "start_time": "2022-09-24T17:51:25.119892",
     "status": "completed"
    },
    "tags": []
   },
   "outputs": [],
   "source": [
    "pre_most.rename(columns = {'Rating (0/1/2) ':'Rating_pre'}, inplace = True)\n",
    "post_most.rename(columns = {'Rating (0/1/2) ':'Rating_post'}, inplace = True)"
   ]
  },
  {
   "cell_type": "code",
   "execution_count": 10,
   "id": "4caafc76",
   "metadata": {
    "execution": {
     "iopub.execute_input": "2022-09-24T17:51:25.155045Z",
     "iopub.status.busy": "2022-09-24T17:51:25.154285Z",
     "iopub.status.idle": "2022-09-24T17:51:25.168216Z",
     "shell.execute_reply": "2022-09-24T17:51:25.166907Z"
    },
    "papermill": {
     "duration": 0.024459,
     "end_time": "2022-09-24T17:51:25.170388",
     "exception": false,
     "start_time": "2022-09-24T17:51:25.145929",
     "status": "completed"
    },
    "tags": []
   },
   "outputs": [
    {
     "data": {
      "text/html": [
       "<div>\n",
       "<style scoped>\n",
       "    .dataframe tbody tr th:only-of-type {\n",
       "        vertical-align: middle;\n",
       "    }\n",
       "\n",
       "    .dataframe tbody tr th {\n",
       "        vertical-align: top;\n",
       "    }\n",
       "\n",
       "    .dataframe thead th {\n",
       "        text-align: right;\n",
       "    }\n",
       "</style>\n",
       "<table border=\"1\" class=\"dataframe\">\n",
       "  <thead>\n",
       "    <tr style=\"text-align: right;\">\n",
       "      <th></th>\n",
       "      <th>User</th>\n",
       "      <th>Rating_pre</th>\n",
       "    </tr>\n",
       "  </thead>\n",
       "  <tbody>\n",
       "    <tr>\n",
       "      <th>0</th>\n",
       "      <td>Arminirma1Armin</td>\n",
       "      <td>1.0</td>\n",
       "    </tr>\n",
       "    <tr>\n",
       "      <th>1</th>\n",
       "      <td>nfdampf</td>\n",
       "      <td>1.0</td>\n",
       "    </tr>\n",
       "    <tr>\n",
       "      <th>2</th>\n",
       "      <td>MEPilarczyk</td>\n",
       "      <td>1.0</td>\n",
       "    </tr>\n",
       "    <tr>\n",
       "      <th>3</th>\n",
       "      <td>megatrendy</td>\n",
       "      <td>1.0</td>\n",
       "    </tr>\n",
       "    <tr>\n",
       "      <th>4</th>\n",
       "      <td>FFFLeipzig</td>\n",
       "      <td>1.0</td>\n",
       "    </tr>\n",
       "    <tr>\n",
       "      <th>...</th>\n",
       "      <td>...</td>\n",
       "      <td>...</td>\n",
       "    </tr>\n",
       "    <tr>\n",
       "      <th>7246</th>\n",
       "      <td>MonacoFerdl</td>\n",
       "      <td>1.0</td>\n",
       "    </tr>\n",
       "    <tr>\n",
       "      <th>7247</th>\n",
       "      <td>nfdampf</td>\n",
       "      <td>1.0</td>\n",
       "    </tr>\n",
       "    <tr>\n",
       "      <th>7248</th>\n",
       "      <td>MieuletCleo</td>\n",
       "      <td>1.0</td>\n",
       "    </tr>\n",
       "    <tr>\n",
       "      <th>7249</th>\n",
       "      <td>mikeltwi123</td>\n",
       "      <td>1.0</td>\n",
       "    </tr>\n",
       "    <tr>\n",
       "      <th>7250</th>\n",
       "      <td>superbello123</td>\n",
       "      <td>1.0</td>\n",
       "    </tr>\n",
       "  </tbody>\n",
       "</table>\n",
       "<p>7251 rows × 2 columns</p>\n",
       "</div>"
      ],
      "text/plain": [
       "                 User  Rating_pre\n",
       "0     Arminirma1Armin         1.0\n",
       "1             nfdampf         1.0\n",
       "2         MEPilarczyk         1.0\n",
       "3          megatrendy         1.0\n",
       "4          FFFLeipzig         1.0\n",
       "...               ...         ...\n",
       "7246      MonacoFerdl         1.0\n",
       "7247          nfdampf         1.0\n",
       "7248      MieuletCleo         1.0\n",
       "7249      mikeltwi123         1.0\n",
       "7250    superbello123         1.0\n",
       "\n",
       "[7251 rows x 2 columns]"
      ]
     },
     "execution_count": 10,
     "metadata": {},
     "output_type": "execute_result"
    }
   ],
   "source": [
    "pre_most"
   ]
  },
  {
   "cell_type": "code",
   "execution_count": 11,
   "id": "cd777286",
   "metadata": {
    "execution": {
     "iopub.execute_input": "2022-09-24T17:51:25.186628Z",
     "iopub.status.busy": "2022-09-24T17:51:25.186209Z",
     "iopub.status.idle": "2022-09-24T17:51:25.200393Z",
     "shell.execute_reply": "2022-09-24T17:51:25.199310Z"
    },
    "papermill": {
     "duration": 0.025345,
     "end_time": "2022-09-24T17:51:25.202674",
     "exception": false,
     "start_time": "2022-09-24T17:51:25.177329",
     "status": "completed"
    },
    "tags": []
   },
   "outputs": [
    {
     "data": {
      "text/html": [
       "<div>\n",
       "<style scoped>\n",
       "    .dataframe tbody tr th:only-of-type {\n",
       "        vertical-align: middle;\n",
       "    }\n",
       "\n",
       "    .dataframe tbody tr th {\n",
       "        vertical-align: top;\n",
       "    }\n",
       "\n",
       "    .dataframe thead th {\n",
       "        text-align: right;\n",
       "    }\n",
       "</style>\n",
       "<table border=\"1\" class=\"dataframe\">\n",
       "  <thead>\n",
       "    <tr style=\"text-align: right;\">\n",
       "      <th></th>\n",
       "      <th>User</th>\n",
       "      <th>Rating_post</th>\n",
       "    </tr>\n",
       "  </thead>\n",
       "  <tbody>\n",
       "    <tr>\n",
       "      <th>51091</th>\n",
       "      <td>F4y3M14</td>\n",
       "      <td>1.0</td>\n",
       "    </tr>\n",
       "    <tr>\n",
       "      <th>51092</th>\n",
       "      <td>Stoertebeker68</td>\n",
       "      <td>1.0</td>\n",
       "    </tr>\n",
       "    <tr>\n",
       "      <th>51093</th>\n",
       "      <td>dirk_ley</td>\n",
       "      <td>1.0</td>\n",
       "    </tr>\n",
       "    <tr>\n",
       "      <th>51094</th>\n",
       "      <td>grnFlip</td>\n",
       "      <td>1.0</td>\n",
       "    </tr>\n",
       "    <tr>\n",
       "      <th>51095</th>\n",
       "      <td>LaurinPol</td>\n",
       "      <td>1.0</td>\n",
       "    </tr>\n",
       "    <tr>\n",
       "      <th>...</th>\n",
       "      <td>...</td>\n",
       "      <td>...</td>\n",
       "    </tr>\n",
       "    <tr>\n",
       "      <th>80949</th>\n",
       "      <td>EinFragender</td>\n",
       "      <td>1.0</td>\n",
       "    </tr>\n",
       "    <tr>\n",
       "      <th>80950</th>\n",
       "      <td>MoSchaefer66</td>\n",
       "      <td>1.0</td>\n",
       "    </tr>\n",
       "    <tr>\n",
       "      <th>80951</th>\n",
       "      <td>f_talmon</td>\n",
       "      <td>1.0</td>\n",
       "    </tr>\n",
       "    <tr>\n",
       "      <th>80952</th>\n",
       "      <td>Elke__Kuhn</td>\n",
       "      <td>1.0</td>\n",
       "    </tr>\n",
       "    <tr>\n",
       "      <th>80953</th>\n",
       "      <td>fahrIehrer</td>\n",
       "      <td>1.0</td>\n",
       "    </tr>\n",
       "  </tbody>\n",
       "</table>\n",
       "<p>29863 rows × 2 columns</p>\n",
       "</div>"
      ],
      "text/plain": [
       "                 User  Rating_post\n",
       "51091         F4y3M14          1.0\n",
       "51092  Stoertebeker68          1.0\n",
       "51093        dirk_ley          1.0\n",
       "51094         grnFlip          1.0\n",
       "51095       LaurinPol          1.0\n",
       "...               ...          ...\n",
       "80949    EinFragender          1.0\n",
       "80950    MoSchaefer66          1.0\n",
       "80951        f_talmon          1.0\n",
       "80952      Elke__Kuhn          1.0\n",
       "80953      fahrIehrer          1.0\n",
       "\n",
       "[29863 rows x 2 columns]"
      ]
     },
     "execution_count": 11,
     "metadata": {},
     "output_type": "execute_result"
    }
   ],
   "source": [
    "post_most"
   ]
  },
  {
   "cell_type": "code",
   "execution_count": 12,
   "id": "0af0d93d",
   "metadata": {
    "execution": {
     "iopub.execute_input": "2022-09-24T17:51:25.219078Z",
     "iopub.status.busy": "2022-09-24T17:51:25.218164Z",
     "iopub.status.idle": "2022-09-24T17:51:25.244961Z",
     "shell.execute_reply": "2022-09-24T17:51:25.243856Z"
    },
    "papermill": {
     "duration": 0.03794,
     "end_time": "2022-09-24T17:51:25.247728",
     "exception": false,
     "start_time": "2022-09-24T17:51:25.209788",
     "status": "completed"
    },
    "tags": []
   },
   "outputs": [],
   "source": [
    "pre_post = pd.merge(pre_most, post_most, on='User', how='inner')"
   ]
  },
  {
   "cell_type": "code",
   "execution_count": 13,
   "id": "849585f8",
   "metadata": {
    "execution": {
     "iopub.execute_input": "2022-09-24T17:51:25.264660Z",
     "iopub.status.busy": "2022-09-24T17:51:25.263899Z",
     "iopub.status.idle": "2022-09-24T17:51:25.279931Z",
     "shell.execute_reply": "2022-09-24T17:51:25.278653Z"
    },
    "papermill": {
     "duration": 0.027492,
     "end_time": "2022-09-24T17:51:25.282707",
     "exception": false,
     "start_time": "2022-09-24T17:51:25.255215",
     "status": "completed"
    },
    "tags": []
   },
   "outputs": [
    {
     "data": {
      "text/html": [
       "<div>\n",
       "<style scoped>\n",
       "    .dataframe tbody tr th:only-of-type {\n",
       "        vertical-align: middle;\n",
       "    }\n",
       "\n",
       "    .dataframe tbody tr th {\n",
       "        vertical-align: top;\n",
       "    }\n",
       "\n",
       "    .dataframe thead th {\n",
       "        text-align: right;\n",
       "    }\n",
       "</style>\n",
       "<table border=\"1\" class=\"dataframe\">\n",
       "  <thead>\n",
       "    <tr style=\"text-align: right;\">\n",
       "      <th></th>\n",
       "      <th>User</th>\n",
       "      <th>Rating_pre</th>\n",
       "      <th>Rating_post</th>\n",
       "    </tr>\n",
       "  </thead>\n",
       "  <tbody>\n",
       "    <tr>\n",
       "      <th>0</th>\n",
       "      <td>nfdampf</td>\n",
       "      <td>1.0</td>\n",
       "      <td>1.0</td>\n",
       "    </tr>\n",
       "    <tr>\n",
       "      <th>1</th>\n",
       "      <td>nfdampf</td>\n",
       "      <td>1.0</td>\n",
       "      <td>2.0</td>\n",
       "    </tr>\n",
       "    <tr>\n",
       "      <th>2</th>\n",
       "      <td>nfdampf</td>\n",
       "      <td>1.0</td>\n",
       "      <td>1.0</td>\n",
       "    </tr>\n",
       "    <tr>\n",
       "      <th>3</th>\n",
       "      <td>nfdampf</td>\n",
       "      <td>1.0</td>\n",
       "      <td>1.0</td>\n",
       "    </tr>\n",
       "    <tr>\n",
       "      <th>4</th>\n",
       "      <td>nfdampf</td>\n",
       "      <td>1.0</td>\n",
       "      <td>2.0</td>\n",
       "    </tr>\n",
       "    <tr>\n",
       "      <th>...</th>\n",
       "      <td>...</td>\n",
       "      <td>...</td>\n",
       "      <td>...</td>\n",
       "    </tr>\n",
       "    <tr>\n",
       "      <th>32142</th>\n",
       "      <td>Nationallibera3</td>\n",
       "      <td>1.0</td>\n",
       "      <td>1.0</td>\n",
       "    </tr>\n",
       "    <tr>\n",
       "      <th>32143</th>\n",
       "      <td>Nationallibera3</td>\n",
       "      <td>1.0</td>\n",
       "      <td>1.0</td>\n",
       "    </tr>\n",
       "    <tr>\n",
       "      <th>32144</th>\n",
       "      <td>Nationallibera3</td>\n",
       "      <td>1.0</td>\n",
       "      <td>1.0</td>\n",
       "    </tr>\n",
       "    <tr>\n",
       "      <th>32145</th>\n",
       "      <td>Nationallibera3</td>\n",
       "      <td>1.0</td>\n",
       "      <td>1.0</td>\n",
       "    </tr>\n",
       "    <tr>\n",
       "      <th>32146</th>\n",
       "      <td>Alex_M_A_Rimmer</td>\n",
       "      <td>1.0</td>\n",
       "      <td>1.0</td>\n",
       "    </tr>\n",
       "  </tbody>\n",
       "</table>\n",
       "<p>32147 rows × 3 columns</p>\n",
       "</div>"
      ],
      "text/plain": [
       "                  User  Rating_pre  Rating_post\n",
       "0              nfdampf         1.0          1.0\n",
       "1              nfdampf         1.0          2.0\n",
       "2              nfdampf         1.0          1.0\n",
       "3              nfdampf         1.0          1.0\n",
       "4              nfdampf         1.0          2.0\n",
       "...                ...         ...          ...\n",
       "32142  Nationallibera3         1.0          1.0\n",
       "32143  Nationallibera3         1.0          1.0\n",
       "32144  Nationallibera3         1.0          1.0\n",
       "32145  Nationallibera3         1.0          1.0\n",
       "32146  Alex_M_A_Rimmer         1.0          1.0\n",
       "\n",
       "[32147 rows x 3 columns]"
      ]
     },
     "execution_count": 13,
     "metadata": {},
     "output_type": "execute_result"
    }
   ],
   "source": [
    "pre_post"
   ]
  },
  {
   "cell_type": "code",
   "execution_count": 14,
   "id": "edf69193",
   "metadata": {
    "execution": {
     "iopub.execute_input": "2022-09-24T17:51:25.300305Z",
     "iopub.status.busy": "2022-09-24T17:51:25.299840Z",
     "iopub.status.idle": "2022-09-24T17:51:25.307058Z",
     "shell.execute_reply": "2022-09-24T17:51:25.306253Z"
    },
    "papermill": {
     "duration": 0.018513,
     "end_time": "2022-09-24T17:51:25.309309",
     "exception": false,
     "start_time": "2022-09-24T17:51:25.290796",
     "status": "completed"
    },
    "tags": []
   },
   "outputs": [],
   "source": [
    "more_intense = pre_post[pre_post['Rating_post']>pre_post['Rating_pre']]"
   ]
  },
  {
   "cell_type": "code",
   "execution_count": 15,
   "id": "bdba88e8",
   "metadata": {
    "execution": {
     "iopub.execute_input": "2022-09-24T17:51:25.325534Z",
     "iopub.status.busy": "2022-09-24T17:51:25.324754Z",
     "iopub.status.idle": "2022-09-24T17:51:25.339678Z",
     "shell.execute_reply": "2022-09-24T17:51:25.338827Z"
    },
    "papermill": {
     "duration": 0.025327,
     "end_time": "2022-09-24T17:51:25.341823",
     "exception": false,
     "start_time": "2022-09-24T17:51:25.316496",
     "status": "completed"
    },
    "tags": []
   },
   "outputs": [
    {
     "data": {
      "text/html": [
       "<div>\n",
       "<style scoped>\n",
       "    .dataframe tbody tr th:only-of-type {\n",
       "        vertical-align: middle;\n",
       "    }\n",
       "\n",
       "    .dataframe tbody tr th {\n",
       "        vertical-align: top;\n",
       "    }\n",
       "\n",
       "    .dataframe thead th {\n",
       "        text-align: right;\n",
       "    }\n",
       "</style>\n",
       "<table border=\"1\" class=\"dataframe\">\n",
       "  <thead>\n",
       "    <tr style=\"text-align: right;\">\n",
       "      <th></th>\n",
       "      <th>User</th>\n",
       "      <th>Rating_pre</th>\n",
       "      <th>Rating_post</th>\n",
       "    </tr>\n",
       "  </thead>\n",
       "  <tbody>\n",
       "    <tr>\n",
       "      <th>1</th>\n",
       "      <td>nfdampf</td>\n",
       "      <td>1.0</td>\n",
       "      <td>2.0</td>\n",
       "    </tr>\n",
       "    <tr>\n",
       "      <th>4</th>\n",
       "      <td>nfdampf</td>\n",
       "      <td>1.0</td>\n",
       "      <td>2.0</td>\n",
       "    </tr>\n",
       "    <tr>\n",
       "      <th>7</th>\n",
       "      <td>nfdampf</td>\n",
       "      <td>1.0</td>\n",
       "      <td>2.0</td>\n",
       "    </tr>\n",
       "    <tr>\n",
       "      <th>10</th>\n",
       "      <td>nfdampf</td>\n",
       "      <td>1.0</td>\n",
       "      <td>2.0</td>\n",
       "    </tr>\n",
       "    <tr>\n",
       "      <th>13</th>\n",
       "      <td>nfdampf</td>\n",
       "      <td>1.0</td>\n",
       "      <td>2.0</td>\n",
       "    </tr>\n",
       "    <tr>\n",
       "      <th>...</th>\n",
       "      <td>...</td>\n",
       "      <td>...</td>\n",
       "      <td>...</td>\n",
       "    </tr>\n",
       "    <tr>\n",
       "      <th>32071</th>\n",
       "      <td>luftlesen</td>\n",
       "      <td>1.0</td>\n",
       "      <td>2.0</td>\n",
       "    </tr>\n",
       "    <tr>\n",
       "      <th>32073</th>\n",
       "      <td>luftlesen</td>\n",
       "      <td>1.0</td>\n",
       "      <td>2.0</td>\n",
       "    </tr>\n",
       "    <tr>\n",
       "      <th>32076</th>\n",
       "      <td>ntvde</td>\n",
       "      <td>1.0</td>\n",
       "      <td>2.0</td>\n",
       "    </tr>\n",
       "    <tr>\n",
       "      <th>32077</th>\n",
       "      <td>ntvde</td>\n",
       "      <td>1.0</td>\n",
       "      <td>2.0</td>\n",
       "    </tr>\n",
       "    <tr>\n",
       "      <th>32113</th>\n",
       "      <td>danielascholz7</td>\n",
       "      <td>1.0</td>\n",
       "      <td>2.0</td>\n",
       "    </tr>\n",
       "  </tbody>\n",
       "</table>\n",
       "<p>2118 rows × 3 columns</p>\n",
       "</div>"
      ],
      "text/plain": [
       "                 User  Rating_pre  Rating_post\n",
       "1             nfdampf         1.0          2.0\n",
       "4             nfdampf         1.0          2.0\n",
       "7             nfdampf         1.0          2.0\n",
       "10            nfdampf         1.0          2.0\n",
       "13            nfdampf         1.0          2.0\n",
       "...               ...         ...          ...\n",
       "32071       luftlesen         1.0          2.0\n",
       "32073       luftlesen         1.0          2.0\n",
       "32076           ntvde         1.0          2.0\n",
       "32077           ntvde         1.0          2.0\n",
       "32113  danielascholz7         1.0          2.0\n",
       "\n",
       "[2118 rows x 3 columns]"
      ]
     },
     "execution_count": 15,
     "metadata": {},
     "output_type": "execute_result"
    }
   ],
   "source": [
    "more_intense"
   ]
  },
  {
   "cell_type": "code",
   "execution_count": 16,
   "id": "20cc228f",
   "metadata": {
    "execution": {
     "iopub.execute_input": "2022-09-24T17:51:25.358730Z",
     "iopub.status.busy": "2022-09-24T17:51:25.357964Z",
     "iopub.status.idle": "2022-09-24T17:51:25.364805Z",
     "shell.execute_reply": "2022-09-24T17:51:25.363754Z"
    },
    "papermill": {
     "duration": 0.01756,
     "end_time": "2022-09-24T17:51:25.366845",
     "exception": false,
     "start_time": "2022-09-24T17:51:25.349285",
     "status": "completed"
    },
    "tags": []
   },
   "outputs": [
    {
     "data": {
      "text/plain": [
       "345"
      ]
     },
     "execution_count": 16,
     "metadata": {},
     "output_type": "execute_result"
    }
   ],
   "source": [
    "more_intense['User'].nunique()"
   ]
  },
  {
   "cell_type": "code",
   "execution_count": 17,
   "id": "1a157a12",
   "metadata": {
    "execution": {
     "iopub.execute_input": "2022-09-24T17:51:25.383816Z",
     "iopub.status.busy": "2022-09-24T17:51:25.383066Z",
     "iopub.status.idle": "2022-09-24T17:51:25.392808Z",
     "shell.execute_reply": "2022-09-24T17:51:25.391621Z"
    },
    "papermill": {
     "duration": 0.021042,
     "end_time": "2022-09-24T17:51:25.395332",
     "exception": false,
     "start_time": "2022-09-24T17:51:25.374290",
     "status": "completed"
    },
    "tags": []
   },
   "outputs": [
    {
     "data": {
      "text/plain": [
       "2133"
      ]
     },
     "execution_count": 17,
     "metadata": {},
     "output_type": "execute_result"
    }
   ],
   "source": [
    "pre_post['User'].nunique()"
   ]
  },
  {
   "cell_type": "code",
   "execution_count": 18,
   "id": "964bc55c",
   "metadata": {
    "execution": {
     "iopub.execute_input": "2022-09-24T17:51:25.412900Z",
     "iopub.status.busy": "2022-09-24T17:51:25.412517Z",
     "iopub.status.idle": "2022-09-24T17:51:25.420445Z",
     "shell.execute_reply": "2022-09-24T17:51:25.419426Z"
    },
    "papermill": {
     "duration": 0.019367,
     "end_time": "2022-09-24T17:51:25.422697",
     "exception": false,
     "start_time": "2022-09-24T17:51:25.403330",
     "status": "completed"
    },
    "tags": []
   },
   "outputs": [
    {
     "data": {
      "text/plain": [
       "4904"
      ]
     },
     "execution_count": 18,
     "metadata": {},
     "output_type": "execute_result"
    }
   ],
   "source": [
    "pre_most['User'].nunique()"
   ]
  },
  {
   "cell_type": "code",
   "execution_count": 19,
   "id": "c60c6fac",
   "metadata": {
    "execution": {
     "iopub.execute_input": "2022-09-24T17:51:25.441262Z",
     "iopub.status.busy": "2022-09-24T17:51:25.440059Z",
     "iopub.status.idle": "2022-09-24T17:51:25.454358Z",
     "shell.execute_reply": "2022-09-24T17:51:25.453016Z"
    },
    "papermill": {
     "duration": 0.025974,
     "end_time": "2022-09-24T17:51:25.456831",
     "exception": false,
     "start_time": "2022-09-24T17:51:25.430857",
     "status": "completed"
    },
    "tags": []
   },
   "outputs": [
    {
     "data": {
      "text/plain": [
       "16509"
      ]
     },
     "execution_count": 19,
     "metadata": {},
     "output_type": "execute_result"
    }
   ],
   "source": [
    "post_most['User'].nunique()"
   ]
  },
  {
   "cell_type": "code",
   "execution_count": 20,
   "id": "968509df",
   "metadata": {
    "execution": {
     "iopub.execute_input": "2022-09-24T17:51:25.474666Z",
     "iopub.status.busy": "2022-09-24T17:51:25.474268Z",
     "iopub.status.idle": "2022-09-24T17:51:25.480371Z",
     "shell.execute_reply": "2022-09-24T17:51:25.479223Z"
    },
    "papermill": {
     "duration": 0.017935,
     "end_time": "2022-09-24T17:51:25.482883",
     "exception": false,
     "start_time": "2022-09-24T17:51:25.464948",
     "status": "completed"
    },
    "tags": []
   },
   "outputs": [],
   "source": [
    "data1={'Unique users: (0 - pre-floods and 1 - post-floods)':['0','1'],'Count':[4904,16509]}\n",
    "\n",
    "df1=pd.DataFrame(data1)"
   ]
  },
  {
   "cell_type": "code",
   "execution_count": 21,
   "id": "489049f6",
   "metadata": {
    "execution": {
     "iopub.execute_input": "2022-09-24T17:51:25.500948Z",
     "iopub.status.busy": "2022-09-24T17:51:25.500045Z",
     "iopub.status.idle": "2022-09-24T17:51:25.505969Z",
     "shell.execute_reply": "2022-09-24T17:51:25.504989Z"
    },
    "papermill": {
     "duration": 0.017489,
     "end_time": "2022-09-24T17:51:25.508274",
     "exception": false,
     "start_time": "2022-09-24T17:51:25.490785",
     "status": "completed"
    },
    "tags": []
   },
   "outputs": [],
   "source": [
    "df1.set_index('Unique users: (0 - pre-floods and 1 - post-floods)',inplace=True)"
   ]
  },
  {
   "cell_type": "code",
   "execution_count": 22,
   "id": "1a4a9f26",
   "metadata": {
    "execution": {
     "iopub.execute_input": "2022-09-24T17:51:25.526092Z",
     "iopub.status.busy": "2022-09-24T17:51:25.525682Z",
     "iopub.status.idle": "2022-09-24T17:51:27.873029Z",
     "shell.execute_reply": "2022-09-24T17:51:27.871946Z"
    },
    "papermill": {
     "duration": 2.358789,
     "end_time": "2022-09-24T17:51:27.875285",
     "exception": false,
     "start_time": "2022-09-24T17:51:25.516496",
     "status": "completed"
    },
    "tags": []
   },
   "outputs": [
    {
     "data": {
      "text/html": [
       "        <script type=\"text/javascript\">\n",
       "        window.PlotlyConfig = {MathJaxConfig: 'local'};\n",
       "        if (window.MathJax && window.MathJax.Hub && window.MathJax.Hub.Config) {window.MathJax.Hub.Config({SVG: {font: \"STIX-Web\"}});}\n",
       "        if (typeof require !== 'undefined') {\n",
       "        require.undef(\"plotly\");\n",
       "        requirejs.config({\n",
       "            paths: {\n",
       "                'plotly': ['https://cdn.plot.ly/plotly-2.14.0.min']\n",
       "            }\n",
       "        });\n",
       "        require(['plotly'], function(Plotly) {\n",
       "            window._Plotly = Plotly;\n",
       "        });\n",
       "        }\n",
       "        </script>\n",
       "        "
      ]
     },
     "metadata": {},
     "output_type": "display_data"
    },
    {
     "data": {
      "text/html": [
       "<div>                            <div id=\"a244dbd7-32d0-4aba-87e2-260da5351ce0\" class=\"plotly-graph-div\" style=\"height:525px; width:100%;\"></div>            <script type=\"text/javascript\">                require([\"plotly\"], function(Plotly) {                    window.PLOTLYENV=window.PLOTLYENV || {};                                    if (document.getElementById(\"a244dbd7-32d0-4aba-87e2-260da5351ce0\")) {                    Plotly.newPlot(                        \"a244dbd7-32d0-4aba-87e2-260da5351ce0\",                        [{\"alignmentgroup\":\"True\",\"hovertemplate\":\"variable=Count<br>Unique users: (0 - pre-floods and 1 - post-floods)=%{x}<br>Count=%{y}<extra></extra>\",\"legendgroup\":\"Count\",\"marker\":{\"color\":\"#636efa\",\"pattern\":{\"shape\":\"\"}},\"name\":\"Count\",\"offsetgroup\":\"Count\",\"orientation\":\"v\",\"showlegend\":true,\"textposition\":\"auto\",\"x\":[\"0\",\"1\"],\"xaxis\":\"x\",\"y\":[4904,16509],\"yaxis\":\"y\",\"type\":\"bar\"}],                        {\"template\":{\"data\":{\"histogram2dcontour\":[{\"type\":\"histogram2dcontour\",\"colorbar\":{\"outlinewidth\":0,\"ticks\":\"\"},\"colorscale\":[[0.0,\"#0d0887\"],[0.1111111111111111,\"#46039f\"],[0.2222222222222222,\"#7201a8\"],[0.3333333333333333,\"#9c179e\"],[0.4444444444444444,\"#bd3786\"],[0.5555555555555556,\"#d8576b\"],[0.6666666666666666,\"#ed7953\"],[0.7777777777777778,\"#fb9f3a\"],[0.8888888888888888,\"#fdca26\"],[1.0,\"#f0f921\"]]}],\"choropleth\":[{\"type\":\"choropleth\",\"colorbar\":{\"outlinewidth\":0,\"ticks\":\"\"}}],\"histogram2d\":[{\"type\":\"histogram2d\",\"colorbar\":{\"outlinewidth\":0,\"ticks\":\"\"},\"colorscale\":[[0.0,\"#0d0887\"],[0.1111111111111111,\"#46039f\"],[0.2222222222222222,\"#7201a8\"],[0.3333333333333333,\"#9c179e\"],[0.4444444444444444,\"#bd3786\"],[0.5555555555555556,\"#d8576b\"],[0.6666666666666666,\"#ed7953\"],[0.7777777777777778,\"#fb9f3a\"],[0.8888888888888888,\"#fdca26\"],[1.0,\"#f0f921\"]]}],\"heatmap\":[{\"type\":\"heatmap\",\"colorbar\":{\"outlinewidth\":0,\"ticks\":\"\"},\"colorscale\":[[0.0,\"#0d0887\"],[0.1111111111111111,\"#46039f\"],[0.2222222222222222,\"#7201a8\"],[0.3333333333333333,\"#9c179e\"],[0.4444444444444444,\"#bd3786\"],[0.5555555555555556,\"#d8576b\"],[0.6666666666666666,\"#ed7953\"],[0.7777777777777778,\"#fb9f3a\"],[0.8888888888888888,\"#fdca26\"],[1.0,\"#f0f921\"]]}],\"heatmapgl\":[{\"type\":\"heatmapgl\",\"colorbar\":{\"outlinewidth\":0,\"ticks\":\"\"},\"colorscale\":[[0.0,\"#0d0887\"],[0.1111111111111111,\"#46039f\"],[0.2222222222222222,\"#7201a8\"],[0.3333333333333333,\"#9c179e\"],[0.4444444444444444,\"#bd3786\"],[0.5555555555555556,\"#d8576b\"],[0.6666666666666666,\"#ed7953\"],[0.7777777777777778,\"#fb9f3a\"],[0.8888888888888888,\"#fdca26\"],[1.0,\"#f0f921\"]]}],\"contourcarpet\":[{\"type\":\"contourcarpet\",\"colorbar\":{\"outlinewidth\":0,\"ticks\":\"\"}}],\"contour\":[{\"type\":\"contour\",\"colorbar\":{\"outlinewidth\":0,\"ticks\":\"\"},\"colorscale\":[[0.0,\"#0d0887\"],[0.1111111111111111,\"#46039f\"],[0.2222222222222222,\"#7201a8\"],[0.3333333333333333,\"#9c179e\"],[0.4444444444444444,\"#bd3786\"],[0.5555555555555556,\"#d8576b\"],[0.6666666666666666,\"#ed7953\"],[0.7777777777777778,\"#fb9f3a\"],[0.8888888888888888,\"#fdca26\"],[1.0,\"#f0f921\"]]}],\"surface\":[{\"type\":\"surface\",\"colorbar\":{\"outlinewidth\":0,\"ticks\":\"\"},\"colorscale\":[[0.0,\"#0d0887\"],[0.1111111111111111,\"#46039f\"],[0.2222222222222222,\"#7201a8\"],[0.3333333333333333,\"#9c179e\"],[0.4444444444444444,\"#bd3786\"],[0.5555555555555556,\"#d8576b\"],[0.6666666666666666,\"#ed7953\"],[0.7777777777777778,\"#fb9f3a\"],[0.8888888888888888,\"#fdca26\"],[1.0,\"#f0f921\"]]}],\"mesh3d\":[{\"type\":\"mesh3d\",\"colorbar\":{\"outlinewidth\":0,\"ticks\":\"\"}}],\"scatter\":[{\"fillpattern\":{\"fillmode\":\"overlay\",\"size\":10,\"solidity\":0.2},\"type\":\"scatter\"}],\"parcoords\":[{\"type\":\"parcoords\",\"line\":{\"colorbar\":{\"outlinewidth\":0,\"ticks\":\"\"}}}],\"scatterpolargl\":[{\"type\":\"scatterpolargl\",\"marker\":{\"colorbar\":{\"outlinewidth\":0,\"ticks\":\"\"}}}],\"bar\":[{\"error_x\":{\"color\":\"#2a3f5f\"},\"error_y\":{\"color\":\"#2a3f5f\"},\"marker\":{\"line\":{\"color\":\"#E5ECF6\",\"width\":0.5},\"pattern\":{\"fillmode\":\"overlay\",\"size\":10,\"solidity\":0.2}},\"type\":\"bar\"}],\"scattergeo\":[{\"type\":\"scattergeo\",\"marker\":{\"colorbar\":{\"outlinewidth\":0,\"ticks\":\"\"}}}],\"scatterpolar\":[{\"type\":\"scatterpolar\",\"marker\":{\"colorbar\":{\"outlinewidth\":0,\"ticks\":\"\"}}}],\"histogram\":[{\"marker\":{\"pattern\":{\"fillmode\":\"overlay\",\"size\":10,\"solidity\":0.2}},\"type\":\"histogram\"}],\"scattergl\":[{\"type\":\"scattergl\",\"marker\":{\"colorbar\":{\"outlinewidth\":0,\"ticks\":\"\"}}}],\"scatter3d\":[{\"type\":\"scatter3d\",\"line\":{\"colorbar\":{\"outlinewidth\":0,\"ticks\":\"\"}},\"marker\":{\"colorbar\":{\"outlinewidth\":0,\"ticks\":\"\"}}}],\"scattermapbox\":[{\"type\":\"scattermapbox\",\"marker\":{\"colorbar\":{\"outlinewidth\":0,\"ticks\":\"\"}}}],\"scatterternary\":[{\"type\":\"scatterternary\",\"marker\":{\"colorbar\":{\"outlinewidth\":0,\"ticks\":\"\"}}}],\"scattercarpet\":[{\"type\":\"scattercarpet\",\"marker\":{\"colorbar\":{\"outlinewidth\":0,\"ticks\":\"\"}}}],\"carpet\":[{\"aaxis\":{\"endlinecolor\":\"#2a3f5f\",\"gridcolor\":\"white\",\"linecolor\":\"white\",\"minorgridcolor\":\"white\",\"startlinecolor\":\"#2a3f5f\"},\"baxis\":{\"endlinecolor\":\"#2a3f5f\",\"gridcolor\":\"white\",\"linecolor\":\"white\",\"minorgridcolor\":\"white\",\"startlinecolor\":\"#2a3f5f\"},\"type\":\"carpet\"}],\"table\":[{\"cells\":{\"fill\":{\"color\":\"#EBF0F8\"},\"line\":{\"color\":\"white\"}},\"header\":{\"fill\":{\"color\":\"#C8D4E3\"},\"line\":{\"color\":\"white\"}},\"type\":\"table\"}],\"barpolar\":[{\"marker\":{\"line\":{\"color\":\"#E5ECF6\",\"width\":0.5},\"pattern\":{\"fillmode\":\"overlay\",\"size\":10,\"solidity\":0.2}},\"type\":\"barpolar\"}],\"pie\":[{\"automargin\":true,\"type\":\"pie\"}]},\"layout\":{\"autotypenumbers\":\"strict\",\"colorway\":[\"#636efa\",\"#EF553B\",\"#00cc96\",\"#ab63fa\",\"#FFA15A\",\"#19d3f3\",\"#FF6692\",\"#B6E880\",\"#FF97FF\",\"#FECB52\"],\"font\":{\"color\":\"#2a3f5f\"},\"hovermode\":\"closest\",\"hoverlabel\":{\"align\":\"left\"},\"paper_bgcolor\":\"white\",\"plot_bgcolor\":\"#E5ECF6\",\"polar\":{\"bgcolor\":\"#E5ECF6\",\"angularaxis\":{\"gridcolor\":\"white\",\"linecolor\":\"white\",\"ticks\":\"\"},\"radialaxis\":{\"gridcolor\":\"white\",\"linecolor\":\"white\",\"ticks\":\"\"}},\"ternary\":{\"bgcolor\":\"#E5ECF6\",\"aaxis\":{\"gridcolor\":\"white\",\"linecolor\":\"white\",\"ticks\":\"\"},\"baxis\":{\"gridcolor\":\"white\",\"linecolor\":\"white\",\"ticks\":\"\"},\"caxis\":{\"gridcolor\":\"white\",\"linecolor\":\"white\",\"ticks\":\"\"}},\"coloraxis\":{\"colorbar\":{\"outlinewidth\":0,\"ticks\":\"\"}},\"colorscale\":{\"sequential\":[[0.0,\"#0d0887\"],[0.1111111111111111,\"#46039f\"],[0.2222222222222222,\"#7201a8\"],[0.3333333333333333,\"#9c179e\"],[0.4444444444444444,\"#bd3786\"],[0.5555555555555556,\"#d8576b\"],[0.6666666666666666,\"#ed7953\"],[0.7777777777777778,\"#fb9f3a\"],[0.8888888888888888,\"#fdca26\"],[1.0,\"#f0f921\"]],\"sequentialminus\":[[0.0,\"#0d0887\"],[0.1111111111111111,\"#46039f\"],[0.2222222222222222,\"#7201a8\"],[0.3333333333333333,\"#9c179e\"],[0.4444444444444444,\"#bd3786\"],[0.5555555555555556,\"#d8576b\"],[0.6666666666666666,\"#ed7953\"],[0.7777777777777778,\"#fb9f3a\"],[0.8888888888888888,\"#fdca26\"],[1.0,\"#f0f921\"]],\"diverging\":[[0,\"#8e0152\"],[0.1,\"#c51b7d\"],[0.2,\"#de77ae\"],[0.3,\"#f1b6da\"],[0.4,\"#fde0ef\"],[0.5,\"#f7f7f7\"],[0.6,\"#e6f5d0\"],[0.7,\"#b8e186\"],[0.8,\"#7fbc41\"],[0.9,\"#4d9221\"],[1,\"#276419\"]]},\"xaxis\":{\"gridcolor\":\"white\",\"linecolor\":\"white\",\"ticks\":\"\",\"title\":{\"standoff\":15},\"zerolinecolor\":\"white\",\"automargin\":true,\"zerolinewidth\":2},\"yaxis\":{\"gridcolor\":\"white\",\"linecolor\":\"white\",\"ticks\":\"\",\"title\":{\"standoff\":15},\"zerolinecolor\":\"white\",\"automargin\":true,\"zerolinewidth\":2},\"scene\":{\"xaxis\":{\"backgroundcolor\":\"#E5ECF6\",\"gridcolor\":\"white\",\"linecolor\":\"white\",\"showbackground\":true,\"ticks\":\"\",\"zerolinecolor\":\"white\",\"gridwidth\":2},\"yaxis\":{\"backgroundcolor\":\"#E5ECF6\",\"gridcolor\":\"white\",\"linecolor\":\"white\",\"showbackground\":true,\"ticks\":\"\",\"zerolinecolor\":\"white\",\"gridwidth\":2},\"zaxis\":{\"backgroundcolor\":\"#E5ECF6\",\"gridcolor\":\"white\",\"linecolor\":\"white\",\"showbackground\":true,\"ticks\":\"\",\"zerolinecolor\":\"white\",\"gridwidth\":2}},\"shapedefaults\":{\"line\":{\"color\":\"#2a3f5f\"}},\"annotationdefaults\":{\"arrowcolor\":\"#2a3f5f\",\"arrowhead\":0,\"arrowwidth\":1},\"geo\":{\"bgcolor\":\"white\",\"landcolor\":\"#E5ECF6\",\"subunitcolor\":\"white\",\"showland\":true,\"showlakes\":true,\"lakecolor\":\"white\"},\"title\":{\"x\":0.05},\"mapbox\":{\"style\":\"light\"}}},\"xaxis\":{\"anchor\":\"y\",\"domain\":[0.0,1.0],\"title\":{\"text\":\"Unique users: (0 - pre-floods and 1 - post-floods)\"}},\"yaxis\":{\"anchor\":\"x\",\"domain\":[0.0,1.0],\"title\":{\"text\":\"Count\"}},\"legend\":{\"title\":{\"text\":\"variable\"},\"tracegroupgap\":0},\"margin\":{\"t\":60},\"barmode\":\"relative\"},                        {\"responsive\": true}                    ).then(function(){\n",
       "                            \n",
       "var gd = document.getElementById('a244dbd7-32d0-4aba-87e2-260da5351ce0');\n",
       "var x = new MutationObserver(function (mutations, observer) {{\n",
       "        var display = window.getComputedStyle(gd).display;\n",
       "        if (!display || display === 'none') {{\n",
       "            console.log([gd, 'removed!']);\n",
       "            Plotly.purge(gd);\n",
       "            observer.disconnect();\n",
       "        }}\n",
       "}});\n",
       "\n",
       "// Listen for the removal of the full notebook cells\n",
       "var notebookContainer = gd.closest('#notebook-container');\n",
       "if (notebookContainer) {{\n",
       "    x.observe(notebookContainer, {childList: true});\n",
       "}}\n",
       "\n",
       "// Listen for the clearing of the current output cell\n",
       "var outputEl = gd.closest('.output');\n",
       "if (outputEl) {{\n",
       "    x.observe(outputEl, {childList: true});\n",
       "}}\n",
       "\n",
       "                        })                };                });            </script>        </div>"
      ]
     },
     "metadata": {},
     "output_type": "display_data"
    }
   ],
   "source": [
    "import plotly.express as px\n",
    "#Plotting the frequency of tweets for the whole month of july.\n",
    "fig = px.bar(df1, labels=dict(value='Count'))\n",
    "\n",
    "fig.show()"
   ]
  },
  {
   "cell_type": "code",
   "execution_count": 23,
   "id": "d64963cf",
   "metadata": {
    "execution": {
     "iopub.execute_input": "2022-09-24T17:51:27.894142Z",
     "iopub.status.busy": "2022-09-24T17:51:27.893055Z",
     "iopub.status.idle": "2022-09-24T17:51:27.902796Z",
     "shell.execute_reply": "2022-09-24T17:51:27.901684Z"
    },
    "papermill": {
     "duration": 0.021666,
     "end_time": "2022-09-24T17:51:27.905248",
     "exception": false,
     "start_time": "2022-09-24T17:51:27.883582",
     "status": "completed"
    },
    "tags": []
   },
   "outputs": [
    {
     "data": {
      "text/html": [
       "<div>\n",
       "<style scoped>\n",
       "    .dataframe tbody tr th:only-of-type {\n",
       "        vertical-align: middle;\n",
       "    }\n",
       "\n",
       "    .dataframe tbody tr th {\n",
       "        vertical-align: top;\n",
       "    }\n",
       "\n",
       "    .dataframe thead th {\n",
       "        text-align: right;\n",
       "    }\n",
       "</style>\n",
       "<table border=\"1\" class=\"dataframe\">\n",
       "  <thead>\n",
       "    <tr style=\"text-align: right;\">\n",
       "      <th></th>\n",
       "      <th>Count</th>\n",
       "    </tr>\n",
       "    <tr>\n",
       "      <th>Unique users: (0 - pre-floods and 1 - post-floods)</th>\n",
       "      <th></th>\n",
       "    </tr>\n",
       "  </thead>\n",
       "  <tbody>\n",
       "    <tr>\n",
       "      <th>0</th>\n",
       "      <td>4904</td>\n",
       "    </tr>\n",
       "    <tr>\n",
       "      <th>1</th>\n",
       "      <td>16509</td>\n",
       "    </tr>\n",
       "  </tbody>\n",
       "</table>\n",
       "</div>"
      ],
      "text/plain": [
       "                                                    Count\n",
       "Unique users: (0 - pre-floods and 1 - post-floods)       \n",
       "0                                                    4904\n",
       "1                                                   16509"
      ]
     },
     "execution_count": 23,
     "metadata": {},
     "output_type": "execute_result"
    }
   ],
   "source": [
    "df1"
   ]
  },
  {
   "cell_type": "code",
   "execution_count": null,
   "id": "00fb5fa9",
   "metadata": {
    "papermill": {
     "duration": 0.007927,
     "end_time": "2022-09-24T17:51:27.921775",
     "exception": false,
     "start_time": "2022-09-24T17:51:27.913848",
     "status": "completed"
    },
    "tags": []
   },
   "outputs": [],
   "source": []
  }
 ],
 "metadata": {
  "kernelspec": {
   "display_name": "Python 3",
   "language": "python",
   "name": "python3"
  },
  "language_info": {
   "codemirror_mode": {
    "name": "ipython",
    "version": 3
   },
   "file_extension": ".py",
   "mimetype": "text/x-python",
   "name": "python",
   "nbconvert_exporter": "python",
   "pygments_lexer": "ipython3",
   "version": "3.7.12"
  },
  "papermill": {
   "default_parameters": {},
   "duration": 14.056912,
   "end_time": "2022-09-24T17:51:28.752392",
   "environment_variables": {},
   "exception": null,
   "input_path": "__notebook__.ipynb",
   "output_path": "__notebook__.ipynb",
   "parameters": {},
   "start_time": "2022-09-24T17:51:14.695480",
   "version": "2.3.4"
  }
 },
 "nbformat": 4,
 "nbformat_minor": 5
}
